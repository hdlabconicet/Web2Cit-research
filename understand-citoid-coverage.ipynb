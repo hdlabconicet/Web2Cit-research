{
 "cells": [
  {
   "cell_type": "markdown",
   "metadata": {},
   "source": [
    "# Understand Citoid coverage for Web2Cit\n",
    "\n",
    "This notebook describes how to retrieve the source code and the [Citation templates](https://en.wikipedia.org/wiki/Wikipedia:Citation_templates) of the citations of a sample of Wikipedia articles to compare them with the results of the [Citoid](https://www.mediawiki.org/wiki/Citoid) API for the same citations.\n",
    "\n",
    "To follow along, we recommend running the script portions piecemeal, in order.\n",
    "\n",
    "__Author:__\n",
    "\n",
    "* Nidia Hernández, [nidiahernandez@conicet.gov.ar](mailto:nidiahy@gmail.com), [CAICYT-CONICET](http://www.caicyt-conicet.gov.ar/sitio/) (Argentina)\n",
    "\n",
    "\n",
    "## Table of Contents\n",
    "\n",
    "0. Setting Up \n",
    "1. Retrieving data from Wikipedia articles\n",
    "    - 1.1. Fetching featured articles using Mediawiki's action API\n",
    "    - 1.2. Retrieving featured articles data\n",
    "2. Citation template metadata extraction\n",
    "    - 2.1 Parameter name mapping\n",
    "    - 2.2 Inspecting all featured articles\n",
    "    - 2.3 Citation template extraction summary\n",
    "3. Querying Citoid API\n",
    "    - 3.1 Validating URLs\n",
    "    - 3.2 Query function and parallel requests\n",
    "    - 3.3 Tidying up Citoid's response\n",
    "4. Data normalization\n",
    "    - 4.1 Manual data\n",
    "    - 4.2 Citoid data\n",
    "5. Evaluation\n",
    "    - 5.1 Source type\n",
    "    - 5.2 Publishing date\n",
    "    - 5.3 Title and publishing source\n",
    "    - 5.4 Author\n",
    "    - 5.5 Applying comparison methods\n",
    "6. Results\n",
    "    - 6.1. By URL\n",
    "    - 6.2. By domain\n",
    "    - 6.3 By fieldname"
   ]
  },
  {
   "cell_type": "markdown",
   "metadata": {},
   "source": [
    "## 0. Setting Up\n",
    "\n",
    "Before we get started, let's install and import the libraries that we will need."
   ]
  },
  {
   "cell_type": "code",
   "execution_count": 13,
   "metadata": {},
   "outputs": [
    {
     "name": "stderr",
     "output_type": "stream",
     "text": [
      "/home/yoki/anaconda3/lib/python3.7/site-packages/tqdm/std.py:668: FutureWarning: The Panel class is removed from pandas. Accessing it from the top-level namespace will also be removed in the next version\n",
      "  from pandas import Panel\n"
     ]
    }
   ],
   "source": [
    "import re\n",
    "import os\n",
    "import requests\n",
    "import urllib\n",
    "import pandas as pd\n",
    "import numpy as np\n",
    "from operator import itemgetter\n",
    "import json\n",
    "import gzip\n",
    "from glob import glob\n",
    "from pprint import pprint\n",
    "from tqdm import tqdm\n",
    "tqdm.pandas()\n",
    "import mwparserfromhell\n",
    "import validators\n",
    "from datetime import datetime\n",
    "import concurrent.futures\n",
    "from time import sleep\n",
    "from more_itertools import chunked\n",
    "from unidecode import unidecode\n",
    "from ast import literal_eval\n",
    "import dateparser\n",
    "from nltk.metrics import edit_distance\n",
    "from itertools import permutations\n",
    "import matplotlib.pyplot as plt"
   ]
  },
  {
   "cell_type": "markdown",
   "metadata": {},
   "source": [
    "Here we set the global parameters:"
   ]
  },
  {
   "cell_type": "code",
   "execution_count": null,
   "metadata": {},
   "outputs": [],
   "source": [
    "HEADER={'User-Agent': 'https://phabricator.wikimedia.org/tag/web2cit-research/; mailto:nidiahernandez@conicet.gov.ar'}"
   ]
  },
  {
   "cell_type": "markdown",
   "metadata": {
    "tags": []
   },
   "source": [
    "## 1. Retrieving data from Wikipedia articles\n",
    "\n",
    "In this section, we will fetch all the featured articles from a selection of Wikipedias ir order to find:\n",
    "\n",
    "- the citation templates used on each article\n",
    "- the URLs of the citations\n",
    "\n",
    "The selected Wikipedias are the following:\n",
    "\n",
    "- [English Wikipedia](https://en.wikipedia.org/wiki/Category:Featured_articles): ~6k featured articles\n",
    "- [Spanish Wikipedia](https://es.wikipedia.org/wiki/Categor%C3%ADa:Wikipedia:Art%C3%ADculos_destacados): ~1.2k artículos destacados\n",
    "- [French Wikipedia](https://fr.wikipedia.org/wiki/Cat%C3%A9gorie:Article_de_qualit%C3%A9): ~2k articles de qualité\n",
    "- [Portuguese Wikipedia](https://pt.wikipedia.org/wiki/Categoria:!Artigos_destacados): ~1.3k artigos destacados\n",
    "\n",
    "Some general information about featured articles in all Wikipedias: https://meta.wikimedia.org/wiki/Wikipedia_featured_articles (out of date).\n",
    "\n",
    "#### Featured content endpoint in Mediawiki's API\n",
    "\n",
    "There is a specific endpoint for featured content in Mediawiki's API:\n",
    "\n",
    "https://api.wikimedia.org/feed/v1/wikipedia/{lang}/featured/\n",
    "\n",
    "For example, the request https://api.wikimedia.org/feed/v1/wikipedia/en/featured/2021/12/06 returns today's featured article (tfa) for December 6th 2021 in English Wikipedia.\n",
    "\n",
    "Unfortunatatly, this is not avalilable for all the Wikipedias of our interest because \"not all Wikipedias are integrated into the Feed endpoint\" ([Feed endpoint doc](https://api.wikimedia.org/wiki/API_reference/Feed/Featured_content)). This way, the request https://api.wikimedia.org/feed/v1/wikipedia/fr/featured/2021/12/06 does not return tfa info. Same for Spanish and Portuguese. For this reason, we do not use this specific endpoint.\n",
    "\n",
    "### 1.1 Fetching featured articles using Mediawiki's action API\n",
    "\n",
    "We will use each [Wikipedias' action API](https://www.mediawiki.org/wiki/API:Main_page) to retrive:\n",
    "\n",
    "1. the list of all featured articles for each language\n",
    "2. the wikicode and some metadata of each featured article\n",
    "\n",
    "The action API has the following URL:\n",
    "\n",
    "`https://{lang}.wikipedia.org/w/api.php?`\n",
    "\n",
    "The following request, for example, retrieves the first 15 featured articles for the category \"Articles de qualité\" in French Wikipedia:"
   ]
  },
  {
   "cell_type": "code",
   "execution_count": null,
   "metadata": {},
   "outputs": [],
   "source": [
    "title = urllib.parse.unquote(\"Cat%C3%A9gorie:Article_de_qualit%C3%A9\") # category name for featured articles in French Wikipedia\n",
    "\n",
    "PARAMS = {\n",
    "    \"action\": \"query\",\n",
    "    \"list\": \"categorymembers\",\n",
    "    \"cmtitle\": title,\n",
    "    \"cmlimit\": 15,\n",
    "    \"format\": \"json\"\n",
    "}\n",
    "\n",
    "response = requests.get(\n",
    "    url='https://fr.wikipedia.org/w/api.php?', \n",
    "    params=PARAMS\n",
    ")\n",
    "\n",
    "response_data = response.json()"
   ]
  },
  {
   "cell_type": "markdown",
   "metadata": {},
   "source": [
    "There is a max of 500 per request. In order to retrieve all the members of the category, we should add the parameter `cmcontinue` to our request as follows: we get the value of `cmcontinue` from the response of the first request and pass it to the following request. This repeats until the end of the list. See API doc for more details on listing category members: https://www.mediawiki.org/wiki/API:Categorymembers."
   ]
  },
  {
   "cell_type": "code",
   "execution_count": null,
   "metadata": {},
   "outputs": [
    {
     "data": {
      "text/plain": [
       "'page|2a2e38324232443a30324e01428844880901dc10|52519'"
      ]
     },
     "execution_count": 4,
     "metadata": {},
     "output_type": "execute_result"
    }
   ],
   "source": [
    "response_data['continue']['cmcontinue'] # here is the reference of the starting point for the next request"
   ]
  },
  {
   "cell_type": "markdown",
   "metadata": {},
   "source": [
    "In the response, we obtain a list showing the pageid and the title of each article:"
   ]
  },
  {
   "cell_type": "code",
   "execution_count": null,
   "metadata": {},
   "outputs": [
    {
     "data": {
      "text/plain": [
       "[{'pageid': 507899, 'ns': 4, 'title': 'Wikipédia:Articles de qualité'},\n",
       " {'pageid': 9253139, 'ns': 0, 'title': '1 000 kilomètres de Spa 2009'},\n",
       " {'pageid': 10267261, 'ns': 0, 'title': '6 Heures du Castellet 2011'},\n",
       " {'pageid': 91996, 'ns': 0, 'title': '32X'},\n",
       " {'pageid': 605584, 'ns': 0, 'title': 'Les 101 Dalmatiens (film, 1961)'},\n",
       " {'pageid': 5008651, 'ns': 0, 'title': 'A Different Corner'},\n",
       " {'pageid': 639219, 'ns': 0, 'title': \"A Hard Day's Night (album)\"},\n",
       " {'pageid': 6672844, 'ns': 0, 'title': \"À l'Olympia (album d'Alan Stivell)\"},\n",
       " {'pageid': 124634, 'ns': 0, 'title': 'À la croisée des mondes'},\n",
       " {'pageid': 1486250, 'ns': 0, 'title': \"L'Abbaye de Northanger\"},\n",
       " {'pageid': 11085052, 'ns': 0, 'title': 'Abbaye Saint-Paul de Cormery'},\n",
       " {'pageid': 1210952, 'ns': 0, 'title': 'Abbaye Saint-Victor de Marseille'},\n",
       " {'pageid': 4293975, 'ns': 0, 'title': \"Parc national d'Abisko\"},\n",
       " {'pageid': 1415801, 'ns': 0, 'title': 'Acanthaster planci'},\n",
       " {'pageid': 3906668,\n",
       "  'ns': 0,\n",
       "  'title': 'Accident sur la base de Fairchild en 1994'}]"
      ]
     },
     "execution_count": 5,
     "metadata": {},
     "output_type": "execute_result"
    }
   ],
   "source": [
    "response_data['query']['categorymembers']"
   ]
  },
  {
   "cell_type": "markdown",
   "metadata": {},
   "source": [
    "If the item is a featured article, `ns` (namespace) is `0`. So, to avoid retriving other items (meta-pages about other categories, for example) elements having other values for this key must be discarded (cf. Retrieve article data below).\n",
    "\n",
    "Let's request all the featured articles for each language and dump the response to a json:"
   ]
  },
  {
   "cell_type": "code",
   "execution_count": null,
   "metadata": {},
   "outputs": [],
   "source": [
    "# the name of the category in each language\n",
    "catname_bylang = {\n",
    "    'en': 'Category:Featured_articles',\n",
    "    'es': 'Categor%C3%ADa:Wikipedia:Art%C3%ADculos_destacados',\n",
    "    'fr': 'Cat%C3%A9gorie:Article_de_qualit%C3%A9',\n",
    "    'pt': 'Categoria:!Artigos_destacados',\n",
    "}"
   ]
  },
  {
   "cell_type": "code",
   "execution_count": null,
   "metadata": {},
   "outputs": [
    {
     "name": "stderr",
     "output_type": "stream",
     "text": [
      "Retrieving featured articles: 100%|██████████| 4/4 [00:00<00:00, 176.40it/s]\n"
     ]
    }
   ],
   "source": [
    "for lang in tqdm(catname_bylang, desc='Retrieving featured articles'):\n",
    "    \n",
    "    MEDIAWIKI_API_URL = f'https://{lang}.wikipedia.org/w/api.php?'\n",
    "    \n",
    "    category_title = urllib.parse.unquote(catname_bylang[lang])\n",
    "    cmcont = \"start\"\n",
    "    i = 0\n",
    "    \n",
    "    while (cmcont == \"start\") or cmcont.startswith('page'):\n",
    "        i += 1\n",
    "        filename = f'data/featured-articles/{lang}-{i:02}.json'\n",
    "        \n",
    "        if os.path.isfile(filename):\n",
    "            with open(filename) as fi:\n",
    "                featured_art_json = json.load(fi)\n",
    "                if 'continue' in featured_art_json:\n",
    "                    cmcont = featured_art_json['continue']['cmcontinue']\n",
    "                else:\n",
    "                    cmcont = \"end\"\n",
    "\n",
    "            continue\n",
    "        \n",
    "        PARAMS = {\n",
    "            \"action\": \"query\",\n",
    "            \"list\": \"categorymembers\",\n",
    "            \"cmtitle\": category_title,\n",
    "            \"cmlimit\": \"max\", \n",
    "            \"format\": \"json\",\n",
    "            \"curtimestamp\": True\n",
    "        }\n",
    "            \n",
    "        if cmcont.startswith('page'):\n",
    "            PARAMS[\"cmcontinue\"]=cmcont\n",
    "\n",
    "        response = requests.get(\n",
    "            url=MEDIAWIKI_API_URL, \n",
    "            params=PARAMS,\n",
    "            headers=HEADER\n",
    "        )\n",
    "\n",
    "        data = response.json()\n",
    "\n",
    "        if response.status_code == 200:\n",
    "\n",
    "            if 'continue' in data:\n",
    "                cmcont = data['continue']['cmcontinue']\n",
    "            \n",
    "            else:\n",
    "                cmcont='categoryend'\n",
    "\n",
    "            with open(filename, 'w') as fo:\n",
    "                fo.write(json.dumps(data))"
   ]
  },
  {
   "cell_type": "markdown",
   "metadata": {},
   "source": [
    "### 1.2 Retrieve featured articles data\n",
    "\n",
    "Now that we have the pageids of all the featured articles, we can use them to retrieve the URL, the content and the id of the last edition (`revid`). First, we load the information from the json and we build a dataframe where we will store the data for each featured article:"
   ]
  },
  {
   "cell_type": "code",
   "execution_count": null,
   "metadata": {},
   "outputs": [],
   "source": [
    "dfs = []\n",
    "\n",
    "for fname in sorted(os.listdir('featured-articles')):\n",
    "    if fname.endswith('.json'):\n",
    "        \n",
    "        wikilang = fname.split('-')[0]\n",
    "        \n",
    "        with open(f'featured-articles/{fname}') as fi:\n",
    "            featured_arts = json.load(fi)\n",
    "            \n",
    "        df = pd.DataFrame(featured_arts['query']['categorymembers'])\n",
    "        df['wiki_lang'] = wikilang\n",
    "        df = df[df['ns'] == 0] # discard items that are not featured articles\n",
    "        df.drop('ns', axis='columns', inplace = True)\n",
    "\n",
    "        dfs.append(df)\n",
    "    \n",
    "articles_data = pd.concat(dfs, ignore_index= True)\n",
    "articles_data.rename(columns={'title':'article_title'}, inplace = True)\n",
    "articles_data.drop_duplicates(inplace = True)"
   ]
  },
  {
   "cell_type": "code",
   "execution_count": null,
   "metadata": {},
   "outputs": [
    {
     "data": {
      "text/html": [
       "<div>\n",
       "<style scoped>\n",
       "    .dataframe tbody tr th:only-of-type {\n",
       "        vertical-align: middle;\n",
       "    }\n",
       "\n",
       "    .dataframe tbody tr th {\n",
       "        vertical-align: top;\n",
       "    }\n",
       "\n",
       "    .dataframe thead th {\n",
       "        text-align: right;\n",
       "    }\n",
       "</style>\n",
       "<table border=\"1\" class=\"dataframe\">\n",
       "  <thead>\n",
       "    <tr style=\"text-align: right;\">\n",
       "      <th></th>\n",
       "      <th>pageid</th>\n",
       "      <th>article_title</th>\n",
       "      <th>wiki_lang</th>\n",
       "    </tr>\n",
       "  </thead>\n",
       "  <tbody>\n",
       "    <tr>\n",
       "      <th>0</th>\n",
       "      <td>33653136</td>\n",
       "      <td>? (film)</td>\n",
       "      <td>en</td>\n",
       "    </tr>\n",
       "    <tr>\n",
       "      <th>1</th>\n",
       "      <td>1849799</td>\n",
       "      <td>0.999...</td>\n",
       "      <td>en</td>\n",
       "    </tr>\n",
       "    <tr>\n",
       "      <th>2</th>\n",
       "      <td>9702578</td>\n",
       "      <td>1 − 2 + 3 − 4 + ⋯</td>\n",
       "      <td>en</td>\n",
       "    </tr>\n",
       "    <tr>\n",
       "      <th>3</th>\n",
       "      <td>48723612</td>\n",
       "      <td>1st Cavalry Division (Kingdom of Yugoslavia)</td>\n",
       "      <td>en</td>\n",
       "    </tr>\n",
       "    <tr>\n",
       "      <th>4</th>\n",
       "      <td>64662351</td>\n",
       "      <td>1st Missouri Field Battery</td>\n",
       "      <td>en</td>\n",
       "    </tr>\n",
       "    <tr>\n",
       "      <th>...</th>\n",
       "      <td>...</td>\n",
       "      <td>...</td>\n",
       "      <td>...</td>\n",
       "    </tr>\n",
       "    <tr>\n",
       "      <th>15065</th>\n",
       "      <td>132185</td>\n",
       "      <td>Yorkshire terrier</td>\n",
       "      <td>pt</td>\n",
       "    </tr>\n",
       "    <tr>\n",
       "      <th>15066</th>\n",
       "      <td>2269483</td>\n",
       "      <td>You Belong with Me</td>\n",
       "      <td>pt</td>\n",
       "    </tr>\n",
       "    <tr>\n",
       "      <th>15067</th>\n",
       "      <td>4779921</td>\n",
       "      <td>You Don't Know What to Do</td>\n",
       "      <td>pt</td>\n",
       "    </tr>\n",
       "    <tr>\n",
       "      <th>15068</th>\n",
       "      <td>1585284</td>\n",
       "      <td>You Know I'm No Good</td>\n",
       "      <td>pt</td>\n",
       "    </tr>\n",
       "    <tr>\n",
       "      <th>15069</th>\n",
       "      <td>2929652</td>\n",
       "      <td>Álvaro de Zúñiga y Guzmán</td>\n",
       "      <td>pt</td>\n",
       "    </tr>\n",
       "  </tbody>\n",
       "</table>\n",
       "<p>10570 rows × 3 columns</p>\n",
       "</div>"
      ],
      "text/plain": [
       "         pageid                                 article_title wiki_lang\n",
       "0      33653136                                      ? (film)        en\n",
       "1       1849799                                      0.999...        en\n",
       "2       9702578                             1 − 2 + 3 − 4 + ⋯        en\n",
       "3      48723612  1st Cavalry Division (Kingdom of Yugoslavia)        en\n",
       "4      64662351                    1st Missouri Field Battery        en\n",
       "...         ...                                           ...       ...\n",
       "15065    132185                             Yorkshire terrier        pt\n",
       "15066   2269483                            You Belong with Me        pt\n",
       "15067   4779921                     You Don't Know What to Do        pt\n",
       "15068   1585284                          You Know I'm No Good        pt\n",
       "15069   2929652                     Álvaro de Zúñiga y Guzmán        pt\n",
       "\n",
       "[10570 rows x 3 columns]"
      ]
     },
     "execution_count": 50,
     "metadata": {},
     "output_type": "execute_result"
    }
   ],
   "source": [
    "articles_data"
   ]
  },
  {
   "cell_type": "markdown",
   "metadata": {},
   "source": [
    "We add a new column containing the URL of each article using the information from the article title and the language of the wikipedia:"
   ]
  },
  {
   "cell_type": "code",
   "execution_count": null,
   "metadata": {},
   "outputs": [],
   "source": [
    "articles_data['article_url'] = \"https://\"+articles_data['wiki_lang']+\".wikipedia.org/wiki/\"+articles_data['article_title'].map(urllib.parse.quote)"
   ]
  },
  {
   "cell_type": "code",
   "execution_count": null,
   "metadata": {},
   "outputs": [
    {
     "data": {
      "text/html": [
       "<div>\n",
       "<style scoped>\n",
       "    .dataframe tbody tr th:only-of-type {\n",
       "        vertical-align: middle;\n",
       "    }\n",
       "\n",
       "    .dataframe tbody tr th {\n",
       "        vertical-align: top;\n",
       "    }\n",
       "\n",
       "    .dataframe thead th {\n",
       "        text-align: right;\n",
       "    }\n",
       "</style>\n",
       "<table border=\"1\" class=\"dataframe\">\n",
       "  <thead>\n",
       "    <tr style=\"text-align: right;\">\n",
       "      <th></th>\n",
       "      <th>pageid</th>\n",
       "      <th>article_title</th>\n",
       "      <th>wiki_lang</th>\n",
       "      <th>article_url</th>\n",
       "    </tr>\n",
       "  </thead>\n",
       "  <tbody>\n",
       "    <tr>\n",
       "      <th>0</th>\n",
       "      <td>33653136</td>\n",
       "      <td>? (film)</td>\n",
       "      <td>en</td>\n",
       "      <td>https://en.wikipedia.org/wiki/%3F%20%28film%29</td>\n",
       "    </tr>\n",
       "    <tr>\n",
       "      <th>1</th>\n",
       "      <td>1849799</td>\n",
       "      <td>0.999...</td>\n",
       "      <td>en</td>\n",
       "      <td>https://en.wikipedia.org/wiki/0.999...</td>\n",
       "    </tr>\n",
       "    <tr>\n",
       "      <th>2</th>\n",
       "      <td>9702578</td>\n",
       "      <td>1 − 2 + 3 − 4 + ⋯</td>\n",
       "      <td>en</td>\n",
       "      <td>https://en.wikipedia.org/wiki/1%20%E2%88%92%202%20%2B%203%20%E2%88%92%204%20%2B%20%E2%8B%AF</td>\n",
       "    </tr>\n",
       "    <tr>\n",
       "      <th>3</th>\n",
       "      <td>48723612</td>\n",
       "      <td>1st Cavalry Division (Kingdom of Yugoslavia)</td>\n",
       "      <td>en</td>\n",
       "      <td>https://en.wikipedia.org/wiki/1st%20Cavalry%20Division%20%28Kingdom%20of%20Yugoslavia%29</td>\n",
       "    </tr>\n",
       "    <tr>\n",
       "      <th>4</th>\n",
       "      <td>64662351</td>\n",
       "      <td>1st Missouri Field Battery</td>\n",
       "      <td>en</td>\n",
       "      <td>https://en.wikipedia.org/wiki/1st%20Missouri%20Field%20Battery</td>\n",
       "    </tr>\n",
       "    <tr>\n",
       "      <th>...</th>\n",
       "      <td>...</td>\n",
       "      <td>...</td>\n",
       "      <td>...</td>\n",
       "      <td>...</td>\n",
       "    </tr>\n",
       "    <tr>\n",
       "      <th>15065</th>\n",
       "      <td>132185</td>\n",
       "      <td>Yorkshire terrier</td>\n",
       "      <td>pt</td>\n",
       "      <td>https://pt.wikipedia.org/wiki/Yorkshire%20terrier</td>\n",
       "    </tr>\n",
       "    <tr>\n",
       "      <th>15066</th>\n",
       "      <td>2269483</td>\n",
       "      <td>You Belong with Me</td>\n",
       "      <td>pt</td>\n",
       "      <td>https://pt.wikipedia.org/wiki/You%20Belong%20with%20Me</td>\n",
       "    </tr>\n",
       "    <tr>\n",
       "      <th>15067</th>\n",
       "      <td>4779921</td>\n",
       "      <td>You Don't Know What to Do</td>\n",
       "      <td>pt</td>\n",
       "      <td>https://pt.wikipedia.org/wiki/You%20Don%27t%20Know%20What%20to%20Do</td>\n",
       "    </tr>\n",
       "    <tr>\n",
       "      <th>15068</th>\n",
       "      <td>1585284</td>\n",
       "      <td>You Know I'm No Good</td>\n",
       "      <td>pt</td>\n",
       "      <td>https://pt.wikipedia.org/wiki/You%20Know%20I%27m%20No%20Good</td>\n",
       "    </tr>\n",
       "    <tr>\n",
       "      <th>15069</th>\n",
       "      <td>2929652</td>\n",
       "      <td>Álvaro de Zúñiga y Guzmán</td>\n",
       "      <td>pt</td>\n",
       "      <td>https://pt.wikipedia.org/wiki/%C3%81lvaro%20de%20Z%C3%BA%C3%B1iga%20y%20Guzm%C3%A1n</td>\n",
       "    </tr>\n",
       "  </tbody>\n",
       "</table>\n",
       "<p>10570 rows × 4 columns</p>\n",
       "</div>"
      ],
      "text/plain": [
       "         pageid                                 article_title wiki_lang  \\\n",
       "0      33653136                                      ? (film)        en   \n",
       "1       1849799                                      0.999...        en   \n",
       "2       9702578                             1 − 2 + 3 − 4 + ⋯        en   \n",
       "3      48723612  1st Cavalry Division (Kingdom of Yugoslavia)        en   \n",
       "4      64662351                    1st Missouri Field Battery        en   \n",
       "...         ...                                           ...       ...   \n",
       "15065    132185                             Yorkshire terrier        pt   \n",
       "15066   2269483                            You Belong with Me        pt   \n",
       "15067   4779921                     You Don't Know What to Do        pt   \n",
       "15068   1585284                          You Know I'm No Good        pt   \n",
       "15069   2929652                     Álvaro de Zúñiga y Guzmán        pt   \n",
       "\n",
       "                                                                                       article_url  \n",
       "0                                                   https://en.wikipedia.org/wiki/%3F%20%28film%29  \n",
       "1                                                           https://en.wikipedia.org/wiki/0.999...  \n",
       "2      https://en.wikipedia.org/wiki/1%20%E2%88%92%202%20%2B%203%20%E2%88%92%204%20%2B%20%E2%8B%AF  \n",
       "3         https://en.wikipedia.org/wiki/1st%20Cavalry%20Division%20%28Kingdom%20of%20Yugoslavia%29  \n",
       "4                                   https://en.wikipedia.org/wiki/1st%20Missouri%20Field%20Battery  \n",
       "...                                                                                            ...  \n",
       "15065                                            https://pt.wikipedia.org/wiki/Yorkshire%20terrier  \n",
       "15066                                       https://pt.wikipedia.org/wiki/You%20Belong%20with%20Me  \n",
       "15067                          https://pt.wikipedia.org/wiki/You%20Don%27t%20Know%20What%20to%20Do  \n",
       "15068                                 https://pt.wikipedia.org/wiki/You%20Know%20I%27m%20No%20Good  \n",
       "15069          https://pt.wikipedia.org/wiki/%C3%81lvaro%20de%20Z%C3%BA%C3%B1iga%20y%20Guzm%C3%A1n  \n",
       "\n",
       "[10570 rows x 4 columns]"
      ]
     },
     "execution_count": 52,
     "metadata": {},
     "output_type": "execute_result"
    }
   ],
   "source": [
    "articles_data"
   ]
  },
  {
   "cell_type": "markdown",
   "metadata": {},
   "source": [
    "We save this information to a csv file:"
   ]
  },
  {
   "cell_type": "code",
   "execution_count": null,
   "metadata": {},
   "outputs": [],
   "source": [
    "articles_data.to_csv('data/featured_articles.csv', index=False)"
   ]
  },
  {
   "cell_type": "markdown",
   "metadata": {},
   "source": [
    "Now we are ready to query Mediawiki's action API again to get the content of each featured article. \n",
    "\n",
    "For example, to retrieve the wikitext and the id of the last edition for the article #3906668 'Accident sur la base de Fairchild en 1994' from French Wikipedia, we can do the following request:"
   ]
  },
  {
   "cell_type": "code",
   "execution_count": null,
   "metadata": {},
   "outputs": [],
   "source": [
    "pageid = 3906668\n",
    "\n",
    "PARAMS = {\n",
    "    \"action\": \"parse\",\n",
    "    \"pageid\": pageid,\n",
    "    \"prop\": \"wikitext|revid\",\n",
    "    \"format\": \"json\"\n",
    "}\n",
    "\n",
    "response = requests.get(\n",
    "    url='https://fr.wikipedia.org/w/api.php?', \n",
    "    params=PARAMS,\n",
    ")\n",
    "\n",
    "page_data = response.json()"
   ]
  },
  {
   "cell_type": "code",
   "execution_count": null,
   "metadata": {
    "collapsed": true,
    "jupyter": {
     "outputs_hidden": true
    }
   },
   "outputs": [
    {
     "data": {
      "text/plain": [
       "{'parse': {'title': 'Accident sur la base de Fairchild en 1994',\n",
       "  'pageid': 3906668,\n",
       "  'revid': 186075124,\n",
       "  'wikitext': {'*': '{{En-tête label|AdQ}}\\n{{Infobox Accident de transport\\n  | nom                  = Accident du B-52 sur la base de Fairchild en 1994\\n  | image                = FairchildB52Crash.jpg\\n  | légende              = Le B-52 sur la tranche une seconde avant de toucher le sol.\\n  | date                 = {{date|24|juin|1994|en aéronautique}}\\n  | phase                = Vol d\\'entraînement\\n  | type                 = Erreur de pilotage\\n  | site                 = [[Fairchild Air Force Base]], [[Washington (État)|Washington]], [[États-Unis]]\\n  | passagers            = \\n  | équipage             = 4 militaires\\n  | morts                = 4 militaires\\n  | blessés              = \\n  | survivants           = \\n  | appareil             = [[Boeing B-52 Stratofortress|Boeing B-52H \\'\\'Stratofortress\\'\\']]\\n  | compagnie            = [[United States Air Force]]\\n  | numéro_identification= 61-0026\\n  | latitude             = 47.615\\n  | longitude            = -117.655556\\n  | carte_pays           = États-Unis\\n}}\\n\\nLe {{date|24|juin|1994|en aéronautique}}, un [[Boeing B-52 Stratofortress|Boeing B-52 \\'\\'Stratofortress\\'\\']] baptisé \\'\\'Czar 52\\'\\'<ref name=\"Kern\">{{ouvrage| langue =en| prénom1 =Tony T.| nom1 =Kern| titre = Darker Shades of Blue| sous-titre =The Rogue Pilot}}</ref> s\\'écrase au cours d\\'un vol d\\'entraînement en vue d\\'une démonstration sur la \\'\\'\\'[[Fairchild Air Force Base|base de Fairchild]]\\'\\'\\', entraînant la mort des quatre membres d\\'équipage. L\\'accident s\\'est produit car le commandant de bord, Bud Holland, a piloté l\\'avion hors de ses limites opérationnelles et en a perdu le contrôle. Il en résulta un [[Décrochage (aéronautique)|décrochage]] et la destruction de l\\'appareil par écrasement au sol. L\\'accident fut filmé et les images furent largement diffusées lors des journaux télévisés à travers les  [[États-Unis]]<ref name=\"Big4\">{{en}} Diehl, \\'\\'Silent Knights\\'\\', {{p.|125}}, Thompson, \\'\\'Way, Way Off in the Wild Blue Yonder\\'\\', USAF, \\'\\'AFR 110-14\\'\\', {{p.|2–3}}, et Kern, \\'\\'Darker Shades of Blue\\'\\'</ref>.\\n\\nLe rapport de la commission d\\'enquête conclut que les principaux facteurs ayant favorisé l\\'accident étaient la [[personnalité]] et le [[comportement]] du pilote Bud Holland vis-à-vis des règles de sécurité et la réaction de sa hiérarchie par rapport à celui-ci, ainsi que l\\'enchaînement des événements. Cet accident est utilisé comme [[étude de cas|cas d\\'école]] dans l\\'aéronautique militaire et civile pour l\\'enseignement de la [[Gestion des ressources de l\\'équipage|gestion des équipages]]. En outre, les forces armées américaines utilisent souvent cet accident pendant la formation à la [[sécurité aérienne]] pour sensibiliser le personnel à l\\'importance du respect des règles de sécurité et à la conduite à tenir vis-à-vis de toute personne qui enfreint les procédures de sécurité.\\n\\n== L\\'accident ==\\n\\n[[Fichier:AFwing.png|thumb|left|alt=Schéma de l\\'organisation d\\'une escadre avec ses deux groupes et ses six escadrons|Structure normale d\\'une escadre de l\\'USAF avec ses groupes et ses escadrons.]]\\n\\nLe {{date|24|juin|1994}} à {{heure|7|30}}, heure locale (\\'\\'[[UTC-8|{{lang|en|Pacific Standard Time}}]]\\'\\'), sur la [[Fairchild Air Force Base|base aérienne de Fairchild]], l\\'équipage du [[bombardier (avion)|bombardier]] B-52H \\'\\'Czar52\\'\\' de l\\'USAF stationné à Fairchild se prépare pour un vol d\\'entraînement en vue d\\'une démonstration au cours d\\'un prochain [[meeting aérien]]. L\\'équipage est composé des [[Pilote (aviation)|pilotes]] [[Lieutenant-colonel|Lt.Col]] Arthur « Bud » Holland ({{unité|46|ans}}), Lt.Col Mark McGeehan ({{unité|36|ans}}), [[Colonel|Col.]] Robert Wolff ({{unité|46|ans}}) et de l\\'opérateur système d\\'arme/navigateur radar Lt.Col Ken Huston ({{unité|41|ans}}). Holland est le commandant de bord pour ce vol avec McGeehan comme copilote et Wolff comme observateur de sécurité. Holland est le commandant en second de la section « Évaluation et standardisation » du [[92nd Air Refueling Wing|{{lang|en|92nd Bomb Wing}}]], McGeehan est commandant du {{lang|en|325th Bomb Squadron}}, Wolff est commandant en second du {{lang|en|92nd Bomb Wing}}, et Huston est officier opérations du {{lang|en|325th Bomb Squadron}}<ref>{{en}} Thompson, \\'\\'Way, Way Off in the Wild Blue Yonder\\'\\'. Kern, \\'\\'Darker Shades of Blue\\'\\' et USAF, \\'\\'AFR 110-14\\'\\', {{p.|2–3}}.</ref>{{,}}<ref group=\"note\">Holland, en tant que chef de l\\'évaluation et de la standardisation, était responsable de la connaissance et du respect des normes de vol pour les opérations de l\\'escadre.</ref>.\\n\\nLe plan de vol enchaîne des manœuvres difficiles : passages à basse altitude, virages inclinés à 60°, montée sous forte pente et un [[touch-and-go|touché]] sur la piste 23 de Fairchild. Ce vol était aussi le vol d\\'adieu pour Wolff ; une tradition de l\\'USAF veut que lorsqu\\'un membre d\\'équipage prend sa retraite, il est accueilli à sa descente d\\'avion par ses collègues, ses amis et sa famille et arrosé d\\'eau. Donc ce jour-là, la femme de Wolff et plusieurs de ses proches amis sont présents sur l\\'[[aérodrome]] pour regarder le vol et participer à la cérémonie. La femme de McGeehan et ses deux plus jeunes fils regardent aussi le vol depuis leur maison située non loin<ref>{{en}} Piper, \\'\\'Chain of Events\\'\\', {{p.|136}}, Kern, \\'\\'Darker Shades of Blue\\'\\', et USAF, \\'\\'AFR 110-14\\'\\', {{p.|2–3}}.</ref>.\\n\\nLe B-52 décolle à {{heure|13|58}} et effectue la plupart des évolutions sans incident. Alors qu\\'il se prépare à exécuter le touché sur la piste 23 à la fin de sa présentation, l\\'appareil est obligé de [[Go-around|remettre les gaz]] car un [[Boeing KC-135 Stratotanker|{{nobr|KC-135}} Stratotanker]] vient juste de se poser et est encore sur la piste. Conservant une hauteur-sol de {{unité|75|m}} ({{unité|250|ft}}), Holland demande à la [[Contrôle du trafic aérien|tour de contrôle]] l\\'autorisation d\\'effectuer une boucle à 360° par la gauche, ce qui lui est accordé. Le B-52 commence alors son virage autour de la tour à partir du milieu de la piste. Une zone abritant un site de stockage d\\'[[arme nucléaire|armes nucléaires]]<ref>Diehl, \\'\\'Silent Knights\\'\\', {{p.|125}}.</ref>, dont le survol est interdit, se trouve juste derrière la tour. Il semble qu\\'Holland, pour éviter de traverser cet espace aérien, ait effectué un virage très serré et très incliné tout en maintenant sa faible hauteur ({{unité|75|m}}). Approximativement aux trois quarts de son virage, à {{heure|14|16}}, l\\'appareil s\\'incline à plus de 90°, chute rapidement et touche le sol, explosant et tuant tous les membres d\\'équipage. Le Lt.Col McGeehan était parvenu à s\\'[[Siège éjectable|éjecter]], mais il périt dans la boule de feu créée par l\\'écrasement de l\\'appareil. Il n\\'y a pas de blessé au sol<ref name=\"AFR\">USAF, \\'\\'AFR 110-14\\'\\', toutes les pages.</ref>.\\n\\n== L\\'enquête ==\\n[[Fichier:BGgodsey.jpg|thumb|left|alt=Portrait du général Godsey|Le brigadier-général Orin L. Godsey, qui dirigea l\\'enquête de sécurité après l\\'accident.]]\\n\\nL\\'USAF réunit immédiatement une commission d\\'enquête de sécurité sous la direction du chef de la sécurité de l\\'USAF, le [[Général de brigade|brigadier-général]] Orin L. Godsey. La commission remet un rapport préliminaire le {{date|10|août|1994}} et le rapport final d\\'enquête est publié le {{date|31|janvier|1995}}. Le rapport de sécurité de l\\'US Air Force ne fut diffusé qu\\'au personnel du [[Département de la Défense des États-Unis]] et ne fut pas rendu public. Un comité d\\'enquête sur l\\'accident, appelé « Enquête AFR 110-14 », a publié un rapport séparé en 1995. Contrairement à l\\'enquête de sécurité de l\\'USAF, le rapport AFR 110-14 a été rendu public<ref>Air Force Link, \\'\\'Brigadier General Orin L. Godsey\\'\\', et USAF, \\'\\'AFR 110-14\\'\\', {{p.|2–3}}.</ref>.\\n\\nL\\'enquête AFR 110-14 identifie plusieurs facteurs ayant contribué à l\\'accident, dont l\\'enchaînement réel de l\\'accident, la personnalité et le comportement antérieur de Bud Holland, l\\'absence de surveillance et de mesures correctives de l\\'USAF vis-à-vis de Holland, la préparation et l\\'exécution de la mission, et d\\'autres facteurs environnementaux et humains<ref name=\"AFR\"/>.\\n\\n=== Enchaînement des événements ===\\n[[Fichier:Accelerated stall fr.gif|thumb|upright=1.5|alt=Schéma montrant les force s\\'exerçant sur l\\'avion en virage|Illustration du décrochage en virage.<br />Plus le virage est serré, plus la [[portance (mécanique des fluides)|portance]] (et donc l\\'[[angle d\\'attaque]]) doit être élevée pour contrer le [[poids apparent]] (la somme de la force centrifuge et du poids). Le décrochage se produit donc à une vitesse plus élevée qu\\'à plat.]]\\n\\nL\\'enquête montre que lorsque le B-52 entame son dernier virage autour de la tour de contrôle, la vitesse indiquée était de {{unité|337|km/h}} ({{unité|182|[[Nœud (unité)|kt]]}}). Lorsque Holland amorce son virage, il augmente la poussée des moteurs, mais cette action est trop tardive car les [[Turboréacteur|réacteurs]] mettent {{nombre|8|secondes}} à réagir à l\\'action de la commande de gaz. Bien que l\\'[[anémomètre]] soit visible de l\\'ensemble des quatre membres d\\'équipage, ils laissent la vitesse décroître. Huit secondes avant l\\'impact, la vitesse indiquée de l\\'appareil était descendue à {{unité|269|km/h}} ({{unité|145|kt}}) et le roulis de l\\'appareil dépassait les 60°. C\\'est à ce moment-là que soit Holland soit McGeehan met le manche et le palonnier complètement à droite tout en redressant le nez de l\\'appareil et que l\\'avion entre dans une phase de [[décrochage (aéronautique)|décrochage]] en virage (ou décrochage sous [[facteur de charge (aérodynamique)|facteur de charge]]). Ce phénomène, le décrochage en virage, se produit à une vitesse plus élevée que la vitesse de décrochage normale calculée pour un vol en palier. À cause de son roulis dépassant les 60°, la vitesse de décrochage de l\\'avion était à ce moment de {{unité|272|km/h}} ({{unité|147|kt}}). Donc, en volant à {{unité|269|km/h}} ({{unité|145|kt}}), l\\'appareil ne pouvait être maintenu à son altitude ; une augmentation de l\\'incidence dans le but de maintenir l\\'altitude ne pouvait que conduire au décrochage et la hauteur était insuffisante pour sortir du décrochage avant de heurter le sol<ref name=\"AFR\"/>.\\n\\n=== Comportement antérieur de Holland et réactions de la hiérarchie de l\\'USAF ===\\nLa commission sur l\\'accident établit que la personnalité de Bud Holland constituait un élément  significatif relativement aux causes préalables à cet accident. Le personnel de l\\'USAF attesta que Holland avait acquis une réputation de pilote impulsif qui bafouait régulièrement les règles de sécurité. Il volait souvent en dessous de l\\'altitude minimale de sécurité, dépassait les limites d\\'inclinaison en virage et les taux de montée<ref name=\"Kern\"/>{{,}}<ref name=\"Big2\">USAF, \\'\\'AFR 110-14\\'\\', {{p.|3–4}}</ref>.\\n\\nUn incident eut lieu en [[1991 en aéronautique|1991]] quand un B-52 piloté par Holland effectua un tour au-dessus d\\'un stade de [[softball]] où sa fille jouait. Débutant à {{unité|760|m}} ({{unité|2500|[[pied (unité)|ft]]}}) de hauteur-sol, l\\'appareil de Holland effectua son tour avec une inclinaison de 65°, se retrouvant dans une situation de virage engagé. Un témoin décrivit la scène comme une « spirale mortelle », le nez de l\\'appareil ayant continué à descendre durant la manœuvre et l\\'inclinaison atteignant les 80°. Après avoir perdu {{unité|300|m}} ({{unité|1000|ft}}), Holland put reprendre le contrôle de l\\'appareil<ref>Diehl, \\'\\'Silent Knights\\'\\', {{p.|125}}, Thompson, \\'\\'Way, Way Off in the Wild Blue Yonder\\'\\'</ref>{{,}}<ref name=\"USAF\">USAF, \\'\\'AFR 110-14\\'\\', {{p.|3–4}}.</ref>.\\n\\n[[Fichier:B52.climbout.arp.jpg|thumb|alt=Un B-52H au décollage.|left|Un B-52H au décollage pour une présentation avec une pente de montée normale.]]\\n\\nLe {{date|19|mai|1991}} pour le meeting aérien de Fairchild, Holland était le commandant du B-52 effectuant la démonstration aérienne. Durant ce vol Holland viola plusieurs règles de sécurité, dont une inclinaison et une pente trop importante, l\\'interdiction du survol du public et peut-être aussi le non-respect de l\\'altitude minimale. Le commandant de la base et de l\\'[[escadre]], le colonel Arne Weinman, comme l\\'encadrement, observa la démonstration mais ne prit aucune sanction<ref name=\"Kern\"/>.\\n\\nLe {{date|12|juillet|1991}}, Holland était aux commandes d\\'un B-52 pour un survol de la cérémonie de passation de commandement du {{lang|en|325th Bomb Squadron}}. Pendant la répétition et le survol réel, l\\'appareil de Holland vola à une altitude de {{unité|30|m}} ({{unité|100|ft}}) — bien en dessous de l\\'altitude minimale autorisée —, effectua un virage incliné à plus de 45°, dépassa la pente maximum et réalisa un [[renversement (aviation)|renversement]]. Le renversement n\\'est pas spécifiquement interdit mais n\\'est pas recommandé car il peut endommager l\\'avion. Après avoir assisté au vol le colonel Weinman et son adjoint, le colonel Julich commandant des opérations, réprimandèrent verbalement Holland mais ne prirent pas de sanctions officielles<ref name=\"Big2\"/>.\\n\\nLe {{date|17|mai|1992}} pour le meeting aérien de Fairchild, Holland est de nouveau aux commandes du B-52 qui effectue la démonstration aérienne. Pendant ce vol, Holland viole sévèrement les règles de sécurité, virages serrés à faible altitude à plus de 45° d\\'inclinaison et grand angle de montée, estimé à plus de 60° que Holland termine par un renversement. Le nouveau commandant d\\'escadre, le colonel Mickael G. Ruotsala, ne prend apparemment aucune sanction. Une semaine plus tard, le nouveau commandant adjoint des opérations, le colonel Capotosti, de sa propre initiative avertit  Holland que s\\'il violait encore une fois les règles de sécurité, il l\\'interdirait de vol. Capotosti ne fait pas de compte-rendu de son avertissement et ne prend aucune autre sanction officielle<ref name=\"Kern\"/>.\\n\\nLes 14 et {{date-|15 avril 1993}}, Holland est chef de mission pour une mission d\\'entraînement de deux B-52 sur un champ de tir près de [[Guam]] dans l\\'[[océan Pacifique]]. Pendant la mission, il fait voler son avion plus près de l\\'autre appareil que la réglementation ne le permet. Holland demande aussi à son navigateur de filmer le largage des bombes à partir de la soute à bombe, ce qui est aussi contraire au règlement. Plus tard, le navigateur de Holland montrera la vidéo à trois cadres de la base de Fairchild. Le premier, le lieutenant-colonel Bullock, le commandant du {{lang|en|325th Bomb Squadron}}, ne fera rien à ce sujet et aurait même essayé d\\'utiliser la vidéo pour [[Chantage|faire pression]] sur le navigateur pour qu\\'il accepte un poste de planificateur de mission pour l\\'escadre. Le deuxième, le commandant adjoint aux opérations du groupe, le lieutenant-colonel Harper, demandera au membre d\\'équipage de dissimuler la preuve. Le troisième, le commandant adjoint aux opérations, aurait répondu à propos de la vidéo : « OK je ne veux rien savoir au sujet de cette vidéo. Je n\\'en ai rien à faire. »<ref>Diehl, \\'\\'Silent Knights\\'\\', {{p.|125}}, Kern, \\'\\'Darker Shades of Blue\\'\\'.</ref>{{,}}<ref group=\"note\">L\\'article ne dit pas s\\'il s\\'agit du colonel Capotosti ou du nouveau commandant, le colonel William E. Pellerin.</ref>\\n\\nLe {{date|8|août|1993}}, Holland est une fois de plus aux commandes du B-52 de démonstration pour le meeting aérien de Fairchild. Là encore le profil du vol inclut des virages avec des inclinaisons à plus de 45°, des passages à basse altitude et autres manœuvres en montée à forte pente atteignant cette fois plus de 80°. L\\'angle est tellement élevé que le carburant sort par les [[évent]]s des réservoirs d\\'aile de l\\'appareil. Le nouveau commandant d\\'escadre le brigadier-général James M. Richards, et le nouveau commandant adjoint aux opérations, le colonel William E. Pellerin, sont tous les deux témoins de la démonstration mais ne font rien<ref name=\"Kern\"/>{{,}}<ref>Air Force Link, \\'\\'Brigadier General James M. Richards USAF biography\\'\\'</ref>{{,}}<ref name=\"Thompson\">Thompson, \\'\\'Way, Way Off in the Wild Blue Yonder\\'\\'</ref>.\\n\\nLe {{date|10|mars|1994}}, Holland est le commandant de bord d\\'un B-52 lors une mission d\\'entraînement au bombardement sur le champ de tir de [[Comté de Yakima|Yakima]] ; il doit donner la possibilité à un photographe accrédité de prendre en photo l\\'appareil larguant des bombes d\\'entraînement. La hauteur minimum autorisée sur cette zone était de {{unité|150|m}} ({{unité|500|ft}}). Durant cette mission, Holland est filmé passant une ligne de crête à seulement {{unité|10|m}} ({{unité|30|ft}}) du sol. L\\'équipe photographique, craignant pour sa sécurité, cesse de filmer et se met à l\\'abri alors que l\\'avion de Holland les survole une seconde fois à une hauteur estimée à {{unité|1|m}}. Le copilote de Holland affirme avoir repris les commandes  pour éviter que Holland ne fasse s\\'écraser l\\'appareil sur la crête pendant que les deux autres membres d\\'équipage lui criaient « Monte ! Monte ! ». Holland répondit en rigolant et en traitant l\\'un d\\'eux de « gonzesse »<ref name=\"Big4\" />.\\n\\n[[Image:Mcgeehan.jpg|thumb|alt=Portrait du lieutenant-colonel McGeehan.|left|Mark McGeehan, le commandant d\\'escadron qui refusa de laisser ses équipages voler avec Holland s\\'il n\\'était pas présent dans l\\'appareil.]]\\n\\nAprès cette mission, l\\'équipage décide de ne plus jamais voler avec Holland et, rend compte de l\\'incident au commandant de l\\'escadron, le lieutenant-colonel Mark McGeehan. McGeehan rapporte l\\'incident à Pellerin et recommande que Holland soit interdit de vol. Pellerin convoque Holland, le réprimande verbalement et l\\'avertit de ne pas recommencer ce comportement, mais se refuse à lui interdire de voler. Il ne consigne pas non plus l\\'incident ni la réprimande et laisse son supérieur dans l\\'ignorance de ce qui s\\'est passé. McGeehan décide ensuite que, pour protéger ses équipages, il sera le copilote pour les futures missions où Holland serait le commandant de bord. Les faits semblent indiquer qu\\'après cet incident une « animosité considérable » devait exister entre Holland et McGeehan<ref name=\"USAF\"/>{{,}}<ref name=\"Thompson\"/>{{,}}<ref>Kern, \\'\\'Darker Shades of Blue\\'\\'</ref>{{,}}<ref>Lou Holtz/Upper Ohio Valley Hall of Fame, \\'\\'Lt. Col. Mark C. McGeehan\\'\\'.</ref>.\\n\\n[[Fichier:Fairchild B-52 crash overview fr.png|thumb|alt=Trajectoire de l\\'appareil autour de la tour.|Dernier virage de l\\'appareil :\\n{{Légende/Début}}\\n{{Ligne de légende|#268CFF solid 2px|Trajectoire de l\\'appareil}}\\n{{Légende|black|Piste 23 de Fairchild}}\\n{{Légende|#E5E5E5|Taxiways et parkings}}\\n{{Légende|#FFCEBF|Zone d\\'interdiction de survol servant de zone de stockage d\\'armes nucléaires}}\\n{{Légende/Fin}}\\n]]\\n\\nAu cours des préparatifs pour le meeting de Fairchild de 1994, Holland est encore choisi pour effectuer la présentation du B-52. Il expose sa présentation au nouveau commandant d\\'escadre, le colonel William Brooks, le {{date|15|juin|1994}} ; elle inclut la violation de nombreuses règles, dont des virages serrés à forte inclinaison, des passages bas et des montées à forte pente. Brooks ordonne à Holland de ne pas dépasser 45° d\\'inclinaison et 25° de pente pendant la démonstration. Pendant le premier entraînement, le {{date-|17 juin}}, Holland viole à plusieurs reprises ces ordres. Brooks en est témoin mais ne fait rien. Pellerin qui vole avec Holland lors de cette démonstration rend compte à Brooks que « le profil de la démonstration lui semble bon, sûr et bien à l\\'intérieur des paramètres ». L\\'entraînement suivant, le {{date-|24 juin}}, se termine par l\\'accident<ref name=\"Big2\" />.\\n\\n=== Autres facteurs ===\\nLe profil de démonstration conçu par Holland prévoyait un virage à 360° autour de la tour de contrôle de Fairchild. Holland n\\'avait jamais tenté cette manœuvre dans les démonstrations précédentes. Pendant le dernier vol, Holland effectua une série de virages à 60° d\\'inclinaison et une montée à 68° en violation des ordres de Brooks. Rien ne démontre que McGeehan ou Wolff tentèrent d\\'intervenir pendant qu\\'Holland effectuait ces manœuvres<ref name=\"AFR\"/>.\\n\\nInitialement, Pellerin devait  participer au vol, comme il l\\'avait fait pour celui du {{date-|17 juin}}. Pellerin, cependant, n\\'était pas disponible pour le vol du {{date-|24 juin}} et Wolff fut choisi comme remplaçant au sein de l\\'équipage. En raison du court préavis avant son affectation à la mission, Wolff ne participa pas à la préparation du vol et rejoignit l\\'appareil alors que les moteurs tournaient déjà. Wolff n\\'était donc pas au courant du profil de la mission et n\\'eut pas la possibilité de faire part d\\'éventuelles objections avant le décollage<ref name=\"AFR\"/>.\\n\\nTous les membres d\\'équipage impliqués dans l\\'accident n\\'avaient eu que peu d\\'heures de vol dans les mois précédant celui-ci. L\\'équipage du B-52 ne s\\'était apparemment pas aperçu que l\\'appareil avait décroché peu avant l\\'impact, ceci est mis en évidence par l\\'absence d\\'utilisation des techniques de récupération standard sur cet appareil une fois entré en phase de décrochage. Cependant, l\\'enquête montre que même avec les techniques appropriées, l\\'avion était probablement trop bas pour se rétablir avant de toucher le sol<ref name=\"AFR\"/>.\\n\\nQuatre jours avant l\\'accident, le {{date-|20 juin}}, Dean Mellberg, un ancien militaire de l\\'US Air Force émotionnellement perturbé, était entré dans l\\'hôpital de Fairchild et, tirant à plusieurs reprises, avait tué cinq personnes en laissant plusieurs autres, blessées, avant d\\'être abattu par des membres des [[US Air Force Security Forces|forces de sécurité de la force aérienne]]. Cette fusillade a profondément perturbé le personnel de la base de Fairchild et ceci jusque bien après l\\'accident<ref name=\"AFR\"/>.\\n\\n=== Conclusions ===\\n\\nLa commission d\\'enquête conclut que l\\'enchaînement d\\'événements qui conduisit à l\\'accident était principalement attribuable à la [[personnalité]] et au [[comportement]] de Holland, aux réactions (ou à leur absence) de la part de la hiérarchie de l\\'[[United States Air Force|US Air Force]] et, enfin, à la succession des incidents pendant le vol. Le non-respect par Holland des procédures garantissant la sûreté du B-52 qu\\'il commandait et l\\'absence de mesures fermes et cohérentes de la part de ses supérieurs amenèrent Holland à croire qu\\'il pouvait effectuer des manœuvres dangereuses durant son dernier vol, avec pour point d\\'orgue un virage à 360° lent et très incliné autour de la tour de contrôle<ref name=\"Big4\"/>.\\n\\nPendant le dernier vol de Holland, les autres facteurs environnementaux mis en cause incluent l\\'ajout de manœuvres nouvelles (virage à 360° autour de la tour), l\\'insuffisante implication avant-vol du colonel Wolff, et les perturbations causées par la fusillade du {{date-|20 juin}}. Alliés au comportement dangereux de Holland, ces facteurs produisirent les conditions favorables à l\\'accident. Le dernier facteur, relevé par le rapport d\\'enquête de l\\'USAF, est le vent soufflant à {{unité|19|km/h}} ({{unité|10|kt}}) et ses effets sur les manœuvres nécessaires pour réaliser la trajectoire de vol prévue, par rapport au sol<ref name=\"Big4\"/>.\\n\\n== Conséquences ==\\nLe {{date|19|mai|1995}}, Pellerin a plaidé coupable devant une [[cour martiale]] de l\\'USAF pour deux accusations de manquement au devoir pour ses actions, ou leur absence, qui ont contribué à l\\'accident. Il fut condamné à renoncer à {{unité|1500|[[dollar américain|dollars américains]]}} de salaire par mois pendant cinq mois et reçut une réprimande écrite. L\\'US Air Force n\\'a pas révélé si d\\'autres officiers impliqués dans la chaîne d\\'événements ayant conduit à l\\'accident se sont vu imposer des sanctions administratives ou disciplinaires. Les critiques du rapport de sécurité de l\\'USAF établissent que cet accident est un exemple d\\'un ensemble de problèmes liés à l\\'application des procédures de sécurité au sein de l\\'USAF<ref>Diehl, \\'\\'Silent Knights\\'\\', {{p.|126}}, Thompson, \\'\\'Way, Way Off in the Wild Blue Yonder\\'\\', Kern, \\'\\'Darker Shades of Blue\\'\\'</ref>.\\n\\nBien que l\\'enquête sur l\\'accident ait révélé que les procédures et les principes étaient déjà en place pour empêcher un tel accident de se produire, le fait que cet accident soit arrivé a montré que, dans au moins un cas, les politiques de sécurité existantes et leur application avaient été insuffisantes. Afin de réitérer l\\'importance de l\\'adhésion aux politiques de sécurité existantes et de corriger toute infraction à l\\'un de ces principes, l\\'USAF, comme pour chaque accident, a rapidement distribué les conclusions de l\\'enquête sur l\\'accident à toute l\\'armée. Actuellement, l\\'accident est utilisé dans l\\'aviation civile et militaire comme support pour l\\'enseignement de la [[Gestion des ressources de l\\'équipage|gestion des équipages]]. Il est aussi souvent utilisé dans les entraînements à la sécurité comme exemple de l\\'importance de faire respecter les règles de sécurité<ref name=\"Kern\"/>{{,}}<ref>Check-Six.com, \\'\\'The Crash of Czar 52\\'\\'.</ref>.\\n\\n== Voir aussi ==\\n\\n* [[Gestion des ressources de l\\'équipage]]\\n\\n== Notes et références ==\\n=== Notes ===\\n{{Références|groupe=note}}\\n=== Références ===\\n{{Références|colonnes=2}}\\n\\n=== Ouvrages de référence ===\\n* {{Traduction/Référence|en|1994 Fairchild Air Force Base B-52 crash|340163884}}\\n* {{ouvrage\\n | langue =en\\n | nom1 = Diehl\\n | prénom1 = Alan E.\\n | titre = Silent Knights: Blowing the Whistle on Military Accidents and Their Cover-Ups\\n | année = 2003\\n | éditeur = Potomac Books\\n | isbn = 1-57488-544-8\\n}}\\n* {{ouvrage\\n | langue =en\\n | prénom1 =Tony T.\\n | nom1 =Kern\\n | titre = Darker Shades of Blue\\n | sous-titre =The Rogue Pilot\\n | éditeur =McGraw-Hill Professional Publishing\\n | année =1999\\n | isbn =0-07-034927-4\\n}}\\n* {{ouvrage\\n | langue =en\\n | nom1 = Piper\\n | prénom1 = Joan L.\\n | titre = Chain of Events: The Government Cover-up of the Black Hawk Incident and the Friendly-fire Death of Lt. Laura Piper\\n | année = 2001\\n | éditeur = Brassey\\'s\\n | isbn = 1-57488-344-5\\n}}\\n* {{ouvrage\\n | langue =en\\n | nom1 = United States Air Force\\n | prénom1 =\\n | lien auteur = United States Air Force\\n | titre = Summary of AFR 110-14 USAF Accident Investigation Board Report\\n | année = 1994\\n}}\\n\\n=== Ressources internet ===\\n* {{en}} {{Lien web\\n|url=http://www.af.mil/information/bios/bio.asp?bioID=5566\\n|titre=Brigadier General Orin L. Godsey : Biographie du chef de la sécurité de l\\'USAF qui dirigea l\\'enquête initiale\\n|auteur=\\n|année=1996\\n|éditeur=Air Force Link\\n|consulté le=26-01-2010\\n}}\\n* {{en}} {{Lien web\\n|url=http://www.af.mil/information/bios/bio.asp?bioID=6898\\n|titre=Brigadier General James M. Richards : Bombraphie du commandant du 92nd Bomb Wing d\\'août 1992 à août 1993\\n|auteur=\\n|année=1996\\n|éditeur=Air Force Link\\n|consulté le=26-01-2010\\n}}\\n* {{en}} {{Lien web\\n|url=http://www.check-six.com/Crash_Sites/Czar52Crash.htm\\n|titre=The Crash of \\'Czar 52\\'\\n|auteur=\\n|année=2007\\n|éditeur=Check-Six.com\\n|consulté le=26-01-2010\\n}} - Contient des séquences vidéo de l\\'accident.\\n* {{en}} {{Lien web\\n|url=http://www.crm-devel.org/resources/paper/darkblue/darkblue.htm\\n|titre=Darker Shades of Blue: A Case Study of Failed Leadership\\n|auteur=Tony T. Kern\\n|année=1995\\n|éditeur=Neil Krey\\'s CRM Developers Forum\\n|consulté le=26-01-2010\\n}}\\n* {{en}} {{Lien web\\n|url=http://www.louholtzhalloffame.com/honorees/2000/index.html\\n|titre=Lt. Col. Mark C. McGeehan\\n|auteur=\\n|année=2000\\n|éditeur=Lou Holtz/Upper Ohio Valley Hall of Fame\\n|consulté le=26-01-2010\\n}}\\n* {{en}} {{Lien web\\n|url=http://www.time.com/time/magazine/article/0,9171,982358,00.html\\n|titre= Way, Way Off in the Wild Blue Yonder\\n|auteur=Mark Thompson\\n|année=29 mai 1995\\n|éditeur=Time\\n|consulté le=26-01-2010\\n}}\\n* {{YouTube|ReSm7r45_ds|The Crash of Czar 52 at Fairchild AFB, WA, in 1994|en}}\\n* {{en}} {{Lien web\\n|url=https://query.nytimes.com/gst/fullpage.html?res=990CE7DA1038F934A15757C0A963958260\\n|titre=Nuclear Storage Site Linked to Plane Crash\\n|auteur=\\n|année=1995\\n|éditeur=The New York Times\\n|consulté le=26-01-2010\\n}}\\n\\n== Liens externes ==\\n{{autres projets|commons=B-52 aircraft crash at Fairchild Air Force Base}}\\nVidéo amateur montrant l\\'accident :\\n* {{YouTube|FUEhNKBi4DY|B-52 Fairchild AFB Crash 1994|en}}\\n\\n{{Palette|Accident avion 1994|Accidents aériens aux États-Unis}}\\n{{Portail|aéronautique|années 1990|Washington (État)|Forces armées des États-Unis}}\\n\\n{{Article de qualité|oldid=50305926|date={{1er}} mars 2010}}\\n\\n[[Catégorie:Histoire militaire des États-Unis]]\\n[[Catégorie:Accident ou incident aérien en 1994]]\\n[[Catégorie:Accident ou incident aérien aux États-Unis|Fairchild AB]]\\n[[Catégorie:Accident ou incident aérien impliquant un Boeing]]\\n[[Catégorie:Comté de Spokane]]\\n[[Catégorie:1994 aux États-Unis]]\\n[[Catégorie:Juin 1994]]\\n[[Catégorie:Histoire de l\\'État de Washington]]'}}}"
      ]
     },
     "execution_count": 37,
     "metadata": {},
     "output_type": "execute_result"
    }
   ],
   "source": [
    "page_data"
   ]
  },
  {
   "cell_type": "markdown",
   "metadata": {},
   "source": [
    "Let's fetch the wikitext and the id of the last edition for each featured article and save the response to a compressed file:"
   ]
  },
  {
   "cell_type": "code",
   "execution_count": null,
   "metadata": {},
   "outputs": [
    {
     "name": "stderr",
     "output_type": "stream",
     "text": [
      "Retrieving data from articles: 10570it [00:06, 1640.30it/s]\n"
     ]
    }
   ],
   "source": [
    "for index, row in tqdm(articles_data.iterrows(), desc='Retrieving data from articles'):\n",
    "\n",
    "    pageid = articles_data.loc[index]['pageid']\n",
    "    lang = articles_data.loc[index]['wiki_lang']\n",
    "    filename = f'articles-content/{pageid}-{lang}.json.gz'\n",
    "    \n",
    "    MEDIAWIKI_API_URL = f'https://{lang}.wikipedia.org/w/api.php?'\n",
    "\n",
    "    if not os.path.isfile(filename):\n",
    "\n",
    "        PARAMS = {\n",
    "            \"action\": \"parse\",\n",
    "            \"pageid\": pageid,\n",
    "            \"prop\": \"wikitext|revid\",\n",
    "            \"format\": \"json\"\n",
    "        }\n",
    "\n",
    "        response = requests.get(\n",
    "            url=MEDIAWIKI_API_URL, \n",
    "            params=PARAMS,\n",
    "            headers=HEADER\n",
    "        )\n",
    "\n",
    "        page_data = response.json()\n",
    "\n",
    "        if response.status_code == 200:\n",
    "            with gzip.open(filename, 'w') as fo:\n",
    "                fo.write(json.dumps(page_data).encode('utf-8'))\n",
    "    \n",
    "    else:\n",
    "        continue\n"
   ]
  },
  {
   "cell_type": "markdown",
   "metadata": {},
   "source": [
    "## 2. Citation template metadata extraction\n",
    "\n",
    "Now that we already have the wikitext of the articles, we will parse it in order to retrieve the references that were introduced using a citation template. In other words, we are not interested in:\n",
    "\n",
    "1. Manually entered references (ie, which do not use citation templates)\n",
    "\n",
    "`<ref name=Briggs>Briggs, Asa & Burke, Peter (2002) ''A Social History of the Media: from Gutenberg to the Internet'', Cambridge: Polity, pp. 15–23, 61–73.</ref>`\n",
    "\n",
    "2. Unlinked references\n",
    "\n",
    "```<ref name=Neeham>{{cite book |title=Paper and Printing |author=[[Tsien Tsuen-Hsuin]] |author2=[[Joseph Needham]] |series=Science and Civilisation in China|volume=5 part 1|publisher=Cambridge University Press|pages=158, 201|year=1985}}</ref> ```\n",
    "\n",
    "An example of the type of references that we want to keep:\n",
    "\n",
    "```<ref name=\"VB1992\">{{cite journal|last1=Osmond|first1=Patricia J.|last2=Ulery|first2=Robert W.|date=2003|title=Sallustius|url=http://catalogustranslationum.org/PDFs/volume08/v08_sallustius.pdf#page=17|journal=[[Catalogus Translationum et Commentariorum]]|volume=8|page=199|access-date=27 August 2015}}</ref>```\n",
    "\n",
    "Therefore, we parse the page content looking only for the citation templates including a URL."
   ]
  },
  {
   "cell_type": "markdown",
   "metadata": {},
   "source": [
    "### 2.1 Parameter name mapping\n",
    "\n",
    "From each reference, we are interested in extracting the following metadata: \n",
    "1. The source type (journal, book, website, etc.)\n",
    "1. The URL of the source\n",
    "2. The author(s)\n",
    "3. The title\n",
    "4. The publishing date\n",
    "5. The publishing source (publisher, location, etc.)\n",
    "\n",
    "The names of each data may vary between templates. For instance, the publishing source is under \"periodical\" for the news template and under \"publisher\" for the books template. Or the publishing date might be called \"date\" or \"year\" in the maps template. The [following spreadsheet](https://docs.google.com/spreadsheets/d/1xbc3FKE0m4JQHa6WCXtBbzeJ9in8P0EQ2NF_VNsaBaM/edit#gid=0) maps the name of each parameter in the citations templates to our fieldnames:"
   ]
  },
  {
   "cell_type": "code",
   "execution_count": null,
   "metadata": {},
   "outputs": [
    {
     "data": {
      "text/html": [
       "<div>\n",
       "<style scoped>\n",
       "    .dataframe tbody tr th:only-of-type {\n",
       "        vertical-align: middle;\n",
       "    }\n",
       "\n",
       "    .dataframe tbody tr th {\n",
       "        vertical-align: top;\n",
       "    }\n",
       "\n",
       "    .dataframe thead th {\n",
       "        text-align: right;\n",
       "    }\n",
       "</style>\n",
       "<table border=\"1\" class=\"dataframe\">\n",
       "  <thead>\n",
       "    <tr style=\"text-align: right;\">\n",
       "      <th></th>\n",
       "      <th>wiki_lang</th>\n",
       "      <th>template</th>\n",
       "      <th>title</th>\n",
       "      <th>author_last</th>\n",
       "      <th>author_first</th>\n",
       "      <th>pub_date</th>\n",
       "      <th>pub_source</th>\n",
       "    </tr>\n",
       "  </thead>\n",
       "  <tbody>\n",
       "    <tr>\n",
       "      <th>0</th>\n",
       "      <td>en</td>\n",
       "      <td>Cite web</td>\n",
       "      <td>title</td>\n",
       "      <td>last\\d*, author\\d*</td>\n",
       "      <td>first\\d*</td>\n",
       "      <td>date</td>\n",
       "      <td>website, publisher</td>\n",
       "    </tr>\n",
       "    <tr>\n",
       "      <th>1</th>\n",
       "      <td>es</td>\n",
       "      <td>Cita web</td>\n",
       "      <td>título</td>\n",
       "      <td>apellidos?\\d*, autor\\d*</td>\n",
       "      <td>nombre\\d*</td>\n",
       "      <td>fecha</td>\n",
       "      <td>sitioweb, obra, publicación, editorial</td>\n",
       "    </tr>\n",
       "    <tr>\n",
       "      <th>2</th>\n",
       "      <td>pt</td>\n",
       "      <td>Citar web</td>\n",
       "      <td>titulo</td>\n",
       "      <td>ultimo\\d*, autor\\d*</td>\n",
       "      <td>primeiro\\d*</td>\n",
       "      <td>data</td>\n",
       "      <td>obra, publicado</td>\n",
       "    </tr>\n",
       "    <tr>\n",
       "      <th>3</th>\n",
       "      <td>fr</td>\n",
       "      <td>Lien web</td>\n",
       "      <td>titre</td>\n",
       "      <td>nom\\d*, auteur\\d*</td>\n",
       "      <td>prénom\\d*</td>\n",
       "      <td>date</td>\n",
       "      <td>site</td>\n",
       "    </tr>\n",
       "    <tr>\n",
       "      <th>4</th>\n",
       "      <td>en</td>\n",
       "      <td>Cite book</td>\n",
       "      <td>title</td>\n",
       "      <td>last\\d*, author\\d*</td>\n",
       "      <td>first\\d*</td>\n",
       "      <td>date</td>\n",
       "      <td>publication-place, location, publisher</td>\n",
       "    </tr>\n",
       "    <tr>\n",
       "      <th>...</th>\n",
       "      <td>...</td>\n",
       "      <td>...</td>\n",
       "      <td>...</td>\n",
       "      <td>...</td>\n",
       "      <td>...</td>\n",
       "      <td>...</td>\n",
       "      <td>...</td>\n",
       "    </tr>\n",
       "    <tr>\n",
       "      <th>78</th>\n",
       "      <td>fr</td>\n",
       "      <td>Lien arXiv</td>\n",
       "      <td>titre</td>\n",
       "      <td>nom\\d*</td>\n",
       "      <td>prénom\\d*</td>\n",
       "      <td>date</td>\n",
       "      <td>eprint</td>\n",
       "    </tr>\n",
       "    <tr>\n",
       "      <th>79</th>\n",
       "      <td>pt</td>\n",
       "      <td>Citar arXiv</td>\n",
       "      <td>titulo</td>\n",
       "      <td>ultimo\\d*, autor\\d*</td>\n",
       "      <td>primeiro\\d*</td>\n",
       "      <td>data</td>\n",
       "      <td>eprint</td>\n",
       "    </tr>\n",
       "    <tr>\n",
       "      <th>80</th>\n",
       "      <td>en</td>\n",
       "      <td>Citation</td>\n",
       "      <td>title</td>\n",
       "      <td>last\\d*</td>\n",
       "      <td>first\\d*</td>\n",
       "      <td>date</td>\n",
       "      <td>place, publisher</td>\n",
       "    </tr>\n",
       "    <tr>\n",
       "      <th>81</th>\n",
       "      <td>es</td>\n",
       "      <td>Obra citada</td>\n",
       "      <td>título</td>\n",
       "      <td>apellidos?\\d*</td>\n",
       "      <td>nombre\\d*</td>\n",
       "      <td>fecha</td>\n",
       "      <td>editorial</td>\n",
       "    </tr>\n",
       "    <tr>\n",
       "      <th>82</th>\n",
       "      <td>pt</td>\n",
       "      <td>Citation</td>\n",
       "      <td>title</td>\n",
       "      <td>last\\d*</td>\n",
       "      <td>first\\d*</td>\n",
       "      <td>date</td>\n",
       "      <td>publisher</td>\n",
       "    </tr>\n",
       "  </tbody>\n",
       "</table>\n",
       "<p>83 rows × 7 columns</p>\n",
       "</div>"
      ],
      "text/plain": [
       "   wiki_lang     template   title              author_last author_first  \\\n",
       "0         en     Cite web   title       last\\d*, author\\d*     first\\d*   \n",
       "1         es     Cita web  título  apellidos?\\d*, autor\\d*    nombre\\d*   \n",
       "2         pt    Citar web  titulo      ultimo\\d*, autor\\d*  primeiro\\d*   \n",
       "3         fr     Lien web   titre        nom\\d*, auteur\\d*    prénom\\d*   \n",
       "4         en    Cite book   title       last\\d*, author\\d*     first\\d*   \n",
       "..       ...          ...     ...                      ...          ...   \n",
       "78        fr   Lien arXiv   titre                   nom\\d*    prénom\\d*   \n",
       "79        pt  Citar arXiv  titulo      ultimo\\d*, autor\\d*  primeiro\\d*   \n",
       "80        en     Citation   title                  last\\d*     first\\d*   \n",
       "81        es  Obra citada  título            apellidos?\\d*    nombre\\d*   \n",
       "82        pt     Citation   title                  last\\d*     first\\d*   \n",
       "\n",
       "   pub_date                              pub_source  \n",
       "0      date                      website, publisher  \n",
       "1     fecha  sitioweb, obra, publicación, editorial  \n",
       "2      data                         obra, publicado  \n",
       "3      date                                    site  \n",
       "4      date  publication-place, location, publisher  \n",
       "..      ...                                     ...  \n",
       "78     date                                  eprint  \n",
       "79     data                                  eprint  \n",
       "80     date                        place, publisher  \n",
       "81    fecha                               editorial  \n",
       "82     date                               publisher  \n",
       "\n",
       "[83 rows x 7 columns]"
      ]
     },
     "execution_count": 59,
     "metadata": {},
     "output_type": "execute_result"
    }
   ],
   "source": [
    "mapping_sheet = f'https://docs.google.com/spreadsheets/d/1xbc3FKE0m4JQHa6WCXtBbzeJ9in8P0EQ2NF_VNsaBaM/export?gid=0&format=csv'\n",
    "\n",
    "fieldnames_df = pd.read_csv(mapping_sheet)\n",
    "## rename columns\n",
    "fieldnames_df.rename(columns={\n",
    "    \"Template\": \"template\",\n",
    "    \"authorLast\": \"author_last\",\n",
    "    \"authorFirst\": \"author_first\",\n",
    "    \"pubDate\": \"pub_date\",\n",
    "    \"source (published In + published By)\": \"pub_source\"\n",
    "}, inplace=True)\n",
    "\n",
    "fieldnames_df"
   ]
  },
  {
   "cell_type": "markdown",
   "metadata": {},
   "source": [
    "The spreadsheet accepts several parameter names for the same field (`sitioweb, obra, publicación, editorial`) and it also accepts regular expressions (`apellidos?\\d*`)."
   ]
  },
  {
   "cell_type": "code",
   "execution_count": null,
   "metadata": {},
   "outputs": [
    {
     "name": "stdout",
     "output_type": "stream",
     "text": [
      "We have 26 templates in en\n",
      "We have 18 templates in es\n",
      "We have 24 templates in pt\n",
      "We have 12 templates in fr\n"
     ]
    }
   ],
   "source": [
    "for lang in fieldnames_df['wiki_lang'].unique():\n",
    "    print(f\"We have {len(fieldnames_df[fieldnames_df['wiki_lang'] == lang])} templates in {lang}\")"
   ]
  },
  {
   "cell_type": "markdown",
   "metadata": {},
   "source": [
    "### 2.2 Inspecting all featured articles\n",
    "\n",
    "Taking this spreadsheet into account, we define some methods to extract the citation metadata from the articles:"
   ]
  },
  {
   "cell_type": "code",
   "execution_count": null,
   "metadata": {},
   "outputs": [],
   "source": [
    "def read_article(filename):\n",
    "    with gzip.open(filename) as fi:\n",
    "        cont = json.loads(fi.read())\n",
    "    return cont\n",
    "    \n",
    "def get_article_data(filename, cont):\n",
    "    lang = os.path.basename(filename).split('-')[1].replace('.json.gz', '')\n",
    "    pageid = cont['parse']['pageid'] \n",
    "    revid = cont['parse']['revid']\n",
    "    article_title = cont['parse']['title']\n",
    "    article_url = f'https://{lang}.wikipedia.org/wiki/{urllib.parse.quote(article_title)}'\n",
    "    \n",
    "    article_data = {\n",
    "        \"article_title\": article_title,\n",
    "        \"article_url\": article_url,\n",
    "        \"page_id\": pageid,\n",
    "        \"revid\": revid,\n",
    "        \"wiki_lang\": lang,\n",
    "    }\n",
    "    return article_data\n",
    "\n",
    "def normalize(s):\n",
    "    return unidecode(s.lower())\n",
    "\n",
    "def get_citation_data(fieldname, template, article_data):\n",
    "    '''\n",
    "    Receives the wikicode of a citation template and a dataframe mapping w2c fieldnames to citation template fieldnames.\n",
    "    Matches w2c fieldnames with citation template parameter names and extracts the values for those parameters\n",
    "    Returns a dictionnary with the extracted data.\n",
    "    '''\n",
    "    ## Build result dict\n",
    "    citation_data = article_data.copy()\n",
    "    citation_data.update({\n",
    "        \"url\": None,\n",
    "        \"source_type\": template.name.strip(),\n",
    "        \"title\": [],\n",
    "        \"author_last\": [],\n",
    "        \"author_first\": [],\n",
    "        \"pub_date\": [],\n",
    "        \"pub_source\": [],\n",
    "    })\n",
    "\n",
    "    ## Find parameters in wikicode\n",
    "    wikicode_params = [param.name.strip() for param in template.params]\n",
    "\n",
    "    ## Match wikicode parameters with the fieldnames of our spreadsheet\n",
    "    for key in [\"title\", \"author_first\", \"author_last\", \"pub_date\", \"pub_source\"]:\n",
    "        params_found_in_wikicode = []\n",
    "        \n",
    "        if pd.isna(fieldname[key]):\n",
    "            continue\n",
    "        for param_re in fieldname[key].split(\", \"):\n",
    "            for wikicode_param in wikicode_params:\n",
    "                if re.fullmatch(normalize(param_re), normalize(wikicode_param)):\n",
    "                    params_found_in_wikicode.append(wikicode_param)\n",
    "\n",
    "        for param_found in params_found_in_wikicode:\n",
    "             citation_data[key].append(template.get(param_found).value.strip())\n",
    "                \n",
    "    url_fieldname = \"url\" if \"url\" in wikicode_params else \"URL\"\n",
    "    citation_data[\"url\"] = template.get(url_fieldname).value.strip()\n",
    "\n",
    "    return citation_data\n",
    "\n",
    "## NH mover remove_na_elements acá"
   ]
  },
  {
   "cell_type": "markdown",
   "metadata": {},
   "source": [
    "And now we apply these methods to the ~10.5k featured articles that we obtained in the previous step. In the next cell, we inspect the json having the content of each article, we parse the wikicode using [mwparserfromhell](https://github.com/earwig/mwparserfromhell) and for each template:\n",
    "\n",
    "1. we verify if it appears in our spreadsheet\n",
    "2. we verify if it contains a URL\n",
    "3. we extract the values for URL, title, author_last, author_first, pub_date, pub_source\n",
    "4. we store the information in a dataframe containing all the citations of the article which respond to 1 and 2"
   ]
  },
  {
   "cell_type": "code",
   "execution_count": null,
   "metadata": {},
   "outputs": [],
   "source": [
    "## Extract citation data for each citation in all featured articles\n",
    "os.makedirs('data/citations-metadata', exist_ok = True)\n",
    "\n",
    "for filename in tqdm(glob('data/articles-content/*json.gz'), desc=f\"Finding citations and extracting metadata\"):\n",
    "    new_filename = f\"data/citations-metadata/{os.path.basename(filename).replace('json.gz', 'csv.gz')}\"\n",
    "    \n",
    "    if os.path.isfile(new_filename):\n",
    "        continue\n",
    "\n",
    "    article_cont = read_article(filename)\n",
    "    wikitext = article_cont['parse']['wikitext']['*']\n",
    "    parsed_wiki = mwparserfromhell.parse(wikitext)\n",
    "    article_data = get_article_data(filename, article_cont)\n",
    "    lang = article_data['wiki_lang']\n",
    "\n",
    "    article_citations = []\n",
    "    for template in parsed_wiki.filter_templates():        \n",
    "        for index, fieldname in fieldnames_df[fieldnames_df['wiki_lang'] == lang].iterrows():\n",
    "            \n",
    "            ## Inspect templates listed in our spreadsheet and extract data for each citation    \n",
    "            if template.name.matches(fieldname['template']):\n",
    "                if template.has_param('url', ignore_empty=True) or template.has_param('URL', ignore_empty=True):\n",
    "\n",
    "                    citation_data = get_citation_data(fieldname, template, article_data)\n",
    "                    article_citations.append(citation_data)\n",
    "                    \n",
    "    article_citations_df = pd.DataFrame(article_citations)\n",
    "    if not article_citations_df.empty:\n",
    "        article_citations_df.to_csv(new_filename, index=False)\n"
   ]
  },
  {
   "cell_type": "markdown",
   "metadata": {},
   "source": [
    "### 2.3 Citation template extraction summary\n",
    "\n",
    "Let's take a look at the results. First, we build a dataframe of the citations:"
   ]
  },
  {
   "cell_type": "code",
   "execution_count": null,
   "metadata": {
    "tags": []
   },
   "outputs": [
    {
     "name": "stderr",
     "output_type": "stream",
     "text": [
      "100%|██████████| 9978/9978 [01:00<00:00, 164.34it/s]\n"
     ]
    },
    {
     "data": {
      "text/html": [
       "<div>\n",
       "<style scoped>\n",
       "    .dataframe tbody tr th:only-of-type {\n",
       "        vertical-align: middle;\n",
       "    }\n",
       "\n",
       "    .dataframe tbody tr th {\n",
       "        vertical-align: top;\n",
       "    }\n",
       "\n",
       "    .dataframe thead th {\n",
       "        text-align: right;\n",
       "    }\n",
       "</style>\n",
       "<table border=\"1\" class=\"dataframe\">\n",
       "  <thead>\n",
       "    <tr style=\"text-align: right;\">\n",
       "      <th></th>\n",
       "      <th>article_title</th>\n",
       "      <th>article_url</th>\n",
       "      <th>page_id</th>\n",
       "      <th>revid</th>\n",
       "      <th>wiki_lang</th>\n",
       "      <th>url</th>\n",
       "      <th>source_type</th>\n",
       "      <th>title</th>\n",
       "      <th>author_last</th>\n",
       "      <th>author_first</th>\n",
       "      <th>pub_date</th>\n",
       "      <th>pub_source</th>\n",
       "    </tr>\n",
       "  </thead>\n",
       "  <tbody>\n",
       "    <tr>\n",
       "      <th>0</th>\n",
       "      <td>Argentina</td>\n",
       "      <td>https://es.wikipedia.org/wiki/Argentina</td>\n",
       "      <td>10</td>\n",
       "      <td>141259425</td>\n",
       "      <td>es</td>\n",
       "      <td>http://www.me.gov.ar/efeme/escudonacional/asam...</td>\n",
       "      <td>Cita web</td>\n",
       "      <td>['ASAMBLEA GENERAL CONSTITUYENTE - Sesión del ...</td>\n",
       "      <td>[]</td>\n",
       "      <td>[]</td>\n",
       "      <td>[]</td>\n",
       "      <td>['Ministerio de Economía de la Nación']</td>\n",
       "    </tr>\n",
       "    <tr>\n",
       "      <th>1</th>\n",
       "      <td>Argentina</td>\n",
       "      <td>https://es.wikipedia.org/wiki/Argentina</td>\n",
       "      <td>10</td>\n",
       "      <td>141259425</td>\n",
       "      <td>es</td>\n",
       "      <td>http://www.centrosanfrancisco.org.ar/noticias/...</td>\n",
       "      <td>Cita web</td>\n",
       "      <td>['EN UNIÓN Y LIBERTAD']</td>\n",
       "      <td>['Pezzano, Luciano']</td>\n",
       "      <td>[]</td>\n",
       "      <td>['2005']</td>\n",
       "      <td>['Jornario de las XXIV Jornadas Nacionales de ...</td>\n",
       "    </tr>\n",
       "    <tr>\n",
       "      <th>2</th>\n",
       "      <td>Argentina</td>\n",
       "      <td>https://es.wikipedia.org/wiki/Argentina</td>\n",
       "      <td>10</td>\n",
       "      <td>141259425</td>\n",
       "      <td>es</td>\n",
       "      <td>http://www.caei.com.ar/sites/default/files/cul...</td>\n",
       "      <td>Cita web</td>\n",
       "      <td>['La Cultura como Factor de Poder de un Estado']</td>\n",
       "      <td>['Fernández, Sebastián Martín']</td>\n",
       "      <td>[]</td>\n",
       "      <td>['6 de junio de 2016']</td>\n",
       "      <td>['Centro Argentino de Estudios Internacionales...</td>\n",
       "    </tr>\n",
       "    <tr>\n",
       "      <th>3</th>\n",
       "      <td>Argentina</td>\n",
       "      <td>https://es.wikipedia.org/wiki/Argentina</td>\n",
       "      <td>10</td>\n",
       "      <td>141259425</td>\n",
       "      <td>es</td>\n",
       "      <td>https://www.argentina.gob.ar/pais</td>\n",
       "      <td>Cita web</td>\n",
       "      <td>['El País']</td>\n",
       "      <td>[]</td>\n",
       "      <td>[]</td>\n",
       "      <td>[]</td>\n",
       "      <td>[]</td>\n",
       "    </tr>\n",
       "    <tr>\n",
       "      <th>4</th>\n",
       "      <td>Argentina</td>\n",
       "      <td>https://es.wikipedia.org/wiki/Argentina</td>\n",
       "      <td>10</td>\n",
       "      <td>141259425</td>\n",
       "      <td>es</td>\n",
       "      <td>http://www.oratlas.com/libro-mundial/argentina...</td>\n",
       "      <td>Cita web</td>\n",
       "      <td>['Argentina - Geografía - Libro Mundial de Hec...</td>\n",
       "      <td>['CIA']</td>\n",
       "      <td>[]</td>\n",
       "      <td>[]</td>\n",
       "      <td>[]</td>\n",
       "    </tr>\n",
       "    <tr>\n",
       "      <th>...</th>\n",
       "      <td>...</td>\n",
       "      <td>...</td>\n",
       "      <td>...</td>\n",
       "      <td>...</td>\n",
       "      <td>...</td>\n",
       "      <td>...</td>\n",
       "      <td>...</td>\n",
       "      <td>...</td>\n",
       "      <td>...</td>\n",
       "      <td>...</td>\n",
       "      <td>...</td>\n",
       "      <td>...</td>\n",
       "    </tr>\n",
       "    <tr>\n",
       "      <th>464738</th>\n",
       "      <td>Match AlphaGo - Lee Sedol</td>\n",
       "      <td>https://fr.wikipedia.org/wiki/Match%20AlphaGo%...</td>\n",
       "      <td>9998888</td>\n",
       "      <td>189803489</td>\n",
       "      <td>fr</td>\n",
       "      <td>http://www.zdnet.fr/actualites/une-equipe-chin...</td>\n",
       "      <td>Lien web</td>\n",
       "      <td>[\"Une équipe chinoise spécialisée dans l'Intel...</td>\n",
       "      <td>['Guillaume Serries']</td>\n",
       "      <td>[]</td>\n",
       "      <td>['4 avril 2016']</td>\n",
       "      <td>['[[ZDNet|zdnet.fr]]']</td>\n",
       "    </tr>\n",
       "    <tr>\n",
       "      <th>464739</th>\n",
       "      <td>Match AlphaGo - Lee Sedol</td>\n",
       "      <td>https://fr.wikipedia.org/wiki/Match%20AlphaGo%...</td>\n",
       "      <td>9998888</td>\n",
       "      <td>189803489</td>\n",
       "      <td>fr</td>\n",
       "      <td>http://www.nature.com/news/south-korea-trumpet...</td>\n",
       "      <td>Lien web</td>\n",
       "      <td>[\"South Korea trumpets $860-million AI fund af...</td>\n",
       "      <td>['Zastrow']</td>\n",
       "      <td>['Mark']</td>\n",
       "      <td>['18 mars 2016']</td>\n",
       "      <td>['Nature News']</td>\n",
       "    </tr>\n",
       "    <tr>\n",
       "      <th>464740</th>\n",
       "      <td>Match AlphaGo - Lee Sedol</td>\n",
       "      <td>https://fr.wikipedia.org/wiki/Match%20AlphaGo%...</td>\n",
       "      <td>9998888</td>\n",
       "      <td>189803489</td>\n",
       "      <td>fr</td>\n",
       "      <td>http://mobile.lemonde.fr/idees/article/2016/03...</td>\n",
       "      <td>Lien web</td>\n",
       "      <td>['Défaite humaine au jeu de go : « Les ordinat...</td>\n",
       "      <td>[]</td>\n",
       "      <td>[]</td>\n",
       "      <td>['10 mars 2016']</td>\n",
       "      <td>['[[Le Monde#Le Monde.fr|lemonde.fr]]']</td>\n",
       "    </tr>\n",
       "    <tr>\n",
       "      <th>464741</th>\n",
       "      <td>Match AlphaGo - Lee Sedol</td>\n",
       "      <td>https://fr.wikipedia.org/wiki/Match%20AlphaGo%...</td>\n",
       "      <td>9998888</td>\n",
       "      <td>189803489</td>\n",
       "      <td>fr</td>\n",
       "      <td>http://www.slate.fr/story/115655/lee-sedol-per...</td>\n",
       "      <td>Lien web</td>\n",
       "      <td>[\"Cher Lee Sedol, moi aussi j'ai été humilié p...</td>\n",
       "      <td>['[[Ken Jennings]]']</td>\n",
       "      <td>[]</td>\n",
       "      <td>['23 mars 2016']</td>\n",
       "      <td>['[[Slate (magazine)|Slate.fr]]']</td>\n",
       "    </tr>\n",
       "    <tr>\n",
       "      <th>464742</th>\n",
       "      <td>Match AlphaGo - Lee Sedol</td>\n",
       "      <td>https://fr.wikipedia.org/wiki/Match%20AlphaGo%...</td>\n",
       "      <td>9998888</td>\n",
       "      <td>189803489</td>\n",
       "      <td>fr</td>\n",
       "      <td>http://www.slate.com/articles/technology/techn...</td>\n",
       "      <td>Lien web</td>\n",
       "      <td>['The Go Champion, the Grandmaster, and Me']</td>\n",
       "      <td>['[[Ken Jennings]]']</td>\n",
       "      <td>[]</td>\n",
       "      <td>['15 mars 2016']</td>\n",
       "      <td>['[[Slate (magazine)|Slate.com]]']</td>\n",
       "    </tr>\n",
       "  </tbody>\n",
       "</table>\n",
       "<p>464743 rows × 12 columns</p>\n",
       "</div>"
      ],
      "text/plain": [
       "                    article_title  \\\n",
       "0                       Argentina   \n",
       "1                       Argentina   \n",
       "2                       Argentina   \n",
       "3                       Argentina   \n",
       "4                       Argentina   \n",
       "...                           ...   \n",
       "464738  Match AlphaGo - Lee Sedol   \n",
       "464739  Match AlphaGo - Lee Sedol   \n",
       "464740  Match AlphaGo - Lee Sedol   \n",
       "464741  Match AlphaGo - Lee Sedol   \n",
       "464742  Match AlphaGo - Lee Sedol   \n",
       "\n",
       "                                              article_url  page_id      revid  \\\n",
       "0                 https://es.wikipedia.org/wiki/Argentina       10  141259425   \n",
       "1                 https://es.wikipedia.org/wiki/Argentina       10  141259425   \n",
       "2                 https://es.wikipedia.org/wiki/Argentina       10  141259425   \n",
       "3                 https://es.wikipedia.org/wiki/Argentina       10  141259425   \n",
       "4                 https://es.wikipedia.org/wiki/Argentina       10  141259425   \n",
       "...                                                   ...      ...        ...   \n",
       "464738  https://fr.wikipedia.org/wiki/Match%20AlphaGo%...  9998888  189803489   \n",
       "464739  https://fr.wikipedia.org/wiki/Match%20AlphaGo%...  9998888  189803489   \n",
       "464740  https://fr.wikipedia.org/wiki/Match%20AlphaGo%...  9998888  189803489   \n",
       "464741  https://fr.wikipedia.org/wiki/Match%20AlphaGo%...  9998888  189803489   \n",
       "464742  https://fr.wikipedia.org/wiki/Match%20AlphaGo%...  9998888  189803489   \n",
       "\n",
       "       wiki_lang                                                url  \\\n",
       "0             es  http://www.me.gov.ar/efeme/escudonacional/asam...   \n",
       "1             es  http://www.centrosanfrancisco.org.ar/noticias/...   \n",
       "2             es  http://www.caei.com.ar/sites/default/files/cul...   \n",
       "3             es                  https://www.argentina.gob.ar/pais   \n",
       "4             es  http://www.oratlas.com/libro-mundial/argentina...   \n",
       "...          ...                                                ...   \n",
       "464738        fr  http://www.zdnet.fr/actualites/une-equipe-chin...   \n",
       "464739        fr  http://www.nature.com/news/south-korea-trumpet...   \n",
       "464740        fr  http://mobile.lemonde.fr/idees/article/2016/03...   \n",
       "464741        fr  http://www.slate.fr/story/115655/lee-sedol-per...   \n",
       "464742        fr  http://www.slate.com/articles/technology/techn...   \n",
       "\n",
       "       source_type                                              title  \\\n",
       "0         Cita web  ['ASAMBLEA GENERAL CONSTITUYENTE - Sesión del ...   \n",
       "1         Cita web                            ['EN UNIÓN Y LIBERTAD']   \n",
       "2         Cita web   ['La Cultura como Factor de Poder de un Estado']   \n",
       "3         Cita web                                        ['El País']   \n",
       "4         Cita web  ['Argentina - Geografía - Libro Mundial de Hec...   \n",
       "...            ...                                                ...   \n",
       "464738    Lien web  [\"Une équipe chinoise spécialisée dans l'Intel...   \n",
       "464739    Lien web  [\"South Korea trumpets $860-million AI fund af...   \n",
       "464740    Lien web  ['Défaite humaine au jeu de go : « Les ordinat...   \n",
       "464741    Lien web  [\"Cher Lee Sedol, moi aussi j'ai été humilié p...   \n",
       "464742    Lien web       ['The Go Champion, the Grandmaster, and Me']   \n",
       "\n",
       "                            author_last author_first                pub_date  \\\n",
       "0                                    []           []                      []   \n",
       "1                  ['Pezzano, Luciano']           []                ['2005']   \n",
       "2       ['Fernández, Sebastián Martín']           []  ['6 de junio de 2016']   \n",
       "3                                    []           []                      []   \n",
       "4                               ['CIA']           []                      []   \n",
       "...                                 ...          ...                     ...   \n",
       "464738            ['Guillaume Serries']           []        ['4 avril 2016']   \n",
       "464739                      ['Zastrow']     ['Mark']        ['18 mars 2016']   \n",
       "464740                               []           []        ['10 mars 2016']   \n",
       "464741             ['[[Ken Jennings]]']           []        ['23 mars 2016']   \n",
       "464742             ['[[Ken Jennings]]']           []        ['15 mars 2016']   \n",
       "\n",
       "                                               pub_source  \n",
       "0                 ['Ministerio de Economía de la Nación']  \n",
       "1       ['Jornario de las XXIV Jornadas Nacionales de ...  \n",
       "2       ['Centro Argentino de Estudios Internacionales...  \n",
       "3                                                      []  \n",
       "4                                                      []  \n",
       "...                                                   ...  \n",
       "464738                             ['[[ZDNet|zdnet.fr]]']  \n",
       "464739                                    ['Nature News']  \n",
       "464740            ['[[Le Monde#Le Monde.fr|lemonde.fr]]']  \n",
       "464741                  ['[[Slate (magazine)|Slate.fr]]']  \n",
       "464742                 ['[[Slate (magazine)|Slate.com]]']  \n",
       "\n",
       "[464743 rows x 12 columns]"
      ]
     },
     "execution_count": 3,
     "metadata": {},
     "output_type": "execute_result"
    }
   ],
   "source": [
    "dfs = []\n",
    "\n",
    "for filename in tqdm(sorted(os.listdir('data/citations-metadata'))): \n",
    "\n",
    "    with gzip.open(f'data/citations-metadata/{filename}') as fi:\n",
    "        article_citations = pd.read_csv(fi)\n",
    "\n",
    "    dfs.append(article_citations)\n",
    "    \n",
    "all_citations = pd.concat(dfs, ignore_index= True)\n",
    "all_citations"
   ]
  },
  {
   "cell_type": "markdown",
   "metadata": {},
   "source": [
    "We found ~461k citations in ~9.9k articles. This means that there are 629 articles for which no reference was extracted. There are several possible reasons for this:\n",
    "\n",
    "1. the references in those articles do not use citation templates\n",
    "2. the references use citation templates but they do not include a URL\n",
    "3. the citation templates are not listed in our spreadsheet\n",
    "\n",
    "Let's summaryze the names of the citation templates that were identified, and how many instances of each were extracted. First, we normalize the template names (unify case, delete comments, etc.)."
   ]
  },
  {
   "cell_type": "code",
   "execution_count": null,
   "metadata": {},
   "outputs": [],
   "source": [
    "## Normalize template names\n",
    "all_citations.source_type = all_citations.source_type.str.lower()\n",
    "all_citations.source_type = all_citations.source_type.str.replace(\"<!--[^>]+?-->\", \"\", regex=True)\n",
    "all_citations.source_type = all_citations.source_type.str.strip()\n",
    "all_citations.source_type = all_citations.source_type.map(unidecode)"
   ]
  },
  {
   "cell_type": "code",
   "execution_count": null,
   "metadata": {
    "scrolled": true
   },
   "outputs": [
    {
     "data": {
      "text/html": [
       "<div>\n",
       "<style scoped>\n",
       "    .dataframe tbody tr th:only-of-type {\n",
       "        vertical-align: middle;\n",
       "    }\n",
       "\n",
       "    .dataframe tbody tr th {\n",
       "        vertical-align: top;\n",
       "    }\n",
       "\n",
       "    .dataframe thead th {\n",
       "        text-align: right;\n",
       "    }\n",
       "</style>\n",
       "<table border=\"1\" class=\"dataframe\">\n",
       "  <thead>\n",
       "    <tr style=\"text-align: right;\">\n",
       "      <th></th>\n",
       "      <th>wiki_lang</th>\n",
       "      <th>source_type</th>\n",
       "      <th>freq</th>\n",
       "      <th>freq_rel</th>\n",
       "    </tr>\n",
       "  </thead>\n",
       "  <tbody>\n",
       "    <tr>\n",
       "      <th>0</th>\n",
       "      <td>en</td>\n",
       "      <td>cite web</td>\n",
       "      <td>122649</td>\n",
       "      <td>0.52</td>\n",
       "    </tr>\n",
       "    <tr>\n",
       "      <th>1</th>\n",
       "      <td>en</td>\n",
       "      <td>cite news</td>\n",
       "      <td>52053</td>\n",
       "      <td>0.22</td>\n",
       "    </tr>\n",
       "    <tr>\n",
       "      <th>2</th>\n",
       "      <td>en</td>\n",
       "      <td>cite book</td>\n",
       "      <td>28383</td>\n",
       "      <td>0.12</td>\n",
       "    </tr>\n",
       "    <tr>\n",
       "      <th>3</th>\n",
       "      <td>en</td>\n",
       "      <td>cite journal</td>\n",
       "      <td>15026</td>\n",
       "      <td>0.06</td>\n",
       "    </tr>\n",
       "    <tr>\n",
       "      <th>4</th>\n",
       "      <td>en</td>\n",
       "      <td>citation</td>\n",
       "      <td>6250</td>\n",
       "      <td>0.03</td>\n",
       "    </tr>\n",
       "    <tr>\n",
       "      <th>5</th>\n",
       "      <td>en</td>\n",
       "      <td>cite magazine</td>\n",
       "      <td>6155</td>\n",
       "      <td>0.03</td>\n",
       "    </tr>\n",
       "    <tr>\n",
       "      <th>6</th>\n",
       "      <td>en</td>\n",
       "      <td>cite report</td>\n",
       "      <td>1939</td>\n",
       "      <td>0.01</td>\n",
       "    </tr>\n",
       "    <tr>\n",
       "      <th>7</th>\n",
       "      <td>en</td>\n",
       "      <td>cite encyclopedia</td>\n",
       "      <td>1060</td>\n",
       "      <td>0.00</td>\n",
       "    </tr>\n",
       "    <tr>\n",
       "      <th>8</th>\n",
       "      <td>en</td>\n",
       "      <td>cite press release</td>\n",
       "      <td>974</td>\n",
       "      <td>0.00</td>\n",
       "    </tr>\n",
       "    <tr>\n",
       "      <th>9</th>\n",
       "      <td>en</td>\n",
       "      <td>cite map</td>\n",
       "      <td>471</td>\n",
       "      <td>0.00</td>\n",
       "    </tr>\n",
       "    <tr>\n",
       "      <th>10</th>\n",
       "      <td>en</td>\n",
       "      <td>cite av media</td>\n",
       "      <td>322</td>\n",
       "      <td>0.00</td>\n",
       "    </tr>\n",
       "    <tr>\n",
       "      <th>11</th>\n",
       "      <td>en</td>\n",
       "      <td>cite conference</td>\n",
       "      <td>300</td>\n",
       "      <td>0.00</td>\n",
       "    </tr>\n",
       "    <tr>\n",
       "      <th>12</th>\n",
       "      <td>en</td>\n",
       "      <td>cite thesis</td>\n",
       "      <td>274</td>\n",
       "      <td>0.00</td>\n",
       "    </tr>\n",
       "    <tr>\n",
       "      <th>13</th>\n",
       "      <td>en</td>\n",
       "      <td>cite interview</td>\n",
       "      <td>189</td>\n",
       "      <td>0.00</td>\n",
       "    </tr>\n",
       "    <tr>\n",
       "      <th>14</th>\n",
       "      <td>en</td>\n",
       "      <td>cite episode</td>\n",
       "      <td>95</td>\n",
       "      <td>0.00</td>\n",
       "    </tr>\n",
       "    <tr>\n",
       "      <th>15</th>\n",
       "      <td>en</td>\n",
       "      <td>cite court</td>\n",
       "      <td>57</td>\n",
       "      <td>0.00</td>\n",
       "    </tr>\n",
       "    <tr>\n",
       "      <th>16</th>\n",
       "      <td>en</td>\n",
       "      <td>cite podcast</td>\n",
       "      <td>27</td>\n",
       "      <td>0.00</td>\n",
       "    </tr>\n",
       "    <tr>\n",
       "      <th>17</th>\n",
       "      <td>en</td>\n",
       "      <td>cite techreport</td>\n",
       "      <td>26</td>\n",
       "      <td>0.00</td>\n",
       "    </tr>\n",
       "    <tr>\n",
       "      <th>18</th>\n",
       "      <td>en</td>\n",
       "      <td>cite sign</td>\n",
       "      <td>19</td>\n",
       "      <td>0.00</td>\n",
       "    </tr>\n",
       "    <tr>\n",
       "      <th>19</th>\n",
       "      <td>en</td>\n",
       "      <td>cite speech</td>\n",
       "      <td>16</td>\n",
       "      <td>0.00</td>\n",
       "    </tr>\n",
       "    <tr>\n",
       "      <th>20</th>\n",
       "      <td>en</td>\n",
       "      <td>cite patent</td>\n",
       "      <td>5</td>\n",
       "      <td>0.00</td>\n",
       "    </tr>\n",
       "    <tr>\n",
       "      <th>21</th>\n",
       "      <td>en</td>\n",
       "      <td>cite mailing list</td>\n",
       "      <td>4</td>\n",
       "      <td>0.00</td>\n",
       "    </tr>\n",
       "    <tr>\n",
       "      <th>22</th>\n",
       "      <td>en</td>\n",
       "      <td>cite newsgroup</td>\n",
       "      <td>4</td>\n",
       "      <td>0.00</td>\n",
       "    </tr>\n",
       "    <tr>\n",
       "      <th>23</th>\n",
       "      <td>en</td>\n",
       "      <td>cite video game</td>\n",
       "      <td>4</td>\n",
       "      <td>0.00</td>\n",
       "    </tr>\n",
       "    <tr>\n",
       "      <th>24</th>\n",
       "      <td>en</td>\n",
       "      <td>cite comic</td>\n",
       "      <td>1</td>\n",
       "      <td>0.00</td>\n",
       "    </tr>\n",
       "    <tr>\n",
       "      <th>25</th>\n",
       "      <td>es</td>\n",
       "      <td>cita web</td>\n",
       "      <td>49462</td>\n",
       "      <td>0.77</td>\n",
       "    </tr>\n",
       "    <tr>\n",
       "      <th>26</th>\n",
       "      <td>es</td>\n",
       "      <td>cita publicacion</td>\n",
       "      <td>5820</td>\n",
       "      <td>0.09</td>\n",
       "    </tr>\n",
       "    <tr>\n",
       "      <th>27</th>\n",
       "      <td>es</td>\n",
       "      <td>cita libro</td>\n",
       "      <td>5317</td>\n",
       "      <td>0.08</td>\n",
       "    </tr>\n",
       "    <tr>\n",
       "      <th>28</th>\n",
       "      <td>es</td>\n",
       "      <td>cita noticia</td>\n",
       "      <td>3322</td>\n",
       "      <td>0.05</td>\n",
       "    </tr>\n",
       "    <tr>\n",
       "      <th>29</th>\n",
       "      <td>es</td>\n",
       "      <td>obra citada</td>\n",
       "      <td>379</td>\n",
       "      <td>0.01</td>\n",
       "    </tr>\n",
       "    <tr>\n",
       "      <th>30</th>\n",
       "      <td>es</td>\n",
       "      <td>cita enciclopedia</td>\n",
       "      <td>99</td>\n",
       "      <td>0.00</td>\n",
       "    </tr>\n",
       "    <tr>\n",
       "      <th>31</th>\n",
       "      <td>es</td>\n",
       "      <td>cita video</td>\n",
       "      <td>73</td>\n",
       "      <td>0.00</td>\n",
       "    </tr>\n",
       "    <tr>\n",
       "      <th>32</th>\n",
       "      <td>es</td>\n",
       "      <td>cita episodio</td>\n",
       "      <td>33</td>\n",
       "      <td>0.00</td>\n",
       "    </tr>\n",
       "    <tr>\n",
       "      <th>33</th>\n",
       "      <td>es</td>\n",
       "      <td>cita conferencia</td>\n",
       "      <td>21</td>\n",
       "      <td>0.00</td>\n",
       "    </tr>\n",
       "    <tr>\n",
       "      <th>34</th>\n",
       "      <td>es</td>\n",
       "      <td>cita tesis</td>\n",
       "      <td>12</td>\n",
       "      <td>0.00</td>\n",
       "    </tr>\n",
       "    <tr>\n",
       "      <th>35</th>\n",
       "      <td>es</td>\n",
       "      <td>cita entrevista</td>\n",
       "      <td>8</td>\n",
       "      <td>0.00</td>\n",
       "    </tr>\n",
       "    <tr>\n",
       "      <th>36</th>\n",
       "      <td>es</td>\n",
       "      <td>cita mapa</td>\n",
       "      <td>6</td>\n",
       "      <td>0.00</td>\n",
       "    </tr>\n",
       "    <tr>\n",
       "      <th>37</th>\n",
       "      <td>fr</td>\n",
       "      <td>lien web</td>\n",
       "      <td>67913</td>\n",
       "      <td>0.94</td>\n",
       "    </tr>\n",
       "    <tr>\n",
       "      <th>38</th>\n",
       "      <td>fr</td>\n",
       "      <td>article</td>\n",
       "      <td>3065</td>\n",
       "      <td>0.04</td>\n",
       "    </tr>\n",
       "    <tr>\n",
       "      <th>39</th>\n",
       "      <td>fr</td>\n",
       "      <td>ouvrage</td>\n",
       "      <td>979</td>\n",
       "      <td>0.01</td>\n",
       "    </tr>\n",
       "    <tr>\n",
       "      <th>40</th>\n",
       "      <td>fr</td>\n",
       "      <td>lien video</td>\n",
       "      <td>49</td>\n",
       "      <td>0.00</td>\n",
       "    </tr>\n",
       "    <tr>\n",
       "      <th>41</th>\n",
       "      <td>fr</td>\n",
       "      <td>lien conference</td>\n",
       "      <td>18</td>\n",
       "      <td>0.00</td>\n",
       "    </tr>\n",
       "    <tr>\n",
       "      <th>42</th>\n",
       "      <td>fr</td>\n",
       "      <td>lien_web</td>\n",
       "      <td>12</td>\n",
       "      <td>0.00</td>\n",
       "    </tr>\n",
       "    <tr>\n",
       "      <th>43</th>\n",
       "      <td>fr</td>\n",
       "      <td>interview</td>\n",
       "      <td>12</td>\n",
       "      <td>0.00</td>\n",
       "    </tr>\n",
       "    <tr>\n",
       "      <th>44</th>\n",
       "      <td>fr</td>\n",
       "      <td>article encyclopedique</td>\n",
       "      <td>1</td>\n",
       "      <td>0.00</td>\n",
       "    </tr>\n",
       "    <tr>\n",
       "      <th>45</th>\n",
       "      <td>pt</td>\n",
       "      <td>citar web</td>\n",
       "      <td>77281</td>\n",
       "      <td>0.84</td>\n",
       "    </tr>\n",
       "    <tr>\n",
       "      <th>46</th>\n",
       "      <td>pt</td>\n",
       "      <td>citar periodico</td>\n",
       "      <td>5655</td>\n",
       "      <td>0.06</td>\n",
       "    </tr>\n",
       "    <tr>\n",
       "      <th>47</th>\n",
       "      <td>pt</td>\n",
       "      <td>citar livro</td>\n",
       "      <td>4249</td>\n",
       "      <td>0.05</td>\n",
       "    </tr>\n",
       "    <tr>\n",
       "      <th>48</th>\n",
       "      <td>pt</td>\n",
       "      <td>citar jornal</td>\n",
       "      <td>3389</td>\n",
       "      <td>0.04</td>\n",
       "    </tr>\n",
       "    <tr>\n",
       "      <th>49</th>\n",
       "      <td>pt</td>\n",
       "      <td>citation</td>\n",
       "      <td>764</td>\n",
       "      <td>0.01</td>\n",
       "    </tr>\n",
       "    <tr>\n",
       "      <th>50</th>\n",
       "      <td>pt</td>\n",
       "      <td>citar enciclopedia</td>\n",
       "      <td>112</td>\n",
       "      <td>0.00</td>\n",
       "    </tr>\n",
       "    <tr>\n",
       "      <th>51</th>\n",
       "      <td>pt</td>\n",
       "      <td>citar video</td>\n",
       "      <td>93</td>\n",
       "      <td>0.00</td>\n",
       "    </tr>\n",
       "    <tr>\n",
       "      <th>52</th>\n",
       "      <td>pt</td>\n",
       "      <td>citar tese</td>\n",
       "      <td>86</td>\n",
       "      <td>0.00</td>\n",
       "    </tr>\n",
       "    <tr>\n",
       "      <th>53</th>\n",
       "      <td>pt</td>\n",
       "      <td>citar comunicado de imprensa</td>\n",
       "      <td>85</td>\n",
       "      <td>0.00</td>\n",
       "    </tr>\n",
       "    <tr>\n",
       "      <th>54</th>\n",
       "      <td>pt</td>\n",
       "      <td>citar relatorio</td>\n",
       "      <td>48</td>\n",
       "      <td>0.00</td>\n",
       "    </tr>\n",
       "    <tr>\n",
       "      <th>55</th>\n",
       "      <td>pt</td>\n",
       "      <td>citar conferencia</td>\n",
       "      <td>31</td>\n",
       "      <td>0.00</td>\n",
       "    </tr>\n",
       "    <tr>\n",
       "      <th>56</th>\n",
       "      <td>pt</td>\n",
       "      <td>citar episodio</td>\n",
       "      <td>22</td>\n",
       "      <td>0.00</td>\n",
       "    </tr>\n",
       "    <tr>\n",
       "      <th>57</th>\n",
       "      <td>pt</td>\n",
       "      <td>citar entrevista</td>\n",
       "      <td>22</td>\n",
       "      <td>0.00</td>\n",
       "    </tr>\n",
       "    <tr>\n",
       "      <th>58</th>\n",
       "      <td>pt</td>\n",
       "      <td>citar lista de discussao</td>\n",
       "      <td>1</td>\n",
       "      <td>0.00</td>\n",
       "    </tr>\n",
       "    <tr>\n",
       "      <th>59</th>\n",
       "      <td>pt</td>\n",
       "      <td>citar podcast</td>\n",
       "      <td>1</td>\n",
       "      <td>0.00</td>\n",
       "    </tr>\n",
       "  </tbody>\n",
       "</table>\n",
       "</div>"
      ],
      "text/plain": [
       "   wiki_lang                   source_type    freq  freq_rel\n",
       "0         en                      cite web  122649      0.52\n",
       "1         en                     cite news   52053      0.22\n",
       "2         en                     cite book   28383      0.12\n",
       "3         en                  cite journal   15026      0.06\n",
       "4         en                      citation    6250      0.03\n",
       "5         en                 cite magazine    6155      0.03\n",
       "6         en                   cite report    1939      0.01\n",
       "7         en             cite encyclopedia    1060      0.00\n",
       "8         en            cite press release     974      0.00\n",
       "9         en                      cite map     471      0.00\n",
       "10        en                 cite av media     322      0.00\n",
       "11        en               cite conference     300      0.00\n",
       "12        en                   cite thesis     274      0.00\n",
       "13        en                cite interview     189      0.00\n",
       "14        en                  cite episode      95      0.00\n",
       "15        en                    cite court      57      0.00\n",
       "16        en                  cite podcast      27      0.00\n",
       "17        en               cite techreport      26      0.00\n",
       "18        en                     cite sign      19      0.00\n",
       "19        en                   cite speech      16      0.00\n",
       "20        en                   cite patent       5      0.00\n",
       "21        en             cite mailing list       4      0.00\n",
       "22        en                cite newsgroup       4      0.00\n",
       "23        en               cite video game       4      0.00\n",
       "24        en                    cite comic       1      0.00\n",
       "25        es                      cita web   49462      0.77\n",
       "26        es              cita publicacion    5820      0.09\n",
       "27        es                    cita libro    5317      0.08\n",
       "28        es                  cita noticia    3322      0.05\n",
       "29        es                   obra citada     379      0.01\n",
       "30        es             cita enciclopedia      99      0.00\n",
       "31        es                    cita video      73      0.00\n",
       "32        es                 cita episodio      33      0.00\n",
       "33        es              cita conferencia      21      0.00\n",
       "34        es                    cita tesis      12      0.00\n",
       "35        es               cita entrevista       8      0.00\n",
       "36        es                     cita mapa       6      0.00\n",
       "37        fr                      lien web   67913      0.94\n",
       "38        fr                       article    3065      0.04\n",
       "39        fr                       ouvrage     979      0.01\n",
       "40        fr                    lien video      49      0.00\n",
       "41        fr               lien conference      18      0.00\n",
       "42        fr                      lien_web      12      0.00\n",
       "43        fr                     interview      12      0.00\n",
       "44        fr        article encyclopedique       1      0.00\n",
       "45        pt                     citar web   77281      0.84\n",
       "46        pt               citar periodico    5655      0.06\n",
       "47        pt                   citar livro    4249      0.05\n",
       "48        pt                  citar jornal    3389      0.04\n",
       "49        pt                      citation     764      0.01\n",
       "50        pt            citar enciclopedia     112      0.00\n",
       "51        pt                   citar video      93      0.00\n",
       "52        pt                    citar tese      86      0.00\n",
       "53        pt  citar comunicado de imprensa      85      0.00\n",
       "54        pt               citar relatorio      48      0.00\n",
       "55        pt             citar conferencia      31      0.00\n",
       "56        pt                citar episodio      22      0.00\n",
       "57        pt              citar entrevista      22      0.00\n",
       "58        pt      citar lista de discussao       1      0.00\n",
       "59        pt                 citar podcast       1      0.00"
      ]
     },
     "execution_count": 5,
     "metadata": {},
     "output_type": "execute_result"
    }
   ],
   "source": [
    "template_counts = all_citations[['wiki_lang', 'source_type']].value_counts()\n",
    "template_counts.name = 'freq'\n",
    "template_counts = template_counts.reset_index()\n",
    "template_counts = template_counts.sort_values(['wiki_lang', 'freq'], ascending=[True, False])\n",
    "template_counts = template_counts.reset_index(drop = True)\n",
    "\n",
    "freq_total = template_counts.groupby('wiki_lang')['freq'].sum().to_dict()\n",
    "template_nr = template_counts['wiki_lang'].map(freq_total)\n",
    "template_counts['freq_rel'] = round(template_counts['freq']/template_nr, 2)\n",
    "template_counts"
   ]
  },
  {
   "cell_type": "code",
   "execution_count": null,
   "metadata": {},
   "outputs": [],
   "source": [
    "template_counts.to_csv('data/citation_templates_freq.csv', index=False)"
   ]
  },
  {
   "cell_type": "markdown",
   "metadata": {},
   "source": [
    "The templates for web sources are the most frequent for all languages (52% cite web, 77% cita web, 94% lien web and  84% citar web). English Wikipedia also shows a considerable number of citations using cite news (22%) while the values for the other languages fall to less than 1% (0.5% cita noticia, 0.4% for article and citar jornal). \n",
    "\n",
    "We can also summaryze the top web domains by language:"
   ]
  },
  {
   "cell_type": "code",
   "execution_count": null,
   "metadata": {},
   "outputs": [],
   "source": [
    "all_citations_domains = all_citations[[\"source_type\", \"wiki_lang\", \"url\"]]\n",
    "all_citations_domains = all_citations_domains[~all_citations_domains['url'].isna()]\n",
    "\n",
    "def find_domain(s):\n",
    "    if s.startswith(\"http\"):\n",
    "        domain = s.split(\"/\")[2].replace(\"www.\", \"\")\n",
    "    else:\n",
    "        domain = False\n",
    "    return domain\n",
    "\n",
    "all_citations_domains[\"domain\"] = all_citations_domains[\"url\"].map(find_domain)\n",
    "domains = all_citations_domains[all_citations_domains[\"domain\"].map(bool)]"
   ]
  },
  {
   "cell_type": "code",
   "execution_count": null,
   "metadata": {
    "scrolled": true
   },
   "outputs": [
    {
     "data": {
      "text/html": [
       "<div>\n",
       "<style scoped>\n",
       "    .dataframe tbody tr th:only-of-type {\n",
       "        vertical-align: middle;\n",
       "    }\n",
       "\n",
       "    .dataframe tbody tr th {\n",
       "        vertical-align: top;\n",
       "    }\n",
       "\n",
       "    .dataframe thead th {\n",
       "        text-align: right;\n",
       "    }\n",
       "</style>\n",
       "<table border=\"1\" class=\"dataframe\">\n",
       "  <thead>\n",
       "    <tr style=\"text-align: right;\">\n",
       "      <th></th>\n",
       "      <th>wiki_lang</th>\n",
       "      <th>domain</th>\n",
       "      <th>count</th>\n",
       "    </tr>\n",
       "  </thead>\n",
       "  <tbody>\n",
       "    <tr>\n",
       "      <th>0</th>\n",
       "      <td>en</td>\n",
       "      <td>books.google.com</td>\n",
       "      <td>13663</td>\n",
       "    </tr>\n",
       "    <tr>\n",
       "      <th>1</th>\n",
       "      <td>en</td>\n",
       "      <td>archive.org</td>\n",
       "      <td>12600</td>\n",
       "    </tr>\n",
       "    <tr>\n",
       "      <th>2</th>\n",
       "      <td>en</td>\n",
       "      <td>nytimes.com</td>\n",
       "      <td>3868</td>\n",
       "    </tr>\n",
       "    <tr>\n",
       "      <th>3</th>\n",
       "      <td>en</td>\n",
       "      <td>theguardian.com</td>\n",
       "      <td>3013</td>\n",
       "    </tr>\n",
       "    <tr>\n",
       "      <th>4</th>\n",
       "      <td>en</td>\n",
       "      <td>news.bbc.co.uk</td>\n",
       "      <td>2632</td>\n",
       "    </tr>\n",
       "    <tr>\n",
       "      <th>6</th>\n",
       "      <td>en</td>\n",
       "      <td>bbc.co.uk</td>\n",
       "      <td>2527</td>\n",
       "    </tr>\n",
       "    <tr>\n",
       "      <th>5</th>\n",
       "      <td>es</td>\n",
       "      <td>archive.org</td>\n",
       "      <td>2572</td>\n",
       "    </tr>\n",
       "    <tr>\n",
       "      <th>28</th>\n",
       "      <td>es</td>\n",
       "      <td>books.google.es</td>\n",
       "      <td>925</td>\n",
       "    </tr>\n",
       "    <tr>\n",
       "      <th>29</th>\n",
       "      <td>es</td>\n",
       "      <td>books.google.com</td>\n",
       "      <td>879</td>\n",
       "    </tr>\n",
       "    <tr>\n",
       "      <th>41</th>\n",
       "      <td>es</td>\n",
       "      <td>allmusic.com</td>\n",
       "      <td>699</td>\n",
       "    </tr>\n",
       "    <tr>\n",
       "      <th>43</th>\n",
       "      <td>es</td>\n",
       "      <td>elpais.com</td>\n",
       "      <td>683</td>\n",
       "    </tr>\n",
       "    <tr>\n",
       "      <th>57</th>\n",
       "      <td>es</td>\n",
       "      <td>billboard.com</td>\n",
       "      <td>536</td>\n",
       "    </tr>\n",
       "    <tr>\n",
       "      <th>10</th>\n",
       "      <td>fr</td>\n",
       "      <td>statsf1.com</td>\n",
       "      <td>1918</td>\n",
       "    </tr>\n",
       "    <tr>\n",
       "      <th>23</th>\n",
       "      <td>fr</td>\n",
       "      <td>web.archive.org</td>\n",
       "      <td>1010</td>\n",
       "    </tr>\n",
       "    <tr>\n",
       "      <th>45</th>\n",
       "      <td>fr</td>\n",
       "      <td>insee.fr</td>\n",
       "      <td>664</td>\n",
       "    </tr>\n",
       "    <tr>\n",
       "      <th>46</th>\n",
       "      <td>fr</td>\n",
       "      <td>ign.com</td>\n",
       "      <td>654</td>\n",
       "    </tr>\n",
       "    <tr>\n",
       "      <th>47</th>\n",
       "      <td>fr</td>\n",
       "      <td>grandprix.com</td>\n",
       "      <td>644</td>\n",
       "    </tr>\n",
       "    <tr>\n",
       "      <th>54</th>\n",
       "      <td>fr</td>\n",
       "      <td>jeuxvideo.com</td>\n",
       "      <td>541</td>\n",
       "    </tr>\n",
       "    <tr>\n",
       "      <th>8</th>\n",
       "      <td>pt</td>\n",
       "      <td>billboard.com</td>\n",
       "      <td>2020</td>\n",
       "    </tr>\n",
       "    <tr>\n",
       "      <th>11</th>\n",
       "      <td>pt</td>\n",
       "      <td>books.google.com</td>\n",
       "      <td>1901</td>\n",
       "    </tr>\n",
       "    <tr>\n",
       "      <th>14</th>\n",
       "      <td>pt</td>\n",
       "      <td>web.archive.org</td>\n",
       "      <td>1580</td>\n",
       "    </tr>\n",
       "    <tr>\n",
       "      <th>24</th>\n",
       "      <td>pt</td>\n",
       "      <td>nytimes.com</td>\n",
       "      <td>995</td>\n",
       "    </tr>\n",
       "    <tr>\n",
       "      <th>26</th>\n",
       "      <td>pt</td>\n",
       "      <td>g1.globo.com</td>\n",
       "      <td>986</td>\n",
       "    </tr>\n",
       "    <tr>\n",
       "      <th>30</th>\n",
       "      <td>pt</td>\n",
       "      <td>mtv.com</td>\n",
       "      <td>878</td>\n",
       "    </tr>\n",
       "  </tbody>\n",
       "</table>\n",
       "</div>"
      ],
      "text/plain": [
       "   wiki_lang            domain  count\n",
       "0         en  books.google.com  13663\n",
       "1         en       archive.org  12600\n",
       "2         en       nytimes.com   3868\n",
       "3         en   theguardian.com   3013\n",
       "4         en    news.bbc.co.uk   2632\n",
       "6         en         bbc.co.uk   2527\n",
       "5         es       archive.org   2572\n",
       "28        es   books.google.es    925\n",
       "29        es  books.google.com    879\n",
       "41        es      allmusic.com    699\n",
       "43        es        elpais.com    683\n",
       "57        es     billboard.com    536\n",
       "10        fr       statsf1.com   1918\n",
       "23        fr   web.archive.org   1010\n",
       "45        fr          insee.fr    664\n",
       "46        fr           ign.com    654\n",
       "47        fr     grandprix.com    644\n",
       "54        fr     jeuxvideo.com    541\n",
       "8         pt     billboard.com   2020\n",
       "11        pt  books.google.com   1901\n",
       "14        pt   web.archive.org   1580\n",
       "24        pt       nytimes.com    995\n",
       "26        pt      g1.globo.com    986\n",
       "30        pt           mtv.com    878"
      ]
     },
     "execution_count": 12,
     "metadata": {},
     "output_type": "execute_result"
    }
   ],
   "source": [
    "domain_count_per_lang = domains[[\"wiki_lang\", \"domain\"]].value_counts()\n",
    "domain_count_per_lang.name = \"count\"\n",
    "domain_count_per_lang = domain_count_per_lang.reset_index()\n",
    "domain_count_per_lang = domain_count_per_lang.sort_values(by=[\"wiki_lang\", \"count\"], ascending=[True, False])\n",
    "domain_count_per_lang = domain_count_per_lang.groupby(\"wiki_lang\").head(6)\n",
    "\n",
    "domain_count_per_lang"
   ]
  },
  {
   "cell_type": "markdown",
   "metadata": {},
   "source": [
    "The domains corresponding to Google books and Archive.org rank high in English and Spanish. In French and Portuguese we find high values for web.archive.org. Domains from news sites (nytimes.com, theguardian.com, elpais.com, g1.globo.com) are present in all languages except for French. French wikipedia shows high counts for websites related to car racing (statsf1.com, grandprix.com)."
   ]
  },
  {
   "cell_type": "code",
   "execution_count": null,
   "metadata": {},
   "outputs": [],
   "source": [
    "domain_count_per_lang.to_csv('data/top_domains.csv', index=False)"
   ]
  },
  {
   "cell_type": "code",
   "execution_count": null,
   "metadata": {},
   "outputs": [],
   "source": []
  },
  {
   "cell_type": "markdown",
   "metadata": {},
   "source": [
    "\n",
    "\n",
    "\n"
   ]
  },
  {
   "cell_type": "markdown",
   "metadata": {
    "tags": []
   },
   "source": [
    "## 3. Querying Citoid API\n",
    "\n",
    "In this section, we request the [Citoid API](https://en.wikipedia.org/api/rest_v1/#/Citation/getCitation) to find the citation metadata for the list of URLs found on the previous step.\n",
    "\n",
    "### 3.1 Validate URLs before calling Citoid\n",
    "\n",
    "To optimize this step and to avoid to unnecessarily load the Citoid service, we will check if the URLs meet the following requierements:\n",
    "\n",
    "- to be well formed\n",
    "- to be public\n",
    "- to have http or https URL scheme\n",
    "- do not point to a pdf (Citoid does not support pdfs)"
   ]
  },
  {
   "cell_type": "code",
   "execution_count": null,
   "metadata": {},
   "outputs": [],
   "source": [
    "def validate_url(url):\n",
    "    is_pdf = url.endswith(\".pdf\") or url.endswith(\".PDF\")\n",
    "    is_ftp = url.startswith(\"ftp\") # validators excludes schemes other than http, https, ftp\n",
    "    is_valid = validators.url(url, public=True)\n",
    "\n",
    "    if is_pdf or is_ftp or not is_valid:\n",
    "        return False\n",
    "    else:\n",
    "        return True"
   ]
  },
  {
   "cell_type": "code",
   "execution_count": null,
   "metadata": {},
   "outputs": [
    {
     "name": "stderr",
     "output_type": "stream",
     "text": [
      "Validating URLs: 100%|██████████| 9978/9978 [01:01<00:00, 163.08it/s]\n"
     ]
    }
   ],
   "source": [
    "dfs = []\n",
    "\n",
    "for filename in tqdm(sorted(os.listdir('data/citations-metadata')), desc='Validating URLs'):\n",
    "    with gzip.open(f'data/citations-metadata/{filename}') as fi:\n",
    "        article_citations = pd.read_csv(fi)\n",
    "        article_citations = article_citations.dropna(subset=['url'])\n",
    "\n",
    "    valid_urls = article_citations[article_citations['url'].map(validate_url)]\n",
    "    dfs.append(valid_urls)\n",
    "    \n",
    "all_valid_urls = pd.concat(dfs, ignore_index= True)"
   ]
  },
  {
   "cell_type": "code",
   "execution_count": null,
   "metadata": {},
   "outputs": [],
   "source": [
    "all_valid_urls.to_csv('citations_metadata_valid_urls.csv', index=False)"
   ]
  },
  {
   "cell_type": "markdown",
   "metadata": {},
   "source": [
    "We also eliminate duplicated urls to avoid to request for the same information twice:"
   ]
  },
  {
   "cell_type": "code",
   "execution_count": null,
   "metadata": {},
   "outputs": [],
   "source": [
    "valid_urls = all_valid_urls.drop_duplicates(subset=['url'])"
   ]
  },
  {
   "cell_type": "code",
   "execution_count": null,
   "metadata": {},
   "outputs": [
    {
     "name": "stdout",
     "output_type": "stream",
     "text": [
      "Valid urls: 431929\n",
      "Valid urls without duplicates: 382984\n"
     ]
    }
   ],
   "source": [
    "print(f'Valid urls: {len(all_valid_urls)}')\n",
    "print(f'Valid urls without duplicates: {len(valid_urls)}')"
   ]
  },
  {
   "cell_type": "markdown",
   "metadata": {},
   "source": [
    "### 3.2 Query function and parallel requests\n",
    "\n",
    "We set up the result directory and the function for requesting Citoid's data for one URL. In case of execution interruption, a cache verification is performed before request."
   ]
  },
  {
   "cell_type": "code",
   "execution_count": null,
   "metadata": {},
   "outputs": [],
   "source": [
    "citoid_cache_dir = 'data/citoid-cache/'\n",
    "os.makedirs(citoid_cache_dir, exist_ok = True)"
   ]
  },
  {
   "cell_type": "code",
   "execution_count": null,
   "metadata": {},
   "outputs": [],
   "source": [
    "def get_and_cache_response(reference_url, outfname, HEADER):\n",
    "    \n",
    "    if os.path.isfile(outfname):\n",
    "        return f\"Citoid response for {reference_url} already in cache\"\n",
    "    \n",
    "    parsed_url = urllib.parse.quote(reference_url).replace('/', '%2F')\n",
    "    response = requests.get(\n",
    "        url = 'https://en.wikipedia.org/api/rest_v1/data/citation/mediawiki/'+parsed_url,\n",
    "        headers = HEADER,\n",
    "    )\n",
    "\n",
    "    citoid_data = response.json()\n",
    "\n",
    "    # Add request timestamp in Zulu format\n",
    "    tstamp = f\"{datetime.now().isoformat(timespec='seconds')}Z\"\n",
    "    if isinstance(citoid_data, dict): \n",
    "        citoid_data[\"requestTimestamp\"] = tstamp\n",
    "    else:\n",
    "        citoid_data[0][\"requestTimestamp\"] = tstamp\n",
    "        \n",
    "    # Add requested URL to response\n",
    "    citoid_data[\"requestedUrl\"] = reference_url\n",
    "\n",
    "    with gzip.open(outfname, 'w') as fo:\n",
    "        fo.write(json.dumps(citoid_data).encode('utf-8'))\n"
   ]
  },
  {
   "cell_type": "markdown",
   "metadata": {},
   "source": [
    "Citoid's response for each url is saved as a json file named using the pageid of the featured article and the index of the citation on the manual citations dataframe."
   ]
  },
  {
   "cell_type": "code",
   "execution_count": null,
   "metadata": {},
   "outputs": [],
   "source": [
    "urls_fnames = []\n",
    "\n",
    "for index, row in valid_urls.iterrows():\n",
    "\n",
    "    pageid = row['page_id']\n",
    "    outfname = f\"{citoid_cache_dir}page_{pageid:08}-valid_url_{index:06}.json.gz\" ## NH\n",
    "    url = row['url']\n",
    "    \n",
    "    urls_fnames.append((url, outfname))"
   ]
  },
  {
   "cell_type": "markdown",
   "metadata": {},
   "source": [
    "Here we send chunks of 500 the parallel requests to Citoid's API:"
   ]
  },
  {
   "cell_type": "code",
   "execution_count": null,
   "metadata": {
    "collapsed": true,
    "jupyter": {
     "outputs_hidden": true
    },
    "tags": []
   },
   "outputs": [
    {
     "name": "stderr",
     "output_type": "stream",
     "text": [
      "  0%|          | 0/765 [00:00<?, ?it/s]"
     ]
    },
    {
     "name": "stdout",
     "output_type": "stream",
     "text": [
      "('http://www.telegraph.co.uk/news/worldnews/australiaandthepacific/newzealand/7846625/Most-expensive-feather-ever-fetches-4000-at-auction.html', 'citoid-cache/page_00100018-valid_url_000068.json.gz') generated an exception: [Errno Expecting value] upstream request timeout: 0\n",
      "('http://www.lillemetropole.fr/mel/institution/competences/dechets-menagers.html', 'citoid-cache/page_00100154-valid_url_000395.json.gz') generated an exception: [Errno Expecting value] upstream request timeout: 0\n",
      "('https://recordsearch.naa.gov.au/SearchNRetrieve/NAAMedia/ShowImage.aspx?B=1492204&T=PDF', 'citoid-cache/page_01001558-valid_url_000427.json.gz') generated an exception: [Errno Expecting value] upstream request timeout: 0\n"
     ]
    },
    {
     "name": "stderr",
     "output_type": "stream",
     "text": [
      "  0%|          | 1/765 [02:17<29:10:44, 137.49s/it]"
     ]
    },
    {
     "name": "stdout",
     "output_type": "stream",
     "text": [
      "('https://www.jstage.jst.go.jp/article/kikaic1979/72/714/72_714_471/_pdf', 'citoid-cache/page_00100340-valid_url_000666.json.gz') generated an exception: [Errno Expecting value] upstream request timeout: 0\n"
     ]
    },
    {
     "name": "stderr",
     "output_type": "stream",
     "text": [
      "  0%|          | 2/765 [03:37<21:55:42, 103.46s/it]"
     ]
    },
    {
     "name": "stdout",
     "output_type": "stream",
     "text": [
      "('http://www.timeanddate.com/worldclock/city.html?n=265', 'citoid-cache/page_00100730-valid_url_001415.json.gz') generated an exception: [Errno Expecting value] upstream request timeout: 0\n",
      "('http://mdotnetpublic.state.mi.us/tmispublic/', 'citoid-cache/page_01006150-valid_url_001182.json.gz') generated an exception: [Errno Expecting value] upstream request timeout: 0\n"
     ]
    },
    {
     "name": "stderr",
     "output_type": "stream",
     "text": [
      "  0%|          | 3/765 [05:51<24:54:48, 117.70s/it]"
     ]
    },
    {
     "name": "stdout",
     "output_type": "stream",
     "text": [
      "('http://myride.winnipegtransit.com/en/inside-transit/interestingtransitfacts/', 'citoid-cache/page_00100730-valid_url_001579.json.gz') generated an exception: [Errno Expecting value] upstream request timeout: 0\n",
      "('https://www.amazon.fr/Je-suis-n%C3%A9-jour-bleu/dp/2290011436', 'citoid-cache/page_10101628-valid_url_002004.json.gz') generated an exception: [Errno Expecting value] upstream request timeout: 0\n"
     ]
    },
    {
     "name": "stderr",
     "output_type": "stream",
     "text": [
      "  1%|          | 4/765 [07:24<22:49:47, 108.00s/it]"
     ]
    },
    {
     "name": "stdout",
     "output_type": "stream",
     "text": [
      "('http://news.bbc.co.uk/1/hi/england/tyne/7579943.stm', 'citoid-cache/page_01011219-valid_url_002143.json.gz') generated an exception: [Errno Expecting value] upstream request timeout: 0\n",
      "('https://acervo.folha.com.br/leitor.do?numero=17133&keyword=SANDY&anchor=5625013&origem=busca&pd=d66444d2be912980e04eef9fe075feee', 'citoid-cache/page_00101409-valid_url_002526.json.gz') generated an exception: [Errno Expecting value] upstream request timeout: 0\n"
     ]
    },
    {
     "name": "stderr",
     "output_type": "stream",
     "text": [
      "  1%|          | 5/765 [08:56<21:30:58, 101.92s/it]"
     ]
    },
    {
     "name": "stdout",
     "output_type": "stream",
     "text": [
      "('https://f5.folha.uol.com.br/celebridades/carnaval/2019/02/fa-de-sandy-lorena-queiroz-febre-de-carinha-de-anjo-tera-bloquinho-proprio-em-sp.shtml', 'citoid-cache/page_00101409-valid_url_002773.json.gz') generated an exception: [Errno Expecting value] upstream request timeout: 0\n",
      "('http://www1.folha.uol.com.br/folha/ilustrada/ult90u7934.shtml', 'citoid-cache/page_00101409-valid_url_002851.json.gz') generated an exception: [Errno Expecting value] upstream request timeout: 0\n"
     ]
    },
    {
     "name": "stderr",
     "output_type": "stream",
     "text": [
      "  1%|          | 7/765 [12:27<22:23:08, 106.32s/it]"
     ]
    },
    {
     "name": "stdout",
     "output_type": "stream",
     "text": [
      "('http://seer.ufrgs.br/index.php/bgg/article/download/40018/25538', 'citoid-cache/page_00010193-valid_url_004145.json.gz') generated an exception: [Errno Expecting value] upstream request timeout: 0\n",
      "('http://www.lume.ufrgs.br/bitstream/handle/10183/33270/000114367.pdf?sequence=1', 'citoid-cache/page_00010193-valid_url_004139.json.gz') generated an exception: [Errno Expecting value] upstream request timeout: 0\n"
     ]
    },
    {
     "name": "stderr",
     "output_type": "stream",
     "text": [
      "  1%|          | 8/765 [14:04<21:40:56, 103.11s/it]"
     ]
    },
    {
     "name": "stdout",
     "output_type": "stream",
     "text": [
      "('https://periodicos.furg.br/momento/article/download/4408/2766', 'citoid-cache/page_00010193-valid_url_004251.json.gz') generated an exception: [Errno Expecting value] upstream request timeout: 0\n",
      "('http://www.les-lettres-francaises.fr/2010/09/jack-kerouac-et-le-jazz/', 'citoid-cache/page_01019581-valid_url_004311.json.gz') generated an exception: [Errno Expecting value] upstream request timeout: 0\n"
     ]
    },
    {
     "name": "stderr",
     "output_type": "stream",
     "text": [
      "  1%|          | 9/765 [15:24<20:10:25, 96.07s/it] "
     ]
    },
    {
     "name": "stdout",
     "output_type": "stream",
     "text": [
      "('http://www.amazon.com/Lives-Pillars-Orthodoxy-Dormition-Skete/dp/0944359043', 'citoid-cache/page_01022186-valid_url_004683.json.gz') generated an exception: [Errno Expecting value] upstream request timeout: 0\n"
     ]
    },
    {
     "name": "stderr",
     "output_type": "stream",
     "text": [
      "  1%|▏         | 10/765 [16:51<19:35:01, 93.38s/it]"
     ]
    },
    {
     "name": "stdout",
     "output_type": "stream",
     "text": [
      "('http://www.olympic.org/fr/saint-moritz-1948-olympiques-hiver', 'citoid-cache/page_00102878-valid_url_005499.json.gz') generated an exception: [Errno Expecting value] upstream request timeout: 0\n",
      "('http://www.cliffordmeth.com/alanmooretalkstocliff-pt2.htm', 'citoid-cache/page_00102915-valid_url_005550.json.gz') generated an exception: [Errno Expecting value] upstream request timeout: 0\n",
      "('http://www.portlandonline.com/bes/watershedapp/index.cfm?action=DisplayContent&SubWaterShedID=26&SubjectID=3&TopicID=26&SectionID=1', 'citoid-cache/page_10298609-valid_url_005566.json.gz') generated an exception: [Errno Expecting value] upstream request timeout: 0\n",
      "('http://www.cbc.ca/beta/news/politics/sir-john-a-macdonald-toonie-to-celebrate-1st-pm-s-200th-birthday-1.2879467', 'citoid-cache/page_00103110-valid_url_005629.json.gz') generated an exception: [Errno Expecting value] upstream request timeout: 0\n",
      "('http://www.cbc.ca/news/canada/ottawa/ottawa-river-parkway-renamed-after-sir-john-a-macdonald-1.1131806', 'citoid-cache/page_00103110-valid_url_005630.json.gz') generated an exception: [Errno Expecting value] upstream request timeout: 0\n"
     ]
    }
   ],
   "source": [
    "for batch_of_ufs in tqdm(chunked(urls_fnames, 500), total=len(urls_fnames)//500):\n",
    "    \n",
    "    with concurrent.futures.ThreadPoolExecutor(max_workers=1000) as executor:\n",
    "        \n",
    "        future_to_url = {}\n",
    "        \n",
    "        for uf in batch_of_ufs:\n",
    "            url, outfname = uf\n",
    "            future = executor.submit(get_and_cache_response, url, outfname, HEADER)\n",
    "            future_to_url[future] = uf\n",
    "            \n",
    "        for future in concurrent.futures.as_completed(future_to_url):\n",
    "            uf = future_to_url[future]\n",
    "            try:\n",
    "                data = future.result()\n",
    "            except Exception as exc:\n",
    "                print( f'{uf} generated an exception: {exc}')\n",
    "    \n",
    "    sleep(10)"
   ]
  },
  {
   "cell_type": "markdown",
   "metadata": {},
   "source": [
    "Let's check the results:"
   ]
  },
  {
   "cell_type": "code",
   "execution_count": null,
   "metadata": {
    "scrolled": true
   },
   "outputs": [
    {
     "name": "stdout",
     "output_type": "stream",
     "text": [
      "There are 382126 responses from Citoid\n"
     ]
    }
   ],
   "source": [
    "print(f\"There are {len(os.listdir('data/citoid-cache'))} responses from Citoid\")"
   ]
  },
  {
   "cell_type": "markdown",
   "metadata": {},
   "source": [
    "However, some of the responses correspond to not found URLs:"
   ]
  },
  {
   "cell_type": "code",
   "execution_count": null,
   "metadata": {},
   "outputs": [
    {
     "name": "stdout",
     "output_type": "stream",
     "text": [
      "{'method': 'get',\n",
      " 'requestTimestamp': '2022-04-12T01:50:43Z',\n",
      " 'title': 'Not found.',\n",
      " 'type': 'https://mediawiki.org/wiki/HyperSwitch/errors/not_found',\n",
      " 'uri': '/en.wikipedia.org/v1/data/citation/mediawiki/http%3A%2F%2Fwww.history.navy.mil%2Ffaqs%2Ffaq109-1.htm'}\n"
     ]
    }
   ],
   "source": [
    "with gzip.open(f'data/citoid-cache/page_01000152-valid_url_000058.json.gz') as fi:\n",
    "    cont = json.loads(fi.read())\n",
    "\n",
    "pprint(cont)"
   ]
  },
  {
   "cell_type": "markdown",
   "metadata": {},
   "source": [
    "This is how a correct answer looks like:"
   ]
  },
  {
   "cell_type": "code",
   "execution_count": null,
   "metadata": {},
   "outputs": [
    {
     "name": "stdout",
     "output_type": "stream",
     "text": [
      "[{'abstractNote': 'Seventy years ago, thousands of Allied troops landed on the '\n",
      "                  \"French coast. Here is the BBC's account of the day.\",\n",
      "  'accessDate': '2022-04-12',\n",
      "  'date': '2014-06-05',\n",
      "  'itemType': 'newspaperArticle',\n",
      "  'key': '8Y9WNVAZ',\n",
      "  'language': 'en-GB',\n",
      "  'libraryCatalog': 'www.bbc.com',\n",
      "  'publicationTitle': 'BBC News',\n",
      "  'requestTimestamp': '2022-04-12T01:50:44Z',\n",
      "  'section': 'Magazine',\n",
      "  'shortTitle': 'D-Day',\n",
      "  'source': ['Zotero'],\n",
      "  'tags': [],\n",
      "  'title': 'D-Day: In the words of the BBC journalists (text version)',\n",
      "  'url': 'https://www.bbc.com/news/magazine-27715250',\n",
      "  'version': 0}]\n"
     ]
    }
   ],
   "source": [
    "with gzip.open(f'data/citoid-cache/page_01000152-valid_url_000056.json.gz') as fi:\n",
    "    cont = json.loads(fi.read())\n",
    "\n",
    "pprint(cont)"
   ]
  },
  {
   "cell_type": "markdown",
   "metadata": {},
   "source": [
    "### 3.3 Tidying up Citoid's response\n",
    "\n",
    "We are only interested in the information corresponding to title, author, publication date and publication source. The following spreadsheet maps Zotero (= Citoid) field names to Web2Cit field names. This mapping will allow us to compare the Citoid response vs the citation metadata collected from Featured articles."
   ]
  },
  {
   "cell_type": "code",
   "execution_count": 4,
   "metadata": {
    "scrolled": true
   },
   "outputs": [
    {
     "data": {
      "text/html": [
       "<div>\n",
       "<style scoped>\n",
       "    .dataframe tbody tr th:only-of-type {\n",
       "        vertical-align: middle;\n",
       "    }\n",
       "\n",
       "    .dataframe tbody tr th {\n",
       "        vertical-align: top;\n",
       "    }\n",
       "\n",
       "    .dataframe thead th {\n",
       "        text-align: right;\n",
       "    }\n",
       "</style>\n",
       "<table border=\"1\" class=\"dataframe\">\n",
       "  <thead>\n",
       "    <tr style=\"text-align: right;\">\n",
       "      <th></th>\n",
       "      <th>field</th>\n",
       "      <th>baseField</th>\n",
       "      <th>type</th>\n",
       "      <th>cslField</th>\n",
       "      <th>w2c</th>\n",
       "    </tr>\n",
       "  </thead>\n",
       "  <tbody>\n",
       "    <tr>\n",
       "      <th>0</th>\n",
       "      <td>title</td>\n",
       "      <td>title</td>\n",
       "      <td>regular</td>\n",
       "      <td>title</td>\n",
       "      <td>title</td>\n",
       "    </tr>\n",
       "    <tr>\n",
       "      <th>4</th>\n",
       "      <td>date</td>\n",
       "      <td>date</td>\n",
       "      <td>regular</td>\n",
       "      <td>issued</td>\n",
       "      <td>date</td>\n",
       "    </tr>\n",
       "    <tr>\n",
       "      <th>20</th>\n",
       "      <td>label</td>\n",
       "      <td>publisher</td>\n",
       "      <td>regular</td>\n",
       "      <td>publisher</td>\n",
       "      <td>source</td>\n",
       "    </tr>\n",
       "    <tr>\n",
       "      <th>24</th>\n",
       "      <td>code</td>\n",
       "      <td>code</td>\n",
       "      <td>regular</td>\n",
       "      <td>container-title</td>\n",
       "      <td>source</td>\n",
       "    </tr>\n",
       "    <tr>\n",
       "      <th>31</th>\n",
       "      <td>blogTitle</td>\n",
       "      <td>publicationTitle</td>\n",
       "      <td>regular</td>\n",
       "      <td>container-title</td>\n",
       "      <td>source</td>\n",
       "    </tr>\n",
       "    <tr>\n",
       "      <th>36</th>\n",
       "      <td>publisher</td>\n",
       "      <td>publisher</td>\n",
       "      <td>regular</td>\n",
       "      <td>publisher</td>\n",
       "      <td>source</td>\n",
       "    </tr>\n",
       "    <tr>\n",
       "      <th>38</th>\n",
       "      <td>bookTitle</td>\n",
       "      <td>publicationTitle</td>\n",
       "      <td>regular</td>\n",
       "      <td>container-title</td>\n",
       "      <td>source</td>\n",
       "    </tr>\n",
       "    <tr>\n",
       "      <th>40</th>\n",
       "      <td>caseName</td>\n",
       "      <td>title</td>\n",
       "      <td>regular</td>\n",
       "      <td>title</td>\n",
       "      <td>title</td>\n",
       "    </tr>\n",
       "    <tr>\n",
       "      <th>42</th>\n",
       "      <td>dateDecided</td>\n",
       "      <td>date</td>\n",
       "      <td>regular</td>\n",
       "      <td>issued</td>\n",
       "      <td>date</td>\n",
       "    </tr>\n",
       "    <tr>\n",
       "      <th>44</th>\n",
       "      <td>reporter</td>\n",
       "      <td>reporter</td>\n",
       "      <td>regular</td>\n",
       "      <td>container-title</td>\n",
       "      <td>source</td>\n",
       "    </tr>\n",
       "    <tr>\n",
       "      <th>49</th>\n",
       "      <td>company</td>\n",
       "      <td>publisher</td>\n",
       "      <td>regular</td>\n",
       "      <td>publisher</td>\n",
       "      <td>source</td>\n",
       "    </tr>\n",
       "    <tr>\n",
       "      <th>51</th>\n",
       "      <td>proceedingsTitle</td>\n",
       "      <td>publicationTitle</td>\n",
       "      <td>regular</td>\n",
       "      <td>container-title</td>\n",
       "      <td>source</td>\n",
       "    </tr>\n",
       "    <tr>\n",
       "      <th>54</th>\n",
       "      <td>dictionaryTitle</td>\n",
       "      <td>publicationTitle</td>\n",
       "      <td>regular</td>\n",
       "      <td>container-title</td>\n",
       "      <td>source</td>\n",
       "    </tr>\n",
       "    <tr>\n",
       "      <th>55</th>\n",
       "      <td>subject</td>\n",
       "      <td>title</td>\n",
       "      <td>regular</td>\n",
       "      <td>title</td>\n",
       "      <td>title</td>\n",
       "    </tr>\n",
       "    <tr>\n",
       "      <th>56</th>\n",
       "      <td>encyclopediaTitle</td>\n",
       "      <td>publicationTitle</td>\n",
       "      <td>regular</td>\n",
       "      <td>container-title</td>\n",
       "      <td>source</td>\n",
       "    </tr>\n",
       "    <tr>\n",
       "      <th>57</th>\n",
       "      <td>distributor</td>\n",
       "      <td>publisher</td>\n",
       "      <td>regular</td>\n",
       "      <td>publisher</td>\n",
       "      <td>source</td>\n",
       "    </tr>\n",
       "    <tr>\n",
       "      <th>60</th>\n",
       "      <td>forumTitle</td>\n",
       "      <td>publicationTitle</td>\n",
       "      <td>regular</td>\n",
       "      <td>container-title</td>\n",
       "      <td>source</td>\n",
       "    </tr>\n",
       "    <tr>\n",
       "      <th>65</th>\n",
       "      <td>publicationTitle</td>\n",
       "      <td>publicationTitle</td>\n",
       "      <td>regular</td>\n",
       "      <td>container-title</td>\n",
       "      <td>source</td>\n",
       "    </tr>\n",
       "    <tr>\n",
       "      <th>81</th>\n",
       "      <td>issueDate</td>\n",
       "      <td>date</td>\n",
       "      <td>regular</td>\n",
       "      <td>issued</td>\n",
       "      <td>date</td>\n",
       "    </tr>\n",
       "    <tr>\n",
       "      <th>88</th>\n",
       "      <td>programTitle</td>\n",
       "      <td>publicationTitle</td>\n",
       "      <td>regular</td>\n",
       "      <td>container-title</td>\n",
       "      <td>source</td>\n",
       "    </tr>\n",
       "    <tr>\n",
       "      <th>89</th>\n",
       "      <td>network</td>\n",
       "      <td>publisher</td>\n",
       "      <td>regular</td>\n",
       "      <td>publisher</td>\n",
       "      <td>source</td>\n",
       "    </tr>\n",
       "    <tr>\n",
       "      <th>92</th>\n",
       "      <td>institution</td>\n",
       "      <td>publisher</td>\n",
       "      <td>regular</td>\n",
       "      <td>publisher</td>\n",
       "      <td>source</td>\n",
       "    </tr>\n",
       "    <tr>\n",
       "      <th>93</th>\n",
       "      <td>nameOfAct</td>\n",
       "      <td>title</td>\n",
       "      <td>regular</td>\n",
       "      <td>title</td>\n",
       "      <td>title</td>\n",
       "    </tr>\n",
       "    <tr>\n",
       "      <th>96</th>\n",
       "      <td>dateEnacted</td>\n",
       "      <td>date</td>\n",
       "      <td>regular</td>\n",
       "      <td>issued</td>\n",
       "      <td>date</td>\n",
       "    </tr>\n",
       "    <tr>\n",
       "      <th>98</th>\n",
       "      <td>university</td>\n",
       "      <td>publisher</td>\n",
       "      <td>regular</td>\n",
       "      <td>publisher</td>\n",
       "      <td>source</td>\n",
       "    </tr>\n",
       "    <tr>\n",
       "      <th>99</th>\n",
       "      <td>studio</td>\n",
       "      <td>publisher</td>\n",
       "      <td>regular</td>\n",
       "      <td>publisher</td>\n",
       "      <td>source</td>\n",
       "    </tr>\n",
       "    <tr>\n",
       "      <th>100</th>\n",
       "      <td>websiteTitle</td>\n",
       "      <td>publicationTitle</td>\n",
       "      <td>regular</td>\n",
       "      <td>container-title</td>\n",
       "      <td>source</td>\n",
       "    </tr>\n",
       "    <tr>\n",
       "      <th>104</th>\n",
       "      <td>author</td>\n",
       "      <td>author</td>\n",
       "      <td>creator</td>\n",
       "      <td>author</td>\n",
       "      <td>author</td>\n",
       "    </tr>\n",
       "    <tr>\n",
       "      <th>105</th>\n",
       "      <td>contributor</td>\n",
       "      <td>author</td>\n",
       "      <td>creator</td>\n",
       "      <td>author</td>\n",
       "      <td>author</td>\n",
       "    </tr>\n",
       "    <tr>\n",
       "      <th>112</th>\n",
       "      <td>interviewee</td>\n",
       "      <td>author</td>\n",
       "      <td>creator</td>\n",
       "      <td>author</td>\n",
       "      <td>author</td>\n",
       "    </tr>\n",
       "    <tr>\n",
       "      <th>114</th>\n",
       "      <td>director</td>\n",
       "      <td>author</td>\n",
       "      <td>creator</td>\n",
       "      <td>author</td>\n",
       "      <td>author</td>\n",
       "    </tr>\n",
       "    <tr>\n",
       "      <th>117</th>\n",
       "      <td>artist</td>\n",
       "      <td>author</td>\n",
       "      <td>creator</td>\n",
       "      <td>author</td>\n",
       "      <td>author</td>\n",
       "    </tr>\n",
       "    <tr>\n",
       "      <th>118</th>\n",
       "      <td>sponsor</td>\n",
       "      <td>author</td>\n",
       "      <td>creator</td>\n",
       "      <td>author</td>\n",
       "      <td>author</td>\n",
       "    </tr>\n",
       "    <tr>\n",
       "      <th>121</th>\n",
       "      <td>inventor</td>\n",
       "      <td>author</td>\n",
       "      <td>creator</td>\n",
       "      <td>author</td>\n",
       "      <td>author</td>\n",
       "    </tr>\n",
       "    <tr>\n",
       "      <th>123</th>\n",
       "      <td>cartographer</td>\n",
       "      <td>author</td>\n",
       "      <td>creator</td>\n",
       "      <td>author</td>\n",
       "      <td>author</td>\n",
       "    </tr>\n",
       "    <tr>\n",
       "      <th>125</th>\n",
       "      <td>performer</td>\n",
       "      <td>author</td>\n",
       "      <td>creator</td>\n",
       "      <td>author</td>\n",
       "      <td>author</td>\n",
       "    </tr>\n",
       "    <tr>\n",
       "      <th>128</th>\n",
       "      <td>presenter</td>\n",
       "      <td>author</td>\n",
       "      <td>creator</td>\n",
       "      <td>author</td>\n",
       "      <td>author</td>\n",
       "    </tr>\n",
       "    <tr>\n",
       "      <th>131</th>\n",
       "      <td>podcaster</td>\n",
       "      <td>author</td>\n",
       "      <td>creator</td>\n",
       "      <td>author</td>\n",
       "      <td>author</td>\n",
       "    </tr>\n",
       "    <tr>\n",
       "      <th>132</th>\n",
       "      <td>programmer</td>\n",
       "      <td>author</td>\n",
       "      <td>creator</td>\n",
       "      <td>author</td>\n",
       "      <td>author</td>\n",
       "    </tr>\n",
       "  </tbody>\n",
       "</table>\n",
       "</div>"
      ],
      "text/plain": [
       "                 field         baseField     type         cslField     w2c\n",
       "0                title             title  regular            title   title\n",
       "4                 date              date  regular           issued    date\n",
       "20               label         publisher  regular        publisher  source\n",
       "24                code              code  regular  container-title  source\n",
       "31           blogTitle  publicationTitle  regular  container-title  source\n",
       "36           publisher         publisher  regular        publisher  source\n",
       "38           bookTitle  publicationTitle  regular  container-title  source\n",
       "40            caseName             title  regular            title   title\n",
       "42         dateDecided              date  regular           issued    date\n",
       "44            reporter          reporter  regular  container-title  source\n",
       "49             company         publisher  regular        publisher  source\n",
       "51    proceedingsTitle  publicationTitle  regular  container-title  source\n",
       "54     dictionaryTitle  publicationTitle  regular  container-title  source\n",
       "55             subject             title  regular            title   title\n",
       "56   encyclopediaTitle  publicationTitle  regular  container-title  source\n",
       "57         distributor         publisher  regular        publisher  source\n",
       "60          forumTitle  publicationTitle  regular  container-title  source\n",
       "65    publicationTitle  publicationTitle  regular  container-title  source\n",
       "81           issueDate              date  regular           issued    date\n",
       "88        programTitle  publicationTitle  regular  container-title  source\n",
       "89             network         publisher  regular        publisher  source\n",
       "92         institution         publisher  regular        publisher  source\n",
       "93           nameOfAct             title  regular            title   title\n",
       "96         dateEnacted              date  regular           issued    date\n",
       "98          university         publisher  regular        publisher  source\n",
       "99              studio         publisher  regular        publisher  source\n",
       "100       websiteTitle  publicationTitle  regular  container-title  source\n",
       "104             author            author  creator           author  author\n",
       "105        contributor            author  creator           author  author\n",
       "112        interviewee            author  creator           author  author\n",
       "114           director            author  creator           author  author\n",
       "117             artist            author  creator           author  author\n",
       "118            sponsor            author  creator           author  author\n",
       "121           inventor            author  creator           author  author\n",
       "123       cartographer            author  creator           author  author\n",
       "125          performer            author  creator           author  author\n",
       "128          presenter            author  creator           author  author\n",
       "131          podcaster            author  creator           author  author\n",
       "132         programmer            author  creator           author  author"
      ]
     },
     "execution_count": 4,
     "metadata": {},
     "output_type": "execute_result"
    }
   ],
   "source": [
    "mapping_sheet = \"https://docs.google.com/spreadsheets/d/1YcscX9krRtmSflOLKSa1FeVAfVzwZYo72Mev6h8yWOw/export?gid=505421956&format=csv\"\n",
    "z2wtc = pd.read_csv(mapping_sheet)\n",
    "z2wtc = z2wtc.dropna(subset=[\"w2c\"])\n",
    "z2wtc"
   ]
  },
  {
   "cell_type": "markdown",
   "metadata": {},
   "source": [
    "Using this mapping, we inspect the responses from Citoid and extract the metadata for the fields of our interest:"
   ]
  },
  {
   "cell_type": "code",
   "execution_count": null,
   "metadata": {
    "scrolled": true,
    "tags": []
   },
   "outputs": [
    {
     "name": "stderr",
     "output_type": "stream",
     "text": [
      "Mapping Citoid's response:   0%|          | 1589/382125 [00:39<2:40:51, 39.43it/s]"
     ]
    }
   ],
   "source": [
    "rows = []\n",
    "\n",
    "for fname in tqdm(glob('data/citoid-cache-corrected/*json.gz'), desc=\"Mapping Citoid's response\"):\n",
    "    \n",
    "    citation_data = {\n",
    "        \"url\": None,\n",
    "        \"url_citoid\": None,\n",
    "        \"source_type_citoid\": None,\n",
    "        \"title_citoid\": None,\n",
    "        \"author_citoid\": None,\n",
    "        \"pub_date_citoid\": None,\n",
    "        \"pub_source_citoid\": None,\n",
    "    }\n",
    "        \n",
    "    with gzip.open(fname) as fi:\n",
    "        cont = json.load(fi)\n",
    "\n",
    "        if \"requestedUrl\" in cont: # correct answers\n",
    "            citoid_resp = cont\n",
    "\n",
    "            citation_data[\"url\"] = citoid_resp[\"requestedUrl\"]\n",
    "            citation_data[\"url_citoid\"] = citoid_resp[\"url\"]\n",
    "            citation_data[\"source_type_citoid\"] = citoid_resp[\"itemType\"]\n",
    "            \n",
    "            for key in citoid_resp:\n",
    "                for index, row in z2wtc.iterrows():\n",
    "                    if key == row[\"field\"]:\n",
    "                        if row[\"w2c\"] == \"title\":\n",
    "                            citation_data[\"title_citoid\"] = citoid_resp[key]\n",
    "                        elif row[\"w2c\"] == \"author\":\n",
    "                            citation_data[\"author_citoid\"] = citoid_resp[key]\n",
    "                        elif row[\"w2c\"] == \"date\":\n",
    "                            citation_data[\"pub_date_citoid\"] = citoid_resp[key]\n",
    "                        elif row[\"w2c\"] == \"source\":\n",
    "                            citation_data[\"pub_source_citoid\"] = citoid_resp[key]\n",
    "        \n",
    "            rows.append(citation_data)\n",
    "            \n",
    "citoid_citations = pd.DataFrame(rows)"
   ]
  },
  {
   "cell_type": "code",
   "execution_count": null,
   "metadata": {},
   "outputs": [],
   "source": [
    "citoid_citations.to_csv('data/citoid_citations.csv.gz', index=False)"
   ]
  },
  {
   "cell_type": "code",
   "execution_count": null,
   "metadata": {},
   "outputs": [],
   "source": [
    "#citoid_citations[\"url\"].value_counts() #deberian ser todos 1s ### REVISAR"
   ]
  },
  {
   "cell_type": "code",
   "execution_count": 21,
   "metadata": {},
   "outputs": [
    {
     "name": "stdout",
     "output_type": "stream",
     "text": [
      "We have 287838 citations generated by Citoid to evaluate\n"
     ]
    }
   ],
   "source": [
    "print(f\"We have {len(citoid_citations)} citations generated by Citoid to evaluate\")"
   ]
  },
  {
   "cell_type": "code",
   "execution_count": null,
   "metadata": {},
   "outputs": [],
   "source": []
  },
  {
   "cell_type": "code",
   "execution_count": null,
   "metadata": {},
   "outputs": [],
   "source": []
  },
  {
   "cell_type": "code",
   "execution_count": null,
   "metadata": {},
   "outputs": [],
   "source": []
  },
  {
   "cell_type": "markdown",
   "metadata": {},
   "source": [
    "## 4. Data normalization\n",
    "\n",
    "### 4.1 Manual data\n",
    "\n",
    "Before comparing Citoid's response to the data from the manual citations, we will perform some normalization.\n",
    "\n",
    "We load the metadata extracted from the manual citations:"
   ]
  },
  {
   "cell_type": "code",
   "execution_count": 3,
   "metadata": {},
   "outputs": [],
   "source": [
    "manual_citations = pd.read_csv('data/citations_metadata_valid_urls.csv.gz')\n",
    "\n",
    "cols = ['title', \n",
    "        'author_last',\n",
    "        'author_first',\n",
    "        'pub_date',\n",
    "        'pub_source']\n",
    "\n",
    "for col in cols:\n",
    "    manual_citations[col] = manual_citations[col].fillna('None').map(eval)"
   ]
  },
  {
   "cell_type": "markdown",
   "metadata": {},
   "source": [
    "We want to compare the information about the source type (website, book, etc.) given by Citoid with the information of the source type defined in the manual citations. Source types in manual citations are more general than in Citoid: for example, Citoid distinguishes between \"blogPost\" and \"webpage\" while citation templates label both cases as \"Cite web\". To address this problem, a new column is added with the equivalent in  Citoid's itemType for each citation template name.\n",
    "\n",
    "First, we fetch the mapping file defined in Wikipedia for each language:"
   ]
  },
  {
   "cell_type": "code",
   "execution_count": 3,
   "metadata": {},
   "outputs": [],
   "source": [
    "aux_dir = 'aux/'\n",
    "os.makedirs(aux_dir, exist_ok = True)\n",
    "\n",
    "for lang in manual_citations.wiki_lang.drop_duplicates():\n",
    "    fname = f'{aux_dir}citoid-template-type-map-{lang}.json'\n",
    "    if not os.path.isfile(fname):\n",
    "        r = requests.get(f\"https://{lang}.wikipedia.org/w/api.php?action=parse&page=MediaWiki:Citoid-template-type-map.json&prop=wikitext&format=json\")\n",
    "        data = r.json()\n",
    "        mapping_citoid_template = json.loads(data[\"parse\"][\"wikitext\"][\"*\"])\n",
    "        with open(fname, 'w') as fo:\n",
    "            json.dump(mapping_citoid_template, fo, indent=4)"
   ]
  },
  {
   "cell_type": "markdown",
   "metadata": {},
   "source": [
    "With that information, we define the mapping function and apply it to the dataframe of manual citations metadata:"
   ]
  },
  {
   "cell_type": "code",
   "execution_count": 4,
   "metadata": {},
   "outputs": [],
   "source": [
    "aux_dir = 'aux/'\n",
    "def map_template_name_citoid_type(lang, template_name):\n",
    "    with open(f'{aux_dir}citoid-template-type-map-{lang}.json') as fi:\n",
    "        mapping = json.load(fi)\n",
    "        \n",
    "    citoid_types = []\n",
    "    for key in mapping:\n",
    "        if normalize(mapping[key]) == normalize(template_name):\n",
    "            citoid_types.append(key)\n",
    "            \n",
    "    return citoid_types"
   ]
  },
  {
   "cell_type": "code",
   "execution_count": 7,
   "metadata": {
    "tags": []
   },
   "outputs": [
    {
     "name": "stderr",
     "output_type": "stream",
     "text": [
      "100%|██████████| 431928/431928 [01:01<00:00, 6993.57it/s]\n"
     ]
    },
    {
     "data": {
      "text/html": [
       "<div>\n",
       "<style scoped>\n",
       "    .dataframe tbody tr th:only-of-type {\n",
       "        vertical-align: middle;\n",
       "    }\n",
       "\n",
       "    .dataframe tbody tr th {\n",
       "        vertical-align: top;\n",
       "    }\n",
       "\n",
       "    .dataframe thead th {\n",
       "        text-align: right;\n",
       "    }\n",
       "</style>\n",
       "<table border=\"1\" class=\"dataframe\">\n",
       "  <thead>\n",
       "    <tr style=\"text-align: right;\">\n",
       "      <th></th>\n",
       "      <th>source_type</th>\n",
       "      <th>source_type_map</th>\n",
       "    </tr>\n",
       "  </thead>\n",
       "  <tbody>\n",
       "    <tr>\n",
       "      <th>90391</th>\n",
       "      <td>cita web</td>\n",
       "      <td>[blogPost, email, forumPost, webpage]</td>\n",
       "    </tr>\n",
       "    <tr>\n",
       "      <th>380917</th>\n",
       "      <td>Lien web</td>\n",
       "      <td>[blogPost, email, forumPost, podcast, videoRec...</td>\n",
       "    </tr>\n",
       "    <tr>\n",
       "      <th>106288</th>\n",
       "      <td>citar web</td>\n",
       "      <td>[blogPost, email, forumPost, webpage]</td>\n",
       "    </tr>\n",
       "    <tr>\n",
       "      <th>268404</th>\n",
       "      <td>Lien web</td>\n",
       "      <td>[blogPost, email, forumPost, podcast, videoRec...</td>\n",
       "    </tr>\n",
       "    <tr>\n",
       "      <th>326809</th>\n",
       "      <td>cite book</td>\n",
       "      <td>[book, manuscript]</td>\n",
       "    </tr>\n",
       "    <tr>\n",
       "      <th>40296</th>\n",
       "      <td>cite book</td>\n",
       "      <td>[book, manuscript]</td>\n",
       "    </tr>\n",
       "  </tbody>\n",
       "</table>\n",
       "</div>"
      ],
      "text/plain": [
       "       source_type                                    source_type_map\n",
       "90391     cita web              [blogPost, email, forumPost, webpage]\n",
       "380917    Lien web  [blogPost, email, forumPost, podcast, videoRec...\n",
       "106288   citar web              [blogPost, email, forumPost, webpage]\n",
       "268404    Lien web  [blogPost, email, forumPost, podcast, videoRec...\n",
       "326809   cite book                                 [book, manuscript]\n",
       "40296    cite book                                 [book, manuscript]"
      ]
     },
     "execution_count": 7,
     "metadata": {},
     "output_type": "execute_result"
    }
   ],
   "source": [
    "manual_citations['source_type_map'] = manual_citations.progress_apply(\n",
    "    lambda row: map_template_name_citoid_type(row['wiki_lang'], row['source_type']), axis=1)\n",
    "manual_citations[['source_type', 'source_type_map']].sample(6)"
   ]
  },
  {
   "cell_type": "markdown",
   "metadata": {},
   "source": [
    "We define the cleaning functions for removing empty strings and wikilinks from all the extracted metadata (title, author_first, author_last, pub_date, pub_source). We also set strings to lowercase and translitterate accents and other non ASCII characters to their ASCII equivalent.\n",
    "\n",
    "Dates are also normalized from human format to YYYY-MM-DD using [dateparser](https://dateparser.readthedocs.io/en/latest/index.html). This procedure introduces some noise when the original date has only year information because dateparser assigns the current month and day to the output. This problem will be addressed in the evaluation section. Finally, date values without year information are discarded."
   ]
  },
  {
   "cell_type": "code",
   "execution_count": 8,
   "metadata": {},
   "outputs": [],
   "source": [
    "def remove_na_elements(li): \n",
    "    return list(filter(None, li))\n",
    "\n",
    "def normalize(s):\n",
    "    return unidecode(s.lower())\n",
    "\n",
    "def normalize_list(li):\n",
    "    return [normalize(s) for s in li] \n",
    "\n",
    "def remove_wikilinks(li): \n",
    "    parsed = []\n",
    "    for el in li:\n",
    "        if '[[' in el and '|' not in el: ## internal link \n",
    "            parsed.append(el.replace('[', '').replace(']', '') )\n",
    "        elif '[[' in el and '|' in el: ## internal link, overwritten title\n",
    "            el = re.sub(r'\\[\\[[^\\|]+\\|', r'', el) \n",
    "            parsed.append(el.replace(']', '') )\n",
    "        elif '[' in el and 'http' in el: ## external link\n",
    "            el = re.sub(r'\\[[^\\ ]+\\ ', r'', el)\n",
    "            parsed.append(el.replace(']', '') )\n",
    "        else: ## plain text\n",
    "            parsed.append(el)\n",
    "    return parsed\n",
    "\n",
    "def parse_dates(li):\n",
    "    parsed_dates = []\n",
    "    for date in li:\n",
    "        parsed_date = dateparser.parse(date, settings={'REQUIRE_PARTS': ['year']})\n",
    "        if parsed_date:\n",
    "            parsed_dates.append(parsed_date)\n",
    "    return parsed_dates\n",
    "\n",
    "def date2str(dates):\n",
    "    return [date.strftime(\"%Y-%m-%d\") for date in dates]\n",
    "\n",
    "def find_year(li):\n",
    "    parsed_dates = []\n",
    "    if li:\n",
    "        for date in li:\n",
    "            year = re.search(r\"\\d{4}\", date)\n",
    "            if year:\n",
    "                parsed_dates.append(year.group())\n",
    "    return parsed_dates"
   ]
  },
  {
   "cell_type": "markdown",
   "metadata": {},
   "source": [
    "Now we apply the cleaning functions to the manual citations metadata:"
   ]
  },
  {
   "cell_type": "code",
   "execution_count": 9,
   "metadata": {},
   "outputs": [
    {
     "name": "stderr",
     "output_type": "stream",
     "text": [
      "100%|██████████| 431928/431928 [00:00<00:00, 926392.46it/s]\n",
      "100%|██████████| 431928/431928 [00:01<00:00, 427589.92it/s] \n",
      "100%|██████████| 431928/431928 [00:01<00:00, 403173.36it/s]\n",
      "100%|██████████| 431928/431928 [00:00<00:00, 926203.96it/s] \n",
      "100%|██████████| 431928/431928 [00:00<00:00, 901717.66it/s]\n"
     ]
    }
   ],
   "source": [
    "for colname in ['title', 'author_first', 'author_last', 'pub_date', 'pub_source']:\n",
    "    manual_citations[f\"{colname}_clean\"] = manual_citations[colname].apply(remove_na_elements).apply(normalize_list).progress_apply(remove_wikilinks)"
   ]
  },
  {
   "cell_type": "markdown",
   "metadata": {},
   "source": [
    "Here we set the publishing date to the same format as the response from Citoid to simplify the comparison. We also add an additional column extracting the year in order to isolate the noise in the month and day data introduced in the normalization."
   ]
  },
  {
   "cell_type": "code",
   "execution_count": 10,
   "metadata": {
    "tags": []
   },
   "outputs": [
    {
     "name": "stderr",
     "output_type": "stream",
     "text": [
      "  0%|          | 0/431928 [00:00<?, ?it/s]/srv/paws/lib/python3.10/site-packages/dateparser/date_parser.py:35: PytzUsageWarning: The localize method is no longer necessary, as this time zone supports the fold attribute (PEP 495). For more details on migrating to a PEP 495-compliant implementation, see https://pytz-deprecation-shim.readthedocs.io/en/latest/migration.html\n",
      "  date_obj = stz.localize(date_obj)\n",
      " 98%|█████████▊| 423863/431928 [08:47<00:14, 570.42it/s] /srv/paws/lib/python3.10/site-packages/dateparser/utils/__init__.py:130: PytzUsageWarning: The localize method is no longer necessary, as this time zone supports the fold attribute (PEP 495). For more details on migrating to a PEP 495-compliant implementation, see https://pytz-deprecation-shim.readthedocs.io/en/latest/migration.html\n",
      "  date_obj = tz.localize(date_obj)\n",
      "100%|██████████| 431928/431928 [08:58<00:00, 802.66it/s] \n",
      "100%|██████████| 431928/431928 [00:02<00:00, 177789.92it/s]\n"
     ]
    },
    {
     "data": {
      "text/html": [
       "<div>\n",
       "<style scoped>\n",
       "    .dataframe tbody tr th:only-of-type {\n",
       "        vertical-align: middle;\n",
       "    }\n",
       "\n",
       "    .dataframe tbody tr th {\n",
       "        vertical-align: top;\n",
       "    }\n",
       "\n",
       "    .dataframe thead th {\n",
       "        text-align: right;\n",
       "    }\n",
       "</style>\n",
       "<table border=\"1\" class=\"dataframe\">\n",
       "  <thead>\n",
       "    <tr style=\"text-align: right;\">\n",
       "      <th></th>\n",
       "      <th>pub_date</th>\n",
       "      <th>pub_date_clean</th>\n",
       "    </tr>\n",
       "  </thead>\n",
       "  <tbody>\n",
       "    <tr>\n",
       "      <th>130956</th>\n",
       "      <td>[]</td>\n",
       "      <td>[]</td>\n",
       "    </tr>\n",
       "    <tr>\n",
       "      <th>184029</th>\n",
       "      <td>[]</td>\n",
       "      <td>[]</td>\n",
       "    </tr>\n",
       "    <tr>\n",
       "      <th>83654</th>\n",
       "      <td>[]</td>\n",
       "      <td>[]</td>\n",
       "    </tr>\n",
       "    <tr>\n",
       "      <th>280047</th>\n",
       "      <td>[11 July 2014]</td>\n",
       "      <td>[2014-07-11]</td>\n",
       "    </tr>\n",
       "    <tr>\n",
       "      <th>77145</th>\n",
       "      <td>[]</td>\n",
       "      <td>[]</td>\n",
       "    </tr>\n",
       "    <tr>\n",
       "      <th>420865</th>\n",
       "      <td>[]</td>\n",
       "      <td>[]</td>\n",
       "    </tr>\n",
       "  </tbody>\n",
       "</table>\n",
       "</div>"
      ],
      "text/plain": [
       "              pub_date pub_date_clean\n",
       "130956              []             []\n",
       "184029              []             []\n",
       "83654               []             []\n",
       "280047  [11 July 2014]   [2014-07-11]\n",
       "77145               []             []\n",
       "420865              []             []"
      ]
     },
     "execution_count": 10,
     "metadata": {},
     "output_type": "execute_result"
    }
   ],
   "source": [
    "manual_citations[\"pub_date_clean\"] = manual_citations[\"pub_date_clean\"].progress_apply(parse_dates)\n",
    "manual_citations[\"pub_date_clean\"] = manual_citations[\"pub_date_clean\"].progress_apply(date2str)\n",
    "manual_citations[\"pub_date_clean\"] = manual_citations[\"pub_year\"].progress_apply(find_year)\n",
    "manual_citations[[\"pub_date\", \"pub_date_clean\"]].sample(6)"
   ]
  },
  {
   "cell_type": "markdown",
   "metadata": {},
   "source": [
    "We reorder the columns and save:"
   ]
  },
  {
   "cell_type": "code",
   "execution_count": 11,
   "metadata": {
    "tags": []
   },
   "outputs": [
    {
     "data": {
      "text/html": [
       "<div>\n",
       "<style scoped>\n",
       "    .dataframe tbody tr th:only-of-type {\n",
       "        vertical-align: middle;\n",
       "    }\n",
       "\n",
       "    .dataframe tbody tr th {\n",
       "        vertical-align: top;\n",
       "    }\n",
       "\n",
       "    .dataframe thead th {\n",
       "        text-align: right;\n",
       "    }\n",
       "</style>\n",
       "<table border=\"1\" class=\"dataframe\">\n",
       "  <thead>\n",
       "    <tr style=\"text-align: right;\">\n",
       "      <th></th>\n",
       "      <th>article_title</th>\n",
       "      <th>article_url</th>\n",
       "      <th>page_id</th>\n",
       "      <th>revid</th>\n",
       "      <th>wiki_lang</th>\n",
       "      <th>url</th>\n",
       "      <th>source_type</th>\n",
       "      <th>source_type_map</th>\n",
       "      <th>title</th>\n",
       "      <th>title_clean</th>\n",
       "      <th>author_last</th>\n",
       "      <th>author_last_clean</th>\n",
       "      <th>author_first</th>\n",
       "      <th>author_first_clean</th>\n",
       "      <th>pub_date</th>\n",
       "      <th>pub_date_clean</th>\n",
       "      <th>pub_source</th>\n",
       "      <th>pub_source_clean</th>\n",
       "    </tr>\n",
       "  </thead>\n",
       "  <tbody>\n",
       "    <tr>\n",
       "      <th>216657</th>\n",
       "      <td>León (España)</td>\n",
       "      <td>https://es.wikipedia.org/wiki/Le%C3%B3n%20%28E...</td>\n",
       "      <td>3341</td>\n",
       "      <td>141511487</td>\n",
       "      <td>es</td>\n",
       "      <td>http://www.saleal.es/frontsaleal/frontSalealAc...</td>\n",
       "      <td>Cita web</td>\n",
       "      <td>[blogPost, email, forumPost, webpage]</td>\n",
       "      <td>[SALEAL]</td>\n",
       "      <td>[saleal]</td>\n",
       "      <td>[]</td>\n",
       "      <td>[]</td>\n",
       "      <td>[]</td>\n",
       "      <td>[]</td>\n",
       "      <td>[]</td>\n",
       "      <td>[]</td>\n",
       "      <td>[]</td>\n",
       "      <td>[]</td>\n",
       "    </tr>\n",
       "    <tr>\n",
       "      <th>331818</th>\n",
       "      <td>Reputation</td>\n",
       "      <td>https://pt.wikipedia.org/wiki/Reputation</td>\n",
       "      <td>5501742</td>\n",
       "      <td>62586439</td>\n",
       "      <td>pt</td>\n",
       "      <td>https://www.avclub.com/taylor-swift-has-a-big-...</td>\n",
       "      <td>citar web</td>\n",
       "      <td>[blogPost, email, forumPost, webpage]</td>\n",
       "      <td>[Taylor Swift has a big, drunken night out on ...</td>\n",
       "      <td>[taylor swift has a big, drunken night out on ...</td>\n",
       "      <td>[Clayton Purdom]</td>\n",
       "      <td>[clayton purdom]</td>\n",
       "      <td>[]</td>\n",
       "      <td>[]</td>\n",
       "      <td>[10 de novembro de 2017]</td>\n",
       "      <td>[2017-11-10]</td>\n",
       "      <td>[[[The A.V. Club]]. [[The Onion]]]</td>\n",
       "      <td>[the a.v. club. the onion]</td>\n",
       "    </tr>\n",
       "    <tr>\n",
       "      <th>3621</th>\n",
       "      <td>History of Norwich City F.C.</td>\n",
       "      <td>https://en.wikipedia.org/wiki/History%20of%20N...</td>\n",
       "      <td>10177501</td>\n",
       "      <td>1038372477</td>\n",
       "      <td>en</td>\n",
       "      <td>http://www.statto.com/football/teams/norwich-c...</td>\n",
       "      <td>cite web</td>\n",
       "      <td>[blogPost, email, forumPost, webpage]</td>\n",
       "      <td>[Norwich City 1993–1994 : English Premier Leag...</td>\n",
       "      <td>[norwich city 1993-1994 : english premier leag...</td>\n",
       "      <td>[]</td>\n",
       "      <td>[]</td>\n",
       "      <td>[]</td>\n",
       "      <td>[]</td>\n",
       "      <td>[]</td>\n",
       "      <td>[]</td>\n",
       "      <td>[Statto Organisation]</td>\n",
       "      <td>[statto organisation]</td>\n",
       "    </tr>\n",
       "    <tr>\n",
       "      <th>247251</th>\n",
       "      <td>Artpop</td>\n",
       "      <td>https://pt.wikipedia.org/wiki/Artpop</td>\n",
       "      <td>3824946</td>\n",
       "      <td>62777918</td>\n",
       "      <td>pt</td>\n",
       "      <td>https://spanishcharts.com/showitem.asp?interpr...</td>\n",
       "      <td>citar web</td>\n",
       "      <td>[blogPost, email, forumPost, webpage]</td>\n",
       "      <td>[Lady Gaga – Artpop (Productores de Música de ...</td>\n",
       "      <td>[lady gaga - artpop (productores de musica de ...</td>\n",
       "      <td>[]</td>\n",
       "      <td>[]</td>\n",
       "      <td>[]</td>\n",
       "      <td>[]</td>\n",
       "      <td>[]</td>\n",
       "      <td>[]</td>\n",
       "      <td>[[[Productores de Música de España]]]</td>\n",
       "      <td>[productores de musica de espana]</td>\n",
       "    </tr>\n",
       "    <tr>\n",
       "      <th>103512</th>\n",
       "      <td>Fez (video game)</td>\n",
       "      <td>https://en.wikipedia.org/wiki/Fez%20%28video%2...</td>\n",
       "      <td>18711188</td>\n",
       "      <td>1064144425</td>\n",
       "      <td>en</td>\n",
       "      <td>http://kotaku.com/5901498/fezs-beautiful-sound...</td>\n",
       "      <td>cite web</td>\n",
       "      <td>[blogPost, email, forumPost, webpage]</td>\n",
       "      <td>[Fez's Beautiful Soundtrack Lives and Breathes...</td>\n",
       "      <td>[fez's beautiful soundtrack lives and breathes...</td>\n",
       "      <td>[Hamilton]</td>\n",
       "      <td>[hamilton]</td>\n",
       "      <td>[Kirk]</td>\n",
       "      <td>[kirk]</td>\n",
       "      <td>[April 12, 2012]</td>\n",
       "      <td>[2012-04-12]</td>\n",
       "      <td>[]</td>\n",
       "      <td>[]</td>\n",
       "    </tr>\n",
       "    <tr>\n",
       "      <th>76211</th>\n",
       "      <td>Mario et Sonic aux Jeux olympiques</td>\n",
       "      <td>https://fr.wikipedia.org/wiki/Mario%20et%20Son...</td>\n",
       "      <td>1617285</td>\n",
       "      <td>183536577</td>\n",
       "      <td>fr</td>\n",
       "      <td>http://www.jeuxvideo.com/articles/0000/0000863...</td>\n",
       "      <td>Lien web</td>\n",
       "      <td>[blogPost, email, forumPost, podcast, videoRec...</td>\n",
       "      <td>[Mario &amp; Sonic aux Jeux Olympiques : Test Nint...</td>\n",
       "      <td>[mario &amp; sonic aux jeux olympiques : test nint...</td>\n",
       "      <td>[]</td>\n",
       "      <td>[]</td>\n",
       "      <td>[]</td>\n",
       "      <td>[]</td>\n",
       "      <td>[]</td>\n",
       "      <td>[]</td>\n",
       "      <td>[]</td>\n",
       "      <td>[]</td>\n",
       "    </tr>\n",
       "  </tbody>\n",
       "</table>\n",
       "</div>"
      ],
      "text/plain": [
       "                             article_title  \\\n",
       "216657                       León (España)   \n",
       "331818                          Reputation   \n",
       "3621          History of Norwich City F.C.   \n",
       "247251                              Artpop   \n",
       "103512                    Fez (video game)   \n",
       "76211   Mario et Sonic aux Jeux olympiques   \n",
       "\n",
       "                                              article_url   page_id  \\\n",
       "216657  https://es.wikipedia.org/wiki/Le%C3%B3n%20%28E...      3341   \n",
       "331818           https://pt.wikipedia.org/wiki/Reputation   5501742   \n",
       "3621    https://en.wikipedia.org/wiki/History%20of%20N...  10177501   \n",
       "247251               https://pt.wikipedia.org/wiki/Artpop   3824946   \n",
       "103512  https://en.wikipedia.org/wiki/Fez%20%28video%2...  18711188   \n",
       "76211   https://fr.wikipedia.org/wiki/Mario%20et%20Son...   1617285   \n",
       "\n",
       "             revid wiki_lang  \\\n",
       "216657   141511487        es   \n",
       "331818    62586439        pt   \n",
       "3621    1038372477        en   \n",
       "247251    62777918        pt   \n",
       "103512  1064144425        en   \n",
       "76211    183536577        fr   \n",
       "\n",
       "                                                      url source_type  \\\n",
       "216657  http://www.saleal.es/frontsaleal/frontSalealAc...    Cita web   \n",
       "331818  https://www.avclub.com/taylor-swift-has-a-big-...   citar web   \n",
       "3621    http://www.statto.com/football/teams/norwich-c...    cite web   \n",
       "247251  https://spanishcharts.com/showitem.asp?interpr...   citar web   \n",
       "103512  http://kotaku.com/5901498/fezs-beautiful-sound...    cite web   \n",
       "76211   http://www.jeuxvideo.com/articles/0000/0000863...    Lien web   \n",
       "\n",
       "                                          source_type_map  \\\n",
       "216657              [blogPost, email, forumPost, webpage]   \n",
       "331818              [blogPost, email, forumPost, webpage]   \n",
       "3621                [blogPost, email, forumPost, webpage]   \n",
       "247251              [blogPost, email, forumPost, webpage]   \n",
       "103512              [blogPost, email, forumPost, webpage]   \n",
       "76211   [blogPost, email, forumPost, podcast, videoRec...   \n",
       "\n",
       "                                                    title  \\\n",
       "216657                                           [SALEAL]   \n",
       "331818  [Taylor Swift has a big, drunken night out on ...   \n",
       "3621    [Norwich City 1993–1994 : English Premier Leag...   \n",
       "247251  [Lady Gaga – Artpop (Productores de Música de ...   \n",
       "103512  [Fez's Beautiful Soundtrack Lives and Breathes...   \n",
       "76211   [Mario & Sonic aux Jeux Olympiques : Test Nint...   \n",
       "\n",
       "                                              title_clean       author_last  \\\n",
       "216657                                           [saleal]                []   \n",
       "331818  [taylor swift has a big, drunken night out on ...  [Clayton Purdom]   \n",
       "3621    [norwich city 1993-1994 : english premier leag...                []   \n",
       "247251  [lady gaga - artpop (productores de musica de ...                []   \n",
       "103512  [fez's beautiful soundtrack lives and breathes...        [Hamilton]   \n",
       "76211   [mario & sonic aux jeux olympiques : test nint...                []   \n",
       "\n",
       "       author_last_clean author_first author_first_clean  \\\n",
       "216657                []           []                 []   \n",
       "331818  [clayton purdom]           []                 []   \n",
       "3621                  []           []                 []   \n",
       "247251                []           []                 []   \n",
       "103512        [hamilton]       [Kirk]             [kirk]   \n",
       "76211                 []           []                 []   \n",
       "\n",
       "                        pub_date pub_date_clean  \\\n",
       "216657                        []             []   \n",
       "331818  [10 de novembro de 2017]   [2017-11-10]   \n",
       "3621                          []             []   \n",
       "247251                        []             []   \n",
       "103512          [April 12, 2012]   [2012-04-12]   \n",
       "76211                         []             []   \n",
       "\n",
       "                                   pub_source  \\\n",
       "216657                                     []   \n",
       "331818     [[[The A.V. Club]]. [[The Onion]]]   \n",
       "3621                    [Statto Organisation]   \n",
       "247251  [[[Productores de Música de España]]]   \n",
       "103512                                     []   \n",
       "76211                                      []   \n",
       "\n",
       "                         pub_source_clean  \n",
       "216657                                 []  \n",
       "331818         [the a.v. club. the onion]  \n",
       "3621                [statto organisation]  \n",
       "247251  [productores de musica de espana]  \n",
       "103512                                 []  \n",
       "76211                                  []  "
      ]
     },
     "execution_count": 11,
     "metadata": {},
     "output_type": "execute_result"
    }
   ],
   "source": [
    "manual_citations = manual_citations[['article_title', 'article_url', 'page_id', 'revid', 'wiki_lang', 'url','source_type','source_type_map',\n",
    "                                     'title', 'title_clean', 'author_last', 'author_last_clean', 'author_first', 'author_first_clean', \n",
    "                                     'pub_date', 'pub_date_clean', 'pub_year', 'pub_source', 'pub_source_clean']]\n",
    "manual_citations.sample(6)"
   ]
  },
  {
   "cell_type": "code",
   "execution_count": 12,
   "metadata": {},
   "outputs": [],
   "source": [
    "manual_citations.to_csv('data/citations_metadata_normalized.csv.gz', index=False)"
   ]
  },
  {
   "cell_type": "code",
   "execution_count": null,
   "metadata": {},
   "outputs": [],
   "source": []
  },
  {
   "cell_type": "markdown",
   "metadata": {},
   "source": [
    "### 4.2 Citoid data"
   ]
  },
  {
   "cell_type": "markdown",
   "metadata": {},
   "source": [
    "To simplify the comparison with the manual data, we split the author information from Citoid in two columns (author_first and author_last). We also apply translitteration of non-ASCII to ASCII and lowercase the values for title, author_first, author_last and pub_source, as we did with the corresponding fields in the manual data."
   ]
  },
  {
   "cell_type": "code",
   "execution_count": 6,
   "metadata": {},
   "outputs": [],
   "source": [
    "def get_author_component(author_citoid, idx):\n",
    "    if author_citoid:\n",
    "        author_el = [normalize(author[idx]) for author in author_citoid if author_citoid]\n",
    "        return author_el\n",
    "    else:\n",
    "        return None"
   ]
  },
  {
   "cell_type": "code",
   "execution_count": null,
   "metadata": {
    "collapsed": true,
    "jupyter": {
     "outputs_hidden": true
    },
    "tags": []
   },
   "outputs": [
    {
     "ename": "KeyError",
     "evalue": "'title_citoid'",
     "output_type": "error",
     "traceback": [
      "\u001b[0;31m---------------------------------------------------------------------------\u001b[0m",
      "\u001b[0;31mKeyError\u001b[0m                                  Traceback (most recent call last)",
      "File \u001b[0;32m/srv/paws/lib/python3.10/site-packages/pandas/core/indexes/base.py:3621\u001b[0m, in \u001b[0;36mIndex.get_loc\u001b[0;34m(self, key, method, tolerance)\u001b[0m\n\u001b[1;32m   3620\u001b[0m \u001b[38;5;28;01mtry\u001b[39;00m:\n\u001b[0;32m-> 3621\u001b[0m     \u001b[38;5;28;01mreturn\u001b[39;00m \u001b[38;5;28;43mself\u001b[39;49m\u001b[38;5;241;43m.\u001b[39;49m\u001b[43m_engine\u001b[49m\u001b[38;5;241;43m.\u001b[39;49m\u001b[43mget_loc\u001b[49m\u001b[43m(\u001b[49m\u001b[43mcasted_key\u001b[49m\u001b[43m)\u001b[49m\n\u001b[1;32m   3622\u001b[0m \u001b[38;5;28;01mexcept\u001b[39;00m \u001b[38;5;167;01mKeyError\u001b[39;00m \u001b[38;5;28;01mas\u001b[39;00m err:\n",
      "File \u001b[0;32m/srv/paws/lib/python3.10/site-packages/pandas/_libs/index.pyx:136\u001b[0m, in \u001b[0;36mpandas._libs.index.IndexEngine.get_loc\u001b[0;34m()\u001b[0m\n",
      "File \u001b[0;32m/srv/paws/lib/python3.10/site-packages/pandas/_libs/index.pyx:163\u001b[0m, in \u001b[0;36mpandas._libs.index.IndexEngine.get_loc\u001b[0;34m()\u001b[0m\n",
      "File \u001b[0;32mpandas/_libs/hashtable_class_helper.pxi:5198\u001b[0m, in \u001b[0;36mpandas._libs.hashtable.PyObjectHashTable.get_item\u001b[0;34m()\u001b[0m\n",
      "File \u001b[0;32mpandas/_libs/hashtable_class_helper.pxi:5206\u001b[0m, in \u001b[0;36mpandas._libs.hashtable.PyObjectHashTable.get_item\u001b[0;34m()\u001b[0m\n",
      "\u001b[0;31mKeyError\u001b[0m: 'title_citoid'",
      "\nThe above exception was the direct cause of the following exception:\n",
      "\u001b[0;31mKeyError\u001b[0m                                  Traceback (most recent call last)",
      "Input \u001b[0;32mIn [15]\u001b[0m, in \u001b[0;36m<cell line: 1>\u001b[0;34m()\u001b[0m\n\u001b[0;32m----> 1\u001b[0m citoid_citations[\u001b[38;5;124m'\u001b[39m\u001b[38;5;124mtitle_citoid\u001b[39m\u001b[38;5;124m'\u001b[39m] \u001b[38;5;241m=\u001b[39m \u001b[43mcitoid_citations\u001b[49m\u001b[43m[\u001b[49m\u001b[38;5;124;43m'\u001b[39;49m\u001b[38;5;124;43mtitle_citoid\u001b[39;49m\u001b[38;5;124;43m'\u001b[39;49m\u001b[43m]\u001b[49m\u001b[38;5;241m.\u001b[39mmap(normalize, na_action\u001b[38;5;241m=\u001b[39m\u001b[38;5;124m'\u001b[39m\u001b[38;5;124mignore\u001b[39m\u001b[38;5;124m'\u001b[39m)\n\u001b[1;32m      2\u001b[0m citoid_citations[\u001b[38;5;124m'\u001b[39m\u001b[38;5;124mpub_source_citoid\u001b[39m\u001b[38;5;124m'\u001b[39m] \u001b[38;5;241m=\u001b[39m citoid_citations[\u001b[38;5;124m'\u001b[39m\u001b[38;5;124mpub_source_citoid\u001b[39m\u001b[38;5;124m'\u001b[39m]\u001b[38;5;241m.\u001b[39mmap(normalize, na_action\u001b[38;5;241m=\u001b[39m\u001b[38;5;124m'\u001b[39m\u001b[38;5;124mignore\u001b[39m\u001b[38;5;124m'\u001b[39m)\n\u001b[1;32m      5\u001b[0m citoid_citations[\u001b[38;5;124m'\u001b[39m\u001b[38;5;124mauthor_first_citoid\u001b[39m\u001b[38;5;124m'\u001b[39m] \u001b[38;5;241m=\u001b[39m citoid_citations[\u001b[38;5;124m'\u001b[39m\u001b[38;5;124mauthor_citoid\u001b[39m\u001b[38;5;124m'\u001b[39m]\u001b[38;5;241m.\u001b[39mmap(\u001b[38;5;28;01mlambda\u001b[39;00m x : get_author_component(x, idx\u001b[38;5;241m=\u001b[39m\u001b[38;5;241m0\u001b[39m))\n",
      "File \u001b[0;32m/srv/paws/lib/python3.10/site-packages/pandas/core/frame.py:3505\u001b[0m, in \u001b[0;36mDataFrame.__getitem__\u001b[0;34m(self, key)\u001b[0m\n\u001b[1;32m   3503\u001b[0m \u001b[38;5;28;01mif\u001b[39;00m \u001b[38;5;28mself\u001b[39m\u001b[38;5;241m.\u001b[39mcolumns\u001b[38;5;241m.\u001b[39mnlevels \u001b[38;5;241m>\u001b[39m \u001b[38;5;241m1\u001b[39m:\n\u001b[1;32m   3504\u001b[0m     \u001b[38;5;28;01mreturn\u001b[39;00m \u001b[38;5;28mself\u001b[39m\u001b[38;5;241m.\u001b[39m_getitem_multilevel(key)\n\u001b[0;32m-> 3505\u001b[0m indexer \u001b[38;5;241m=\u001b[39m \u001b[38;5;28;43mself\u001b[39;49m\u001b[38;5;241;43m.\u001b[39;49m\u001b[43mcolumns\u001b[49m\u001b[38;5;241;43m.\u001b[39;49m\u001b[43mget_loc\u001b[49m\u001b[43m(\u001b[49m\u001b[43mkey\u001b[49m\u001b[43m)\u001b[49m\n\u001b[1;32m   3506\u001b[0m \u001b[38;5;28;01mif\u001b[39;00m is_integer(indexer):\n\u001b[1;32m   3507\u001b[0m     indexer \u001b[38;5;241m=\u001b[39m [indexer]\n",
      "File \u001b[0;32m/srv/paws/lib/python3.10/site-packages/pandas/core/indexes/base.py:3623\u001b[0m, in \u001b[0;36mIndex.get_loc\u001b[0;34m(self, key, method, tolerance)\u001b[0m\n\u001b[1;32m   3621\u001b[0m     \u001b[38;5;28;01mreturn\u001b[39;00m \u001b[38;5;28mself\u001b[39m\u001b[38;5;241m.\u001b[39m_engine\u001b[38;5;241m.\u001b[39mget_loc(casted_key)\n\u001b[1;32m   3622\u001b[0m \u001b[38;5;28;01mexcept\u001b[39;00m \u001b[38;5;167;01mKeyError\u001b[39;00m \u001b[38;5;28;01mas\u001b[39;00m err:\n\u001b[0;32m-> 3623\u001b[0m     \u001b[38;5;28;01mraise\u001b[39;00m \u001b[38;5;167;01mKeyError\u001b[39;00m(key) \u001b[38;5;28;01mfrom\u001b[39;00m \u001b[38;5;21;01merr\u001b[39;00m\n\u001b[1;32m   3624\u001b[0m \u001b[38;5;28;01mexcept\u001b[39;00m \u001b[38;5;167;01mTypeError\u001b[39;00m:\n\u001b[1;32m   3625\u001b[0m     \u001b[38;5;66;03m# If we have a listlike key, _check_indexing_error will raise\u001b[39;00m\n\u001b[1;32m   3626\u001b[0m     \u001b[38;5;66;03m#  InvalidIndexError. Otherwise we fall through and re-raise\u001b[39;00m\n\u001b[1;32m   3627\u001b[0m     \u001b[38;5;66;03m#  the TypeError.\u001b[39;00m\n\u001b[1;32m   3628\u001b[0m     \u001b[38;5;28mself\u001b[39m\u001b[38;5;241m.\u001b[39m_check_indexing_error(key)\n",
      "\u001b[0;31mKeyError\u001b[0m: 'title_citoid'"
     ]
    }
   ],
   "source": [
    "citoid_citations['title_citoid'] = citoid_citations['title_citoid'].map(normalize, na_action='ignore')\n",
    "citoid_citations['pub_source_citoid'] = citoid_citations['pub_source_citoid'].map(normalize, na_action='ignore')\n",
    "\n",
    "\n",
    "citoid_citations['author_first_citoid'] = citoid_citations['author_citoid'].map(lambda x : get_author_component(x, idx=0))\n",
    "citoid_citations['author_last_citoid'] = citoid_citations['author_citoid'].map(lambda x: get_author_component(x, idx=1))"
   ]
  },
  {
   "cell_type": "markdown",
   "metadata": {},
   "source": [
    "Reorder columns:"
   ]
  },
  {
   "cell_type": "code",
   "execution_count": null,
   "metadata": {
    "collapsed": true,
    "jupyter": {
     "outputs_hidden": true
    },
    "tags": []
   },
   "outputs": [
    {
     "data": {
      "text/html": [
       "<div>\n",
       "<style scoped>\n",
       "    .dataframe tbody tr th:only-of-type {\n",
       "        vertical-align: middle;\n",
       "    }\n",
       "\n",
       "    .dataframe tbody tr th {\n",
       "        vertical-align: top;\n",
       "    }\n",
       "\n",
       "    .dataframe thead th {\n",
       "        text-align: right;\n",
       "    }\n",
       "</style>\n",
       "<table border=\"1\" class=\"dataframe\">\n",
       "  <thead>\n",
       "    <tr style=\"text-align: right;\">\n",
       "      <th></th>\n",
       "      <th>url</th>\n",
       "      <th>source_type_citoid</th>\n",
       "      <th>title_citoid</th>\n",
       "      <th>author_citoid</th>\n",
       "      <th>author_first_citoid</th>\n",
       "      <th>author_last_citoid</th>\n",
       "      <th>pub_date_citoid</th>\n",
       "      <th>pub_source_citoid</th>\n",
       "    </tr>\n",
       "  </thead>\n",
       "  <tbody>\n",
       "    <tr>\n",
       "      <th>132472</th>\n",
       "      <td>https://books.google.com/books?id=J3UfAQAAMAAJ</td>\n",
       "      <td>book</td>\n",
       "      <td>the parties and the men, or, political issues of 1896: a history of our great parties from the beginning of the government to the present year. a record of bygone conventions and the various platf...</td>\n",
       "      <td>None</td>\n",
       "      <td>[]</td>\n",
       "      <td>[]</td>\n",
       "      <td>1896</td>\n",
       "      <td>robert o. law</td>\n",
       "    </tr>\n",
       "    <tr>\n",
       "      <th>73747</th>\n",
       "      <td>https://theinspirationroom.com/daily/2006/wii-for-all/</td>\n",
       "      <td>webpage</td>\n",
       "      <td>wii would like to play for nintendo launch</td>\n",
       "      <td>None</td>\n",
       "      <td>[]</td>\n",
       "      <td>[]</td>\n",
       "      <td>2006-12-10</td>\n",
       "      <td>the inspiration room</td>\n",
       "    </tr>\n",
       "    <tr>\n",
       "      <th>19373</th>\n",
       "      <td>https://www.gamespot.com/articles/blade-runner-blackout-2022-review/1100-6453687/</td>\n",
       "      <td>blogPost</td>\n",
       "      <td>blade runner blackout 2022 review</td>\n",
       "      <td>None</td>\n",
       "      <td>[]</td>\n",
       "      <td>[]</td>\n",
       "      <td>NaN</td>\n",
       "      <td>gamespot</td>\n",
       "    </tr>\n",
       "    <tr>\n",
       "      <th>10477</th>\n",
       "      <td>https://www.channel4.com/categories</td>\n",
       "      <td>webpage</td>\n",
       "      <td>categories - all 4</td>\n",
       "      <td>None</td>\n",
       "      <td>[]</td>\n",
       "      <td>[]</td>\n",
       "      <td>NaN</td>\n",
       "      <td>www.channel4.com</td>\n",
       "    </tr>\n",
       "    <tr>\n",
       "      <th>261340</th>\n",
       "      <td>https://www.thehindu.com/news/cities/Hyderabad/hyderabad-overtakes-bengaluru-in-it-office-space-occupation/article29480100.ece</td>\n",
       "      <td>newspaperArticle</td>\n",
       "      <td>hyderabad overtakes bengaluru in it office space occupation</td>\n",
       "      <td>[[, Special Correspondent]]</td>\n",
       "      <td>[]</td>\n",
       "      <td>[special correspondent]</td>\n",
       "      <td>2019-09-22</td>\n",
       "      <td>the hindu</td>\n",
       "    </tr>\n",
       "    <tr>\n",
       "      <th>30161</th>\n",
       "      <td>http://www.theguardian.com/commentisfree/libertycentral/2010/aug/05/rwanda-kagames-power-struggle</td>\n",
       "      <td>webpage</td>\n",
       "      <td>rwanda: kagame's power struggle | phil clark</td>\n",
       "      <td>None</td>\n",
       "      <td>[]</td>\n",
       "      <td>[]</td>\n",
       "      <td>2010-08-05</td>\n",
       "      <td>the guardian</td>\n",
       "    </tr>\n",
       "  </tbody>\n",
       "</table>\n",
       "</div>"
      ],
      "text/plain": [
       "                                                                                                                                   url  \\\n",
       "132472                                                                                  https://books.google.com/books?id=J3UfAQAAMAAJ   \n",
       "73747                                                                           https://theinspirationroom.com/daily/2006/wii-for-all/   \n",
       "19373                                                https://www.gamespot.com/articles/blade-runner-blackout-2022-review/1100-6453687/   \n",
       "10477                                                                                              https://www.channel4.com/categories   \n",
       "261340  https://www.thehindu.com/news/cities/Hyderabad/hyderabad-overtakes-bengaluru-in-it-office-space-occupation/article29480100.ece   \n",
       "30161                                http://www.theguardian.com/commentisfree/libertycentral/2010/aug/05/rwanda-kagames-power-struggle   \n",
       "\n",
       "       source_type_citoid  \\\n",
       "132472               book   \n",
       "73747             webpage   \n",
       "19373            blogPost   \n",
       "10477             webpage   \n",
       "261340   newspaperArticle   \n",
       "30161             webpage   \n",
       "\n",
       "                                                                                                                                                                                                   title_citoid  \\\n",
       "132472  the parties and the men, or, political issues of 1896: a history of our great parties from the beginning of the government to the present year. a record of bygone conventions and the various platf...   \n",
       "73747                                                                                                                                                                wii would like to play for nintendo launch   \n",
       "19373                                                                                                                                                                         blade runner blackout 2022 review   \n",
       "10477                                                                                                                                                                                        categories - all 4   \n",
       "261340                                                                                                                                              hyderabad overtakes bengaluru in it office space occupation   \n",
       "30161                                                                                                                                                              rwanda: kagame's power struggle | phil clark   \n",
       "\n",
       "                      author_citoid author_first_citoid  \\\n",
       "132472                         None                  []   \n",
       "73747                          None                  []   \n",
       "19373                          None                  []   \n",
       "10477                          None                  []   \n",
       "261340  [[, Special Correspondent]]                  []   \n",
       "30161                          None                  []   \n",
       "\n",
       "             author_last_citoid pub_date_citoid     pub_source_citoid  \n",
       "132472                       []            1896         robert o. law  \n",
       "73747                        []      2006-12-10  the inspiration room  \n",
       "19373                        []             NaN              gamespot  \n",
       "10477                        []             NaN      www.channel4.com  \n",
       "261340  [special correspondent]      2019-09-22             the hindu  \n",
       "30161                        []      2010-08-05          the guardian  "
      ]
     },
     "execution_count": 91,
     "metadata": {},
     "output_type": "execute_result"
    }
   ],
   "source": [
    "citoid_citations = citoid_citations[['url', 'url_citoid', 'source_type_citoid', 'title_citoid', 'author_citoid', \n",
    "                                    'author_first_citoid', 'author_last_citoid', 'pub_date_citoid', 'pub_source_citoid']]\n",
    "citoid_citations.sample(6)"
   ]
  },
  {
   "cell_type": "code",
   "execution_count": null,
   "metadata": {},
   "outputs": [],
   "source": [
    "#citoid_citations[\"url\"].value_counts() #deberian ser todos 1s ### REVISAR"
   ]
  },
  {
   "cell_type": "code",
   "execution_count": null,
   "metadata": {},
   "outputs": [],
   "source": [
    "citoid_citations.to_csv('data/citoid_citations_normalized.csv.gz', index=False)"
   ]
  },
  {
   "cell_type": "code",
   "execution_count": null,
   "metadata": {},
   "outputs": [],
   "source": []
  },
  {
   "cell_type": "markdown",
   "metadata": {},
   "source": [
    "## 5. Evaluation"
   ]
  },
  {
   "cell_type": "markdown",
   "metadata": {
    "jupyter": {
     "outputs_hidden": true
    },
    "tags": []
   },
   "source": [
    "In this section, we compare and evaluate the response from Citoid with the values obtained from the manual citations for each URL.\n",
    "\n",
    "First, we load the manual citations and the citations from Citoid:"
   ]
  },
  {
   "cell_type": "code",
   "execution_count": 3,
   "metadata": {
    "collapsed": true,
    "jupyter": {
     "outputs_hidden": true
    },
    "tags": []
   },
   "outputs": [
    {
     "ename": "NameError",
     "evalue": "name 'pd' is not defined",
     "output_type": "error",
     "traceback": [
      "\u001b[0;31m---------------------------------------------------------------------------\u001b[0m",
      "\u001b[0;31mNameError\u001b[0m                                 Traceback (most recent call last)",
      "Input \u001b[0;32mIn [3]\u001b[0m, in \u001b[0;36m<cell line: 7>\u001b[0;34m()\u001b[0m\n\u001b[1;32m      1\u001b[0m \u001b[38;5;66;03m# manual_citations = pd.read_csv('citations_metadata_tidy.csv.gz', converters = {**dict.fromkeys(['title', 'source_type_map',\u001b[39;00m\n\u001b[1;32m      2\u001b[0m \u001b[38;5;66;03m#                                                                                              'author_last_clean',\u001b[39;00m\n\u001b[1;32m      3\u001b[0m \u001b[38;5;66;03m#                                                                                              'author_first_clean',\u001b[39;00m\n\u001b[1;32m      4\u001b[0m \u001b[38;5;66;03m#                                                                                              'pub_date_clean',\u001b[39;00m\n\u001b[1;32m      5\u001b[0m \u001b[38;5;66;03m#                                                                                              'pub_source_clean'], literal_eval),})\u001b[39;00m\n\u001b[0;32m----> 7\u001b[0m manual_citations \u001b[38;5;241m=\u001b[39m \u001b[43mpd\u001b[49m\u001b[38;5;241m.\u001b[39mread_csv(\u001b[38;5;124m'\u001b[39m\u001b[38;5;124mcitations_metadata_tidy_title_list.csv.gz\u001b[39m\u001b[38;5;124m'\u001b[39m)\n\u001b[1;32m      8\u001b[0m cols \u001b[38;5;241m=\u001b[39m [\u001b[38;5;124m'\u001b[39m\u001b[38;5;124mtitle\u001b[39m\u001b[38;5;124m'\u001b[39m, \n\u001b[1;32m      9\u001b[0m         \u001b[38;5;124m'\u001b[39m\u001b[38;5;124msource_type_map\u001b[39m\u001b[38;5;124m'\u001b[39m,\n\u001b[1;32m     10\u001b[0m         \u001b[38;5;124m'\u001b[39m\u001b[38;5;124mauthor_last_clean\u001b[39m\u001b[38;5;124m'\u001b[39m,\n\u001b[1;32m     11\u001b[0m         \u001b[38;5;124m'\u001b[39m\u001b[38;5;124mauthor_first_clean\u001b[39m\u001b[38;5;124m'\u001b[39m,\n\u001b[1;32m     12\u001b[0m         \u001b[38;5;124m'\u001b[39m\u001b[38;5;124mpub_date_clean\u001b[39m\u001b[38;5;124m'\u001b[39m,\n\u001b[1;32m     13\u001b[0m         \u001b[38;5;124m'\u001b[39m\u001b[38;5;124mpub_source_clean\u001b[39m\u001b[38;5;124m'\u001b[39m]\n\u001b[1;32m     15\u001b[0m \u001b[38;5;28;01mfor\u001b[39;00m col \u001b[38;5;129;01min\u001b[39;00m cols:\n",
      "\u001b[0;31mNameError\u001b[0m: name 'pd' is not defined"
     ]
    }
   ],
   "source": [
    "manual_citations = pd.read_csv('data/citations_metadata_normalized.csv.gz')\n",
    "cols = ['title', \n",
    "        'source_type_map',\n",
    "        'author_last_clean',\n",
    "        'author_first_clean',\n",
    "        'pub_date_clean',\n",
    "        'pub_source_clean']\n",
    "\n",
    "for col in cols:\n",
    "    manual_citations[col] = manual_citations[col].fillna('None').map(eval)"
   ]
  },
  {
   "cell_type": "code",
   "execution_count": 5,
   "metadata": {
    "tags": []
   },
   "outputs": [],
   "source": [
    "cols = ['author_last_citoid','author_first_citoid']\n",
    "\n",
    "citoid_citations = pd.read_csv('data/citoid_citations_normalized.csv.gz')\n",
    "for col in cols:\n",
    "    citoid_citations[col] = citoid_citations[col].fillna('None').map(eval)"
   ]
  },
  {
   "cell_type": "code",
   "execution_count": 6,
   "metadata": {},
   "outputs": [
    {
     "data": {
      "text/plain": [
       "(287838, 9)"
      ]
     },
     "execution_count": 6,
     "metadata": {},
     "output_type": "execute_result"
    }
   ],
   "source": [
    "citoid_citations.shape"
   ]
  },
  {
   "cell_type": "code",
   "execution_count": 7,
   "metadata": {},
   "outputs": [
    {
     "data": {
      "text/plain": [
       "(282543, 9)"
      ]
     },
     "execution_count": 7,
     "metadata": {},
     "output_type": "execute_result"
    }
   ],
   "source": [
    "### NH\n",
    "## NOTA IMPORTANTE \n",
    "## Este dataset no deberia tener URLs duplicadas. Hay que chequear esas 5k urls duplicadas\n",
    "citoid_citations = citoid_citations.drop_duplicates(subset=\"url\")\n",
    "citoid_citations.shape"
   ]
  },
  {
   "cell_type": "markdown",
   "metadata": {},
   "source": [
    "We merge the dataframes and keep only the URL and the columns that are useful for the evaluation:"
   ]
  },
  {
   "cell_type": "code",
   "execution_count": 8,
   "metadata": {
    "collapsed": true,
    "jupyter": {
     "outputs_hidden": true
    },
    "tags": []
   },
   "outputs": [
    {
     "data": {
      "text/html": [
       "<div>\n",
       "<style scoped>\n",
       "    .dataframe tbody tr th:only-of-type {\n",
       "        vertical-align: middle;\n",
       "    }\n",
       "\n",
       "    .dataframe tbody tr th {\n",
       "        vertical-align: top;\n",
       "    }\n",
       "\n",
       "    .dataframe thead th {\n",
       "        text-align: right;\n",
       "    }\n",
       "</style>\n",
       "<table border=\"1\" class=\"dataframe\">\n",
       "  <thead>\n",
       "    <tr style=\"text-align: right;\">\n",
       "      <th></th>\n",
       "      <th>url</th>\n",
       "      <th>url_citoid</th>\n",
       "      <th>source_type_citoid</th>\n",
       "      <th>title_citoid</th>\n",
       "      <th>author_first_citoid</th>\n",
       "      <th>author_last_citoid</th>\n",
       "      <th>pub_date_citoid</th>\n",
       "      <th>pub_source_citoid</th>\n",
       "      <th>source_type_manual</th>\n",
       "      <th>title_manual</th>\n",
       "      <th>author_last_manual</th>\n",
       "      <th>author_first_manual</th>\n",
       "      <th>pub_date_manual</th>\n",
       "      <th>pub_source_manual</th>\n",
       "      <th>article_url</th>\n",
       "      <th>page_id</th>\n",
       "      <th>revid</th>\n",
       "      <th>wiki_lang</th>\n",
       "    </tr>\n",
       "  </thead>\n",
       "  <tbody>\n",
       "    <tr>\n",
       "      <th>135156</th>\n",
       "      <td>https://www.scientificamerican.com/article/tim...</td>\n",
       "      <td>https://www.scientificamerican.com/article/tim...</td>\n",
       "      <td>webpage</td>\n",
       "      <td>it's time to rethink america's corn system</td>\n",
       "      <td>[jonathan]</td>\n",
       "      <td>[foley]</td>\n",
       "      <td>None</td>\n",
       "      <td>scientific american</td>\n",
       "      <td>[blogPost, email, forumPost, webpage]</td>\n",
       "      <td>it's time to rethink america's corn system</td>\n",
       "      <td>[foley]</td>\n",
       "      <td>[jonathan]</td>\n",
       "      <td>[2013-03-05]</td>\n",
       "      <td>[scientific american]</td>\n",
       "      <td>https://en.wikipedia.org/wiki/Sustainable%20en...</td>\n",
       "      <td>1055890</td>\n",
       "      <td>1070285008</td>\n",
       "      <td>en</td>\n",
       "    </tr>\n",
       "    <tr>\n",
       "      <th>40171</th>\n",
       "      <td>https://blog.us.playstation.com/2013/06/18/pla...</td>\n",
       "      <td>https://blog.us.playstation.com/2013/06/18/pla...</td>\n",
       "      <td>newspaperArticle</td>\n",
       "      <td>playstation store update</td>\n",
       "      <td>None</td>\n",
       "      <td>None</td>\n",
       "      <td>2013-06-18</td>\n",
       "      <td>playstation.blog</td>\n",
       "      <td>[blogPost, email, forumPost, webpage]</td>\n",
       "      <td>playstation store update</td>\n",
       "      <td>[chen]</td>\n",
       "      <td>[grace]</td>\n",
       "      <td>[2013-06-18]</td>\n",
       "      <td>[sony computer entertainment america]</td>\n",
       "      <td>https://en.wikipedia.org/wiki/God%20of%20War%3...</td>\n",
       "      <td>35547704</td>\n",
       "      <td>1070732574</td>\n",
       "      <td>en</td>\n",
       "    </tr>\n",
       "    <tr>\n",
       "      <th>13287</th>\n",
       "      <td>http://www.fhwa.dot.gov/planning/national_high...</td>\n",
       "      <td>https://www.fhwa.dot.gov/planning/national_hig...</td>\n",
       "      <td>webpage</td>\n",
       "      <td>national highway system - planning - fhwa</td>\n",
       "      <td>None</td>\n",
       "      <td>None</td>\n",
       "      <td>None</td>\n",
       "      <td>www.fhwa.dot.gov</td>\n",
       "      <td>[blogPost, email, forumPost, webpage]</td>\n",
       "      <td>what is the national highway system?</td>\n",
       "      <td>[natzke, neathery, adderly]</td>\n",
       "      <td>[stefan, mike, kevin]</td>\n",
       "      <td>[2012-06-20]</td>\n",
       "      <td>[federal highway administration]</td>\n",
       "      <td>https://en.wikipedia.org/wiki/Interstate%20675...</td>\n",
       "      <td>1624489</td>\n",
       "      <td>1057652652</td>\n",
       "      <td>en</td>\n",
       "    </tr>\n",
       "    <tr>\n",
       "      <th>207887</th>\n",
       "      <td>https://www.centauri-dreams.org/2010/09/01/int...</td>\n",
       "      <td>https://www.centauri-dreams.org/2010/09/01/int...</td>\n",
       "      <td>webpage</td>\n",
       "      <td>into the interstellar void</td>\n",
       "      <td>None</td>\n",
       "      <td>None</td>\n",
       "      <td>None</td>\n",
       "      <td>www.centauri-dreams.org</td>\n",
       "      <td>[blogPost, email, forumPost, podcast, videoRec...</td>\n",
       "      <td>into the interstellar void</td>\n",
       "      <td>[paul gilster]</td>\n",
       "      <td>[]</td>\n",
       "      <td>[2010-01-09]</td>\n",
       "      <td>[centauri-dreams.org]</td>\n",
       "      <td>https://fr.wikipedia.org/wiki/Syst%C3%A8me%20s...</td>\n",
       "      <td>1769188</td>\n",
       "      <td>190629976</td>\n",
       "      <td>fr</td>\n",
       "    </tr>\n",
       "    <tr>\n",
       "      <th>222581</th>\n",
       "      <td>http://www.npr.org/2011/11/23/142700464/robert...</td>\n",
       "      <td>http://www.npr.org/2011/11/23/142700464/robert...</td>\n",
       "      <td>newspaperArticle</td>\n",
       "      <td>robert johnson and pablo casals' game-changers...</td>\n",
       "      <td>None</td>\n",
       "      <td>None</td>\n",
       "      <td>None</td>\n",
       "      <td>npr.org</td>\n",
       "      <td>[blogPost, email, forumPost, webpage]</td>\n",
       "      <td>robert johnson and pablo casals' game changers...</td>\n",
       "      <td>[{{versalita|richman}}, freemark, george, shap...</td>\n",
       "      <td>[joe, samara, deborah, ben]</td>\n",
       "      <td>[]</td>\n",
       "      <td>[national public radio]</td>\n",
       "      <td>https://es.wikipedia.org/wiki/Johann%20Sebasti...</td>\n",
       "      <td>1591</td>\n",
       "      <td>140461352</td>\n",
       "      <td>es</td>\n",
       "    </tr>\n",
       "    <tr>\n",
       "      <th>277066</th>\n",
       "      <td>http://latimesblogs.latimes.com/gossip/2010/03...</td>\n",
       "      <td>https://latimesblogs.latimes.com/gossip/2010/0...</td>\n",
       "      <td>blogPost</td>\n",
       "      <td>lady gaga, beyonce world premiere their 'telep...</td>\n",
       "      <td>None</td>\n",
       "      <td>None</td>\n",
       "      <td>2010-03-11</td>\n",
       "      <td>la times blogs - ministry of gossip</td>\n",
       "      <td>[conferencePaper, interview, journalArticle, m...</td>\n",
       "      <td>lady gaga, beyonce world premiere their \"''tel...</td>\n",
       "      <td>[donnelly]</td>\n",
       "      <td>[matt]</td>\n",
       "      <td>[2010-07-08]</td>\n",
       "      <td>[los angeles times, tribune company]</td>\n",
       "      <td>https://fr.wikipedia.org/wiki/Telephone%20%28c...</td>\n",
       "      <td>4269489</td>\n",
       "      <td>186039634</td>\n",
       "      <td>fr</td>\n",
       "    </tr>\n",
       "  </tbody>\n",
       "</table>\n",
       "</div>"
      ],
      "text/plain": [
       "                                                      url  \\\n",
       "135156  https://www.scientificamerican.com/article/tim...   \n",
       "40171   https://blog.us.playstation.com/2013/06/18/pla...   \n",
       "13287   http://www.fhwa.dot.gov/planning/national_high...   \n",
       "207887  https://www.centauri-dreams.org/2010/09/01/int...   \n",
       "222581  http://www.npr.org/2011/11/23/142700464/robert...   \n",
       "277066  http://latimesblogs.latimes.com/gossip/2010/03...   \n",
       "\n",
       "                                               url_citoid source_type_citoid  \\\n",
       "135156  https://www.scientificamerican.com/article/tim...            webpage   \n",
       "40171   https://blog.us.playstation.com/2013/06/18/pla...   newspaperArticle   \n",
       "13287   https://www.fhwa.dot.gov/planning/national_hig...            webpage   \n",
       "207887  https://www.centauri-dreams.org/2010/09/01/int...            webpage   \n",
       "222581  http://www.npr.org/2011/11/23/142700464/robert...   newspaperArticle   \n",
       "277066  https://latimesblogs.latimes.com/gossip/2010/0...           blogPost   \n",
       "\n",
       "                                             title_citoid author_first_citoid  \\\n",
       "135156         it's time to rethink america's corn system          [jonathan]   \n",
       "40171                            playstation store update                None   \n",
       "13287           national highway system - planning - fhwa                None   \n",
       "207887                         into the interstellar void                None   \n",
       "222581  robert johnson and pablo casals' game-changers...                None   \n",
       "277066  lady gaga, beyonce world premiere their 'telep...                None   \n",
       "\n",
       "       author_last_citoid pub_date_citoid  \\\n",
       "135156            [foley]            None   \n",
       "40171                None      2013-06-18   \n",
       "13287                None            None   \n",
       "207887               None            None   \n",
       "222581               None            None   \n",
       "277066               None      2010-03-11   \n",
       "\n",
       "                          pub_source_citoid  \\\n",
       "135156                  scientific american   \n",
       "40171                      playstation.blog   \n",
       "13287                      www.fhwa.dot.gov   \n",
       "207887              www.centauri-dreams.org   \n",
       "222581                              npr.org   \n",
       "277066  la times blogs - ministry of gossip   \n",
       "\n",
       "                                       source_type_manual  \\\n",
       "135156              [blogPost, email, forumPost, webpage]   \n",
       "40171               [blogPost, email, forumPost, webpage]   \n",
       "13287               [blogPost, email, forumPost, webpage]   \n",
       "207887  [blogPost, email, forumPost, podcast, videoRec...   \n",
       "222581              [blogPost, email, forumPost, webpage]   \n",
       "277066  [conferencePaper, interview, journalArticle, m...   \n",
       "\n",
       "                                             title_manual  \\\n",
       "135156         it's time to rethink america's corn system   \n",
       "40171                            playstation store update   \n",
       "13287                what is the national highway system?   \n",
       "207887                         into the interstellar void   \n",
       "222581  robert johnson and pablo casals' game changers...   \n",
       "277066  lady gaga, beyonce world premiere their \"''tel...   \n",
       "\n",
       "                                       author_last_manual  \\\n",
       "135156                                            [foley]   \n",
       "40171                                              [chen]   \n",
       "13287                         [natzke, neathery, adderly]   \n",
       "207887                                     [paul gilster]   \n",
       "222581  [{{versalita|richman}}, freemark, george, shap...   \n",
       "277066                                         [donnelly]   \n",
       "\n",
       "                author_first_manual pub_date_manual  \\\n",
       "135156                   [jonathan]    [2013-03-05]   \n",
       "40171                       [grace]    [2013-06-18]   \n",
       "13287         [stefan, mike, kevin]    [2012-06-20]   \n",
       "207887                           []    [2010-01-09]   \n",
       "222581  [joe, samara, deborah, ben]              []   \n",
       "277066                       [matt]    [2010-07-08]   \n",
       "\n",
       "                            pub_source_manual  \\\n",
       "135156                  [scientific american]   \n",
       "40171   [sony computer entertainment america]   \n",
       "13287        [federal highway administration]   \n",
       "207887                  [centauri-dreams.org]   \n",
       "222581                [national public radio]   \n",
       "277066   [los angeles times, tribune company]   \n",
       "\n",
       "                                              article_url   page_id  \\\n",
       "135156  https://en.wikipedia.org/wiki/Sustainable%20en...   1055890   \n",
       "40171   https://en.wikipedia.org/wiki/God%20of%20War%3...  35547704   \n",
       "13287   https://en.wikipedia.org/wiki/Interstate%20675...   1624489   \n",
       "207887  https://fr.wikipedia.org/wiki/Syst%C3%A8me%20s...   1769188   \n",
       "222581  https://es.wikipedia.org/wiki/Johann%20Sebasti...      1591   \n",
       "277066  https://fr.wikipedia.org/wiki/Telephone%20%28c...   4269489   \n",
       "\n",
       "             revid wiki_lang  \n",
       "135156  1070285008        en  \n",
       "40171   1070732574        en  \n",
       "13287   1057652652        en  \n",
       "207887   190629976        fr  \n",
       "222581   140461352        es  \n",
       "277066   186039634        fr  "
      ]
     },
     "execution_count": 8,
     "metadata": {},
     "output_type": "execute_result"
    }
   ],
   "source": [
    "comparison = citoid_citations.merge(manual_citations, on=\"url\", how=\"inner\")\n",
    "\n",
    "# Select columns \n",
    "comparison = comparison[['url', 'url_citoid', 'source_type_citoid', 'title_citoid',\n",
    "       'author_first_citoid', 'author_last_citoid','pub_date_citoid', 'pub_source_citoid', \n",
    "       'source_type_map', 'title_clean', 'author_last_clean', 'author_first_clean',  \n",
    "        'pub_date_clean', 'pub_source_clean', 'article_url', 'page_id', 'revid', 'wiki_lang']]\n",
    "\n",
    "# Rename columns\n",
    "comparison = comparison.rename(columns=\n",
    "        {'source_type_map': 'source_type_manual', \n",
    "        'title_clean': 'title_manual',\n",
    "        'author_first_clean': 'author_first_manual',\n",
    "         'author_last_clean': 'author_last_manual',\n",
    "        'pub_date_clean': 'pub_date_manual',\n",
    "        'pub_source_clean': 'pub_source_manual'\n",
    "        })\n",
    "\n",
    "# Replace NaN with None\n",
    "comparison = comparison.replace({np.nan:None})\n",
    "\n",
    "comparison.sample(6)"
   ]
  },
  {
   "cell_type": "code",
   "execution_count": 13,
   "metadata": {},
   "outputs": [],
   "source": [
    "#comparison.to_csv(\"data/merge_citoid_manual.csv.gz\", index=False)"
   ]
  },
  {
   "cell_type": "markdown",
   "metadata": {},
   "source": [
    "Here we define the general comparison method that calls the particular functions according to the type of data to compare. Scores go from 1 (Citoid's response is a complete match of the data from the manual citation) to 0 (no match).  There are two main approaches:\n",
    "\n",
    "1. in the first one, we check if there is a coincidence between the data from Citoid and the manual data. This is the case for fields having more structured information (source type and publishing date)\n",
    "2. in the second approach, we measure the similarity between the response from Citoid and the manual data by calculating the edit distance. This is the case for fields having less structured data (title, publishing source, author first and author last) "
   ]
  },
  {
   "cell_type": "markdown",
   "metadata": {},
   "source": [
    "In the following cell, the general comparison function first evaluates the cases of absent data (perfect score if missing information in both sides, 0 if data is missing in one side only). Then, it considers the field type in order to call specific comparison functions adapted to each data type: \"compare_bool\", \"compare_dates\", \"compare_string_list\" and \"compare_lists\"."
   ]
  },
  {
   "cell_type": "code",
   "execution_count": 11,
   "metadata": {
    "tags": []
   },
   "outputs": [],
   "source": [
    "def is_absent(el):\n",
    "    return (not el) or type(el) == 'NoneType'\n",
    "\n",
    "def compare(citoid_data, manual_data, fieldname):\n",
    "    if is_absent(citoid_data) and is_absent(manual_data):\n",
    "        score = 1\n",
    "    \n",
    "    elif is_absent(citoid_data) or is_absent(manual_data):\n",
    "        score = 0\n",
    "    \n",
    "    else:\n",
    "        if fieldname == 'source_type':\n",
    "            score = compare_bool(citoid_data, manual_data)\n",
    "        elif fieldname == 'pub_date':\n",
    "            score = compare_dates(citoid_data, manual_data)\n",
    "        elif fieldname == 'title' or fieldname == 'pub_source':\n",
    "            score = compare_string_list(citoid_data, manual_data)\n",
    "        else:\n",
    "            score = compare_lists(citoid_data, manual_data)\n",
    "            \n",
    "    return score\n"
   ]
  },
  {
   "cell_type": "markdown",
   "metadata": {
    "tags": []
   },
   "source": [
    "### 5.1 Exact match comparison\n",
    "\n",
    "#### Source type"
   ]
  },
  {
   "cell_type": "markdown",
   "metadata": {},
   "source": [
    "The evaluation of the source type is done via the **compare_bool** function. Let's see a sample of the source type data returned by Citoid and the source type data identified by Wikipedia's editors to better understand the evaluation principle:"
   ]
  },
  {
   "cell_type": "code",
   "execution_count": 4,
   "metadata": {},
   "outputs": [
    {
     "data": {
      "text/html": [
       "<div>\n",
       "<style scoped>\n",
       "    .dataframe tbody tr th:only-of-type {\n",
       "        vertical-align: middle;\n",
       "    }\n",
       "\n",
       "    .dataframe tbody tr th {\n",
       "        vertical-align: top;\n",
       "    }\n",
       "\n",
       "    .dataframe thead th {\n",
       "        text-align: right;\n",
       "    }\n",
       "</style>\n",
       "<table border=\"1\" class=\"dataframe\">\n",
       "  <thead>\n",
       "    <tr style=\"text-align: right;\">\n",
       "      <th></th>\n",
       "      <th>source_type_citoid</th>\n",
       "      <th>source_type_manual</th>\n",
       "    </tr>\n",
       "  </thead>\n",
       "  <tbody>\n",
       "    <tr>\n",
       "      <th>141471</th>\n",
       "      <td>book</td>\n",
       "      <td>[]</td>\n",
       "    </tr>\n",
       "    <tr>\n",
       "      <th>92526</th>\n",
       "      <td>webpage</td>\n",
       "      <td>['blogPost', 'email', 'forumPost', 'webpage']</td>\n",
       "    </tr>\n",
       "    <tr>\n",
       "      <th>221738</th>\n",
       "      <td>webpage</td>\n",
       "      <td>['conferencePaper', 'dictionaryEntry', 'encycl...</td>\n",
       "    </tr>\n",
       "    <tr>\n",
       "      <th>174345</th>\n",
       "      <td>webpage</td>\n",
       "      <td>['blogPost', 'email', 'forumPost', 'webpage']</td>\n",
       "    </tr>\n",
       "    <tr>\n",
       "      <th>85958</th>\n",
       "      <td>webpage</td>\n",
       "      <td>['blogPost', 'email', 'forumPost', 'podcast', ...</td>\n",
       "    </tr>\n",
       "    <tr>\n",
       "      <th>200700</th>\n",
       "      <td>webpage</td>\n",
       "      <td>['book', 'manuscript']</td>\n",
       "    </tr>\n",
       "  </tbody>\n",
       "</table>\n",
       "</div>"
      ],
      "text/plain": [
       "       source_type_citoid                                 source_type_manual\n",
       "141471               book                                                 []\n",
       "92526             webpage      ['blogPost', 'email', 'forumPost', 'webpage']\n",
       "221738            webpage  ['conferencePaper', 'dictionaryEntry', 'encycl...\n",
       "174345            webpage      ['blogPost', 'email', 'forumPost', 'webpage']\n",
       "85958             webpage  ['blogPost', 'email', 'forumPost', 'podcast', ...\n",
       "200700            webpage                             ['book', 'manuscript']"
      ]
     },
     "execution_count": 4,
     "metadata": {},
     "output_type": "execute_result"
    }
   ],
   "source": [
    "comparison[[\"source_type_citoid\", \"source_type_manual\"]].sample(6)"
   ]
  },
  {
   "cell_type": "markdown",
   "metadata": {},
   "source": [
    "There is a single value on Citoid's side and a list of a limited set of values on the manual citations side (see section 4. Data normalization, for an explanation of this mapping). Consequently, the comparison of the source type is a simple boolean verification: if the response from Citoid is contained in the manual data for source type, the score is 1; if it is absent, the score is 0. "
   ]
  },
  {
   "cell_type": "code",
   "execution_count": 12,
   "metadata": {},
   "outputs": [],
   "source": [
    "def compare_bool(source_type_citoid, source_type_manual):\n",
    "    '''\n",
    "    source_type_citoid: string\n",
    "    source_type_manual: list. Limited set of elements\n",
    "    '''\n",
    "    return int(source_type_citoid in source_type_manual)"
   ]
  },
  {
   "cell_type": "markdown",
   "metadata": {},
   "source": [
    "#### Publishing date\n",
    "\n",
    "In the case of the date information, there is a unique date in Citoid's side and a list of possible dates in the manual citations side (date information can be under different parameters of the citation template, see section 2. Citation template metadata extraction). If different date values appear in the manual data, we keep the score of the best match.\n",
    "\n",
    "For the evaluation, **compare_dates** first considers if the full date from Citoid matches any of the manual dates (score = 1); second, it evaluates if the year matches (score = 0.7); otherwise, it sets the score to 0. Hence, the result of this comparison gives discrete values, as for the source type. \n",
    "\n",
    "In order to simplify the interpretation of year match results, these computations will be splitted in different columns later (see 5.5 Applying comparison methods). "
   ]
  },
  {
   "cell_type": "code",
   "execution_count": 15,
   "metadata": {},
   "outputs": [],
   "source": [
    "def get_year(s):\n",
    "    return s.split('-')[0]\n",
    "\n",
    "only_year_score = 0.7\n",
    "\n",
    "def compare_dates(pub_date_citoid, pub_date_manual):\n",
    "    '''\n",
    "    pub_date_citoid: string YY-MM-DD|YY-MM|YY\n",
    "    pub_date_manual: list of strings YY-MM-DD\n",
    "    '''\n",
    "    score = 0\n",
    "    if pub_date_citoid in pub_date_manual:\n",
    "        score = 1\n",
    "    else:\n",
    "        scores = []\n",
    "        year_citoid = get_year(pub_date_citoid)\n",
    "        for element in pub_date_manual:\n",
    "            year_manual = get_year(element)\n",
    "            if year_citoid == year_manual:\n",
    "                scores.append(only_year_score)\n",
    "                break\n",
    "            else:\n",
    "                scores.append(0)\n",
    "        score = max(scores)\n",
    "\n",
    "    return score"
   ]
  },
  {
   "cell_type": "markdown",
   "metadata": {},
   "source": [
    "### 5.2 Edit distance comparison"
   ]
  },
  {
   "cell_type": "markdown",
   "metadata": {},
   "source": [
    "To evaluate Citoid's responses for non structured fields (title, publishing source and author first and author last), **compare_strings** calculates the edit distance (a measure of the number of edits to do to arrive from one string to another) between Citoid's data and the manual data. The resulting score is a continuous range of values going from 1 (full match) to 0 (complete difference)."
   ]
  },
  {
   "cell_type": "code",
   "execution_count": 13,
   "metadata": {},
   "outputs": [],
   "source": [
    "def compare_strings(s1, s2):\n",
    "    '''Calculates Levenstein distance between two strings'''\n",
    "    if s1 and s2:\n",
    "        denominator = max(len(s1), len(s2))\n",
    "        score = 1 - edit_distance(s1, s2, transpositions=True)/denominator\n",
    "        return round(score, 2)\n",
    "    else:\n",
    "        return 0"
   ]
  },
  {
   "cell_type": "markdown",
   "metadata": {},
   "source": [
    "#### Title and publishing source\n",
    "\n",
    "For these fields, the data in Citoid's side is a string and the data in the manual side is a list of one or more elements. In the case of having different values in the manual data, we keep the score of the best match."
   ]
  },
  {
   "cell_type": "code",
   "execution_count": 14,
   "metadata": {
    "tags": []
   },
   "outputs": [],
   "source": [
    "def compare_string_list(s, li):\n",
    "    '''\n",
    "    Calculates Levenstein distance between a string and each element of a list of strings\n",
    "    '''\n",
    "    scores = []\n",
    "    for element in li:\n",
    "        scores.append(compare_strings(s, element))\n",
    "        \n",
    "    return max(scores)"
   ]
  },
  {
   "cell_type": "markdown",
   "metadata": {},
   "source": [
    "#### Author\n",
    "\n",
    "Author first and author last are the only fields where we have lists on both sides of our comparison because a citation can have several authors. Citoid's data and the manual data can be in different order or one of the lists can have missing information.\n",
    "\n",
    "The comparison method for the author fields faces these difficulties using a permutation strategy: **compare_lists** creates permutations of the manual data, previously adding empty elements to the shortest list in the case of having lists of different length. Then, it compares each element in Citoid's data to the corresponding element in the permutted list measuring the edit distance. For each element, we have several scores resulting from the comparison of each permutation, so we first calculate the average score for the element and finally we keep the best score of the permutations.\n",
    "\n",
    "The number of permutations grows fast depending on the length of the list. For example, the permutations for a list of 3 elements give 6 possibilities but the permutations for a list of 8 elements give 40320 possibilities. Managing the comparison for this number of permutations becomes too demanding for the memory, this is why **compare_lists** does not process lists of more than 6 elements (citations of more than 6 elements in author_first or author_last represent 0.08%)."
   ]
  },
  {
   "cell_type": "code",
   "execution_count": 16,
   "metadata": {},
   "outputs": [],
   "source": [
    "max_possible_score = 1\n",
    "\n",
    "def compare_lists(au_citoid, au_manual):\n",
    "    '''\n",
    "    au_citoid: list of strings\n",
    "    au_manual: list of strings\n",
    "    Calculates Levenstein distance between i element of au_citoid and i element of each permutation of au_manual.\n",
    "    '''\n",
    "    \n",
    "    if len(au_manual) > 6:\n",
    "        # NOTE: Permutations of more than 6 elements are too demanding \n",
    "        # in terms of processing so we ignore those cases\n",
    "        return None\n",
    "    else:\n",
    "        # Create lists having the same len\n",
    "        shortest = min( [au_manual, au_citoid], key=len)\n",
    "        missing_el_nr = abs( len(au_citoid) - len(au_manual) )\n",
    "        shortest.extend([''] * missing_el_nr)\n",
    "        \n",
    "        best_score = 0\n",
    "\n",
    "        for permutation in permutations(au_manual):\n",
    "            # permutation is a list of N strings\n",
    "            # au_citoid is a list of N strings\n",
    "            element_scores = []\n",
    "            for permu_element, citoid_element in zip(permutation, au_citoid):\n",
    "                element_scores.append(compare_strings(permu_element, citoid_element))\n",
    "            permu_score = sum(element_scores)/len(element_scores)\n",
    "            \n",
    "            best_score = max(best_score, permu_score)\n",
    "            \n",
    "            if best_score == max_possible_score:\n",
    "                break\n",
    "            \n",
    "        return round(best_score, 2)"
   ]
  },
  {
   "cell_type": "markdown",
   "metadata": {},
   "source": [
    "### 5.5 Applying comparison methods"
   ]
  },
  {
   "cell_type": "markdown",
   "metadata": {},
   "source": [
    "Here we apply the comparison methods to each field, starting by comparing the title data. Title comparison demands some processing time because of the Levenshtein calculations on strings of a certain length."
   ]
  },
  {
   "cell_type": "code",
   "execution_count": 21,
   "metadata": {
    "tags": []
   },
   "outputs": [
    {
     "name": "stderr",
     "output_type": "stream",
     "text": [
      "100%|██████████| 320000/320000 [18:05<00:00, 294.88it/s] \n"
     ]
    }
   ],
   "source": [
    "comparison[\"comp_title\"] = comparison.progress_apply(\n",
    "    lambda row: compare(row[\"title_citoid\"], row[\"title_manual\"], fieldname=\"title\"),\n",
    "    axis=1)"
   ]
  },
  {
   "cell_type": "markdown",
   "metadata": {},
   "source": [
    "The following cell applies the comparison method to the source type data. This is a fast processing."
   ]
  },
  {
   "cell_type": "code",
   "execution_count": 23,
   "metadata": {},
   "outputs": [
    {
     "name": "stderr",
     "output_type": "stream",
     "text": [
      "100%|██████████| 320000/320000 [00:03<00:00, 85089.99it/s] \n"
     ]
    }
   ],
   "source": [
    "comparison[\"comp_source_type\"] = comparison.progress_apply(\n",
    "    lambda row: compare(row[\"source_type_citoid\"], row[\"source_type_manual\"], fieldname=\"source_type\"),\n",
    "    axis=1)"
   ]
  },
  {
   "cell_type": "markdown",
   "metadata": {},
   "source": [
    "Here we compare the publishing source data:"
   ]
  },
  {
   "cell_type": "code",
   "execution_count": 24,
   "metadata": {
    "tags": []
   },
   "outputs": [
    {
     "name": "stderr",
     "output_type": "stream",
     "text": [
      "100%|██████████| 320000/320000 [01:22<00:00, 3867.36it/s]\n"
     ]
    }
   ],
   "source": [
    "comparison[\"comp_pub_source\"] = comparison.progress_apply(\n",
    "    lambda row: compare(row[\"pub_source_citoid\"], row[\"pub_source_manual\"], fieldname=\"pub_source\"),\n",
    "    axis=1)"
   ]
  },
  {
   "cell_type": "markdown",
   "metadata": {},
   "source": [
    "This is the application of the publishing date comparison:"
   ]
  },
  {
   "cell_type": "code",
   "execution_count": 26,
   "metadata": {},
   "outputs": [
    {
     "name": "stderr",
     "output_type": "stream",
     "text": [
      "100%|██████████| 320000/320000 [00:03<00:00, 87574.46it/s] \n"
     ]
    }
   ],
   "source": [
    "comparison[\"comp_pub_date\"] = comparison.progress_apply(\n",
    "    lambda row: compare(row[\"pub_date_citoid\"], row[\"pub_date_manual\"], fieldname=\"pub_date\"),\n",
    "    axis=1)"
   ]
  },
  {
   "cell_type": "markdown",
   "metadata": {},
   "source": [
    "Here we split the result of the publishing date comparison in two boolean columns: \"comp_pub_date_full\" (match of the entire publishing date) and \"comp_pub_year\" (match of the publishing year). "
   ]
  },
  {
   "cell_type": "code",
   "execution_count": 84,
   "metadata": {
    "tags": []
   },
   "outputs": [],
   "source": [
    "comparison[\"comp_pub_year\"] = ( (comparison[\"comp_pub_date\"] == 0.7) | (comparison[\"comp_pub_date\"] == 1.0) ).astype(int)\n",
    "comparison[\"comp_pub_date_full\"] = comparison[\"comp_pub_date\"].replace(0.7, 0)"
   ]
  },
  {
   "cell_type": "markdown",
   "metadata": {},
   "source": [
    "Finally, we perform the evaluation of the author information by comparing the author_first and author_last fields from the manual and the Citoid data. This processing can take several minutes."
   ]
  },
  {
   "cell_type": "code",
   "execution_count": null,
   "metadata": {
    "tags": []
   },
   "outputs": [
    {
     "name": "stderr",
     "output_type": "stream",
     "text": [
      "  0%|          | 1529/320000 [00:43<3:22:20, 26.23it/s]"
     ]
    }
   ],
   "source": [
    "comparison[\"comp_author_first\"] = comparison.progress_apply(\n",
    "    lambda row: compare(row[\"author_first_citoid\"], row[\"author_first_manual\"], fieldname=\"author_first\"),\n",
    "    axis=1)"
   ]
  },
  {
   "cell_type": "code",
   "execution_count": null,
   "metadata": {},
   "outputs": [],
   "source": [
    "comparison[\"comp_author_last\"] = comparison.progress_apply(\n",
    "    lambda row: compare(row[\"author_last_citoid\"], row[\"author_last_manual\"], fieldname=\"author_last\"),\n",
    "    axis=1)"
   ]
  },
  {
   "cell_type": "code",
   "execution_count": 86,
   "metadata": {},
   "outputs": [],
   "source": [
    "comparison.to_csv(\"eval/eval_all_citations.csv.gz\", index=False)"
   ]
  },
  {
   "cell_type": "code",
   "execution_count": null,
   "metadata": {},
   "outputs": [],
   "source": []
  },
  {
   "cell_type": "markdown",
   "metadata": {
    "tags": []
   },
   "source": [
    "## 6. Results\n",
    "\n",
    "In the following section, we present some basic plots and a brief analysis of the results.\n",
    "\n",
    "In our corpus of manual citations gathered from featured articles, some URLs appear several times, cited in different Wikipedias or in different articles of a same Wikipedia. This is why we will examine the scores by URL in the first place. In second place, since many of our URLs belong to a same website, an analysis grouping by domain will be presented. Finally, the scores will be examined by fieldname."
   ]
  },
  {
   "cell_type": "markdown",
   "metadata": {},
   "source": [
    "### 6.1 By URL\n",
    "\n",
    "First, the comparison scores for each URL are selected:"
   ]
  },
  {
   "cell_type": "code",
   "execution_count": 7,
   "metadata": {},
   "outputs": [],
   "source": [
    "import pandas as pd\n",
    "comparison = pd.read_csv(\"eval/eval_all_citations.csv.gz\")"
   ]
  },
  {
   "cell_type": "code",
   "execution_count": 33,
   "metadata": {
    "tags": []
   },
   "outputs": [
    {
     "data": {
      "text/html": [
       "<div>\n",
       "<style scoped>\n",
       "    .dataframe tbody tr th:only-of-type {\n",
       "        vertical-align: middle;\n",
       "    }\n",
       "\n",
       "    .dataframe tbody tr th {\n",
       "        vertical-align: top;\n",
       "    }\n",
       "\n",
       "    .dataframe thead th {\n",
       "        text-align: right;\n",
       "    }\n",
       "</style>\n",
       "<table border=\"1\" class=\"dataframe\">\n",
       "  <thead>\n",
       "    <tr style=\"text-align: right;\">\n",
       "      <th></th>\n",
       "      <th>url</th>\n",
       "      <th>source_type_manual</th>\n",
       "      <th>source_type_citoid</th>\n",
       "      <th>wiki_lang</th>\n",
       "      <th>comp_author_first</th>\n",
       "      <th>comp_author_last</th>\n",
       "      <th>comp_title</th>\n",
       "      <th>comp_source_type</th>\n",
       "      <th>comp_pub_source</th>\n",
       "      <th>comp_pub_date_full</th>\n",
       "      <th>comp_pub_year</th>\n",
       "    </tr>\n",
       "  </thead>\n",
       "  <tbody>\n",
       "    <tr>\n",
       "      <th>0</th>\n",
       "      <td>http://www.bbc.co.uk/programmes/b00rq1w3</td>\n",
       "      <td>['blogPost', 'email', 'forumPost', 'webpage']</td>\n",
       "      <td>webpage</td>\n",
       "      <td>en</td>\n",
       "      <td>1.0</td>\n",
       "      <td>1.00</td>\n",
       "      <td>0.24</td>\n",
       "      <td>1</td>\n",
       "      <td>1.00</td>\n",
       "      <td>1.0</td>\n",
       "      <td>1</td>\n",
       "    </tr>\n",
       "    <tr>\n",
       "      <th>1</th>\n",
       "      <td>http://www.gtaforums.com/index.php?showtopic=4...</td>\n",
       "      <td>['magazineArticle', 'newspaperArticle']</td>\n",
       "      <td>webpage</td>\n",
       "      <td>es</td>\n",
       "      <td>1.0</td>\n",
       "      <td>1.00</td>\n",
       "      <td>0.35</td>\n",
       "      <td>0</td>\n",
       "      <td>0.69</td>\n",
       "      <td>1.0</td>\n",
       "      <td>1</td>\n",
       "    </tr>\n",
       "    <tr>\n",
       "      <th>2</th>\n",
       "      <td>https://archive.org/details/incharacter00john</td>\n",
       "      <td>['book', 'manuscript']</td>\n",
       "      <td>book</td>\n",
       "      <td>en</td>\n",
       "      <td>0.0</td>\n",
       "      <td>0.19</td>\n",
       "      <td>1.00</td>\n",
       "      <td>1</td>\n",
       "      <td>0.57</td>\n",
       "      <td>0.0</td>\n",
       "      <td>1</td>\n",
       "    </tr>\n",
       "    <tr>\n",
       "      <th>3</th>\n",
       "      <td>http://news.ph.msn.com/business/article.aspx?c...</td>\n",
       "      <td>['blogPost', 'email', 'forumPost', 'webpage']</td>\n",
       "      <td>webpage</td>\n",
       "      <td>es</td>\n",
       "      <td>1.0</td>\n",
       "      <td>0.00</td>\n",
       "      <td>0.02</td>\n",
       "      <td>1</td>\n",
       "      <td>0.18</td>\n",
       "      <td>0.0</td>\n",
       "      <td>0</td>\n",
       "    </tr>\n",
       "    <tr>\n",
       "      <th>4</th>\n",
       "      <td>http://news.ph.msn.com/business/article.aspx?c...</td>\n",
       "      <td>[]</td>\n",
       "      <td>webpage</td>\n",
       "      <td>pt</td>\n",
       "      <td>1.0</td>\n",
       "      <td>1.00</td>\n",
       "      <td>0.02</td>\n",
       "      <td>0</td>\n",
       "      <td>0.00</td>\n",
       "      <td>0.0</td>\n",
       "      <td>0</td>\n",
       "    </tr>\n",
       "    <tr>\n",
       "      <th>...</th>\n",
       "      <td>...</td>\n",
       "      <td>...</td>\n",
       "      <td>...</td>\n",
       "      <td>...</td>\n",
       "      <td>...</td>\n",
       "      <td>...</td>\n",
       "      <td>...</td>\n",
       "      <td>...</td>\n",
       "      <td>...</td>\n",
       "      <td>...</td>\n",
       "      <td>...</td>\n",
       "    </tr>\n",
       "    <tr>\n",
       "      <th>321174</th>\n",
       "      <td>http://sportspressnw.com/2188385/2014/sounders...</td>\n",
       "      <td>['blogPost', 'email', 'forumPost', 'webpage']</td>\n",
       "      <td>webpage</td>\n",
       "      <td>en</td>\n",
       "      <td>1.0</td>\n",
       "      <td>0.00</td>\n",
       "      <td>0.66</td>\n",
       "      <td>1</td>\n",
       "      <td>0.38</td>\n",
       "      <td>0.0</td>\n",
       "      <td>0</td>\n",
       "    </tr>\n",
       "    <tr>\n",
       "      <th>321175</th>\n",
       "      <td>http://bibliotecadigital.unec.edu.br/ojs/index...</td>\n",
       "      <td>['blogPost', 'email', 'forumPost', 'webpage']</td>\n",
       "      <td>book</td>\n",
       "      <td>pt</td>\n",
       "      <td>0.0</td>\n",
       "      <td>0.09</td>\n",
       "      <td>0.29</td>\n",
       "      <td>0</td>\n",
       "      <td>0.00</td>\n",
       "      <td>0.0</td>\n",
       "      <td>0</td>\n",
       "    </tr>\n",
       "    <tr>\n",
       "      <th>321176</th>\n",
       "      <td>https://web.archive.org/web/20170313102855/htt...</td>\n",
       "      <td>['blogPost', 'email', 'forumPost', 'webpage']</td>\n",
       "      <td>webpage</td>\n",
       "      <td>pt</td>\n",
       "      <td>0.0</td>\n",
       "      <td>0.00</td>\n",
       "      <td>1.00</td>\n",
       "      <td>1</td>\n",
       "      <td>0.15</td>\n",
       "      <td>0.0</td>\n",
       "      <td>0</td>\n",
       "    </tr>\n",
       "    <tr>\n",
       "      <th>321177</th>\n",
       "      <td>http://www.jta.org/2009/09/03/news-opinion/uni...</td>\n",
       "      <td>['blogPost', 'email', 'forumPost', 'webpage']</td>\n",
       "      <td>blogPost</td>\n",
       "      <td>en</td>\n",
       "      <td>0.0</td>\n",
       "      <td>0.00</td>\n",
       "      <td>1.00</td>\n",
       "      <td>1</td>\n",
       "      <td>1.00</td>\n",
       "      <td>1.0</td>\n",
       "      <td>1</td>\n",
       "    </tr>\n",
       "    <tr>\n",
       "      <th>321178</th>\n",
       "      <td>https://www.jeuneafrique.com/131131/archives-t...</td>\n",
       "      <td>['blogPost', 'email', 'forumPost', 'podcast', ...</td>\n",
       "      <td>webpage</td>\n",
       "      <td>fr</td>\n",
       "      <td>1.0</td>\n",
       "      <td>1.00</td>\n",
       "      <td>0.81</td>\n",
       "      <td>1</td>\n",
       "      <td>1.00</td>\n",
       "      <td>0.0</td>\n",
       "      <td>0</td>\n",
       "    </tr>\n",
       "  </tbody>\n",
       "</table>\n",
       "<p>321179 rows × 11 columns</p>\n",
       "</div>"
      ],
      "text/plain": [
       "                                                      url  \\\n",
       "0                http://www.bbc.co.uk/programmes/b00rq1w3   \n",
       "1       http://www.gtaforums.com/index.php?showtopic=4...   \n",
       "2           https://archive.org/details/incharacter00john   \n",
       "3       http://news.ph.msn.com/business/article.aspx?c...   \n",
       "4       http://news.ph.msn.com/business/article.aspx?c...   \n",
       "...                                                   ...   \n",
       "321174  http://sportspressnw.com/2188385/2014/sounders...   \n",
       "321175  http://bibliotecadigital.unec.edu.br/ojs/index...   \n",
       "321176  https://web.archive.org/web/20170313102855/htt...   \n",
       "321177  http://www.jta.org/2009/09/03/news-opinion/uni...   \n",
       "321178  https://www.jeuneafrique.com/131131/archives-t...   \n",
       "\n",
       "                                       source_type_manual source_type_citoid  \\\n",
       "0           ['blogPost', 'email', 'forumPost', 'webpage']            webpage   \n",
       "1                 ['magazineArticle', 'newspaperArticle']            webpage   \n",
       "2                                  ['book', 'manuscript']               book   \n",
       "3           ['blogPost', 'email', 'forumPost', 'webpage']            webpage   \n",
       "4                                                      []            webpage   \n",
       "...                                                   ...                ...   \n",
       "321174      ['blogPost', 'email', 'forumPost', 'webpage']            webpage   \n",
       "321175      ['blogPost', 'email', 'forumPost', 'webpage']               book   \n",
       "321176      ['blogPost', 'email', 'forumPost', 'webpage']            webpage   \n",
       "321177      ['blogPost', 'email', 'forumPost', 'webpage']           blogPost   \n",
       "321178  ['blogPost', 'email', 'forumPost', 'podcast', ...            webpage   \n",
       "\n",
       "       wiki_lang  comp_author_first  comp_author_last  comp_title  \\\n",
       "0             en                1.0              1.00        0.24   \n",
       "1             es                1.0              1.00        0.35   \n",
       "2             en                0.0              0.19        1.00   \n",
       "3             es                1.0              0.00        0.02   \n",
       "4             pt                1.0              1.00        0.02   \n",
       "...          ...                ...               ...         ...   \n",
       "321174        en                1.0              0.00        0.66   \n",
       "321175        pt                0.0              0.09        0.29   \n",
       "321176        pt                0.0              0.00        1.00   \n",
       "321177        en                0.0              0.00        1.00   \n",
       "321178        fr                1.0              1.00        0.81   \n",
       "\n",
       "        comp_source_type  comp_pub_source  comp_pub_date_full  comp_pub_year  \n",
       "0                      1             1.00                 1.0              1  \n",
       "1                      0             0.69                 1.0              1  \n",
       "2                      1             0.57                 0.0              1  \n",
       "3                      1             0.18                 0.0              0  \n",
       "4                      0             0.00                 0.0              0  \n",
       "...                  ...              ...                 ...            ...  \n",
       "321174                 1             0.38                 0.0              0  \n",
       "321175                 0             0.00                 0.0              0  \n",
       "321176                 1             0.15                 0.0              0  \n",
       "321177                 1             1.00                 1.0              1  \n",
       "321178                 1             1.00                 0.0              0  \n",
       "\n",
       "[321179 rows x 11 columns]"
      ]
     },
     "execution_count": 33,
     "metadata": {},
     "output_type": "execute_result"
    }
   ],
   "source": [
    "scores = comparison[['url','source_type_manual','source_type_citoid','wiki_lang', 'comp_author_first', 'comp_author_last', 'comp_title',\n",
    "       'comp_source_type', 'comp_pub_source', 'comp_pub_date_full', 'comp_pub_year']].copy()\n",
    "\n",
    "scores"
   ]
  },
  {
   "cell_type": "markdown",
   "metadata": {},
   "source": [
    "Before calculating Citoid's success, let's visualize the most used URLs. As we can see in the plot, following a Zipf's curve, a reduced number of URLs are used many times and a long tail of URLs are used only one time:"
   ]
  },
  {
   "cell_type": "code",
   "execution_count": 412,
   "metadata": {},
   "outputs": [
    {
     "data": {
      "image/png": "[encoded data removed]",
      "text/plain": [
       "<Figure size 576x288 with 1 Axes>"
      ]
     },
     "metadata": {
      "needs_background": "light"
     },
     "output_type": "display_data"
    }
   ],
   "source": [
    "url_counts = scores[\"url\"].value_counts()\n",
    "plot_data = url_counts.reset_index()\n",
    "\n",
    "ax = plot_data.plot(title=\"URL citation frequency\", legend=False, figsize=[8,4])\n",
    "ax.set_ylabel(\"Number of citations\")\n",
    "ax.set_xlabel(\"URL id (sorted by freq)\")\n",
    "\n",
    "plt.savefig(\"plots/url_freq_zipf.png\")\n",
    "plt.show()"
   ]
  },
  {
   "cell_type": "code",
   "execution_count": 387,
   "metadata": {},
   "outputs": [
    {
     "name": "stdout",
     "output_type": "stream",
     "text": [
      "26229 URLs were used in more than one citation\n"
     ]
    }
   ],
   "source": [
    "url_counts_several = url_counts[url_counts > 1]\n",
    "print(f\"{len(url_counts_several)} URLs were used in more than one citation\")"
   ]
  },
  {
   "cell_type": "code",
   "execution_count": 388,
   "metadata": {},
   "outputs": [
    {
     "name": "stdout",
     "output_type": "stream",
     "text": [
      "256314 URLs were used in only one citation\n"
     ]
    }
   ],
   "source": [
    "url_counts_unique = url_counts[url_counts == 1]\n",
    "print(f\"{len(url_counts_unique)} URLs were used in only one citation\")"
   ]
  },
  {
   "cell_type": "markdown",
   "metadata": {},
   "source": [
    "26k URLs were used in more than one citation, that is 8% of our corpus, while 256k URLs were used in only one citation (80% of the URLs).\n",
    "\n",
    "Below, we show the 10 most cited URLs of our corpus."
   ]
  },
  {
   "cell_type": "code",
   "execution_count": 505,
   "metadata": {},
   "outputs": [
    {
     "data": {
      "image/png": "[encoded data removed]",
      "text/plain": [
       "<Figure size 1008x288 with 1 Axes>"
      ]
     },
     "metadata": {
      "needs_background": "light"
     },
     "output_type": "display_data"
    }
   ],
   "source": [
    "top_urls = url_counts_several.head(10).sort_values()\n",
    "\n",
    "ax = top_urls.plot(figsize=[14,4], title=\"Top 10 cited URLs\", legend=False, kind=\"barh\")\n",
    "ax.set_ylabel(\"URL\")\n",
    "ax.set_xlabel(\"Number of citations\")\n",
    "\n",
    "plt.tight_layout()\n",
    "plt.savefig(\"plots/top_cited_urls.png\")\n",
    "plt.show()"
   ]
  },
  {
   "cell_type": "markdown",
   "metadata": {},
   "source": [
    "In the following step, for each citation, Citoid's success is calculated as the sum of correct answers from the 6 evaluated metadata ('comp_author_first', 'comp_author_last', 'comp_title', 'comp_source_type', 'comp_pub_source', 'comp_pub_year'). For instance, if only the source type and the publishing year are correct, Citoid's success is 2. A response from Citoid is considered correct if the comparison with the manual data matches 75% or more. 'comp_pub_date_full' is not considered in order to not overestimate the performance for the date information."
   ]
  },
  {
   "cell_type": "code",
   "execution_count": 99,
   "metadata": {},
   "outputs": [
    {
     "name": "stderr",
     "output_type": "stream",
     "text": [
      "100%|██████████| 321179/321179 [00:15<00:00, 20628.17it/s]\n"
     ]
    }
   ],
   "source": [
    "def calculate_success(row):\n",
    "    success_nr = 0\n",
    "    fields = ['comp_author_first', 'comp_author_last', 'comp_title',\n",
    "       'comp_source_type', 'comp_pub_source', 'comp_pub_year'] ## we do not calculate for comp_pub_date, we only evaluate pub_year\n",
    "    \n",
    "    correct_threshold = 0.75\n",
    "    \n",
    "    for field in fields:\n",
    "        if row[field] >= correct_threshold:\n",
    "            success_nr+=1\n",
    "            \n",
    "    return success_nr\n",
    "\n",
    "scores['citoid_success'] = scores.progress_apply(\n",
    "    lambda row: calculate_success(row),\n",
    "    axis=1)"
   ]
  },
  {
   "cell_type": "code",
   "execution_count": 524,
   "metadata": {
    "tags": []
   },
   "outputs": [
    {
     "data": {
      "text/html": [
       "<div>\n",
       "<style scoped>\n",
       "    .dataframe tbody tr th:only-of-type {\n",
       "        vertical-align: middle;\n",
       "    }\n",
       "\n",
       "    .dataframe tbody tr th {\n",
       "        vertical-align: top;\n",
       "    }\n",
       "\n",
       "    .dataframe thead th {\n",
       "        text-align: right;\n",
       "    }\n",
       "</style>\n",
       "<table border=\"1\" class=\"dataframe\">\n",
       "  <thead>\n",
       "    <tr style=\"text-align: right;\">\n",
       "      <th></th>\n",
       "      <th>url</th>\n",
       "      <th>source_type_citoid</th>\n",
       "      <th>wiki_lang</th>\n",
       "      <th>comp_author_first</th>\n",
       "      <th>comp_author_last</th>\n",
       "      <th>comp_title</th>\n",
       "      <th>comp_source_type</th>\n",
       "      <th>comp_pub_source</th>\n",
       "      <th>comp_pub_date_full</th>\n",
       "      <th>comp_pub_year</th>\n",
       "      <th>citoid_success</th>\n",
       "    </tr>\n",
       "  </thead>\n",
       "  <tbody>\n",
       "    <tr>\n",
       "      <th>0</th>\n",
       "      <td>http://www.bbc.co.uk/programmes/b00rq1w3</td>\n",
       "      <td>webpage</td>\n",
       "      <td>en</td>\n",
       "      <td>1.0</td>\n",
       "      <td>1.00</td>\n",
       "      <td>0.24</td>\n",
       "      <td>1</td>\n",
       "      <td>1.00</td>\n",
       "      <td>1.0</td>\n",
       "      <td>1</td>\n",
       "      <td>6</td>\n",
       "    </tr>\n",
       "    <tr>\n",
       "      <th>1</th>\n",
       "      <td>http://www.gtaforums.com/index.php?showtopic=4...</td>\n",
       "      <td>webpage</td>\n",
       "      <td>es</td>\n",
       "      <td>1.0</td>\n",
       "      <td>1.00</td>\n",
       "      <td>0.35</td>\n",
       "      <td>0</td>\n",
       "      <td>0.69</td>\n",
       "      <td>1.0</td>\n",
       "      <td>1</td>\n",
       "      <td>4</td>\n",
       "    </tr>\n",
       "    <tr>\n",
       "      <th>2</th>\n",
       "      <td>https://archive.org/details/incharacter00john</td>\n",
       "      <td>book</td>\n",
       "      <td>en</td>\n",
       "      <td>0.0</td>\n",
       "      <td>0.19</td>\n",
       "      <td>1.00</td>\n",
       "      <td>1</td>\n",
       "      <td>0.57</td>\n",
       "      <td>0.0</td>\n",
       "      <td>1</td>\n",
       "      <td>3</td>\n",
       "    </tr>\n",
       "    <tr>\n",
       "      <th>3</th>\n",
       "      <td>http://news.ph.msn.com/business/article.aspx?c...</td>\n",
       "      <td>webpage</td>\n",
       "      <td>es</td>\n",
       "      <td>1.0</td>\n",
       "      <td>0.00</td>\n",
       "      <td>0.02</td>\n",
       "      <td>1</td>\n",
       "      <td>0.18</td>\n",
       "      <td>0.0</td>\n",
       "      <td>0</td>\n",
       "      <td>2</td>\n",
       "    </tr>\n",
       "    <tr>\n",
       "      <th>4</th>\n",
       "      <td>http://news.ph.msn.com/business/article.aspx?c...</td>\n",
       "      <td>webpage</td>\n",
       "      <td>pt</td>\n",
       "      <td>1.0</td>\n",
       "      <td>1.00</td>\n",
       "      <td>0.02</td>\n",
       "      <td>0</td>\n",
       "      <td>0.00</td>\n",
       "      <td>0.0</td>\n",
       "      <td>0</td>\n",
       "      <td>2</td>\n",
       "    </tr>\n",
       "    <tr>\n",
       "      <th>...</th>\n",
       "      <td>...</td>\n",
       "      <td>...</td>\n",
       "      <td>...</td>\n",
       "      <td>...</td>\n",
       "      <td>...</td>\n",
       "      <td>...</td>\n",
       "      <td>...</td>\n",
       "      <td>...</td>\n",
       "      <td>...</td>\n",
       "      <td>...</td>\n",
       "      <td>...</td>\n",
       "    </tr>\n",
       "    <tr>\n",
       "      <th>321174</th>\n",
       "      <td>http://sportspressnw.com/2188385/2014/sounders...</td>\n",
       "      <td>webpage</td>\n",
       "      <td>en</td>\n",
       "      <td>1.0</td>\n",
       "      <td>0.00</td>\n",
       "      <td>0.66</td>\n",
       "      <td>1</td>\n",
       "      <td>0.38</td>\n",
       "      <td>0.0</td>\n",
       "      <td>0</td>\n",
       "      <td>2</td>\n",
       "    </tr>\n",
       "    <tr>\n",
       "      <th>321175</th>\n",
       "      <td>http://bibliotecadigital.unec.edu.br/ojs/index...</td>\n",
       "      <td>book</td>\n",
       "      <td>pt</td>\n",
       "      <td>0.0</td>\n",
       "      <td>0.09</td>\n",
       "      <td>0.29</td>\n",
       "      <td>0</td>\n",
       "      <td>0.00</td>\n",
       "      <td>0.0</td>\n",
       "      <td>0</td>\n",
       "      <td>0</td>\n",
       "    </tr>\n",
       "    <tr>\n",
       "      <th>321176</th>\n",
       "      <td>https://web.archive.org/web/20170313102855/htt...</td>\n",
       "      <td>webpage</td>\n",
       "      <td>pt</td>\n",
       "      <td>0.0</td>\n",
       "      <td>0.00</td>\n",
       "      <td>1.00</td>\n",
       "      <td>1</td>\n",
       "      <td>0.15</td>\n",
       "      <td>0.0</td>\n",
       "      <td>0</td>\n",
       "      <td>2</td>\n",
       "    </tr>\n",
       "    <tr>\n",
       "      <th>321177</th>\n",
       "      <td>http://www.jta.org/2009/09/03/news-opinion/uni...</td>\n",
       "      <td>blogPost</td>\n",
       "      <td>en</td>\n",
       "      <td>0.0</td>\n",
       "      <td>0.00</td>\n",
       "      <td>1.00</td>\n",
       "      <td>1</td>\n",
       "      <td>1.00</td>\n",
       "      <td>1.0</td>\n",
       "      <td>1</td>\n",
       "      <td>5</td>\n",
       "    </tr>\n",
       "    <tr>\n",
       "      <th>321178</th>\n",
       "      <td>https://www.jeuneafrique.com/131131/archives-t...</td>\n",
       "      <td>webpage</td>\n",
       "      <td>fr</td>\n",
       "      <td>1.0</td>\n",
       "      <td>1.00</td>\n",
       "      <td>0.81</td>\n",
       "      <td>1</td>\n",
       "      <td>1.00</td>\n",
       "      <td>0.0</td>\n",
       "      <td>0</td>\n",
       "      <td>5</td>\n",
       "    </tr>\n",
       "  </tbody>\n",
       "</table>\n",
       "<p>321179 rows × 11 columns</p>\n",
       "</div>"
      ],
      "text/plain": [
       "                                                      url source_type_citoid  \\\n",
       "0                http://www.bbc.co.uk/programmes/b00rq1w3            webpage   \n",
       "1       http://www.gtaforums.com/index.php?showtopic=4...            webpage   \n",
       "2           https://archive.org/details/incharacter00john               book   \n",
       "3       http://news.ph.msn.com/business/article.aspx?c...            webpage   \n",
       "4       http://news.ph.msn.com/business/article.aspx?c...            webpage   \n",
       "...                                                   ...                ...   \n",
       "321174  http://sportspressnw.com/2188385/2014/sounders...            webpage   \n",
       "321175  http://bibliotecadigital.unec.edu.br/ojs/index...               book   \n",
       "321176  https://web.archive.org/web/20170313102855/htt...            webpage   \n",
       "321177  http://www.jta.org/2009/09/03/news-opinion/uni...           blogPost   \n",
       "321178  https://www.jeuneafrique.com/131131/archives-t...            webpage   \n",
       "\n",
       "       wiki_lang  comp_author_first  comp_author_last  comp_title  \\\n",
       "0             en                1.0              1.00        0.24   \n",
       "1             es                1.0              1.00        0.35   \n",
       "2             en                0.0              0.19        1.00   \n",
       "3             es                1.0              0.00        0.02   \n",
       "4             pt                1.0              1.00        0.02   \n",
       "...          ...                ...               ...         ...   \n",
       "321174        en                1.0              0.00        0.66   \n",
       "321175        pt                0.0              0.09        0.29   \n",
       "321176        pt                0.0              0.00        1.00   \n",
       "321177        en                0.0              0.00        1.00   \n",
       "321178        fr                1.0              1.00        0.81   \n",
       "\n",
       "        comp_source_type  comp_pub_source  comp_pub_date_full  comp_pub_year  \\\n",
       "0                      1             1.00                 1.0              1   \n",
       "1                      0             0.69                 1.0              1   \n",
       "2                      1             0.57                 0.0              1   \n",
       "3                      1             0.18                 0.0              0   \n",
       "4                      0             0.00                 0.0              0   \n",
       "...                  ...              ...                 ...            ...   \n",
       "321174                 1             0.38                 0.0              0   \n",
       "321175                 0             0.00                 0.0              0   \n",
       "321176                 1             0.15                 0.0              0   \n",
       "321177                 1             1.00                 1.0              1   \n",
       "321178                 1             1.00                 0.0              0   \n",
       "\n",
       "        citoid_success  \n",
       "0                    6  \n",
       "1                    4  \n",
       "2                    3  \n",
       "3                    2  \n",
       "4                    2  \n",
       "...                ...  \n",
       "321174               2  \n",
       "321175               0  \n",
       "321176               2  \n",
       "321177               5  \n",
       "321178               5  \n",
       "\n",
       "[321179 rows x 11 columns]"
      ]
     },
     "execution_count": 524,
     "metadata": {},
     "output_type": "execute_result"
    }
   ],
   "source": [
    "scores"
   ]
  },
  {
   "cell_type": "markdown",
   "metadata": {},
   "source": [
    "Now let's group the citations having the same URL, calculate the average success score for the repeated URLs and plot."
   ]
  },
  {
   "cell_type": "code",
   "execution_count": 24,
   "metadata": {},
   "outputs": [
    {
     "data": {
      "image/png": "[encoded data removed]",
      "text/plain": [
       "<Figure size 432x288 with 1 Axes>"
      ]
     },
     "metadata": {
      "needs_background": "light"
     },
     "output_type": "display_data"
    }
   ],
   "source": [
    "success_by_url = scores.groupby(\"url\")[\"citoid_success\"].mean().sort_values().reset_index()\n",
    "\n",
    "bins = np.arange(8)\n",
    "ax = success_by_url[\"citoid_success\"].plot.hist(bins=bins)\n",
    "for x in np.arange(7):\n",
    "    ax.axvline(x, color=\"White\")\n",
    "\n",
    "xticks = (bins + 0.5)[:-1]\n",
    "\n",
    "ax.set_xticks(xticks)\n",
    "ax.set_xticklabels(bins[:-1])\n",
    "ax.set_title(\"Distribution of Citoid's correct answers by URL\")\n",
    "ax.set_ylabel(\"URL count\")\n",
    "ax.set_xlabel(\"Correct fields\")\n",
    "\n",
    "plt.savefig(\"plots/citoid_success_by_url.png\")\n",
    "plt.show()"
   ]
  },
  {
   "cell_type": "markdown",
   "metadata": {},
   "source": [
    "The majority of the citations received ~5 correct answers of 6, followed by ~3 correct answers."
   ]
  },
  {
   "cell_type": "markdown",
   "metadata": {},
   "source": [
    "### 6.2 By domain\n",
    "\n",
    "In this section, we present the results of Citoid's evaluation by domain."
   ]
  },
  {
   "cell_type": "code",
   "execution_count": 18,
   "metadata": {},
   "outputs": [],
   "source": [
    "scores['domain'] = scores['url'].map(lambda x : urllib.parse.urlparse(x).netloc)"
   ]
  },
  {
   "cell_type": "code",
   "execution_count": 19,
   "metadata": {},
   "outputs": [
    {
     "name": "stdout",
     "output_type": "stream",
     "text": [
      "There are 43890 different domains in our corpus\n"
     ]
    }
   ],
   "source": [
    "domain_counts = scores[\"domain\"].value_counts()\n",
    "print(f\"There are {len(domain_counts)} different domains in our corpus\")"
   ]
  },
  {
   "cell_type": "markdown",
   "metadata": {},
   "source": [
    "Here we group the citations having the same domain, calculate the average success score and plot."
   ]
  },
  {
   "cell_type": "code",
   "execution_count": 23,
   "metadata": {},
   "outputs": [
    {
     "data": {
      "image/png": "[encoded data removed]",
      "text/plain": [
       "<Figure size 432x288 with 1 Axes>"
      ]
     },
     "metadata": {
      "needs_background": "light"
     },
     "output_type": "display_data"
    }
   ],
   "source": [
    "success_by_domain = scores.groupby(\"domain\")[\"citoid_success\"].mean().sort_values().reset_index()\n",
    "\n",
    "bins = np.arange(8)\n",
    "ax = success_by_domain[\"citoid_success\"].plot.hist(bins=bins)\n",
    "for x in np.arange(7):\n",
    "    ax.axvline(x, color=\"White\")\n",
    "\n",
    "xticks = (bins + 0.5)[:-1]\n",
    "\n",
    "ax.set_xticks(xticks)\n",
    "ax.set_xticklabels(bins[:-1])\n",
    "ax.set_title(\"Distribution of Citoid's correct answers by domain\")\n",
    "ax.set_ylabel(\"Domain count\")\n",
    "ax.set_xlabel(\"Correct fields\")\n",
    "\n",
    "plt.savefig(\"plots/citoid_success_by_domain.png\")\n",
    "plt.show()"
   ]
  },
  {
   "cell_type": "markdown",
   "metadata": {},
   "source": [
    "We found 44k different domains in our corpus. Here is the top 10:"
   ]
  },
  {
   "cell_type": "code",
   "execution_count": 21,
   "metadata": {},
   "outputs": [
    {
     "data": {
      "image/png": "[encoded data removed]",
      "text/plain": [
       "<Figure size 864x288 with 1 Axes>"
      ]
     },
     "metadata": {
      "needs_background": "light"
     },
     "output_type": "display_data"
    }
   ],
   "source": [
    "top_domains = domain_counts.head(10).sort_values()\n",
    "\n",
    "ax = top_domains.plot(figsize=[12,4], title=\"Top 10 cited domains\", legend=False, kind=\"barh\")\n",
    "ax.set_ylabel(\"Domain\")\n",
    "ax.set_xlabel(\"Number of citations\")\n",
    "\n",
    "plt.tight_layout()\n",
    "plt.savefig(\"plots/top_cited_domains.png\")\n",
    "plt.show()"
   ]
  },
  {
   "cell_type": "markdown",
   "metadata": {},
   "source": [
    "By far, the most cited domains are books.google.com and archive.org, having more than twice the number of citations than the third most cited domain, www.nytimes.com. The rest the most cited domains belong mainly to news sites (news.bbc.co.uk, www.bbc.co.uk, www.theguardian.com, www.newspapers.com) and some specialized sites (www.billboard.com, www.ign.com, www.rollingstone.com). A special mention must be made to web.archive.org, a site for filing copies of websites, a good citation practice. "
   ]
  },
  {
   "cell_type": "markdown",
   "metadata": {},
   "source": [
    "Now let's visualize Citoid's performance for these domains:"
   ]
  },
  {
   "cell_type": "code",
   "execution_count": 22,
   "metadata": {},
   "outputs": [
    {
     "data": {
      "image/png": "[encoded data removed]",
      "text/plain": [
       "<Figure size 432x288 with 1 Axes>"
      ]
     },
     "metadata": {
      "needs_background": "light"
     },
     "output_type": "display_data"
    }
   ],
   "source": [
    "success_by_domain = scores.groupby(\"domain\")[\"citoid_success\"].mean().sort_values().reset_index()\n",
    "\n",
    "plot_data = success_by_domain.set_index(\"domain\").loc[top_domains.index]\n",
    "plot_data = plot_data.sort_values(by=\"citoid_success\")\n",
    "ax = plot_data.plot.barh(legend=False)\n",
    "\n",
    "ax.set_title(\"Citoid success for top domains\")\n",
    "ax.set_ylabel(\"Top domains\")\n",
    "ax.set_xlabel(\"Correct fields\")\n",
    "\n",
    "plt.tight_layout()\n",
    "plt.savefig(\"plots/citoid_success_top_domains.png\")\n",
    "plt.show()"
   ]
  },
  {
   "cell_type": "markdown",
   "metadata": {},
   "source": [
    "The overall success for the top domains is low, 7 of 10 sites present less than 4 correct answers. The best performance is for www.ign.com, news.bbc.co.uk and www.nytimes.com with only ~4 correct metadata. Furthermore, the performance for two of the most cited domains (books.google.com and archive.org) shows only 3 and 2 correct fields respectively of a total of 6. "
   ]
  },
  {
   "cell_type": "markdown",
   "metadata": {},
   "source": [
    "### 6.3 By language\n",
    "\n",
    "In this section, we show the results for each Wikipedia. \n",
    "\n",
    "Here, we group the citations by language, calculate the average success and plot:"
   ]
  },
  {
   "cell_type": "code",
   "execution_count": 25,
   "metadata": {},
   "outputs": [
    {
     "data": {
      "image/png": "[encoded data removed]",
      "text/plain": [
       "<Figure size 432x288 with 1 Axes>"
      ]
     },
     "metadata": {
      "needs_background": "light"
     },
     "output_type": "display_data"
    }
   ],
   "source": [
    "success_by_lang = scores.groupby(\"wiki_lang\")[\"citoid_success\"].mean().sort_values().reset_index()\n",
    "\n",
    "plot_data = success_by_lang.set_index(\"wiki_lang\")\n",
    "plot_data = plot_data.sort_values(by=\"citoid_success\")\n",
    "ax = plot_data.plot.barh(legend=False)\n",
    "\n",
    "ax.set_title(\"Citoid success by language\")\n",
    "ax.set_ylabel(\"Wiki lang\")\n",
    "ax.set_xlabel(\"Correct fields\")\n",
    "\n",
    "plt.tight_layout()\n",
    "plt.savefig(\"plots/citoid_by_lang.png\")\n",
    "plt.show()"
   ]
  },
  {
   "cell_type": "markdown",
   "metadata": {},
   "source": [
    "Citoid's performance by language shows the best results for French Wikipedia."
   ]
  },
  {
   "cell_type": "markdown",
   "metadata": {},
   "source": [
    "### 6.4 By sourcetype\n",
    "\n",
    "This section shows Citoid's performance by source type.\n",
    "\n",
    "In the following graphic we can observe the 10 most used source types. The source types related to web sources (mapped as \"Webpage, forumPost, email...\" and \"webpage, forumPost, email...\") count the overwhelming majority of the citations (almost 70% of the corpus). This is due to the URL presence in the citation as a mandatory criterion to be included in the corpus (see section 2. Citation template metadata extraction). The unmmaped source types (see section 4. Data normalization) are only 3% of the corpus."
   ]
  },
  {
   "cell_type": "code",
   "execution_count": 91,
   "metadata": {},
   "outputs": [],
   "source": [
    "top_sources = scores[\"source_type_manual\"].value_counts().head(10).sort_values()"
   ]
  },
  {
   "cell_type": "code",
   "execution_count": 73,
   "metadata": {
    "tags": []
   },
   "outputs": [],
   "source": [
    "source_type_show = {\n",
    "    \"['conferencePaper', 'dictionaryEntry', 'encyclopediaArticle', 'journalArticle', 'presentation', 'report', 'thesis']\": \"dictionaryEntry, encyclopediaArticle...\",\n",
    "    \"['bookSection', 'conferencePaper', 'dictionaryEntry', 'encyclopediaArticle', 'journalArticle', 'magazineArticle', 'newspaperArticle', 'presentation', 'report', 'thesis']\": \"bookSection, conferencePaper...\",\n",
    "    \"['artwork', 'audioRecording', 'bill', 'bookSection', 'case', 'computerProgram', 'dictionaryEntry', 'document', 'encyclopediaArticle', 'film', 'hearing', 'instantMessage', 'interview', 'letter', 'map', 'podcast', 'radioBroadcast', 'statute', 'tvBroadcast', 'videoRecording']\": \"podcast, radioBroadcast, interview...\",\n",
    "    \"['book', 'bookSection', 'manuscript']\": \"book, bookSection, manuscript\",\n",
    "    \"['conferencePaper', 'journalArticle', 'presentation', 'report']\": \"conferencePaper, journalArticle...\",\n",
    "    \"[]\":\"unmapped\",\n",
    "    \"['book', 'manuscript']\": \"book, manuscript\",\n",
    "    \"['magazineArticle', 'newspaperArticle']\": \"magazineArticle, newspaperArticle\",\n",
    "    \"['blogPost', 'email', 'forumPost', 'podcast', 'videoRecording', 'webpage']\": \"webpage, videoRecording, podcast...\",\n",
    "    \"['blogPost', 'email', 'forumPost', 'webpage']\":\"webpage, forumPost, email...\"}"
   ]
  },
  {
   "cell_type": "code",
   "execution_count": 76,
   "metadata": {},
   "outputs": [],
   "source": [
    "top_sources_for_plot = top_sources.rename(index=source_type_show)"
   ]
  },
  {
   "cell_type": "code",
   "execution_count": 77,
   "metadata": {},
   "outputs": [
    {
     "data": {
      "image/png": "[encoded data removed]",
      "text/plain": [
       "<Figure size 864x288 with 1 Axes>"
      ]
     },
     "metadata": {
      "needs_background": "light"
     },
     "output_type": "display_data"
    }
   ],
   "source": [
    "ax = top_sources_for_plot.plot(figsize=[12,4], title=\"Top 10 source types\", legend=False, kind=\"barh\")\n",
    "ax.set_ylabel(\"Source type\")\n",
    "ax.set_xlabel(\"Number of citations\")\n",
    "\n",
    "plt.tight_layout()\n",
    "plt.savefig(\"plots/top_sourcetypes.png\")\n",
    "plt.show()\n"
   ]
  },
  {
   "cell_type": "code",
   "execution_count": 89,
   "metadata": {},
   "outputs": [
    {
     "data": {
      "text/plain": [
       "3.3436183561191735"
      ]
     },
     "execution_count": 89,
     "metadata": {},
     "output_type": "execute_result"
    }
   ],
   "source": [
    "top_sources[\"unmapped\"]/len(scores) * 100"
   ]
  },
  {
   "cell_type": "markdown",
   "metadata": {},
   "source": [
    "Now we will visualize Citoid's performance for these source types:"
   ]
  },
  {
   "cell_type": "code",
   "execution_count": null,
   "metadata": {},
   "outputs": [],
   "source": [
    "sourcetype_eval = scores.groupby(\"source_type_manual\")[\"comp_source_type\"].mean().sort_values().reset_index()\n",
    "\n",
    "plot_data = sourcetype_eval.set_index(\"source_type_manual\").loc[top_sources.index]"
   ]
  },
  {
   "cell_type": "code",
   "execution_count": 95,
   "metadata": {},
   "outputs": [],
   "source": [
    "plot_data = plot_data.rename(index=source_type_show)"
   ]
  },
  {
   "cell_type": "code",
   "execution_count": 96,
   "metadata": {},
   "outputs": [
    {
     "data": {
      "image/png": "[encoded data removed]",
      "text/plain": [
       "<Figure size 432x288 with 1 Axes>"
      ]
     },
     "metadata": {
      "needs_background": "light"
     },
     "output_type": "display_data"
    }
   ],
   "source": [
    "plot_data = plot_data.sort_values(by=\"comp_source_type\")\n",
    "ax = plot_data.plot.barh(legend=False)\n",
    "\n",
    "ax.set_title(\"Source type identification by Citoid\")\n",
    "ax.set_ylabel(\"Source types\")\n",
    "ax.set_xlabel(\"Correct answers average\")\n",
    "\n",
    "plt.tight_layout()\n",
    "plt.savefig(\"plots/citoid_sourcetype_eval_.png\")\n",
    "plt.show()"
   ]
  },
  {
   "cell_type": "markdown",
   "metadata": {},
   "source": [
    "Citoid's answers for the most used source types present high values: 80% correct identification of webpages and forumPost, and 75% correct identification of book. The performance descends to less than 50% for other source types.\n",
    "\n",
    "Two important observations must be noted here regarding the source type evaluation. On the one hand, we might be overestimating Citoid's success when identifying source types because modifying the citation template type when doing manual editions is not a simple change (it involves changing the whole template), hence Wikipedia editors usually leave them unmodified if the type is not correct. On the other hand, we might be underestimating Citoid's performance for source types because of our source type mapping (see section 4. Data normalization). Specific citation templates are not included in our mapping, leaving empty values in our manual data. In those cases, Citoid's response for the source type is interpreted as a missmatch with the manual data and penalized as incorrect.\n",
    "\n",
    "Now let's observe Citoid's performance for all the fields by source type."
   ]
  },
  {
   "cell_type": "code",
   "execution_count": 101,
   "metadata": {},
   "outputs": [],
   "source": [
    "success_by_source = scores.groupby(\"source_type_manual\")[\"citoid_success\"].mean().sort_values().reset_index()\n",
    "plot_data = success_by_source.set_index(\"source_type_manual\").loc[top_sources.index]\n",
    "plot_data = plot_data.rename(index=source_type_show)"
   ]
  },
  {
   "cell_type": "code",
   "execution_count": 102,
   "metadata": {},
   "outputs": [
    {
     "data": {
      "image/png": "[encoded data removed]",
      "text/plain": [
       "<Figure size 432x288 with 1 Axes>"
      ]
     },
     "metadata": {
      "needs_background": "light"
     },
     "output_type": "display_data"
    }
   ],
   "source": [
    "plot_data = plot_data.sort_values(by=\"citoid_success\")\n",
    "ax = plot_data.plot.barh(legend=False)\n",
    "\n",
    "ax.set_title(\"Citoid success for top source types\")\n",
    "ax.set_ylabel(\"Top source types\")\n",
    "ax.set_xlabel(\"Correct fields\")\n",
    "\n",
    "plt.tight_layout()\n",
    "plt.savefig(\"plots/citoid_success_sourcetypes.png\")\n",
    "plt.show()"
   ]
  },
  {
   "cell_type": "markdown",
   "metadata": {},
   "source": [
    "The number of correct answers displayed by source type websources, books or broadcasts."
   ]
  },
  {
   "cell_type": "markdown",
   "metadata": {},
   "source": [
    "### 6.1 By fieldname"
   ]
  },
  {
   "cell_type": "markdown",
   "metadata": {},
   "source": [
    "#### Title"
   ]
  },
  {
   "cell_type": "code",
   "execution_count": null,
   "metadata": {},
   "outputs": [],
   "source": []
  },
  {
   "cell_type": "markdown",
   "metadata": {},
   "source": [
    "#### Author's first and last names"
   ]
  },
  {
   "cell_type": "code",
   "execution_count": null,
   "metadata": {},
   "outputs": [],
   "source": []
  },
  {
   "cell_type": "markdown",
   "metadata": {},
   "source": [
    "#### Publishing source"
   ]
  },
  {
   "cell_type": "code",
   "execution_count": null,
   "metadata": {},
   "outputs": [],
   "source": []
  },
  {
   "cell_type": "markdown",
   "metadata": {},
   "source": [
    "#### Publishing date"
   ]
  },
  {
   "cell_type": "code",
   "execution_count": null,
   "metadata": {},
   "outputs": [],
   "source": []
  },
  {
   "cell_type": "code",
   "execution_count": null,
   "metadata": {},
   "outputs": [],
   "source": []
  },
  {
   "cell_type": "code",
   "execution_count": null,
   "metadata": {},
   "outputs": [],
   "source": []
  },
  {
   "cell_type": "code",
   "execution_count": null,
   "metadata": {},
   "outputs": [],
   "source": []
  },
  {
   "cell_type": "code",
   "execution_count": null,
   "metadata": {},
   "outputs": [],
   "source": []
  },
  {
   "cell_type": "code",
   "execution_count": null,
   "metadata": {},
   "outputs": [],
   "source": []
  },
  {
   "cell_type": "code",
   "execution_count": null,
   "metadata": {},
   "outputs": [],
   "source": []
  },
  {
   "cell_type": "code",
   "execution_count": null,
   "metadata": {},
   "outputs": [],
   "source": []
  },
  {
   "cell_type": "code",
   "execution_count": null,
   "metadata": {},
   "outputs": [],
   "source": []
  },
  {
   "cell_type": "code",
   "execution_count": null,
   "metadata": {},
   "outputs": [],
   "source": []
  },
  {
   "cell_type": "code",
   "execution_count": null,
   "metadata": {},
   "outputs": [],
   "source": []
  },
  {
   "cell_type": "code",
   "execution_count": null,
   "metadata": {},
   "outputs": [],
   "source": []
  },
  {
   "cell_type": "code",
   "execution_count": null,
   "metadata": {},
   "outputs": [],
   "source": []
  }
 ],
 "metadata": {
  "kernelspec": {
   "display_name": "Python 3",
   "language": "python",
   "name": "python3"
  },
  "language_info": {
   "codemirror_mode": {
    "name": "ipython",
    "version": 3
   },
   "file_extension": ".py",
   "mimetype": "text/x-python",
   "name": "python",
   "nbconvert_exporter": "python",
   "pygments_lexer": "ipython3",
   "version": "3.7.6"
  }
 },
 "nbformat": 4,
 "nbformat_minor": 4
}
