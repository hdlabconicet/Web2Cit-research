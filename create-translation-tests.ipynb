{
 "cells": [
  {
   "cell_type": "markdown",
   "id": "e3a2f0ec-48dd-4107-8b2f-1c2b529f97ed",
   "metadata": {},
   "source": [
    "# Create translation tests for Web2Cit\n",
    "\n",
    "This notebook performs automatic creation of [Web2Cit](https://meta.wikimedia.org/wiki/Web2Cit) translation test files for the web domains evaluated in [understand-citoid-coverage.ipynb](https://github.com/hdcaicyt/Web2Cit-research/blob/main/understand-citoid-coverage.ipynb). \n",
    "\n",
    "Translation tests represent the expected output for specific target webpages, so the metadata contained in the translation test files must be correct and accurate. We use as input the citation metadata extracted from EN, ES, FR and PT Wikipedia's featured articles (which is assumed to be correct).\n",
    "\n",
    "See [Web2Cit research project report](https://meta.wikimedia.org/wiki/Web2Cit/Research/report) for more information about this task and our methodological assumptions.\n",
    "\n",
    "__Author:__\n",
    "\n",
    "* Nidia Hernández, [nidiahernandez@conicet.gov.ar](mailto:nidiahy@gmail.com), CAICYT-CONICET\n",
    "\n",
    "\n",
    "### Table of contents\n",
    "\n",
    "1. Web2Cit's translation tests\n",
    "2. Evaluated domains data\n",
    "3. Select manual citations\n",
    "4. Recover metadata without preprocessing\n",
    "5. Build translation tests files\n",
    "6. Upload files"
   ]
  },
  {
   "cell_type": "code",
   "execution_count": 1,
   "id": "8cae66d2-f30d-4849-97fb-6ab3b53b66f6",
   "metadata": {},
   "outputs": [
    {
     "name": "stderr",
     "output_type": "stream",
     "text": [
      "/home/yoki/anaconda3/lib/python3.7/site-packages/tqdm/std.py:668: FutureWarning: The Panel class is removed from pandas. Accessing it from the top-level namespace will also be removed in the next version\n",
      "  from pandas import Panel\n",
      "In /home/yoki/anaconda3/lib/python3.7/site-packages/matplotlib/mpl-data/stylelib/_classic_test.mplstyle: \n",
      "The text.latex.preview rcparam was deprecated in Matplotlib 3.3 and will be removed two minor releases later.\n",
      "In /home/yoki/anaconda3/lib/python3.7/site-packages/matplotlib/mpl-data/stylelib/_classic_test.mplstyle: \n",
      "The mathtext.fallback_to_cm rcparam was deprecated in Matplotlib 3.3 and will be removed two minor releases later.\n",
      "In /home/yoki/anaconda3/lib/python3.7/site-packages/matplotlib/mpl-data/stylelib/_classic_test.mplstyle: Support for setting the 'mathtext.fallback_to_cm' rcParam is deprecated since 3.3 and will be removed two minor releases later; use 'mathtext.fallback : 'cm' instead.\n",
      "In /home/yoki/anaconda3/lib/python3.7/site-packages/matplotlib/mpl-data/stylelib/_classic_test.mplstyle: \n",
      "The validate_bool_maybe_none function was deprecated in Matplotlib 3.3 and will be removed two minor releases later.\n",
      "In /home/yoki/anaconda3/lib/python3.7/site-packages/matplotlib/mpl-data/stylelib/_classic_test.mplstyle: \n",
      "The savefig.jpeg_quality rcparam was deprecated in Matplotlib 3.3 and will be removed two minor releases later.\n",
      "In /home/yoki/anaconda3/lib/python3.7/site-packages/matplotlib/mpl-data/stylelib/_classic_test.mplstyle: \n",
      "The keymap.all_axes rcparam was deprecated in Matplotlib 3.3 and will be removed two minor releases later.\n",
      "In /home/yoki/anaconda3/lib/python3.7/site-packages/matplotlib/mpl-data/stylelib/_classic_test.mplstyle: \n",
      "The animation.avconv_path rcparam was deprecated in Matplotlib 3.3 and will be removed two minor releases later.\n",
      "In /home/yoki/anaconda3/lib/python3.7/site-packages/matplotlib/mpl-data/stylelib/_classic_test.mplstyle: \n",
      "The animation.avconv_args rcparam was deprecated in Matplotlib 3.3 and will be removed two minor releases later.\n"
     ]
    }
   ],
   "source": [
    "import os\n",
    "import pandas as pd\n",
    "from operator import itemgetter\n",
    "import json\n",
    "import gzip\n",
    "from glob import glob\n",
    "from pprint import pprint\n",
    "from tqdm import tqdm\n",
    "tqdm.pandas()\n",
    "from urllib.parse import urlparse\n",
    "import requests\n",
    "from pprint import pprint\n",
    "import seaborn as sns\n",
    "import matplotlib.pyplot as plt\n",
    "import numpy as np\n",
    "import warnings\n",
    "warnings.filterwarnings('ignore')"
   ]
  },
  {
   "cell_type": "code",
   "execution_count": 2,
   "id": "437f8994-5cb2-474e-9f73-27f6ba877a61",
   "metadata": {},
   "outputs": [],
   "source": [
    "METAWIKIMEDIA_API_URL = f'https://meta.wikimedia.org/w/api.php?'\n",
    "HEADER={'User-Agent': 'http://caicyt-conicet.gov.ar/; mailto:nidiahernandez@conicet.gov.ar'}"
   ]
  },
  {
   "cell_type": "markdown",
   "id": "6cf50788-1b3d-410f-9936-377cd693513d",
   "metadata": {
    "tags": []
   },
   "source": [
    "## 1. Web2Cit's translation tests\n",
    "\n",
    "Web2Cit's translation tests represent the expected citation output for specific target webpages. These translation tests may help Web2Cit contributors identify websites having problems with Citoid and fix them with Web2Cit.\n",
    "\n",
    "More information at:\n",
    "\n",
    "- https://meta.wikimedia.org/wiki/Web2Cit/Docs/Tests\n",
    "- https://meta.wikimedia.org/wiki/Web2Cit/Docs/Storage#tests.json\n",
    "\n",
    "Let's query https://meta.wikimedia.org/wiki/Web2Cit/data to check the currently available translation test files:"
   ]
  },
  {
   "cell_type": "code",
   "execution_count": 3,
   "id": "0faf2261-dae7-49dd-8ce3-4cc2ca20dd01",
   "metadata": {},
   "outputs": [],
   "source": [
    "PARAMS = {\n",
    "    \"action\": \"query\",\n",
    "    \"format\": \"json\",\n",
    "    \"list\": \"prefixsearch\",\n",
    "    \"pssearch\": \"Web2Cit/data\",\n",
    "    \"pslimit\": \"max\", \n",
    "    \"curtimestamp\": True\n",
    "}\n",
    "\n",
    "response = requests.get(\n",
    "    url=METAWIKIMEDIA_API_URL, \n",
    "    params=PARAMS,\n",
    "    headers=HEADER\n",
    ")\n",
    "\n",
    "data = response.json()"
   ]
  },
  {
   "cell_type": "code",
   "execution_count": 4,
   "id": "fea32048-5f8b-4458-941a-ab4e5a367d0e",
   "metadata": {},
   "outputs": [],
   "source": [
    "existing_files = []\n",
    "\n",
    "for page in data['query']['prefixsearch']:\n",
    "    if page['title'].endswith('tests.json'):\n",
    "        existing_files.append(page['title'])"
   ]
  },
  {
   "cell_type": "code",
   "execution_count": 5,
   "id": "01043e4d-8af1-4872-a9d5-fc31efaf4d91",
   "metadata": {},
   "outputs": [
    {
     "name": "stdout",
     "output_type": "stream",
     "text": [
      "There are 30 translation tests on 2022-10-31T19:47:50Z\n"
     ]
    }
   ],
   "source": [
    "print(f\"There are {len(existing_files)} translation tests on {data['curtimestamp']}\")"
   ]
  },
  {
   "cell_type": "code",
   "execution_count": 7,
   "id": "f883eb2f-cf1e-45ed-adb9-66e5b5718514",
   "metadata": {},
   "outputs": [
    {
     "data": {
      "text/plain": [
       "['Web2Cit/data/fr/lejdd/www/tests.json',\n",
       " 'Web2Cit/data/hu/5percado/tests.json',\n",
       " 'Web2Cit/data/ro/mediafax/www/tests.json',\n",
       " 'Web2Cit/data/com/nbcnews/www/tests.json',\n",
       " 'Web2Cit/data/ar/com/lavoz/www/tests.json',\n",
       " 'Web2Cit/data/com/aljazeera/www/tests.json',\n",
       " 'Web2Cit/data/org/cjr/www/tests.json',\n",
       " 'Web2Cit/data/uy/com/montevideo/www/tests.json',\n",
       " 'Web2Cit/data/au/gov/qld/qagoma/blog/tests.json',\n",
       " 'Web2Cit/data/uk/gov/www/tests.json',\n",
       " 'Web2Cit/data/com/3rionoticias/tests.json',\n",
       " 'Web2Cit/data/com/revistaanfibia/tests.json',\n",
       " 'Web2Cit/data/br/com/uol/folha/www1/tests.json',\n",
       " 'Web2Cit/data/com/newyorker/www/tests.json',\n",
       " 'Web2Cit/data/org/amnesty/www/tests.json',\n",
       " 'Web2Cit/data/uy/com/ladiaria/tests.json',\n",
       " 'Web2Cit/data/org/adl/www/tests.json',\n",
       " 'Web2Cit/data/ie/independent/www/tests.json',\n",
       " 'Web2Cit/data/com/go/abcnews/tests.json',\n",
       " 'Web2Cit/data/ie/rte/www/tests.json',\n",
       " 'Web2Cit/data/uy/com/elpais/www/tests.json',\n",
       " 'Web2Cit/data/au/gov/qld/goldcoast/digitalbank/tests.json',\n",
       " 'Web2Cit/data/com/latercera/www/tests.json',\n",
       " 'Web2Cit/data/com/yahoo/news/tests.json',\n",
       " 'Web2Cit/data/uy/com/elobservador/www/tests.json',\n",
       " 'Web2Cit/data/ar/com/pagina12/www/tests.json',\n",
       " 'Web2Cit/data/com/thequietus/tests.json',\n",
       " 'Web2Cit/data/com/eltiempo/www/tests.json',\n",
       " 'Web2Cit/data/com/elespectador/www/tests.json',\n",
       " 'Web2Cit/data/com/cnn/edition/tests.json']"
      ]
     },
     "execution_count": 7,
     "metadata": {},
     "output_type": "execute_result"
    }
   ],
   "source": [
    "existing_files"
   ]
  },
  {
   "cell_type": "markdown",
   "id": "a3ffe847-9930-4126-974a-d40e40ec0d38",
   "metadata": {},
   "source": [
    "This is how a translation test file looks like:"
   ]
  },
  {
   "cell_type": "code",
   "execution_count": 8,
   "id": "4bfb6216-d284-4e8f-91b1-5631ed8dcf9c",
   "metadata": {},
   "outputs": [
    {
     "name": "stdout",
     "output_type": "stream",
     "text": [
      "[\n",
      "  {\n",
      "    \"path\": \"/business/economy/july-inflation-numbers-consumer-prices-rose-85-year-year-summer-inflat-rcna42393\",\n",
      "    \"fields\": [\n",
      "      {\n",
      "        \"fieldname\": \"itemType\",\n",
      "        \"goal\": [\n",
      "          \"newspaperArticle\"\n",
      "        ]\n",
      "      },\n",
      "      {\n",
      "        \"fieldname\": \"title\",\n",
      "        \"goal\": [\n",
      "          \"Consumer prices rose by 8.5% year over year in July as the summer of inflation wears on\"\n",
      "        ]\n",
      "      },\n",
      "      {\n",
      "        \"fieldname\": \"authorLast\",\n",
      "        \"goal\": [\n",
      "          \"Rob Wile\"\n",
      "        ]\n",
      "      },\n",
      "      {\n",
      "        \"fieldname\": \"date\",\n",
      "        \"goal\": [\n",
      "          \"2022-08-10\"\n",
      "        ]\n",
      "      },\n",
      "      {\n",
      "        \"fieldname\": \"publishedIn\",\n",
      "        \"goal\": [\n",
      "          \"NBC News\"\n",
      "        ]\n",
      "      },\n",
      "      {\n",
      "        \"fieldname\": \"language\",\n",
      "        \"goal\": [\n",
      "          \"en\"\n",
      "        ]\n",
      "      }\n",
      "    ]\n",
      "  }\n",
      "]\n"
     ]
    }
   ],
   "source": [
    "PARAMS = {\n",
    "    \"action\": \"parse\",\n",
    "    \"page\": \"Web2Cit/data/com/nbcnews/www/tests.json\",\n",
    "    \"prop\": \"wikitext\",\n",
    "    \"format\": \"json\"\n",
    "}\n",
    "\n",
    "response = requests.get(\n",
    "    url=METAWIKIMEDIA_API_URL, \n",
    "    params=PARAMS,\n",
    "    headers=HEADER\n",
    ")\n",
    "\n",
    "page_data = response.json()\n",
    "\n",
    "print(page_data['parse']['wikitext']['*'])"
   ]
  },
  {
   "cell_type": "markdown",
   "id": "2f783794-4b60-46b7-ae38-acdb76424f71",
   "metadata": {
    "tags": []
   },
   "source": [
    "Some information about the fieldnames of the translation test files :\n",
    "\n",
    "* itemType: mandatory. Single value\n",
    "* title: mandatory. Single value, empty string not allowed.\n",
    "* authorLast: may have multiple values. Can be last name(s) or full name(s).\n",
    "* authorFirst: may have multiple values.\n",
    "* date: single value. YYYY-MM-DD, YYYY-MM or YYYY format\n",
    "* publishedBy: single value.\n",
    "* publishedIn: single value.\n",
    "* language: single value.\n",
    "\n",
    "More information at: https://meta.wikimedia.org/wiki/Web2Cit/Docs/Fields\n",
    "\n",
    "We will extract the data for these fields from the following columns in our evaluation dataframe:\n",
    "\n",
    "* itemType: will not be extracted because in the results of the Citoid's evaluation research we observed that it is not reliable information even if there is a match between Citoid data and manual data (see [Web2Cit Research report](https://meta.wikimedia.org/wiki/Web2Cit/Research/report))\n",
    "* title: title_manual\n",
    "* authorLast: author_last_manual\n",
    "* authorFirst: author_first_manual\n",
    "* date: pub_date_manual\n",
    "* publishedBy: can't be recovered, pub_source_manual is a mix of publishedBy and publishedIn\n",
    "* publishedIn: can't be recovered, see above\n",
    "* language: can't be recovered, we do not have the publishing languaage in our df"
   ]
  },
  {
   "cell_type": "markdown",
   "id": "706569c7-394f-4064-999f-994654ebe6fb",
   "metadata": {
    "tags": []
   },
   "source": [
    "## 2. Evaluated domains data\n",
    "\n",
    "Our goal is to automatically produce new translation tests for Web2cit. We will use as input the citation metadata extracted from the citations in EN, ES, FR and PT Wikipedia's featured articles and we will select the citations based on the results of Citoid's evaluation by domain obtained in [Understand Citoid coverage](https://github.com/hdcaicyt/Web2Cit-research/blob/main/understand-citoid-coverage.ipynb) notebook."
   ]
  },
  {
   "cell_type": "code",
   "execution_count": 9,
   "id": "788a49af-5fe0-46e7-a2e8-24dae878db23",
   "metadata": {
    "tags": []
   },
   "outputs": [],
   "source": [
    "## Read evaluation results df\n",
    "citoid_eval = pd.read_csv(\"eval/eval_all_citations.csv.gz\")\n",
    "manual_metadata = ['title_manual', 'author_last_manual', 'author_first_manual', 'pub_date_manual'] # 'pub_source' will not be used, it can't be mapped\n",
    "\n",
    "# read data as lists\n",
    "for col in manual_metadata:\n",
    "    citoid_eval[col] = citoid_eval[col].fillna('None').map(eval)"
   ]
  },
  {
   "cell_type": "code",
   "execution_count": 10,
   "id": "d88f7b33-9cd5-4508-b888-ace6dc443d89",
   "metadata": {
    "tags": []
   },
   "outputs": [
    {
     "name": "stdout",
     "output_type": "stream",
     "text": [
      "There are 91338 citations in our evaluation corpus\n"
     ]
    }
   ],
   "source": [
    "print(f\"There are {len(citoid_eval)} citations in our evaluation corpus\")"
   ]
  },
  {
   "cell_type": "code",
   "execution_count": 11,
   "id": "4f794528-05fa-4f46-ac11-a5d7d0cd9cd4",
   "metadata": {
    "tags": []
   },
   "outputs": [
    {
     "data": {
      "text/html": [
       "<div>\n",
       "<style scoped>\n",
       "    .dataframe tbody tr th:only-of-type {\n",
       "        vertical-align: middle;\n",
       "    }\n",
       "\n",
       "    .dataframe tbody tr th {\n",
       "        vertical-align: top;\n",
       "    }\n",
       "\n",
       "    .dataframe thead th {\n",
       "        text-align: right;\n",
       "    }\n",
       "</style>\n",
       "<table border=\"1\" class=\"dataframe\">\n",
       "  <thead>\n",
       "    <tr style=\"text-align: right;\">\n",
       "      <th></th>\n",
       "      <th>url</th>\n",
       "      <th>url_citoid</th>\n",
       "      <th>source_type_citoid</th>\n",
       "      <th>title_citoid</th>\n",
       "      <th>author_first_citoid</th>\n",
       "      <th>author_last_citoid</th>\n",
       "      <th>pub_date_citoid</th>\n",
       "      <th>pub_source_citoid</th>\n",
       "      <th>citation_template</th>\n",
       "      <th>source_type_manual</th>\n",
       "      <th>...</th>\n",
       "      <th>article_url</th>\n",
       "      <th>page_id</th>\n",
       "      <th>revid</th>\n",
       "      <th>wiki_lang</th>\n",
       "      <th>comp_title</th>\n",
       "      <th>comp_source_type</th>\n",
       "      <th>comp_pub_source</th>\n",
       "      <th>comp_pub_date</th>\n",
       "      <th>comp_author_first</th>\n",
       "      <th>comp_author_last</th>\n",
       "    </tr>\n",
       "  </thead>\n",
       "  <tbody>\n",
       "    <tr>\n",
       "      <th>0</th>\n",
       "      <td>https://www.theage.com.au/entertainment/movies...</td>\n",
       "      <td>https://www.theage.com.au/entertainment/movies...</td>\n",
       "      <td>webpage</td>\n",
       "      <td>bollywood on bourke street</td>\n",
       "      <td>NaN</td>\n",
       "      <td>NaN</td>\n",
       "      <td>2005-05-13</td>\n",
       "      <td>the age</td>\n",
       "      <td>cite news</td>\n",
       "      <td>['magazineArticle', 'newspaperArticle']</td>\n",
       "      <td>...</td>\n",
       "      <td>https://en.wikipedia.org/wiki/Preity%20Zinta</td>\n",
       "      <td>415405</td>\n",
       "      <td>1070334117</td>\n",
       "      <td>en</td>\n",
       "      <td>1.00</td>\n",
       "      <td>0</td>\n",
       "      <td>0.00</td>\n",
       "      <td>1.0</td>\n",
       "      <td>1.0</td>\n",
       "      <td>0.00</td>\n",
       "    </tr>\n",
       "    <tr>\n",
       "      <th>1</th>\n",
       "      <td>https://books.google.com/books?id=QSwEAAAAMBAJ...</td>\n",
       "      <td>https://books.google.com/books?id=QSwEAAAAMBAJ...</td>\n",
       "      <td>book</td>\n",
       "      <td>vibe</td>\n",
       "      <td>['vibe media']</td>\n",
       "      <td>['group']</td>\n",
       "      <td>1997-01</td>\n",
       "      <td>vibe media group</td>\n",
       "      <td>cite magazine</td>\n",
       "      <td>[]</td>\n",
       "      <td>...</td>\n",
       "      <td>https://en.wikipedia.org/wiki/House%20of%20Music</td>\n",
       "      <td>18386478</td>\n",
       "      <td>1053326252</td>\n",
       "      <td>en</td>\n",
       "      <td>0.05</td>\n",
       "      <td>0</td>\n",
       "      <td>1.00</td>\n",
       "      <td>0.0</td>\n",
       "      <td>0.2</td>\n",
       "      <td>0.12</td>\n",
       "    </tr>\n",
       "    <tr>\n",
       "      <th>2</th>\n",
       "      <td>https://www.ecaho.org/about-ecaho/about-us</td>\n",
       "      <td>https://www.ecaho.org/about-ecaho/about-us</td>\n",
       "      <td>webpage</td>\n",
       "      <td>about ecaho - ecaho</td>\n",
       "      <td>NaN</td>\n",
       "      <td>NaN</td>\n",
       "      <td>NaN</td>\n",
       "      <td>www.ecaho.org</td>\n",
       "      <td>Lien web</td>\n",
       "      <td>['blogPost', 'email', 'forumPost', 'podcast', ...</td>\n",
       "      <td>...</td>\n",
       "      <td>https://fr.wikipedia.org/wiki/Arabe%20%28cheva...</td>\n",
       "      <td>354491</td>\n",
       "      <td>186027366</td>\n",
       "      <td>fr</td>\n",
       "      <td>0.58</td>\n",
       "      <td>1</td>\n",
       "      <td>1.00</td>\n",
       "      <td>1.0</td>\n",
       "      <td>1.0</td>\n",
       "      <td>1.00</td>\n",
       "    </tr>\n",
       "    <tr>\n",
       "      <th>3</th>\n",
       "      <td>https://www.gq.com/story/pacific-rim-uprising-...</td>\n",
       "      <td>https://www.gq.com/story/pacific-rim-uprising-...</td>\n",
       "      <td>webpage</td>\n",
       "      <td>the 'pacific rim uprising' director tells us a...</td>\n",
       "      <td>['conde']</td>\n",
       "      <td>['nast']</td>\n",
       "      <td>2018-03-23</td>\n",
       "      <td>gq</td>\n",
       "      <td>cite web</td>\n",
       "      <td>['blogPost', 'email', 'forumPost', 'webpage']</td>\n",
       "      <td>...</td>\n",
       "      <td>https://en.wikipedia.org/wiki/The%20Thing%20%2...</td>\n",
       "      <td>30809</td>\n",
       "      <td>1070729737</td>\n",
       "      <td>en</td>\n",
       "      <td>0.22</td>\n",
       "      <td>1</td>\n",
       "      <td>1.00</td>\n",
       "      <td>1.0</td>\n",
       "      <td>0.2</td>\n",
       "      <td>0.17</td>\n",
       "    </tr>\n",
       "    <tr>\n",
       "      <th>4</th>\n",
       "      <td>http://bgtfans.com/2013/fifth-falcons-fury-tow...</td>\n",
       "      <td>http://bgtfans.com/2013/fifth-falcons-fury-tow...</td>\n",
       "      <td>webpage</td>\n",
       "      <td>NaN</td>\n",
       "      <td>NaN</td>\n",
       "      <td>NaN</td>\n",
       "      <td>NaN</td>\n",
       "      <td>bgtfans.com</td>\n",
       "      <td>cite web</td>\n",
       "      <td>['blogPost', 'email', 'forumPost', 'webpage']</td>\n",
       "      <td>...</td>\n",
       "      <td>https://en.wikipedia.org/wiki/Falcon%27s%20Fury</td>\n",
       "      <td>39650109</td>\n",
       "      <td>1055267199</td>\n",
       "      <td>en</td>\n",
       "      <td>0.00</td>\n",
       "      <td>1</td>\n",
       "      <td>0.55</td>\n",
       "      <td>0.0</td>\n",
       "      <td>1.0</td>\n",
       "      <td>1.00</td>\n",
       "    </tr>\n",
       "  </tbody>\n",
       "</table>\n",
       "<p>5 rows × 25 columns</p>\n",
       "</div>"
      ],
      "text/plain": [
       "                                                 url  \\\n",
       "0  https://www.theage.com.au/entertainment/movies...   \n",
       "1  https://books.google.com/books?id=QSwEAAAAMBAJ...   \n",
       "2         https://www.ecaho.org/about-ecaho/about-us   \n",
       "3  https://www.gq.com/story/pacific-rim-uprising-...   \n",
       "4  http://bgtfans.com/2013/fifth-falcons-fury-tow...   \n",
       "\n",
       "                                          url_citoid source_type_citoid  \\\n",
       "0  https://www.theage.com.au/entertainment/movies...            webpage   \n",
       "1  https://books.google.com/books?id=QSwEAAAAMBAJ...               book   \n",
       "2         https://www.ecaho.org/about-ecaho/about-us            webpage   \n",
       "3  https://www.gq.com/story/pacific-rim-uprising-...            webpage   \n",
       "4  http://bgtfans.com/2013/fifth-falcons-fury-tow...            webpage   \n",
       "\n",
       "                                        title_citoid author_first_citoid  \\\n",
       "0                         bollywood on bourke street                 NaN   \n",
       "1                                               vibe      ['vibe media']   \n",
       "2                                about ecaho - ecaho                 NaN   \n",
       "3  the 'pacific rim uprising' director tells us a...           ['conde']   \n",
       "4                                                NaN                 NaN   \n",
       "\n",
       "  author_last_citoid pub_date_citoid pub_source_citoid citation_template  \\\n",
       "0                NaN      2005-05-13           the age         cite news   \n",
       "1          ['group']         1997-01  vibe media group     cite magazine   \n",
       "2                NaN             NaN     www.ecaho.org          Lien web   \n",
       "3           ['nast']      2018-03-23                gq          cite web   \n",
       "4                NaN             NaN       bgtfans.com          cite web   \n",
       "\n",
       "                                  source_type_manual  ...  \\\n",
       "0            ['magazineArticle', 'newspaperArticle']  ...   \n",
       "1                                                 []  ...   \n",
       "2  ['blogPost', 'email', 'forumPost', 'podcast', ...  ...   \n",
       "3      ['blogPost', 'email', 'forumPost', 'webpage']  ...   \n",
       "4      ['blogPost', 'email', 'forumPost', 'webpage']  ...   \n",
       "\n",
       "                                         article_url   page_id       revid  \\\n",
       "0       https://en.wikipedia.org/wiki/Preity%20Zinta    415405  1070334117   \n",
       "1   https://en.wikipedia.org/wiki/House%20of%20Music  18386478  1053326252   \n",
       "2  https://fr.wikipedia.org/wiki/Arabe%20%28cheva...    354491   186027366   \n",
       "3  https://en.wikipedia.org/wiki/The%20Thing%20%2...     30809  1070729737   \n",
       "4    https://en.wikipedia.org/wiki/Falcon%27s%20Fury  39650109  1055267199   \n",
       "\n",
       "  wiki_lang comp_title comp_source_type  comp_pub_source  comp_pub_date  \\\n",
       "0        en       1.00                0             0.00            1.0   \n",
       "1        en       0.05                0             1.00            0.0   \n",
       "2        fr       0.58                1             1.00            1.0   \n",
       "3        en       0.22                1             1.00            1.0   \n",
       "4        en       0.00                1             0.55            0.0   \n",
       "\n",
       "  comp_author_first  comp_author_last  \n",
       "0               1.0              0.00  \n",
       "1               0.2              0.12  \n",
       "2               1.0              1.00  \n",
       "3               0.2              0.17  \n",
       "4               1.0              1.00  \n",
       "\n",
       "[5 rows x 25 columns]"
      ]
     },
     "execution_count": 11,
     "metadata": {},
     "output_type": "execute_result"
    }
   ],
   "source": [
    "citoid_eval.head()"
   ]
  },
  {
   "cell_type": "code",
   "execution_count": 12,
   "id": "b3ce61f8-1fc0-4043-96bd-76f2a4157169",
   "metadata": {},
   "outputs": [],
   "source": [
    "## caculate scores\n",
    "comp_fields = ['comp_author_first', 'comp_author_last', 'comp_title',\n",
    "          'comp_source_type', 'comp_pub_source', 'comp_pub_date']\n",
    "\n",
    "citoid_eval[\"citoid_success\"] = (citoid_eval[comp_fields] >= 0.75).sum(axis=1)"
   ]
  },
  {
   "cell_type": "code",
   "execution_count": 13,
   "id": "5514f69c-0e66-4623-95d4-1b6165c5209a",
   "metadata": {},
   "outputs": [],
   "source": [
    "## find domains\n",
    "citoid_eval['domain'] = citoid_eval['url'].map(lambda x : urlparse(x).netloc)"
   ]
  },
  {
   "cell_type": "code",
   "execution_count": 14,
   "id": "d02c58bd-69e2-4e59-b6ae-69de4b705e04",
   "metadata": {},
   "outputs": [
    {
     "name": "stdout",
     "output_type": "stream",
     "text": [
      "There are 15501 domains in our evaluation corpus\n"
     ]
    }
   ],
   "source": [
    "print(f\"There are {len(citoid_eval.domain.drop_duplicates())} domains in our evaluation corpus\")"
   ]
  },
  {
   "cell_type": "code",
   "execution_count": 15,
   "id": "8a6ec9de-cd4b-445d-ada5-d217cc3bcfc0",
   "metadata": {},
   "outputs": [],
   "source": [
    "## calculate domain popularity (occurencies)\n",
    "citoid_eval[\"domain_counts\"] = citoid_eval.groupby('domain')[\"domain\"].transform(\"count\")"
   ]
  },
  {
   "cell_type": "code",
   "execution_count": 16,
   "id": "0009d2ce-79df-42da-950f-0663f3ad4517",
   "metadata": {},
   "outputs": [],
   "source": [
    "## calculate domain score\n",
    "citoid_eval[\"domain_score\"] = citoid_eval.groupby(\"domain\")[\"citoid_success\"].transform(\"mean\")"
   ]
  },
  {
   "cell_type": "markdown",
   "id": "73bd6884-b4c2-40e3-906f-6587cd2d54b3",
   "metadata": {
    "tags": []
   },
   "source": [
    "## 3. Select manual citations"
   ]
  },
  {
   "cell_type": "markdown",
   "id": "2ed84b20-b71a-4be3-8730-fd8a0644b2fc",
   "metadata": {},
   "source": [
    "In this section, we filter the 91k citations to select the most useful examples for the translation tests, that is, frequently used domains for which the automatic citations can be improved. \n",
    "\n",
    "First, we visualize the data by score and popularity in order to establish thresholds to select the most popular domains having the lower scores:"
   ]
  },
  {
   "cell_type": "code",
   "execution_count": 17,
   "id": "82c82598-fc1c-4e0f-9b80-510027cec7be",
   "metadata": {},
   "outputs": [
    {
     "data": {
      "image/png": "[encoded data removed]",
      "text/plain": [
       "<Figure size 720x288 with 2 Axes>"
      ]
     },
     "metadata": {
      "needs_background": "light"
     },
     "output_type": "display_data"
    }
   ],
   "source": [
    "plot_data = citoid_eval[[\"domain\", \"domain_score\", \"domain_counts\"]].copy().drop_duplicates()\n",
    "\n",
    "plot_data[\"domain_score\"] = round(plot_data[\"domain_score\"])\n",
    "plot_data[\"domain_counts_bin\"] = pd.cut(plot_data[\"domain_counts\"], [0, 1, 10, 100, 1000, 10000])\n",
    "\n",
    "plot_data = plot_data.groupby(by=[\"domain_score\", \"domain_counts_bin\"])[\"domain\"].count()\n",
    "plot_data = plot_data.reset_index().pivot(\"domain_counts_bin\", \"domain_score\", \"domain\").fillna(0)\n",
    "plot_data = plot_data.reindex(plot_data.index[::-1])\n",
    "\n",
    "fig, ax = plt.subplots(1, 1, figsize=(10, 4))\n",
    "sns.heatmap(plot_data, cmap=\"Reds\", annot=True, fmt=\".0f\", ax=ax)\n",
    "\n",
    "ax.set_title(\"Citoid's performance by domain\", pad=20)\n",
    "ax.set_ylabel(\"Domain counts\")\n",
    "ax.set_xlabel(\"Domain score\")\n",
    "ax.text(x=0, y=0, s=\"Low score high popularity domains\", va=\"center\", fontsize=9, fontstyle=\"italic\")\n",
    "ax.axhline(2, color='grey')\n",
    "ax.axvline(4, color='grey')\n",
    "\n",
    "plt.savefig(\"plots/domain_score_popularity_heatmap.png\")\n",
    "plt.show()"
   ]
  },
  {
   "cell_type": "markdown",
   "id": "6904e094-58bb-40cb-9eb0-01bc3be4ad32",
   "metadata": {},
   "source": [
    "In this plot, we can observe that the majority of the domains are cited a 10 times or less (darker areas correspond to (0-1] and (1-10] counts). For the automatic generation of translation test files we decided to select domains being cited more than 100 times in our evaluation corpus and having a score of 3 correct fields or less (upper left quadrant)."
   ]
  },
  {
   "cell_type": "markdown",
   "id": "5ca0a34b-360a-4e1e-8046-2ac82217093a",
   "metadata": {},
   "source": [
    "Some additional observations about the manual citations:\n",
    "\n",
    "1. In many cases, there is no data for the evaluated fields\n"
   ]
  },
  {
   "cell_type": "code",
   "execution_count": 28,
   "id": "597aa8ee-9dee-455d-be08-e20f40fc5255",
   "metadata": {},
   "outputs": [
    {
     "data": {
      "text/html": [
       "<div>\n",
       "<style scoped>\n",
       "    .dataframe tbody tr th:only-of-type {\n",
       "        vertical-align: middle;\n",
       "    }\n",
       "\n",
       "    .dataframe tbody tr th {\n",
       "        vertical-align: top;\n",
       "    }\n",
       "\n",
       "    .dataframe thead th {\n",
       "        text-align: right;\n",
       "    }\n",
       "</style>\n",
       "<table border=\"1\" class=\"dataframe\">\n",
       "  <thead>\n",
       "    <tr style=\"text-align: right;\">\n",
       "      <th></th>\n",
       "      <th>title_manual</th>\n",
       "      <th>author_last_manual</th>\n",
       "      <th>author_first_manual</th>\n",
       "      <th>pub_date_manual</th>\n",
       "    </tr>\n",
       "  </thead>\n",
       "  <tbody>\n",
       "    <tr>\n",
       "      <th>31987</th>\n",
       "      <td>[neil young and crazy horse spent 11 magical d...</td>\n",
       "      <td>[colorado sun]</td>\n",
       "      <td>[]</td>\n",
       "      <td>[]</td>\n",
       "    </tr>\n",
       "    <tr>\n",
       "      <th>88967</th>\n",
       "      <td>[the irish charts - search results - frozen]</td>\n",
       "      <td>[]</td>\n",
       "      <td>[]</td>\n",
       "      <td>[]</td>\n",
       "    </tr>\n",
       "    <tr>\n",
       "      <th>64500</th>\n",
       "      <td>[jinjer (20 may, 2016)]</td>\n",
       "      <td>[anders ekdahl - ''battle helm.com'']</td>\n",
       "      <td>[]</td>\n",
       "      <td>[]</td>\n",
       "    </tr>\n",
       "    <tr>\n",
       "      <th>40830</th>\n",
       "      <td>[the 1996 pazz &amp; jop critics poll]</td>\n",
       "      <td>[]</td>\n",
       "      <td>[]</td>\n",
       "      <td>[]</td>\n",
       "    </tr>\n",
       "    <tr>\n",
       "      <th>30074</th>\n",
       "      <td>[ellen wilkinson (1891-1947) labour politician...</td>\n",
       "      <td>[]</td>\n",
       "      <td>[]</td>\n",
       "      <td>[]</td>\n",
       "    </tr>\n",
       "  </tbody>\n",
       "</table>\n",
       "</div>"
      ],
      "text/plain": [
       "                                            title_manual  \\\n",
       "31987  [neil young and crazy horse spent 11 magical d...   \n",
       "88967       [the irish charts - search results - frozen]   \n",
       "64500                            [jinjer (20 may, 2016)]   \n",
       "40830                 [the 1996 pazz & jop critics poll]   \n",
       "30074  [ellen wilkinson (1891-1947) labour politician...   \n",
       "\n",
       "                          author_last_manual author_first_manual  \\\n",
       "31987                         [colorado sun]                  []   \n",
       "88967                                     []                  []   \n",
       "64500  [anders ekdahl - ''battle helm.com'']                  []   \n",
       "40830                                     []                  []   \n",
       "30074                                     []                  []   \n",
       "\n",
       "      pub_date_manual  \n",
       "31987              []  \n",
       "88967              []  \n",
       "64500              []  \n",
       "40830              []  \n",
       "30074              []  "
      ]
     },
     "execution_count": 28,
     "metadata": {},
     "output_type": "execute_result"
    }
   ],
   "source": [
    "missing_up_to_3_fields = (citoid_eval[manual_metadata].applymap(len) > 0).sum(axis=1) < 3\n",
    "citoid_eval[missing_up_to_3_fields][manual_metadata].sample(5)"
   ]
  },
  {
   "cell_type": "markdown",
   "id": "7159f316-5c38-46b4-a946-fe9f67889f4b",
   "metadata": {},
   "source": [
    "We will filter these cases because an empty translation test is not useful.\n",
    "\n",
    "2. Sometimes, manual citations contain wikicode"
   ]
  },
  {
   "cell_type": "code",
   "execution_count": 33,
   "id": "feef6dc4-b032-4be2-bd42-24b21b41431e",
   "metadata": {},
   "outputs": [
    {
     "data": {
      "text/html": [
       "<div>\n",
       "<style scoped>\n",
       "    .dataframe tbody tr th:only-of-type {\n",
       "        vertical-align: middle;\n",
       "    }\n",
       "\n",
       "    .dataframe tbody tr th {\n",
       "        vertical-align: top;\n",
       "    }\n",
       "\n",
       "    .dataframe thead th {\n",
       "        text-align: right;\n",
       "    }\n",
       "</style>\n",
       "<table border=\"1\" class=\"dataframe\">\n",
       "  <thead>\n",
       "    <tr style=\"text-align: right;\">\n",
       "      <th></th>\n",
       "      <th>title_manual</th>\n",
       "      <th>author_last_manual</th>\n",
       "      <th>author_first_manual</th>\n",
       "      <th>pub_date_manual</th>\n",
       "    </tr>\n",
       "  </thead>\n",
       "  <tbody>\n",
       "    <tr>\n",
       "      <th>34454</th>\n",
       "      <td>[{{lang|en|the country wife}}]</td>\n",
       "      <td>[{{lang|en|internet movie database}}]</td>\n",
       "      <td>[]</td>\n",
       "      <td>[2011]</td>\n",
       "    </tr>\n",
       "    <tr>\n",
       "      <th>37306</th>\n",
       "      <td>[''{{langue|en|hollow knight}}'' revient avec ...</td>\n",
       "      <td>[puyo]</td>\n",
       "      <td>[]</td>\n",
       "      <td>[2017]</td>\n",
       "    </tr>\n",
       "    <tr>\n",
       "      <th>52070</th>\n",
       "      <td>[sense and sensibility ''(introduction)'']</td>\n",
       "      <td>[margaret doody]</td>\n",
       "      <td>[]</td>\n",
       "      <td>[2004]</td>\n",
       "    </tr>\n",
       "    <tr>\n",
       "      <th>62452</th>\n",
       "      <td>[''{{langue|en|charts}}'' japon : ''pokemon'' ...</td>\n",
       "      <td>[puyo]</td>\n",
       "      <td>[]</td>\n",
       "      <td>[2002]</td>\n",
       "    </tr>\n",
       "    <tr>\n",
       "      <th>67658</th>\n",
       "      <td>[lorde&amp;nbsp;- new music]</td>\n",
       "      <td>[lachno]</td>\n",
       "      <td>[james]</td>\n",
       "      <td>[2013-09-11]</td>\n",
       "    </tr>\n",
       "  </tbody>\n",
       "</table>\n",
       "</div>"
      ],
      "text/plain": [
       "                                            title_manual  \\\n",
       "34454                     [{{lang|en|the country wife}}]   \n",
       "37306  [''{{langue|en|hollow knight}}'' revient avec ...   \n",
       "52070         [sense and sensibility ''(introduction)'']   \n",
       "62452  [''{{langue|en|charts}}'' japon : ''pokemon'' ...   \n",
       "67658                           [lorde&nbsp;- new music]   \n",
       "\n",
       "                          author_last_manual author_first_manual  \\\n",
       "34454  [{{lang|en|internet movie database}}]                  []   \n",
       "37306                                 [puyo]                  []   \n",
       "52070                       [margaret doody]                  []   \n",
       "62452                                 [puyo]                  []   \n",
       "67658                               [lachno]             [james]   \n",
       "\n",
       "      pub_date_manual  \n",
       "34454          [2011]  \n",
       "37306          [2017]  \n",
       "52070          [2004]  \n",
       "62452          [2002]  \n",
       "67658    [2013-09-11]  "
      ]
     },
     "execution_count": 33,
     "metadata": {},
     "output_type": "execute_result"
    }
   ],
   "source": [
    "## NH\n",
    "data_with_wikicode = [34454, 37306, 52070, 62452, 67658]\n",
    "citoid_eval.iloc[data_with_wikicode][manual_metadata]"
   ]
  },
  {
   "cell_type": "code",
   "execution_count": null,
   "id": "1f46e6ae-1d30-4837-9437-69f12f96979e",
   "metadata": {},
   "outputs": [],
   "source": []
  },
  {
   "cell_type": "code",
   "execution_count": null,
   "id": "9cb43526-af97-4daf-9d6d-8e69031821e2",
   "metadata": {},
   "outputs": [],
   "source": []
  },
  {
   "cell_type": "code",
   "execution_count": null,
   "id": "67221eba-b813-4b7b-84f3-2abac8a96686",
   "metadata": {},
   "outputs": [],
   "source": []
  },
  {
   "cell_type": "markdown",
   "id": "8311f672-6f50-4299-ba37-2ac78c073d23",
   "metadata": {},
   "source": [
    "We will exclude these citations because we do not want to generate config files having wikicode in the goal since it is not currently supported by Web2Cit."
   ]
  },
  {
   "cell_type": "markdown",
   "id": "13161251-c898-41fd-a077-fffe35db7e95",
   "metadata": {},
   "source": [
    "In sum, to be elegible for generating a translation test file, a citation must:\n",
    "\n",
    "- have a success score equal or lower than 50% (we prioritize domains for which Citoid's performance can be improved)\n",
    "- belong to a domain cited more than 100 times in our corpus of evaluated URLs (we are interested in high frequency domains)\n",
    "- have information for at least 3 of the following 4 fields: title, author_first, author_last, and pub_date (an empty translation test is not useful)\n",
    "- do not contain wikicode (not currently supported by Web2Cit)"
   ]
  },
  {
   "cell_type": "code",
   "execution_count": 34,
   "id": "3b55e84c-add2-49a9-b52d-bc729fb545d1",
   "metadata": {},
   "outputs": [],
   "source": [
    "## filter by required metadata\n",
    "mask = (citoid_eval[manual_metadata].applymap(len) > 0).sum(axis=1) > 2\n",
    "citations4conf = citoid_eval[mask]"
   ]
  },
  {
   "cell_type": "code",
   "execution_count": null,
   "id": "c81bedf5-0d74-4d78-bec8-de2993b7822b",
   "metadata": {},
   "outputs": [],
   "source": [
    "## NH\n",
    "## filter wikicode"
   ]
  },
  {
   "cell_type": "code",
   "execution_count": null,
   "id": "c312d9fa-c670-40c6-b8e1-75666647b3e5",
   "metadata": {},
   "outputs": [],
   "source": []
  },
  {
   "cell_type": "code",
   "execution_count": null,
   "id": "32db9123-b4e3-40b7-ac2d-a9cda556007f",
   "metadata": {},
   "outputs": [],
   "source": []
  },
  {
   "cell_type": "code",
   "execution_count": null,
   "id": "a620d2c6-e589-4617-bee9-dac866183978",
   "metadata": {},
   "outputs": [],
   "source": []
  },
  {
   "cell_type": "code",
   "execution_count": 36,
   "id": "aae8713d-0d52-4c6c-8217-195ccb069c70",
   "metadata": {},
   "outputs": [],
   "source": [
    "## filter by domain frequency\n",
    "popularity_threshold = 100\n",
    "citations4conf = citations4conf[citations4conf[\"domain_counts\"] > popularity_threshold]"
   ]
  },
  {
   "cell_type": "code",
   "execution_count": 35,
   "id": "9b509c46-d3e9-4b4b-8513-89c6f7b06e94",
   "metadata": {},
   "outputs": [],
   "source": [
    "## filter by domain score\n",
    "score_threshold = 3 # max score is 6\n",
    "citations4conf = citations4conf[citations4conf[\"domain_score\"] <= score_threshold]"
   ]
  },
  {
   "cell_type": "code",
   "execution_count": 37,
   "id": "cbee3cb8-c89d-4e0c-a7b6-b71fcbb3a78d",
   "metadata": {},
   "outputs": [
    {
     "name": "stdout",
     "output_type": "stream",
     "text": [
      "We have 7119 citations left\n"
     ]
    }
   ],
   "source": [
    "print(f\"We have {len(citations4conf)} citations left\")"
   ]
  },
  {
   "cell_type": "code",
   "execution_count": 38,
   "id": "72212dbd-1bbf-4faf-9fb1-ab9a1c461a62",
   "metadata": {},
   "outputs": [],
   "source": [
    "## Sort by domain score, from lower to higher\n",
    "citations4conf = citations4conf.sort_values(by=[\"domain_score\"], ascending=True)"
   ]
  },
  {
   "cell_type": "code",
   "execution_count": 39,
   "id": "d3237969-1926-4125-af58-10068562b44f",
   "metadata": {
    "tags": []
   },
   "outputs": [
    {
     "name": "stdout",
     "output_type": "stream",
     "text": [
      "We have 40 domains left\n"
     ]
    }
   ],
   "source": [
    "print(f\"We have {len(citations4conf['domain'].drop_duplicates())} domains left\")"
   ]
  },
  {
   "cell_type": "markdown",
   "id": "5dd63089-1208-4202-bfdc-87cb5130d8fe",
   "metadata": {},
   "source": [
    "These are the domains having the lowest scores and higher citation frequency:"
   ]
  },
  {
   "cell_type": "code",
   "execution_count": 40,
   "id": "2d834cf8-c6a3-41b2-bf53-65500b2a54c0",
   "metadata": {},
   "outputs": [
    {
     "data": {
      "text/html": [
       "<div>\n",
       "<style scoped>\n",
       "    .dataframe tbody tr th:only-of-type {\n",
       "        vertical-align: middle;\n",
       "    }\n",
       "\n",
       "    .dataframe tbody tr th {\n",
       "        vertical-align: top;\n",
       "    }\n",
       "\n",
       "    .dataframe thead th {\n",
       "        text-align: right;\n",
       "    }\n",
       "</style>\n",
       "<table border=\"1\" class=\"dataframe\">\n",
       "  <thead>\n",
       "    <tr style=\"text-align: right;\">\n",
       "      <th></th>\n",
       "      <th>domain</th>\n",
       "      <th>domain_score</th>\n",
       "      <th>domain_counts</th>\n",
       "    </tr>\n",
       "  </thead>\n",
       "  <tbody>\n",
       "    <tr>\n",
       "      <th>27707</th>\n",
       "      <td>nl.newsbank.com</td>\n",
       "      <td>1.128000</td>\n",
       "      <td>125</td>\n",
       "    </tr>\n",
       "    <tr>\n",
       "      <th>15234</th>\n",
       "      <td>darwin-online.org.uk</td>\n",
       "      <td>1.288462</td>\n",
       "      <td>156</td>\n",
       "    </tr>\n",
       "    <tr>\n",
       "      <th>1198</th>\n",
       "      <td>docs.newsbank.com</td>\n",
       "      <td>1.328671</td>\n",
       "      <td>143</td>\n",
       "    </tr>\n",
       "    <tr>\n",
       "      <th>2765</th>\n",
       "      <td>tvbythenumbers.zap2it.com</td>\n",
       "      <td>1.405405</td>\n",
       "      <td>111</td>\n",
       "    </tr>\n",
       "    <tr>\n",
       "      <th>6870</th>\n",
       "      <td>www.ibiblio.org</td>\n",
       "      <td>1.493976</td>\n",
       "      <td>166</td>\n",
       "    </tr>\n",
       "    <tr>\n",
       "      <th>49381</th>\n",
       "      <td>people.com</td>\n",
       "      <td>1.542484</td>\n",
       "      <td>153</td>\n",
       "    </tr>\n",
       "    <tr>\n",
       "      <th>37939</th>\n",
       "      <td>news.google.com</td>\n",
       "      <td>1.543237</td>\n",
       "      <td>902</td>\n",
       "    </tr>\n",
       "    <tr>\n",
       "      <th>26360</th>\n",
       "      <td>usatoday30.usatoday.com</td>\n",
       "      <td>1.723529</td>\n",
       "      <td>170</td>\n",
       "    </tr>\n",
       "    <tr>\n",
       "      <th>76485</th>\n",
       "      <td>ew.com</td>\n",
       "      <td>1.757143</td>\n",
       "      <td>350</td>\n",
       "    </tr>\n",
       "    <tr>\n",
       "      <th>45346</th>\n",
       "      <td>www.robertchristgau.com</td>\n",
       "      <td>1.793939</td>\n",
       "      <td>165</td>\n",
       "    </tr>\n",
       "    <tr>\n",
       "      <th>28254</th>\n",
       "      <td>www.amazon.com</td>\n",
       "      <td>1.878641</td>\n",
       "      <td>206</td>\n",
       "    </tr>\n",
       "    <tr>\n",
       "      <th>10429</th>\n",
       "      <td>www.yorkpress.co.uk</td>\n",
       "      <td>1.914634</td>\n",
       "      <td>164</td>\n",
       "    </tr>\n",
       "    <tr>\n",
       "      <th>80859</th>\n",
       "      <td>books.google.com.ar</td>\n",
       "      <td>1.981651</td>\n",
       "      <td>109</td>\n",
       "    </tr>\n",
       "    <tr>\n",
       "      <th>13802</th>\n",
       "      <td>www.eurogamer.net</td>\n",
       "      <td>2.155414</td>\n",
       "      <td>785</td>\n",
       "    </tr>\n",
       "    <tr>\n",
       "      <th>21937</th>\n",
       "      <td>www.allmusic.com</td>\n",
       "      <td>2.222222</td>\n",
       "      <td>468</td>\n",
       "    </tr>\n",
       "    <tr>\n",
       "      <th>44949</th>\n",
       "      <td>www.telegraph.co.uk</td>\n",
       "      <td>2.226703</td>\n",
       "      <td>1116</td>\n",
       "    </tr>\n",
       "    <tr>\n",
       "      <th>62464</th>\n",
       "      <td>www.nps.gov</td>\n",
       "      <td>2.264249</td>\n",
       "      <td>193</td>\n",
       "    </tr>\n",
       "    <tr>\n",
       "      <th>17788</th>\n",
       "      <td>abcnews.go.com</td>\n",
       "      <td>2.308411</td>\n",
       "      <td>107</td>\n",
       "    </tr>\n",
       "    <tr>\n",
       "      <th>66485</th>\n",
       "      <td>history.nasa.gov</td>\n",
       "      <td>2.355649</td>\n",
       "      <td>239</td>\n",
       "    </tr>\n",
       "    <tr>\n",
       "      <th>63884</th>\n",
       "      <td>www.cnn.com</td>\n",
       "      <td>2.379195</td>\n",
       "      <td>298</td>\n",
       "    </tr>\n",
       "    <tr>\n",
       "      <th>46540</th>\n",
       "      <td>www.imdb.com</td>\n",
       "      <td>2.400000</td>\n",
       "      <td>285</td>\n",
       "    </tr>\n",
       "    <tr>\n",
       "      <th>46260</th>\n",
       "      <td>edition.cnn.com</td>\n",
       "      <td>2.466667</td>\n",
       "      <td>180</td>\n",
       "    </tr>\n",
       "    <tr>\n",
       "      <th>39224</th>\n",
       "      <td>autobus.cyclingnews.com</td>\n",
       "      <td>2.478992</td>\n",
       "      <td>119</td>\n",
       "    </tr>\n",
       "    <tr>\n",
       "      <th>11935</th>\n",
       "      <td>www.chicagotribune.com</td>\n",
       "      <td>2.566372</td>\n",
       "      <td>113</td>\n",
       "    </tr>\n",
       "    <tr>\n",
       "      <th>56400</th>\n",
       "      <td>www.npr.org</td>\n",
       "      <td>2.572581</td>\n",
       "      <td>248</td>\n",
       "    </tr>\n",
       "    <tr>\n",
       "      <th>22153</th>\n",
       "      <td>cidades.ibge.gov.br</td>\n",
       "      <td>2.584906</td>\n",
       "      <td>106</td>\n",
       "    </tr>\n",
       "    <tr>\n",
       "      <th>73819</th>\n",
       "      <td>books.google.fr</td>\n",
       "      <td>2.593750</td>\n",
       "      <td>160</td>\n",
       "    </tr>\n",
       "    <tr>\n",
       "      <th>8273</th>\n",
       "      <td>hansard.millbanksystems.com</td>\n",
       "      <td>2.642276</td>\n",
       "      <td>123</td>\n",
       "    </tr>\n",
       "    <tr>\n",
       "      <th>4914</th>\n",
       "      <td>globoesporte.globo.com</td>\n",
       "      <td>2.654822</td>\n",
       "      <td>197</td>\n",
       "    </tr>\n",
       "    <tr>\n",
       "      <th>10913</th>\n",
       "      <td>www.independent.co.uk</td>\n",
       "      <td>2.738776</td>\n",
       "      <td>490</td>\n",
       "    </tr>\n",
       "    <tr>\n",
       "      <th>19693</th>\n",
       "      <td>www.gamekult.com</td>\n",
       "      <td>2.745098</td>\n",
       "      <td>102</td>\n",
       "    </tr>\n",
       "    <tr>\n",
       "      <th>26825</th>\n",
       "      <td>www.vanityfair.com</td>\n",
       "      <td>2.764228</td>\n",
       "      <td>123</td>\n",
       "    </tr>\n",
       "    <tr>\n",
       "      <th>48914</th>\n",
       "      <td>deadline.com</td>\n",
       "      <td>2.783439</td>\n",
       "      <td>314</td>\n",
       "    </tr>\n",
       "    <tr>\n",
       "      <th>58796</th>\n",
       "      <td>pitchfork.com</td>\n",
       "      <td>2.830275</td>\n",
       "      <td>218</td>\n",
       "    </tr>\n",
       "    <tr>\n",
       "      <th>3124</th>\n",
       "      <td>www.mtv.com</td>\n",
       "      <td>2.854237</td>\n",
       "      <td>590</td>\n",
       "    </tr>\n",
       "    <tr>\n",
       "      <th>86995</th>\n",
       "      <td>variety.com</td>\n",
       "      <td>2.867950</td>\n",
       "      <td>727</td>\n",
       "    </tr>\n",
       "    <tr>\n",
       "      <th>34297</th>\n",
       "      <td>www.pomona.edu</td>\n",
       "      <td>2.929204</td>\n",
       "      <td>113</td>\n",
       "    </tr>\n",
       "    <tr>\n",
       "      <th>71253</th>\n",
       "      <td>www1.folha.uol.com.br</td>\n",
       "      <td>2.968254</td>\n",
       "      <td>126</td>\n",
       "    </tr>\n",
       "    <tr>\n",
       "      <th>69623</th>\n",
       "      <td>www.bbc.co.uk</td>\n",
       "      <td>2.978395</td>\n",
       "      <td>324</td>\n",
       "    </tr>\n",
       "    <tr>\n",
       "      <th>64759</th>\n",
       "      <td>www.espncricinfo.com</td>\n",
       "      <td>3.000000</td>\n",
       "      <td>238</td>\n",
       "    </tr>\n",
       "  </tbody>\n",
       "</table>\n",
       "</div>"
      ],
      "text/plain": [
       "                            domain  domain_score  domain_counts\n",
       "27707              nl.newsbank.com      1.128000            125\n",
       "15234         darwin-online.org.uk      1.288462            156\n",
       "1198             docs.newsbank.com      1.328671            143\n",
       "2765     tvbythenumbers.zap2it.com      1.405405            111\n",
       "6870               www.ibiblio.org      1.493976            166\n",
       "49381                   people.com      1.542484            153\n",
       "37939              news.google.com      1.543237            902\n",
       "26360      usatoday30.usatoday.com      1.723529            170\n",
       "76485                       ew.com      1.757143            350\n",
       "45346      www.robertchristgau.com      1.793939            165\n",
       "28254               www.amazon.com      1.878641            206\n",
       "10429          www.yorkpress.co.uk      1.914634            164\n",
       "80859          books.google.com.ar      1.981651            109\n",
       "13802            www.eurogamer.net      2.155414            785\n",
       "21937             www.allmusic.com      2.222222            468\n",
       "44949          www.telegraph.co.uk      2.226703           1116\n",
       "62464                  www.nps.gov      2.264249            193\n",
       "17788               abcnews.go.com      2.308411            107\n",
       "66485             history.nasa.gov      2.355649            239\n",
       "63884                  www.cnn.com      2.379195            298\n",
       "46540                 www.imdb.com      2.400000            285\n",
       "46260              edition.cnn.com      2.466667            180\n",
       "39224      autobus.cyclingnews.com      2.478992            119\n",
       "11935       www.chicagotribune.com      2.566372            113\n",
       "56400                  www.npr.org      2.572581            248\n",
       "22153          cidades.ibge.gov.br      2.584906            106\n",
       "73819              books.google.fr      2.593750            160\n",
       "8273   hansard.millbanksystems.com      2.642276            123\n",
       "4914        globoesporte.globo.com      2.654822            197\n",
       "10913        www.independent.co.uk      2.738776            490\n",
       "19693             www.gamekult.com      2.745098            102\n",
       "26825           www.vanityfair.com      2.764228            123\n",
       "48914                 deadline.com      2.783439            314\n",
       "58796                pitchfork.com      2.830275            218\n",
       "3124                   www.mtv.com      2.854237            590\n",
       "86995                  variety.com      2.867950            727\n",
       "34297               www.pomona.edu      2.929204            113\n",
       "71253        www1.folha.uol.com.br      2.968254            126\n",
       "69623                www.bbc.co.uk      2.978395            324\n",
       "64759         www.espncricinfo.com      3.000000            238"
      ]
     },
     "execution_count": 40,
     "metadata": {},
     "output_type": "execute_result"
    }
   ],
   "source": [
    "citations4conf[[\"domain\",\"domain_score\",\"domain_counts\"]].drop_duplicates()"
   ]
  },
  {
   "cell_type": "markdown",
   "id": "3a694e74-91f6-43e3-9109-e9c1d8f20410",
   "metadata": {},
   "source": [
    "For each domain, we keep the two citations having the lowest score."
   ]
  },
  {
   "cell_type": "code",
   "execution_count": 41,
   "id": "6e9cf39c-e0a0-4bcc-80ee-7de7555ca560",
   "metadata": {},
   "outputs": [],
   "source": [
    "## URL selection\n",
    "citations4conf = citations4conf.sort_values(by=\"citoid_success\").groupby(\"domain\").head(2)"
   ]
  },
  {
   "cell_type": "code",
   "execution_count": null,
   "id": "85f4772b-fc34-4785-a60e-284efbdb9364",
   "metadata": {},
   "outputs": [],
   "source": []
  },
  {
   "cell_type": "code",
   "execution_count": null,
   "id": "c6eca6f2-a993-4864-a3ef-f5934b37fe33",
   "metadata": {},
   "outputs": [],
   "source": []
  },
  {
   "cell_type": "code",
   "execution_count": 42,
   "id": "762e3cee-9cd9-4b61-9159-70ed4835df17",
   "metadata": {},
   "outputs": [
    {
     "data": {
      "text/html": [
       "<div>\n",
       "<style scoped>\n",
       "    .dataframe tbody tr th:only-of-type {\n",
       "        vertical-align: middle;\n",
       "    }\n",
       "\n",
       "    .dataframe tbody tr th {\n",
       "        vertical-align: top;\n",
       "    }\n",
       "\n",
       "    .dataframe thead th {\n",
       "        text-align: right;\n",
       "    }\n",
       "</style>\n",
       "<table border=\"1\" class=\"dataframe\">\n",
       "  <thead>\n",
       "    <tr style=\"text-align: right;\">\n",
       "      <th></th>\n",
       "      <th>domain</th>\n",
       "      <th>domain_counts</th>\n",
       "    </tr>\n",
       "  </thead>\n",
       "  <tbody>\n",
       "    <tr>\n",
       "      <th>28890</th>\n",
       "      <td>www.telegraph.co.uk</td>\n",
       "      <td>1116</td>\n",
       "    </tr>\n",
       "    <tr>\n",
       "      <th>50979</th>\n",
       "      <td>news.google.com</td>\n",
       "      <td>902</td>\n",
       "    </tr>\n",
       "    <tr>\n",
       "      <th>24816</th>\n",
       "      <td>www.eurogamer.net</td>\n",
       "      <td>785</td>\n",
       "    </tr>\n",
       "  </tbody>\n",
       "</table>\n",
       "</div>"
      ],
      "text/plain": [
       "                    domain  domain_counts\n",
       "28890  www.telegraph.co.uk           1116\n",
       "50979      news.google.com            902\n",
       "24816    www.eurogamer.net            785"
      ]
     },
     "execution_count": 42,
     "metadata": {},
     "output_type": "execute_result"
    }
   ],
   "source": [
    "citations4conf.drop_duplicates(subset=[\"domain\"]).sort_values(by=\"domain_counts\", ascending=False).head(3)[[\"domain\", \"domain_counts\"]]"
   ]
  },
  {
   "cell_type": "markdown",
   "id": "71260332-e412-48de-842a-8aa5f703ed33",
   "metadata": {},
   "source": [
    "## 4. Recover metadata without preprocessing\n",
    "\n",
    "The data in our dataframe has been previously normalized (see Data normalization section in our [evaluation notebook](https://github.com/hdcaicyt/Web2Cit-research/blob/main/understand-citoid-coverage.ipynb)). For the configuration files, we are interested in the original metadata."
   ]
  },
  {
   "cell_type": "code",
   "execution_count": 44,
   "id": "57c2a36c-c903-4543-9642-930e7c9bcb8d",
   "metadata": {},
   "outputs": [],
   "source": [
    "## This file contains the manual citations metadata before preprocessing\n",
    "manual_before_preproc = pd.read_csv(\"data/citations_metadata_only_year.csv.gz\")\n",
    "\n",
    "cols = ['title','author_last', 'author_first', 'pub_date'] # 'pub_source' will not be used\n",
    "\n",
    "manual_before_preproc = manual_before_preproc.drop_duplicates(subset=[\"url\"], keep=\"first\")\n",
    "\n",
    "for col in cols:\n",
    "    manual_before_preproc[col] = manual_before_preproc[col].fillna('None').map(eval)"
   ]
  },
  {
   "cell_type": "code",
   "execution_count": 45,
   "id": "7a1c0495-5272-49bd-abe9-39b24f9ddd24",
   "metadata": {},
   "outputs": [
    {
     "data": {
      "text/plain": [
       "Index(['article_title', 'article_url', 'page_id', 'revid', 'wiki_lang', 'url',\n",
       "       'source_type', 'source_type_map', 'title', 'title_clean', 'author_last',\n",
       "       'author_last_clean', 'author_first', 'author_first_clean', 'pub_date',\n",
       "       'pub_date_clean', 'pub_date_control', 'pub_date_only_year',\n",
       "       'pub_source', 'pub_source_clean'],\n",
       "      dtype='object')"
      ]
     },
     "execution_count": 45,
     "metadata": {},
     "output_type": "execute_result"
    }
   ],
   "source": [
    "manual_before_preproc.columns"
   ]
  },
  {
   "cell_type": "code",
   "execution_count": 46,
   "id": "4dcdbd00-2c74-475e-944a-308cff82efef",
   "metadata": {},
   "outputs": [
    {
     "data": {
      "text/plain": [
       "(382983, 4)"
      ]
     },
     "execution_count": 46,
     "metadata": {},
     "output_type": "execute_result"
    }
   ],
   "source": [
    "manual_before_preproc = manual_before_preproc.set_index(\"url\").reindex(columns=cols)\n",
    "manual_before_preproc.shape"
   ]
  },
  {
   "cell_type": "markdown",
   "id": "a7fd072a-6a53-4d12-ab99-332baa95db34",
   "metadata": {},
   "source": [
    "Replace data in dataframe of top cited domains with low score with data before preprocessing for 'title','author_last' and 'author_first'. 'pub_date' is not necessary because we will keep data transformed to YYYY-MM-DD and 'pub_source' is not necessary because it will not be mapped to the config file, as explained above."
   ]
  },
  {
   "cell_type": "code",
   "execution_count": 47,
   "id": "7f0fa769-8e7c-4d31-aab0-c527c24eb05d",
   "metadata": {},
   "outputs": [],
   "source": [
    "cols = ['title','author_last', 'author_first'] ## do not overwrite pub_date!\n",
    "\n",
    "for col in cols:\n",
    "    citations4conf[f\"{col}_manual\"] = manual_before_preproc.loc[ citations4conf[\"url\"], col ].values"
   ]
  },
  {
   "cell_type": "code",
   "execution_count": 48,
   "id": "8b6203ec-69f7-4909-bac9-a3bba8be5595",
   "metadata": {
    "tags": []
   },
   "outputs": [
    {
     "data": {
      "text/html": [
       "<div>\n",
       "<style scoped>\n",
       "    .dataframe tbody tr th:only-of-type {\n",
       "        vertical-align: middle;\n",
       "    }\n",
       "\n",
       "    .dataframe tbody tr th {\n",
       "        vertical-align: top;\n",
       "    }\n",
       "\n",
       "    .dataframe thead th {\n",
       "        text-align: right;\n",
       "    }\n",
       "</style>\n",
       "<table border=\"1\" class=\"dataframe\">\n",
       "  <thead>\n",
       "    <tr style=\"text-align: right;\">\n",
       "      <th></th>\n",
       "      <th>title_manual</th>\n",
       "      <th>author_last_manual</th>\n",
       "      <th>author_first_manual</th>\n",
       "      <th>pub_date_manual</th>\n",
       "    </tr>\n",
       "  </thead>\n",
       "  <tbody>\n",
       "    <tr>\n",
       "      <th>54018</th>\n",
       "      <td>[Review: ‘Scream’]</td>\n",
       "      <td>[Klady]</td>\n",
       "      <td>[Leonard]</td>\n",
       "      <td>[1996-12-21]</td>\n",
       "    </tr>\n",
       "    <tr>\n",
       "      <th>78644</th>\n",
       "      <td>[On the Origin of Species]</td>\n",
       "      <td>[Darwin]</td>\n",
       "      <td>[Charles]</td>\n",
       "      <td>[1861]</td>\n",
       "    </tr>\n",
       "    <tr>\n",
       "      <th>32904</th>\n",
       "      <td>[A New Sun: The Solar Results From Skylab]</td>\n",
       "      <td>[Eddy]</td>\n",
       "      <td>[J.]</td>\n",
       "      <td>[1979]</td>\n",
       "    </tr>\n",
       "    <tr>\n",
       "      <th>50476</th>\n",
       "      <td>[Consumer Guide: Turkey Shoot]</td>\n",
       "      <td>[Christgau]</td>\n",
       "      <td>[Robert]</td>\n",
       "      <td>[1996-12-03]</td>\n",
       "    </tr>\n",
       "    <tr>\n",
       "      <th>27707</th>\n",
       "      <td>[Bad Rap There Was as Much Action Outside the ...</td>\n",
       "      <td>[Allen]</td>\n",
       "      <td>[Carl]</td>\n",
       "      <td>[1994-01-07]</td>\n",
       "    </tr>\n",
       "    <tr>\n",
       "      <th>62384</th>\n",
       "      <td>[James Joyce, a new Irish novelist]</td>\n",
       "      <td>[Quinn]</td>\n",
       "      <td>[John]</td>\n",
       "      <td>[]</td>\n",
       "    </tr>\n",
       "  </tbody>\n",
       "</table>\n",
       "</div>"
      ],
      "text/plain": [
       "                                            title_manual author_last_manual  \\\n",
       "54018                                 [Review: ‘Scream’]            [Klady]   \n",
       "78644                         [On the Origin of Species]           [Darwin]   \n",
       "32904         [A New Sun: The Solar Results From Skylab]             [Eddy]   \n",
       "50476                     [Consumer Guide: Turkey Shoot]        [Christgau]   \n",
       "27707  [Bad Rap There Was as Much Action Outside the ...            [Allen]   \n",
       "62384                [James Joyce, a new Irish novelist]            [Quinn]   \n",
       "\n",
       "      author_first_manual pub_date_manual  \n",
       "54018           [Leonard]    [1996-12-21]  \n",
       "78644           [Charles]          [1861]  \n",
       "32904                [J.]          [1979]  \n",
       "50476            [Robert]    [1996-12-03]  \n",
       "27707              [Carl]    [1994-01-07]  \n",
       "62384              [John]              []  "
      ]
     },
     "execution_count": 48,
     "metadata": {},
     "output_type": "execute_result"
    }
   ],
   "source": [
    "citations4conf[manual_metadata].sample(6)"
   ]
  },
  {
   "cell_type": "code",
   "execution_count": null,
   "id": "7a484e34-ccb4-477c-903c-da851d800fe7",
   "metadata": {},
   "outputs": [],
   "source": [
    "citations4conf.to_csv(\"data/citations_for_config_files.csv\", index=False)"
   ]
  },
  {
   "cell_type": "markdown",
   "id": "b6e1e38f-b38a-41c7-aa85-36dd4f67f089",
   "metadata": {},
   "source": [
    "## 5. Build translation tests files\n",
    "\n",
    "* If we do not have metadata for a field in our selected citations (\"[]\"), we exclude the field from the configuration file\n",
    "* We do not include itemType metadata because in the results of the Citoid's evaluation research we saw it is not reliable information even if there is a match between Citoid data and manual data (see Web2Cit Research [report](https://meta.wikimedia.org/wiki/Web2Cit/Research/report))\n",
    "* For title and date fields, only one value is admitted in the configuration file. If we have more than one value in our selection, we include the exact match\n",
    "* For authorLast and authorFirst, if we have metada, we map it directly"
   ]
  },
  {
   "cell_type": "code",
   "execution_count": 49,
   "id": "122173bc-7c05-4f6e-9641-0fe496bba6d2",
   "metadata": {},
   "outputs": [],
   "source": [
    "## map evaluation fieldnames to w2c fieldnames\n",
    "eval_w2c = {\n",
    "    'title_manual': 'title',\n",
    "    'author_first_manual': 'authorFirst',\n",
    "    'author_last_manual': 'authorLast', \n",
    "    'pub_date_manual': 'date',\n",
    "}\n",
    "\n",
    "def add_field(d, fieldname, row):\n",
    "    el = {\"fieldname\": eval_w2c[fieldname]}\n",
    "    el[\"goal\"] = row[fieldname]\n",
    "    d[\"fields\"].append(el)\n",
    "    return d\n",
    "\n",
    "\n",
    "def row_to_json(row):\n",
    "    '''\n",
    "    Transforms row from evaluation df to w2c configuration file\n",
    "    input: row\n",
    "    output: json\n",
    "    '''\n",
    "    d = {}\n",
    "    path = urlparse(row[\"url\"]).path\n",
    "    query = urlparse(row[\"url\"]).query\n",
    "    d[\"path\"] = f\"{path}?{query}\" if query else path\n",
    "    d[\"@comment\"] = \"Automatically created. See https://github.com/hdcaicyt/Web2Cit-research/blob/main/create-config-files.ipynb\"\n",
    "    d[\"fields\"] = []\n",
    "            \n",
    "    for fieldname in ['title_manual','author_first_manual','author_last_manual', 'pub_date_manual']:\n",
    "        if row[fieldname]:\n",
    "            if fieldname == 'author_first_manual' or fieldname == 'author_last_manual':\n",
    "                add_field(d, fieldname, row)\n",
    "            else:\n",
    "                ## cases of more than one value in title or pub_date\n",
    "                if len(row[fieldname]) > 1:\n",
    "                    name = fieldname.replace(\"_manual\", \"\")\n",
    "                    ## if the comparison score is 1, there was a match with Citoid data\n",
    "                    if row[f\"comp_{name}\"] == 1:\n",
    "                            el = {\"fieldname\": eval_w2c[fieldname]}\n",
    "                            el[\"goal\"] = row[f\"{name}_citoid\"]\n",
    "                            d[\"fields\"].append(el)\n",
    "                else:\n",
    "                    add_field(d, fieldname, row)\n",
    "        ## cases of missing data:\n",
    "        ## do not add fieldname to config file\n",
    "    return d"
   ]
  },
  {
   "cell_type": "code",
   "execution_count": null,
   "id": "a7d34a7b-9a4d-48d3-943c-3e720dd96ac8",
   "metadata": {
    "tags": []
   },
   "outputs": [],
   "source": [
    "os.makedirs(\"data/translation_tests\", exist_ok=True)\n",
    "\n",
    "for ix, row in citations4conf.iterrows():\n",
    "    el = row_to_json(row)\n",
    "    domain = urlparse(row[\"url\"]).netloc\n",
    "    revdomain = \".\".join(domain.split(\".\")[::-1])\n",
    "    fp = f\"data/config_files/{revdomain}.tests.json\"\n",
    "    \n",
    "    if not os.path.isfile(fp):\n",
    "        with open(fp, \"w\") as fo:\n",
    "            json.dump([el], fo, indent=4)\n",
    "    else:\n",
    "        ## Add 2nd config\n",
    "        with open(fp) as fi:\n",
    "            config = json.load(fi)\n",
    "            config.append(el)\n",
    "        \n",
    "        with open(fp, \"w\") as fo:\n",
    "            json.dump(config, fo, indent=4)\n",
    "            "
   ]
  },
  {
   "cell_type": "code",
   "execution_count": null,
   "id": "55826986-b466-4c58-8360-6a1d2bab5616",
   "metadata": {},
   "outputs": [],
   "source": []
  },
  {
   "cell_type": "code",
   "execution_count": null,
   "id": "93ebd913-40bb-4a87-b8a7-dca20069bddd",
   "metadata": {},
   "outputs": [],
   "source": []
  },
  {
   "cell_type": "markdown",
   "id": "503a7fef-e497-4302-a4ae-ec376b20333e",
   "metadata": {},
   "source": [
    "## 6. Upload files"
   ]
  },
  {
   "cell_type": "code",
   "execution_count": null,
   "id": "41845de4-a2d7-4776-9437-ad1687bcee11",
   "metadata": {},
   "outputs": [],
   "source": []
  },
  {
   "cell_type": "code",
   "execution_count": null,
   "id": "d277a557-8477-46ed-bf1b-50a6cc7d9a77",
   "metadata": {},
   "outputs": [],
   "source": []
  },
  {
   "cell_type": "code",
   "execution_count": null,
   "id": "e9c07757-c3d2-4635-8a6f-c7d5dfb2147d",
   "metadata": {},
   "outputs": [],
   "source": []
  },
  {
   "cell_type": "code",
   "execution_count": null,
   "id": "f4bbf366-38cf-4f59-9f21-176a31f47cb7",
   "metadata": {},
   "outputs": [],
   "source": []
  },
  {
   "cell_type": "code",
   "execution_count": null,
   "id": "ae8cee60-e937-4277-9ae7-fec6c811ad0a",
   "metadata": {},
   "outputs": [],
   "source": []
  },
  {
   "cell_type": "code",
   "execution_count": null,
   "id": "074039b7-2def-4fa2-8e9d-bf42b9c43555",
   "metadata": {},
   "outputs": [],
   "source": []
  },
  {
   "cell_type": "code",
   "execution_count": null,
   "id": "62cd32d3-9da3-49f7-a720-a7ac9c3b7a77",
   "metadata": {},
   "outputs": [],
   "source": []
  }
 ],
 "metadata": {
  "kernelspec": {
   "display_name": "web2cit",
   "language": "python",
   "name": "web2cit"
  },
  "language_info": {
   "codemirror_mode": {
    "name": "ipython",
    "version": 3
   },
   "file_extension": ".py",
   "mimetype": "text/x-python",
   "name": "python",
   "nbconvert_exporter": "python",
   "pygments_lexer": "ipython3",
   "version": "3.7.6"
  }
 },
 "nbformat": 4,
 "nbformat_minor": 5
}
