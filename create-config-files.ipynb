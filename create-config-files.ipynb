{
 "cells": [
  {
   "cell_type": "markdown",
   "id": "e3a2f0ec-48dd-4107-8b2f-1c2b529f97ed",
   "metadata": {},
   "source": [
    "# Create configuration files for Web2Cit\n",
    "\n",
    "This notebook performs automatic creation of [Web2Cit](https://meta.wikimedia.org/wiki/Web2Cit) configuration files for the web domains evaluated in \"understand-citoid-coverage.ipynb\".\n",
    "\n",
    "__Author:__\n",
    "\n",
    "* Nidia Hernández, [nidiahernandez@conicet.gov.ar](mailto:nidiahy@gmail.com), CAICYT-CONICET\n"
   ]
  },
  {
   "cell_type": "code",
   "execution_count": 2,
   "id": "8cae66d2-f30d-4849-97fb-6ab3b53b66f6",
   "metadata": {},
   "outputs": [
    {
     "name": "stderr",
     "output_type": "stream",
     "text": [
      "/home/yoki/anaconda3/lib/python3.7/site-packages/tqdm/std.py:668: FutureWarning: The Panel class is removed from pandas. Accessing it from the top-level namespace will also be removed in the next version\n",
      "  from pandas import Panel\n"
     ]
    }
   ],
   "source": [
    "import os\n",
    "import pandas as pd\n",
    "from operator import itemgetter\n",
    "import json\n",
    "import gzip\n",
    "from glob import glob\n",
    "from pprint import pprint\n",
    "from tqdm import tqdm\n",
    "tqdm.pandas()\n",
    "from urllib.parse import urlparse\n",
    "from pprint import pprint\n",
    "import seaborn as sns\n",
    "import matplotlib.pyplot as plt\n",
    "import warnings\n",
    "warnings.filterwarnings('ignore')"
   ]
  },
  {
   "cell_type": "markdown",
   "id": "6cf50788-1b3d-410f-9936-377cd693513d",
   "metadata": {
    "jupyter": {
     "source_hidden": true
    },
    "tags": []
   },
   "source": [
    "## Web2Cit's configuration files\n",
    "\n",
    "Doc: https://meta.wikimedia.org/wiki/Web2Cit/Early_adopters#Domain_configuration_files\n",
    "\n",
    "Example config file: https://meta.wikimedia.org/wiki/Web2Cit/data/com/nbcnews/www/tests.json\n",
    "\n",
    "This is how a config file looks like:\n",
    "\n",
    "```\n",
    "[\n",
    " {\n",
    "   \"path\": \"/business/economy/july-inflation-numbers-consumer-prices-rose-85-year-year-summer-inflat-rcna42393\",\n",
    "   \"fields\": [\n",
    "     {\n",
    "       \"fieldname\": \"itemType\",\n",
    "       \"goal\": [\n",
    "         \"newspaperArticle\"\n",
    "       ]\n",
    "     },\n",
    "     {\n",
    "       \"fieldname\": \"title\",\n",
    "       \"goal\": [\n",
    "         \"Consumer prices rose by 8.5% year over year in July as the summer of inflation wears on\"\n",
    "       ]\n",
    "     },\n",
    "     {\n",
    "       \"fieldname\": \"authorLast\",\n",
    "       \"goal\": [\n",
    "         \"Rob Wile\"\n",
    "       ]\n",
    "     },\n",
    "     {\n",
    "       \"fieldname\": \"date\",\n",
    "       \"goal\": [\n",
    "         \"2022-08-10\"\n",
    "       ]\n",
    "     },\n",
    "     {\n",
    "       \"fieldname\": \"publishedIn\",\n",
    "       \"goal\": [\n",
    "         \"NBC News\"\n",
    "       ]\n",
    "     },\n",
    "     {\n",
    "       \"fieldname\": \"language\",\n",
    "       \"goal\": [\n",
    "         \"en\"\n",
    "       ]\n",
    "     }\n",
    "   ]\n",
    " }\n",
    "] \n",
    "```\n",
    "\n",
    "\n"
   ]
  },
  {
   "cell_type": "markdown",
   "id": "e9186e8f-5152-4de6-aed5-c748ea19f2ef",
   "metadata": {
    "jupyter": {
     "source_hidden": true
    },
    "tags": []
   },
   "source": [
    "Currently, there are 25 config files available at https://meta.wikimedia.org/wiki/Special:PrefixIndex/Web2Cit/data:\n",
    "\n",
    "Web2Cit/data/ar/com/lavoz/www/tests.json\n",
    "\n",
    "Web2Cit/data/ar/com/pagina12/www/tests.json\n",
    "\n",
    "Web2Cit/data/au/gov/qld/qagoma/blog/tests.json\n",
    "\n",
    "Web2Cit/data/br/com/uol/folha/www1/tests.json\n",
    "\n",
    "Web2Cit/data/com/3rionoticias/tests.json\n",
    "\n",
    "Web2Cit/data/com/aljazeera/www/tests.json\n",
    "\n",
    "Web2Cit/data/com/cnn/edition/tests.json\n",
    "\n",
    "Web2Cit/data/com/elespectador/www/tests.json\n",
    "\n",
    "Web2Cit/data/com/eltiempo/www/tests.json\n",
    "\n",
    "Web2Cit/data/com/go/abcnews/tests.json\n",
    "\n",
    "Web2Cit/data/com/nbcnews/www/tests.json\n",
    "\n",
    "Web2Cit/data/com/newyorker/www/tests.json\n",
    "\n",
    "Web2Cit/data/com/revistaanfibia/tests.json\n",
    "\n",
    "Web2Cit/data/com/thequietus/tests.json\n",
    "\n",
    "Web2Cit/data/com/yahoo/news/tests.json\n",
    "\n",
    "Web2Cit/data/ie/independent/www/tests.json\n",
    "\n",
    "Web2Cit/data/ie/rte/www/tests.json\n",
    "\n",
    "Web2Cit/data/org/adl/www/tests.json\n",
    "\n",
    "Web2Cit/data/org/amnesty/www/tests.json\n",
    "\n",
    "Web2Cit/data/org/cjr/www/tests.json\n",
    "\n",
    "Web2Cit/data/uk/gov/www/tests.json\n",
    "\n",
    "Web2Cit/data/uy/com/elobservador/www/tests.json\n",
    "\n",
    "Web2Cit/data/uy/com/elpais/www/tests.json\n",
    "\n",
    "Web2Cit/data/uy/com/ladiaria/tests.json\n",
    "\n",
    "Web2Cit/data/uy/com/montevideo/www/tests.json\n"
   ]
  },
  {
   "cell_type": "markdown",
   "id": "706569c7-394f-4064-999f-994654ebe6fb",
   "metadata": {
    "tags": []
   },
   "source": [
    "Our goal is to automatically produce new configuration files for the domains previously evaluated in [Understand Citoid coverage](https://github.com/hdcaicyt/Web2Cit-research/blob/main/understand-citoid-coverage.ipynb) notebook."
   ]
  },
  {
   "cell_type": "markdown",
   "id": "2f783794-4b60-46b7-ae38-acdb76424f71",
   "metadata": {
    "tags": []
   },
   "source": [
    "Some information about the fieldnames of the configuration files \n",
    "\n",
    "* itemType: mandatory. Single value\n",
    "* title: mandatory. Single value, empty string not allowed.\n",
    "* authorLast: may have multiple values. Can be last name(s) or full name(s).\n",
    "* authorFirst: may have multiple values.\n",
    "* date: single value. YYYY-MM-DD format\n",
    "* publishedBy: single value.\n",
    "* publishedIn: single value.\n",
    "* language: single value.\n",
    "\n",
    "More information at: https://meta.wikimedia.org/wiki/Web2Cit/Early_adopters#Translation_fields\n",
    "\n",
    "We will extract the data for these fields from the following columns in our evaluation dataframe:\n",
    "\n",
    "* itemType: source_type_manual and source_type_citoid\n",
    "* title: title_manual\n",
    "* authorLast: author_last_manual\n",
    "* authorFirst: author_first_manual\n",
    "* date: pub_date_manual\n",
    "* publishedBy: undefined (can't be recovered, pub_source_manual is a mix of publishedBy and publishedIn)\n",
    "* publishedIn: undefined (can't be recovered)\n",
    "* language: undefined (can't be recovered, we do not have the publishing langauage in our df)"
   ]
  },
  {
   "cell_type": "code",
   "execution_count": 3,
   "id": "788a49af-5fe0-46e7-a2e8-24dae878db23",
   "metadata": {
    "tags": []
   },
   "outputs": [],
   "source": [
    "## Read evaluation results df\n",
    "citoid_eval = pd.read_csv(\"eval/eval_all_citations.csv.gz\")\n",
    "cols = ['author_first_citoid', 'author_last_citoid', 'source_type_manual', 'title_manual',\n",
    "       'author_last_manual', 'author_first_manual', 'pub_date_manual'] # 'pub_source' will not be used, it can't be mapped\n",
    "\n",
    "# read data as lists\n",
    "for col in cols:\n",
    "    citoid_eval[col] = citoid_eval[col].fillna('None').map(eval)"
   ]
  },
  {
   "cell_type": "code",
   "execution_count": 4,
   "id": "d88f7b33-9cd5-4508-b888-ace6dc443d89",
   "metadata": {
    "tags": []
   },
   "outputs": [
    {
     "name": "stdout",
     "output_type": "stream",
     "text": [
      "There are 91338 citations in our evaluation corpus\n"
     ]
    }
   ],
   "source": [
    "print(f\"There are {len(citoid_eval)} citations in our evaluation corpus\")"
   ]
  },
  {
   "cell_type": "code",
   "execution_count": 5,
   "id": "05ecb845-c5c2-4f60-aa55-90d8b2cb2756",
   "metadata": {},
   "outputs": [
    {
     "data": {
      "text/plain": [
       "Index(['url', 'url_citoid', 'source_type_citoid', 'title_citoid',\n",
       "       'author_first_citoid', 'author_last_citoid', 'pub_date_citoid',\n",
       "       'pub_source_citoid', 'citation_template', 'source_type_manual',\n",
       "       'title_manual', 'author_last_manual', 'author_first_manual',\n",
       "       'pub_date_manual', 'pub_source_manual', 'article_url', 'page_id',\n",
       "       'revid', 'wiki_lang', 'comp_title', 'comp_source_type',\n",
       "       'comp_pub_source', 'comp_pub_date', 'comp_author_first',\n",
       "       'comp_author_last'],\n",
       "      dtype='object')"
      ]
     },
     "execution_count": 5,
     "metadata": {},
     "output_type": "execute_result"
    }
   ],
   "source": [
    "citoid_eval.columns"
   ]
  },
  {
   "cell_type": "code",
   "execution_count": 6,
   "id": "b3ce61f8-1fc0-4043-96bd-76f2a4157169",
   "metadata": {},
   "outputs": [],
   "source": [
    "## caculate scores\n",
    "comp_fields = ['comp_author_first', 'comp_author_last', 'comp_title',\n",
    "          'comp_source_type', 'comp_pub_source', 'comp_pub_date']\n",
    "\n",
    "citoid_eval[\"citoid_success\"] = (citoid_eval[comp_fields] >= 0.75).sum(axis=1)"
   ]
  },
  {
   "cell_type": "code",
   "execution_count": 7,
   "id": "5514f69c-0e66-4623-95d4-1b6165c5209a",
   "metadata": {},
   "outputs": [],
   "source": [
    "## find domains\n",
    "citoid_eval['domain'] = citoid_eval['url'].map(lambda x : urlparse(x).netloc)"
   ]
  },
  {
   "cell_type": "code",
   "execution_count": 8,
   "id": "d02c58bd-69e2-4e59-b6ae-69de4b705e04",
   "metadata": {},
   "outputs": [
    {
     "name": "stdout",
     "output_type": "stream",
     "text": [
      "There are 15501 domains in our evaluation corpus\n"
     ]
    }
   ],
   "source": [
    "print(f\"There are {len(citoid_eval.domain.drop_duplicates())} domains in our evaluation corpus\")"
   ]
  },
  {
   "cell_type": "code",
   "execution_count": 9,
   "id": "8a6ec9de-cd4b-445d-ada5-d217cc3bcfc0",
   "metadata": {},
   "outputs": [],
   "source": [
    "## calculate domain popularity (count domain freq)\n",
    "citoid_eval[\"domain_counts\"] = citoid_eval.groupby('domain')[\"domain\"].transform(\"count\")"
   ]
  },
  {
   "cell_type": "code",
   "execution_count": 10,
   "id": "0009d2ce-79df-42da-950f-0663f3ad4517",
   "metadata": {},
   "outputs": [],
   "source": [
    "## calculate domain score\n",
    "citoid_eval[\"domain_score\"] = citoid_eval.groupby(\"domain\")[\"citoid_success\"].transform(\"mean\")"
   ]
  },
  {
   "cell_type": "markdown",
   "id": "73bd6884-b4c2-40e3-906f-6587cd2d54b3",
   "metadata": {
    "tags": []
   },
   "source": [
    "## Select citations for config files\n",
    "\n",
    "To be elegible for generating a configuration file, a citation must:\n",
    "\n",
    "- have information for at least 3 of the following 4 fields: title, author_first, author_last, and pub_date\n",
    "- have a success score lower than 50% (we prioritize domains for which Citoid's performance can be improved)\n",
    "- belong to a domain cited at least X times in our corpus of evaluated URLs (we are interested in high frequency domains)\n"
   ]
  },
  {
   "cell_type": "code",
   "execution_count": 11,
   "id": "4f794528-05fa-4f46-ac11-a5d7d0cd9cd4",
   "metadata": {
    "tags": []
   },
   "outputs": [
    {
     "data": {
      "text/html": [
       "<div>\n",
       "<style scoped>\n",
       "    .dataframe tbody tr th:only-of-type {\n",
       "        vertical-align: middle;\n",
       "    }\n",
       "\n",
       "    .dataframe tbody tr th {\n",
       "        vertical-align: top;\n",
       "    }\n",
       "\n",
       "    .dataframe thead th {\n",
       "        text-align: right;\n",
       "    }\n",
       "</style>\n",
       "<table border=\"1\" class=\"dataframe\">\n",
       "  <thead>\n",
       "    <tr style=\"text-align: right;\">\n",
       "      <th></th>\n",
       "      <th>url</th>\n",
       "      <th>url_citoid</th>\n",
       "      <th>source_type_citoid</th>\n",
       "      <th>title_citoid</th>\n",
       "      <th>author_first_citoid</th>\n",
       "      <th>author_last_citoid</th>\n",
       "      <th>pub_date_citoid</th>\n",
       "      <th>pub_source_citoid</th>\n",
       "      <th>citation_template</th>\n",
       "      <th>source_type_manual</th>\n",
       "      <th>...</th>\n",
       "      <th>comp_title</th>\n",
       "      <th>comp_source_type</th>\n",
       "      <th>comp_pub_source</th>\n",
       "      <th>comp_pub_date</th>\n",
       "      <th>comp_author_first</th>\n",
       "      <th>comp_author_last</th>\n",
       "      <th>citoid_success</th>\n",
       "      <th>domain</th>\n",
       "      <th>domain_counts</th>\n",
       "      <th>domain_score</th>\n",
       "    </tr>\n",
       "  </thead>\n",
       "  <tbody>\n",
       "    <tr>\n",
       "      <th>0</th>\n",
       "      <td>https://www.theage.com.au/entertainment/movies...</td>\n",
       "      <td>https://www.theage.com.au/entertainment/movies...</td>\n",
       "      <td>webpage</td>\n",
       "      <td>bollywood on bourke street</td>\n",
       "      <td>None</td>\n",
       "      <td>None</td>\n",
       "      <td>2005-05-13</td>\n",
       "      <td>the age</td>\n",
       "      <td>cite news</td>\n",
       "      <td>[magazineArticle, newspaperArticle]</td>\n",
       "      <td>...</td>\n",
       "      <td>1.00</td>\n",
       "      <td>0</td>\n",
       "      <td>0.00</td>\n",
       "      <td>1.0</td>\n",
       "      <td>1.0</td>\n",
       "      <td>0.00</td>\n",
       "      <td>3</td>\n",
       "      <td>www.theage.com.au</td>\n",
       "      <td>21</td>\n",
       "      <td>4.428571</td>\n",
       "    </tr>\n",
       "    <tr>\n",
       "      <th>1</th>\n",
       "      <td>https://books.google.com/books?id=QSwEAAAAMBAJ...</td>\n",
       "      <td>https://books.google.com/books?id=QSwEAAAAMBAJ...</td>\n",
       "      <td>book</td>\n",
       "      <td>vibe</td>\n",
       "      <td>[vibe media]</td>\n",
       "      <td>[group]</td>\n",
       "      <td>1997-01</td>\n",
       "      <td>vibe media group</td>\n",
       "      <td>cite magazine</td>\n",
       "      <td>[]</td>\n",
       "      <td>...</td>\n",
       "      <td>0.05</td>\n",
       "      <td>0</td>\n",
       "      <td>1.00</td>\n",
       "      <td>0.0</td>\n",
       "      <td>0.2</td>\n",
       "      <td>0.12</td>\n",
       "      <td>1</td>\n",
       "      <td>books.google.com</td>\n",
       "      <td>8486</td>\n",
       "      <td>3.613952</td>\n",
       "    </tr>\n",
       "    <tr>\n",
       "      <th>2</th>\n",
       "      <td>https://www.ecaho.org/about-ecaho/about-us</td>\n",
       "      <td>https://www.ecaho.org/about-ecaho/about-us</td>\n",
       "      <td>webpage</td>\n",
       "      <td>about ecaho - ecaho</td>\n",
       "      <td>None</td>\n",
       "      <td>None</td>\n",
       "      <td>NaN</td>\n",
       "      <td>www.ecaho.org</td>\n",
       "      <td>Lien web</td>\n",
       "      <td>[blogPost, email, forumPost, podcast, videoRec...</td>\n",
       "      <td>...</td>\n",
       "      <td>0.58</td>\n",
       "      <td>1</td>\n",
       "      <td>1.00</td>\n",
       "      <td>1.0</td>\n",
       "      <td>1.0</td>\n",
       "      <td>1.00</td>\n",
       "      <td>5</td>\n",
       "      <td>www.ecaho.org</td>\n",
       "      <td>1</td>\n",
       "      <td>5.000000</td>\n",
       "    </tr>\n",
       "    <tr>\n",
       "      <th>3</th>\n",
       "      <td>https://www.gq.com/story/pacific-rim-uprising-...</td>\n",
       "      <td>https://www.gq.com/story/pacific-rim-uprising-...</td>\n",
       "      <td>webpage</td>\n",
       "      <td>the 'pacific rim uprising' director tells us a...</td>\n",
       "      <td>[conde]</td>\n",
       "      <td>[nast]</td>\n",
       "      <td>2018-03-23</td>\n",
       "      <td>gq</td>\n",
       "      <td>cite web</td>\n",
       "      <td>[blogPost, email, forumPost, webpage]</td>\n",
       "      <td>...</td>\n",
       "      <td>0.22</td>\n",
       "      <td>1</td>\n",
       "      <td>1.00</td>\n",
       "      <td>1.0</td>\n",
       "      <td>0.2</td>\n",
       "      <td>0.17</td>\n",
       "      <td>3</td>\n",
       "      <td>www.gq.com</td>\n",
       "      <td>33</td>\n",
       "      <td>2.515152</td>\n",
       "    </tr>\n",
       "    <tr>\n",
       "      <th>4</th>\n",
       "      <td>http://bgtfans.com/2013/fifth-falcons-fury-tow...</td>\n",
       "      <td>http://bgtfans.com/2013/fifth-falcons-fury-tow...</td>\n",
       "      <td>webpage</td>\n",
       "      <td>NaN</td>\n",
       "      <td>None</td>\n",
       "      <td>None</td>\n",
       "      <td>NaN</td>\n",
       "      <td>bgtfans.com</td>\n",
       "      <td>cite web</td>\n",
       "      <td>[blogPost, email, forumPost, webpage]</td>\n",
       "      <td>...</td>\n",
       "      <td>0.00</td>\n",
       "      <td>1</td>\n",
       "      <td>0.55</td>\n",
       "      <td>0.0</td>\n",
       "      <td>1.0</td>\n",
       "      <td>1.00</td>\n",
       "      <td>3</td>\n",
       "      <td>bgtfans.com</td>\n",
       "      <td>11</td>\n",
       "      <td>3.000000</td>\n",
       "    </tr>\n",
       "  </tbody>\n",
       "</table>\n",
       "<p>5 rows × 29 columns</p>\n",
       "</div>"
      ],
      "text/plain": [
       "                                                 url  \\\n",
       "0  https://www.theage.com.au/entertainment/movies...   \n",
       "1  https://books.google.com/books?id=QSwEAAAAMBAJ...   \n",
       "2         https://www.ecaho.org/about-ecaho/about-us   \n",
       "3  https://www.gq.com/story/pacific-rim-uprising-...   \n",
       "4  http://bgtfans.com/2013/fifth-falcons-fury-tow...   \n",
       "\n",
       "                                          url_citoid source_type_citoid  \\\n",
       "0  https://www.theage.com.au/entertainment/movies...            webpage   \n",
       "1  https://books.google.com/books?id=QSwEAAAAMBAJ...               book   \n",
       "2         https://www.ecaho.org/about-ecaho/about-us            webpage   \n",
       "3  https://www.gq.com/story/pacific-rim-uprising-...            webpage   \n",
       "4  http://bgtfans.com/2013/fifth-falcons-fury-tow...            webpage   \n",
       "\n",
       "                                        title_citoid author_first_citoid  \\\n",
       "0                         bollywood on bourke street                None   \n",
       "1                                               vibe        [vibe media]   \n",
       "2                                about ecaho - ecaho                None   \n",
       "3  the 'pacific rim uprising' director tells us a...             [conde]   \n",
       "4                                                NaN                None   \n",
       "\n",
       "  author_last_citoid pub_date_citoid pub_source_citoid citation_template  \\\n",
       "0               None      2005-05-13           the age         cite news   \n",
       "1            [group]         1997-01  vibe media group     cite magazine   \n",
       "2               None             NaN     www.ecaho.org          Lien web   \n",
       "3             [nast]      2018-03-23                gq          cite web   \n",
       "4               None             NaN       bgtfans.com          cite web   \n",
       "\n",
       "                                  source_type_manual  ... comp_title  \\\n",
       "0                [magazineArticle, newspaperArticle]  ...       1.00   \n",
       "1                                                 []  ...       0.05   \n",
       "2  [blogPost, email, forumPost, podcast, videoRec...  ...       0.58   \n",
       "3              [blogPost, email, forumPost, webpage]  ...       0.22   \n",
       "4              [blogPost, email, forumPost, webpage]  ...       0.00   \n",
       "\n",
       "  comp_source_type comp_pub_source comp_pub_date comp_author_first  \\\n",
       "0                0            0.00           1.0               1.0   \n",
       "1                0            1.00           0.0               0.2   \n",
       "2                1            1.00           1.0               1.0   \n",
       "3                1            1.00           1.0               0.2   \n",
       "4                1            0.55           0.0               1.0   \n",
       "\n",
       "  comp_author_last  citoid_success             domain domain_counts  \\\n",
       "0             0.00               3  www.theage.com.au            21   \n",
       "1             0.12               1   books.google.com          8486   \n",
       "2             1.00               5      www.ecaho.org             1   \n",
       "3             0.17               3         www.gq.com            33   \n",
       "4             1.00               3        bgtfans.com            11   \n",
       "\n",
       "   domain_score  \n",
       "0      4.428571  \n",
       "1      3.613952  \n",
       "2      5.000000  \n",
       "3      2.515152  \n",
       "4      3.000000  \n",
       "\n",
       "[5 rows x 29 columns]"
      ]
     },
     "execution_count": 11,
     "metadata": {},
     "output_type": "execute_result"
    }
   ],
   "source": [
    "citoid_eval.head()"
   ]
  },
  {
   "cell_type": "code",
   "execution_count": null,
   "id": "ea773cb4-9419-4073-87cf-64f34d10da94",
   "metadata": {},
   "outputs": [],
   "source": []
  },
  {
   "cell_type": "code",
   "execution_count": null,
   "id": "62e135ef-5218-4205-ad5d-dc7e67110ea6",
   "metadata": {},
   "outputs": [],
   "source": []
  },
  {
   "cell_type": "markdown",
   "id": "5ca0a34b-360a-4e1e-8046-2ac82217093a",
   "metadata": {},
   "source": [
    "We eliminate these citations because we do not want to generate config files having wikicode in the goal:"
   ]
  },
  {
   "cell_type": "code",
   "execution_count": 12,
   "id": "feef6dc4-b032-4be2-bd42-24b21b41431e",
   "metadata": {},
   "outputs": [],
   "source": [
    "data_with_wikicode = [34454, 37306, 52070, 62452, 67658] \n",
    "citoid_eval = citoid_eval.drop(data_with_wikicode) "
   ]
  },
  {
   "cell_type": "code",
   "execution_count": 301,
   "id": "10d9ca4f-9443-490b-bb37-34b28d69879d",
   "metadata": {},
   "outputs": [
    {
     "data": {
      "image/png": "[encoded data removed]",
      "text/plain": [
       "<Figure size 432x288 with 1 Axes>"
      ]
     },
     "metadata": {
      "needs_background": "light"
     },
     "output_type": "display_data"
    }
   ],
   "source": [
    "## plot data\n",
    "## low score high popularity\n",
    "\n",
    "plot_data_full = citoid_eval[[\"domain\", \"domain_score\", \"domain_counts\"]].copy().drop_duplicates()\n",
    "plot_data = plot_data_full\n",
    "#plot_data = plot_data.drop(1) # exclude books.google.com \n",
    "#plot_data = plot_data.drop(6) # exclude www.nytimes.com\n",
    "\n",
    "ax = plot_data.plot.scatter(x=\"domain_score\", y=\"domain_counts\")\n",
    "ax.axhline(100, color='grey', linestyle='-')\n",
    "ax.axvline(3, color='grey', linestyle='-')\n",
    "\n",
    "ax.set_title(\"Citoid's performance by domain\")\n",
    "ax.set_ylabel(\"Domain counts\")\n",
    "ax.set_xlabel(\"Domain score\")\n",
    "\n",
    "ax.set_yscale(\"log\")\n",
    "\n",
    "plt.savefig(\"plots/low_score_high_popularity_domains.png\")\n",
    "plt.tight_layout()\n",
    "plt.show()"
   ]
  },
  {
   "cell_type": "markdown",
   "id": "1c9f69e4-fbb4-48b6-b661-e93c60029fe2",
   "metadata": {},
   "source": [
    "Observaciones sobre la distribución rara por debajo de 10 counts (eje y $10^{1}$): en el caso de $10^{0} = 1$ se ve que abajo de todo el grafico aparecen valores discretos porque para dominios de una sola ocurrencia no hay promedio!"
   ]
  },
  {
   "cell_type": "markdown",
   "id": "6904e094-58bb-40cb-9eb0-01bc3be4ad32",
   "metadata": {},
   "source": [
    "From this plot, we decided to select domains being cited at least 100 times in our corpus."
   ]
  },
  {
   "cell_type": "code",
   "execution_count": 219,
   "id": "3b55e84c-add2-49a9-b52d-bc729fb545d1",
   "metadata": {},
   "outputs": [],
   "source": [
    "## filter by required metadata\n",
    "required_fields = ['author_first_manual', 'author_last_manual', 'title_manual', 'pub_date_manual']\n",
    "mask = (citoid_eval[required_fields].applymap(len) > 0).sum(axis=1) > 2\n",
    "citations4conf = citoid_eval[mask]"
   ]
  },
  {
   "cell_type": "code",
   "execution_count": 220,
   "id": "9b509c46-d3e9-4b4b-8513-89c6f7b06e94",
   "metadata": {},
   "outputs": [],
   "source": [
    "score_threshold = 3 # max score is 6\n",
    "citations4conf = citations4conf[citations4conf[\"domain_score\"] < score_threshold]"
   ]
  },
  {
   "cell_type": "code",
   "execution_count": 221,
   "id": "aae8713d-0d52-4c6c-8217-195ccb069c70",
   "metadata": {},
   "outputs": [],
   "source": [
    "## filter by domain frequency\n",
    "popularity_threshold = 100\n",
    "citations4conf = citations4conf[citations4conf[\"domain_counts\"] > popularity_threshold]"
   ]
  },
  {
   "cell_type": "code",
   "execution_count": 222,
   "id": "cbee3cb8-c89d-4e0c-a7b6-b71fcbb3a78d",
   "metadata": {},
   "outputs": [
    {
     "name": "stdout",
     "output_type": "stream",
     "text": [
      "We have 7056 citations left\n"
     ]
    }
   ],
   "source": [
    "print(f\"We have {len(citations4conf)} citations left\")"
   ]
  },
  {
   "cell_type": "code",
   "execution_count": 223,
   "id": "72212dbd-1bbf-4faf-9fb1-ab9a1c461a62",
   "metadata": {},
   "outputs": [],
   "source": [
    "## Sort by domain score, from lower to higher\n",
    "citations4conf = citations4conf.sort_values(by=[\"domain_score\"], ascending=True)"
   ]
  },
  {
   "cell_type": "code",
   "execution_count": 224,
   "id": "d3237969-1926-4125-af58-10068562b44f",
   "metadata": {
    "tags": []
   },
   "outputs": [
    {
     "name": "stdout",
     "output_type": "stream",
     "text": [
      "We have 39 domains left\n"
     ]
    }
   ],
   "source": [
    "print(f\"We have {len(citations4conf['domain'].drop_duplicates())} domains left\")"
   ]
  },
  {
   "cell_type": "markdown",
   "id": "5dd63089-1208-4202-bfdc-87cb5130d8fe",
   "metadata": {},
   "source": [
    "These are the domains having the lowest scores and higher citation frequency:"
   ]
  },
  {
   "cell_type": "code",
   "execution_count": 225,
   "id": "2d834cf8-c6a3-41b2-bf53-65500b2a54c0",
   "metadata": {},
   "outputs": [
    {
     "data": {
      "text/html": [
       "<div>\n",
       "<style scoped>\n",
       "    .dataframe tbody tr th:only-of-type {\n",
       "        vertical-align: middle;\n",
       "    }\n",
       "\n",
       "    .dataframe tbody tr th {\n",
       "        vertical-align: top;\n",
       "    }\n",
       "\n",
       "    .dataframe thead th {\n",
       "        text-align: right;\n",
       "    }\n",
       "</style>\n",
       "<table border=\"1\" class=\"dataframe\">\n",
       "  <thead>\n",
       "    <tr style=\"text-align: right;\">\n",
       "      <th></th>\n",
       "      <th>domain</th>\n",
       "      <th>domain_score</th>\n",
       "      <th>domain_counts</th>\n",
       "    </tr>\n",
       "  </thead>\n",
       "  <tbody>\n",
       "    <tr>\n",
       "      <th>8396</th>\n",
       "      <td>nl.newsbank.com</td>\n",
       "      <td>1.128000</td>\n",
       "      <td>125</td>\n",
       "    </tr>\n",
       "    <tr>\n",
       "      <th>66829</th>\n",
       "      <td>darwin-online.org.uk</td>\n",
       "      <td>1.288462</td>\n",
       "      <td>156</td>\n",
       "    </tr>\n",
       "    <tr>\n",
       "      <th>27381</th>\n",
       "      <td>docs.newsbank.com</td>\n",
       "      <td>1.328671</td>\n",
       "      <td>143</td>\n",
       "    </tr>\n",
       "    <tr>\n",
       "      <th>69908</th>\n",
       "      <td>tvbythenumbers.zap2it.com</td>\n",
       "      <td>1.405405</td>\n",
       "      <td>111</td>\n",
       "    </tr>\n",
       "    <tr>\n",
       "      <th>60739</th>\n",
       "      <td>www.ibiblio.org</td>\n",
       "      <td>1.493976</td>\n",
       "      <td>166</td>\n",
       "    </tr>\n",
       "    <tr>\n",
       "      <th>8093</th>\n",
       "      <td>people.com</td>\n",
       "      <td>1.542484</td>\n",
       "      <td>153</td>\n",
       "    </tr>\n",
       "    <tr>\n",
       "      <th>20504</th>\n",
       "      <td>news.google.com</td>\n",
       "      <td>1.543237</td>\n",
       "      <td>902</td>\n",
       "    </tr>\n",
       "    <tr>\n",
       "      <th>35194</th>\n",
       "      <td>usatoday30.usatoday.com</td>\n",
       "      <td>1.723529</td>\n",
       "      <td>170</td>\n",
       "    </tr>\n",
       "    <tr>\n",
       "      <th>73389</th>\n",
       "      <td>ew.com</td>\n",
       "      <td>1.757143</td>\n",
       "      <td>350</td>\n",
       "    </tr>\n",
       "    <tr>\n",
       "      <th>1631</th>\n",
       "      <td>www.robertchristgau.com</td>\n",
       "      <td>1.793939</td>\n",
       "      <td>165</td>\n",
       "    </tr>\n",
       "    <tr>\n",
       "      <th>9465</th>\n",
       "      <td>www.amazon.com</td>\n",
       "      <td>1.878641</td>\n",
       "      <td>206</td>\n",
       "    </tr>\n",
       "    <tr>\n",
       "      <th>10596</th>\n",
       "      <td>www.yorkpress.co.uk</td>\n",
       "      <td>1.914634</td>\n",
       "      <td>164</td>\n",
       "    </tr>\n",
       "    <tr>\n",
       "      <th>8695</th>\n",
       "      <td>books.google.com.ar</td>\n",
       "      <td>1.981651</td>\n",
       "      <td>109</td>\n",
       "    </tr>\n",
       "    <tr>\n",
       "      <th>69631</th>\n",
       "      <td>www.eurogamer.net</td>\n",
       "      <td>2.155414</td>\n",
       "      <td>785</td>\n",
       "    </tr>\n",
       "    <tr>\n",
       "      <th>19495</th>\n",
       "      <td>www.allmusic.com</td>\n",
       "      <td>2.222222</td>\n",
       "      <td>468</td>\n",
       "    </tr>\n",
       "    <tr>\n",
       "      <th>52082</th>\n",
       "      <td>www.telegraph.co.uk</td>\n",
       "      <td>2.226703</td>\n",
       "      <td>1116</td>\n",
       "    </tr>\n",
       "    <tr>\n",
       "      <th>20168</th>\n",
       "      <td>www.nps.gov</td>\n",
       "      <td>2.264249</td>\n",
       "      <td>193</td>\n",
       "    </tr>\n",
       "    <tr>\n",
       "      <th>48298</th>\n",
       "      <td>abcnews.go.com</td>\n",
       "      <td>2.308411</td>\n",
       "      <td>107</td>\n",
       "    </tr>\n",
       "    <tr>\n",
       "      <th>74831</th>\n",
       "      <td>history.nasa.gov</td>\n",
       "      <td>2.355649</td>\n",
       "      <td>239</td>\n",
       "    </tr>\n",
       "    <tr>\n",
       "      <th>66501</th>\n",
       "      <td>www.cnn.com</td>\n",
       "      <td>2.379195</td>\n",
       "      <td>298</td>\n",
       "    </tr>\n",
       "    <tr>\n",
       "      <th>57993</th>\n",
       "      <td>www.imdb.com</td>\n",
       "      <td>2.400000</td>\n",
       "      <td>285</td>\n",
       "    </tr>\n",
       "    <tr>\n",
       "      <th>63381</th>\n",
       "      <td>edition.cnn.com</td>\n",
       "      <td>2.466667</td>\n",
       "      <td>180</td>\n",
       "    </tr>\n",
       "    <tr>\n",
       "      <th>17186</th>\n",
       "      <td>autobus.cyclingnews.com</td>\n",
       "      <td>2.478992</td>\n",
       "      <td>119</td>\n",
       "    </tr>\n",
       "    <tr>\n",
       "      <th>55186</th>\n",
       "      <td>www.chicagotribune.com</td>\n",
       "      <td>2.566372</td>\n",
       "      <td>113</td>\n",
       "    </tr>\n",
       "    <tr>\n",
       "      <th>6228</th>\n",
       "      <td>www.npr.org</td>\n",
       "      <td>2.572581</td>\n",
       "      <td>248</td>\n",
       "    </tr>\n",
       "    <tr>\n",
       "      <th>86996</th>\n",
       "      <td>cidades.ibge.gov.br</td>\n",
       "      <td>2.584906</td>\n",
       "      <td>106</td>\n",
       "    </tr>\n",
       "    <tr>\n",
       "      <th>39543</th>\n",
       "      <td>books.google.fr</td>\n",
       "      <td>2.593750</td>\n",
       "      <td>160</td>\n",
       "    </tr>\n",
       "    <tr>\n",
       "      <th>80179</th>\n",
       "      <td>hansard.millbanksystems.com</td>\n",
       "      <td>2.642276</td>\n",
       "      <td>123</td>\n",
       "    </tr>\n",
       "    <tr>\n",
       "      <th>31437</th>\n",
       "      <td>globoesporte.globo.com</td>\n",
       "      <td>2.654822</td>\n",
       "      <td>197</td>\n",
       "    </tr>\n",
       "    <tr>\n",
       "      <th>9190</th>\n",
       "      <td>www.independent.co.uk</td>\n",
       "      <td>2.738776</td>\n",
       "      <td>490</td>\n",
       "    </tr>\n",
       "    <tr>\n",
       "      <th>14641</th>\n",
       "      <td>www.gamekult.com</td>\n",
       "      <td>2.745098</td>\n",
       "      <td>102</td>\n",
       "    </tr>\n",
       "    <tr>\n",
       "      <th>54563</th>\n",
       "      <td>www.vanityfair.com</td>\n",
       "      <td>2.764228</td>\n",
       "      <td>123</td>\n",
       "    </tr>\n",
       "    <tr>\n",
       "      <th>85781</th>\n",
       "      <td>deadline.com</td>\n",
       "      <td>2.783439</td>\n",
       "      <td>314</td>\n",
       "    </tr>\n",
       "    <tr>\n",
       "      <th>52883</th>\n",
       "      <td>pitchfork.com</td>\n",
       "      <td>2.830275</td>\n",
       "      <td>218</td>\n",
       "    </tr>\n",
       "    <tr>\n",
       "      <th>10655</th>\n",
       "      <td>www.mtv.com</td>\n",
       "      <td>2.854237</td>\n",
       "      <td>590</td>\n",
       "    </tr>\n",
       "    <tr>\n",
       "      <th>45449</th>\n",
       "      <td>variety.com</td>\n",
       "      <td>2.867950</td>\n",
       "      <td>727</td>\n",
       "    </tr>\n",
       "    <tr>\n",
       "      <th>34297</th>\n",
       "      <td>www.pomona.edu</td>\n",
       "      <td>2.929204</td>\n",
       "      <td>113</td>\n",
       "    </tr>\n",
       "    <tr>\n",
       "      <th>47666</th>\n",
       "      <td>www1.folha.uol.com.br</td>\n",
       "      <td>2.968254</td>\n",
       "      <td>126</td>\n",
       "    </tr>\n",
       "    <tr>\n",
       "      <th>19102</th>\n",
       "      <td>www.bbc.co.uk</td>\n",
       "      <td>2.978395</td>\n",
       "      <td>324</td>\n",
       "    </tr>\n",
       "  </tbody>\n",
       "</table>\n",
       "</div>"
      ],
      "text/plain": [
       "                            domain  domain_score  domain_counts\n",
       "8396               nl.newsbank.com      1.128000            125\n",
       "66829         darwin-online.org.uk      1.288462            156\n",
       "27381            docs.newsbank.com      1.328671            143\n",
       "69908    tvbythenumbers.zap2it.com      1.405405            111\n",
       "60739              www.ibiblio.org      1.493976            166\n",
       "8093                    people.com      1.542484            153\n",
       "20504              news.google.com      1.543237            902\n",
       "35194      usatoday30.usatoday.com      1.723529            170\n",
       "73389                       ew.com      1.757143            350\n",
       "1631       www.robertchristgau.com      1.793939            165\n",
       "9465                www.amazon.com      1.878641            206\n",
       "10596          www.yorkpress.co.uk      1.914634            164\n",
       "8695           books.google.com.ar      1.981651            109\n",
       "69631            www.eurogamer.net      2.155414            785\n",
       "19495             www.allmusic.com      2.222222            468\n",
       "52082          www.telegraph.co.uk      2.226703           1116\n",
       "20168                  www.nps.gov      2.264249            193\n",
       "48298               abcnews.go.com      2.308411            107\n",
       "74831             history.nasa.gov      2.355649            239\n",
       "66501                  www.cnn.com      2.379195            298\n",
       "57993                 www.imdb.com      2.400000            285\n",
       "63381              edition.cnn.com      2.466667            180\n",
       "17186      autobus.cyclingnews.com      2.478992            119\n",
       "55186       www.chicagotribune.com      2.566372            113\n",
       "6228                   www.npr.org      2.572581            248\n",
       "86996          cidades.ibge.gov.br      2.584906            106\n",
       "39543              books.google.fr      2.593750            160\n",
       "80179  hansard.millbanksystems.com      2.642276            123\n",
       "31437       globoesporte.globo.com      2.654822            197\n",
       "9190         www.independent.co.uk      2.738776            490\n",
       "14641             www.gamekult.com      2.745098            102\n",
       "54563           www.vanityfair.com      2.764228            123\n",
       "85781                 deadline.com      2.783439            314\n",
       "52883                pitchfork.com      2.830275            218\n",
       "10655                  www.mtv.com      2.854237            590\n",
       "45449                  variety.com      2.867950            727\n",
       "34297               www.pomona.edu      2.929204            113\n",
       "47666        www1.folha.uol.com.br      2.968254            126\n",
       "19102                www.bbc.co.uk      2.978395            324"
      ]
     },
     "execution_count": 225,
     "metadata": {},
     "output_type": "execute_result"
    }
   ],
   "source": [
    "citations4conf[[\"domain\",\"domain_score\",\"domain_counts\"]].drop_duplicates()"
   ]
  },
  {
   "cell_type": "markdown",
   "id": "3a694e74-91f6-43e3-9109-e9c1d8f20410",
   "metadata": {},
   "source": [
    "For each domain, we keep the two citations having the lowest score."
   ]
  },
  {
   "cell_type": "code",
   "execution_count": 235,
   "id": "6e9cf39c-e0a0-4bcc-80ee-7de7555ca560",
   "metadata": {},
   "outputs": [],
   "source": [
    "## URL selection\n",
    "citations4conf = citations4conf.sort_values(by=\"citoid_success\").groupby(\"domain\").head(2)"
   ]
  },
  {
   "cell_type": "code",
   "execution_count": null,
   "id": "762e3cee-9cd9-4b61-9159-70ed4835df17",
   "metadata": {},
   "outputs": [],
   "source": []
  },
  {
   "cell_type": "markdown",
   "id": "71260332-e412-48de-842a-8aa5f703ed33",
   "metadata": {},
   "source": [
    "## Recover metadata without preprocessing\n",
    "\n",
    "The data in our dataframe has been previously normalized (see Data normalization section in our [evaluation notebook](https://github.com/hdcaicyt/Web2Cit-research/blob/main/understand-citoid-coverage.ipynb)). For the configuration files, we are interested in the original metadata."
   ]
  },
  {
   "cell_type": "markdown",
   "id": "74f8ccb4-9a61-41ec-8cd7-6fc1cbaf1059",
   "metadata": {},
   "source": [
    "### Manual metadata without preprocessing"
   ]
  },
  {
   "cell_type": "code",
   "execution_count": 237,
   "id": "57c2a36c-c903-4543-9642-930e7c9bcb8d",
   "metadata": {},
   "outputs": [],
   "source": [
    "## This file contains the manual citations metadata before preprocessing\n",
    "manual_before_preproc = pd.read_csv(\"data/citations_metadata_only_year.csv.gz\")\n",
    "\n",
    "cols = ['title','author_last', 'author_first', 'pub_date'] # 'pub_source' will not be used\n",
    "\n",
    "manual_before_preproc = manual_before_preproc.drop_duplicates(subset=[\"url\"], keep=\"first\")\n",
    "\n",
    "for col in cols:\n",
    "    manual_before_preproc[col] = manual_before_preproc[col].fillna('None').map(eval)"
   ]
  },
  {
   "cell_type": "code",
   "execution_count": 238,
   "id": "7a1c0495-5272-49bd-abe9-39b24f9ddd24",
   "metadata": {},
   "outputs": [
    {
     "data": {
      "text/plain": [
       "Index(['article_title', 'article_url', 'page_id', 'revid', 'wiki_lang', 'url',\n",
       "       'source_type', 'source_type_map', 'title', 'title_clean', 'author_last',\n",
       "       'author_last_clean', 'author_first', 'author_first_clean', 'pub_date',\n",
       "       'pub_date_clean', 'pub_date_control', 'pub_date_only_year',\n",
       "       'pub_source', 'pub_source_clean'],\n",
       "      dtype='object')"
      ]
     },
     "execution_count": 238,
     "metadata": {},
     "output_type": "execute_result"
    }
   ],
   "source": [
    "manual_before_preproc.columns"
   ]
  },
  {
   "cell_type": "code",
   "execution_count": 239,
   "id": "4dcdbd00-2c74-475e-944a-308cff82efef",
   "metadata": {},
   "outputs": [
    {
     "data": {
      "text/plain": [
       "(382983, 4)"
      ]
     },
     "execution_count": 239,
     "metadata": {},
     "output_type": "execute_result"
    }
   ],
   "source": [
    "manual_before_preproc = manual_before_preproc.set_index(\"url\").reindex(columns=cols)\n",
    "manual_before_preproc.shape"
   ]
  },
  {
   "cell_type": "markdown",
   "id": "a7fd072a-6a53-4d12-ab99-332baa95db34",
   "metadata": {},
   "source": [
    "Replace data in dataframe of top cited domains with low score with data before preprocessing for 'title','author_last' and 'author_first'. 'pub_date' is not necessary because we will keep data transformed to YYYY-MM-DD and 'pub_source' is not necessary because it will not be mapped to the config file, as explained above."
   ]
  },
  {
   "cell_type": "code",
   "execution_count": 240,
   "id": "7f0fa769-8e7c-4d31-aab0-c527c24eb05d",
   "metadata": {},
   "outputs": [],
   "source": [
    "cols = ['title','author_last', 'author_first'] ## do not overwrite pub_date!\n",
    "\n",
    "for col in cols:\n",
    "    citations4conf[f\"{col}_manual\"] = manual_before_preproc.loc[ citations4conf[\"url\"], col ].values"
   ]
  },
  {
   "cell_type": "code",
   "execution_count": 241,
   "id": "8b6203ec-69f7-4909-bac9-a3bba8be5595",
   "metadata": {
    "tags": []
   },
   "outputs": [
    {
     "data": {
      "text/html": [
       "<div>\n",
       "<style scoped>\n",
       "    .dataframe tbody tr th:only-of-type {\n",
       "        vertical-align: middle;\n",
       "    }\n",
       "\n",
       "    .dataframe tbody tr th {\n",
       "        vertical-align: top;\n",
       "    }\n",
       "\n",
       "    .dataframe thead th {\n",
       "        text-align: right;\n",
       "    }\n",
       "</style>\n",
       "<table border=\"1\" class=\"dataframe\">\n",
       "  <thead>\n",
       "    <tr style=\"text-align: right;\">\n",
       "      <th></th>\n",
       "      <th>source_type_citoid</th>\n",
       "      <th>source_type_manual</th>\n",
       "      <th>title_manual</th>\n",
       "      <th>author_first_manual</th>\n",
       "      <th>author_last_manual</th>\n",
       "      <th>pub_date_manual</th>\n",
       "    </tr>\n",
       "  </thead>\n",
       "  <tbody>\n",
       "    <tr>\n",
       "      <th>87126</th>\n",
       "      <td>webpage</td>\n",
       "      <td>[magazineArticle, newspaperArticle]</td>\n",
       "      <td>[Jennifer Lawrence: President Trump would be '...</td>\n",
       "      <td>[Nicole]</td>\n",
       "      <td>[Sperling]</td>\n",
       "      <td>[2015-10-01]</td>\n",
       "    </tr>\n",
       "    <tr>\n",
       "      <th>9491</th>\n",
       "      <td>webpage</td>\n",
       "      <td>[magazineArticle, newspaperArticle]</td>\n",
       "      <td>[Suits pile up on north–south Tollway]</td>\n",
       "      <td>[Robert]</td>\n",
       "      <td>[Enstad]</td>\n",
       "      <td>[1990-04-29]</td>\n",
       "    </tr>\n",
       "    <tr>\n",
       "      <th>47446</th>\n",
       "      <td>webpage</td>\n",
       "      <td>[blogPost, email, forumPost, webpage]</td>\n",
       "      <td>[Produto Interno Bruto dos Municípios - 2018]</td>\n",
       "      <td>[]</td>\n",
       "      <td>[IBGE Cidades]</td>\n",
       "      <td>[2018]</td>\n",
       "    </tr>\n",
       "    <tr>\n",
       "      <th>84097</th>\n",
       "      <td>webpage</td>\n",
       "      <td>[artwork, audioRecording, bill, bookSection, c...</td>\n",
       "      <td>[Album Review: Vangelis: ''Blade Runner Trilog...</td>\n",
       "      <td>[Mike]</td>\n",
       "      <td>[Orme]</td>\n",
       "      <td>[2008-02-07]</td>\n",
       "    </tr>\n",
       "    <tr>\n",
       "      <th>2027</th>\n",
       "      <td>webpage</td>\n",
       "      <td>[]</td>\n",
       "      <td>[New York Dolls: 'Too Much Too Soon']</td>\n",
       "      <td>[Robert]</td>\n",
       "      <td>[Christgau]</td>\n",
       "      <td>[2005-10-25]</td>\n",
       "    </tr>\n",
       "    <tr>\n",
       "      <th>86916</th>\n",
       "      <td>webpage</td>\n",
       "      <td>[blogPost, email, forumPost, webpage]</td>\n",
       "      <td>[Destiny's Former Children Settle Suit]</td>\n",
       "      <td>[Rob]</td>\n",
       "      <td>[Mancini]</td>\n",
       "      <td>[2000-03-24]</td>\n",
       "    </tr>\n",
       "  </tbody>\n",
       "</table>\n",
       "</div>"
      ],
      "text/plain": [
       "      source_type_citoid                                 source_type_manual  \\\n",
       "87126            webpage                [magazineArticle, newspaperArticle]   \n",
       "9491             webpage                [magazineArticle, newspaperArticle]   \n",
       "47446            webpage              [blogPost, email, forumPost, webpage]   \n",
       "84097            webpage  [artwork, audioRecording, bill, bookSection, c...   \n",
       "2027             webpage                                                 []   \n",
       "86916            webpage              [blogPost, email, forumPost, webpage]   \n",
       "\n",
       "                                            title_manual author_first_manual  \\\n",
       "87126  [Jennifer Lawrence: President Trump would be '...            [Nicole]   \n",
       "9491              [Suits pile up on north–south Tollway]            [Robert]   \n",
       "47446      [Produto Interno Bruto dos Municípios - 2018]                  []   \n",
       "84097  [Album Review: Vangelis: ''Blade Runner Trilog...              [Mike]   \n",
       "2027               [New York Dolls: 'Too Much Too Soon']            [Robert]   \n",
       "86916            [Destiny's Former Children Settle Suit]               [Rob]   \n",
       "\n",
       "      author_last_manual pub_date_manual  \n",
       "87126         [Sperling]    [2015-10-01]  \n",
       "9491            [Enstad]    [1990-04-29]  \n",
       "47446     [IBGE Cidades]          [2018]  \n",
       "84097             [Orme]    [2008-02-07]  \n",
       "2027         [Christgau]    [2005-10-25]  \n",
       "86916          [Mancini]    [2000-03-24]  "
      ]
     },
     "execution_count": 241,
     "metadata": {},
     "output_type": "execute_result"
    }
   ],
   "source": [
    "citations4conf[['source_type_citoid','source_type_manual','title_manual','author_first_manual','author_last_manual', 'pub_date_manual']].sample(6)\n",
    "#citations4conf[['source_type_citoid','source_type_manual','title_manual','author_first_manual','author_last_manual', 'pub_date_manual']].iloc[80:90]"
   ]
  },
  {
   "cell_type": "code",
   "execution_count": 242,
   "id": "7a484e34-ccb4-477c-903c-da851d800fe7",
   "metadata": {},
   "outputs": [],
   "source": [
    "citations4conf.to_csv(\"data/citations_for_config_files.csv\", index=False)"
   ]
  },
  {
   "cell_type": "code",
   "execution_count": null,
   "id": "63eb08f7-7fc7-461b-8f8a-277c9424cc44",
   "metadata": {
    "jupyter": {
     "source_hidden": true
    },
    "tags": []
   },
   "outputs": [],
   "source": [
    "# config_data = citations4conf[['url', 'domain', 'source_type_citoid', 'source_type_manual','title_manual',\n",
    "#               'author_last_manual', 'author_first_manual', 'pub_date_manual',\n",
    "#               'comp_author_first', 'comp_author_last', 'comp_title', 'comp_source_type',\n",
    "#                                    'comp_pub_date', 'citoid_success']]"
   ]
  },
  {
   "cell_type": "code",
   "execution_count": null,
   "id": "ec632010-8896-4de3-9019-0ee0660f309e",
   "metadata": {
    "tags": []
   },
   "outputs": [],
   "source": [
    "## Test rows: complete data, missing data, author_last only and several authors\n",
    "#test_rows = [21721, 15267, 53687, 28688] + [59273, 36292, 86053]\n",
    "#citations4conf.loc[test_rows]"
   ]
  },
  {
   "cell_type": "code",
   "execution_count": null,
   "id": "eb1753d2-b30b-49e3-a501-45bda4493e02",
   "metadata": {
    "jupyter": {
     "source_hidden": true
    },
    "tags": []
   },
   "outputs": [],
   "source": [
    "#citations4conf.loc[3915].title_manual"
   ]
  },
  {
   "cell_type": "markdown",
   "id": "b6e1e38f-b38a-41c7-aa85-36dd4f67f089",
   "metadata": {},
   "source": [
    "## Build config files\n",
    "\n",
    "* If we do not have metadata for a field in our selected citations (\"[]\" or None), we exclude the field from the configuration file\n",
    "* We do not include itemType metadata because in the results of the research we saw it is not reliable information even if there is a match between Citoid data and manual data\n",
    "* For title and date fields, only one value is admitted in the configuration file. If we have more than one value in our selection, include the exact match\n",
    "* For authorLast and authorFirst, if we have metada, we map it directly"
   ]
  },
  {
   "cell_type": "code",
   "execution_count": 292,
   "id": "122173bc-7c05-4f6e-9641-0fe496bba6d2",
   "metadata": {},
   "outputs": [],
   "source": [
    "## map evaluation fieldnames to w2c fieldnames\n",
    "eval_w2c = {\n",
    "    'source_type_manual':'itemType',\n",
    "    'title_manual': 'title',\n",
    "    'author_first_manual': 'authorFirst',\n",
    "    'author_last_manual': 'authorLast', \n",
    "    'pub_date_manual': 'date',\n",
    "}\n",
    "\n",
    "def add_field(d, fieldname, row):\n",
    "    el = {\"fieldname\": eval_w2c[fieldname]}\n",
    "    el[\"goal\"] = row[fieldname]\n",
    "    d[\"fields\"].append(el)\n",
    "    return d\n",
    "\n",
    "\n",
    "def row_to_json(row):\n",
    "    '''\n",
    "    Transforms row from evaluation df to w2c configuration file\n",
    "    input: row\n",
    "    output: json\n",
    "    '''\n",
    "    d = {}\n",
    "    path = urlparse(row[\"url\"]).path\n",
    "    query = urlparse(row[\"url\"]).query\n",
    "    d[\"path\"] = f\"{path}?{query}\" if query else path\n",
    "    d[\"@comment\"] = \"Automatically created. See https://github.com/hdcaicyt/Web2Cit-research/blob/main/create-config-files.ipynb\"\n",
    "    d[\"fields\"] = []\n",
    "            \n",
    "    for fieldname in ['source_type_manual','title_manual','author_first_manual','author_last_manual', 'pub_date_manual']:\n",
    "        if row[fieldname]:\n",
    "            if fieldname == 'author_first_manual' or fieldname == 'author_last_manual':\n",
    "                add_field(d, fieldname, row)\n",
    "            else:\n",
    "                ## cases of more than one value in source_type, title or pub_date\n",
    "                if len(row[fieldname]) > 1:\n",
    "                    name = fieldname.replace(\"_manual\", \"\")\n",
    "                    ## if the comparison score is 1, there was a match with Citoid data\n",
    "                    if row[f\"comp_{name}\"] == 1:\n",
    "                            el = {\"fieldname\": eval_w2c[fieldname]}\n",
    "                            el[\"goal\"] = row[f\"{name}_citoid\"]\n",
    "                            d[\"fields\"].append(el)\n",
    "                else:\n",
    "                    add_field(d, fieldname, row)\n",
    "        ## cases of missing data:\n",
    "        ## do not add fieldname to config file\n",
    "    return d"
   ]
  },
  {
   "cell_type": "code",
   "execution_count": 294,
   "id": "a7d34a7b-9a4d-48d3-943c-3e720dd96ac8",
   "metadata": {
    "tags": []
   },
   "outputs": [],
   "source": [
    "os.makedirs(\"data/config_files\", exist_ok=True)\n",
    "\n",
    "for ix, row in citations4conf.iterrows():\n",
    "    el = row_to_json(row)\n",
    "    domain = urlparse(row[\"url\"]).netloc\n",
    "    revdomain = \".\".join(domain.split(\".\")[::-1])\n",
    "    fp = f\"data/config_files/{revdomain}.tests.json\"\n",
    "    \n",
    "    if not os.path.isfile(fp):\n",
    "        with open(fp, \"w\") as fo:\n",
    "            json.dump([el], fo, indent=4)\n",
    "    else:\n",
    "        ## Add 2nd config\n",
    "        with open(fp) as fi:\n",
    "            config = json.load(fi)\n",
    "            config.append(el)\n",
    "        \n",
    "        with open(fp, \"w\") as fo:\n",
    "            json.dump(config, fo, indent=4)\n",
    "            "
   ]
  },
  {
   "cell_type": "code",
   "execution_count": 293,
   "id": "9c11ff12-22b6-4871-9d14-a2336e303d98",
   "metadata": {},
   "outputs": [],
   "source": [
    "#! rm data/config_files/*"
   ]
  },
  {
   "cell_type": "code",
   "execution_count": null,
   "id": "55826986-b466-4c58-8360-6a1d2bab5616",
   "metadata": {},
   "outputs": [],
   "source": []
  },
  {
   "cell_type": "code",
   "execution_count": null,
   "id": "93ebd913-40bb-4a87-b8a7-dca20069bddd",
   "metadata": {},
   "outputs": [],
   "source": []
  },
  {
   "cell_type": "code",
   "execution_count": null,
   "id": "6021564a-4935-4140-829e-a3368b9f35d7",
   "metadata": {},
   "outputs": [],
   "source": []
  },
  {
   "cell_type": "code",
   "execution_count": null,
   "id": "41845de4-a2d7-4776-9437-ad1687bcee11",
   "metadata": {},
   "outputs": [],
   "source": []
  },
  {
   "cell_type": "code",
   "execution_count": null,
   "id": "d277a557-8477-46ed-bf1b-50a6cc7d9a77",
   "metadata": {},
   "outputs": [],
   "source": []
  },
  {
   "cell_type": "code",
   "execution_count": null,
   "id": "e9c07757-c3d2-4635-8a6f-c7d5dfb2147d",
   "metadata": {},
   "outputs": [],
   "source": []
  },
  {
   "cell_type": "code",
   "execution_count": null,
   "id": "f4bbf366-38cf-4f59-9f21-176a31f47cb7",
   "metadata": {},
   "outputs": [],
   "source": []
  },
  {
   "cell_type": "code",
   "execution_count": null,
   "id": "ae8cee60-e937-4277-9ae7-fec6c811ad0a",
   "metadata": {},
   "outputs": [],
   "source": []
  },
  {
   "cell_type": "code",
   "execution_count": null,
   "id": "074039b7-2def-4fa2-8e9d-bf42b9c43555",
   "metadata": {},
   "outputs": [],
   "source": []
  },
  {
   "cell_type": "code",
   "execution_count": 260,
   "id": "8ab1ec60-8912-4b95-b083-2c8c5adc0462",
   "metadata": {},
   "outputs": [
    {
     "name": "stdout",
     "output_type": "stream",
     "text": [
      "39\n"
     ]
    }
   ],
   "source": [
    "! ls data/config_files | wc -l"
   ]
  },
  {
   "cell_type": "code",
   "execution_count": 270,
   "id": "b08cc890-4f93-4ddc-bf03-57aa40fcd00a",
   "metadata": {},
   "outputs": [
    {
     "name": "stdout",
     "output_type": "stream",
     "text": [
      "ar.com.google.books.tests.json          com.people.tests.json\n",
      "br.com.uol.folha.www1.tests.json        com.pitchfork.tests.json\n",
      "br.gov.ibge.cidades.tests.json          com.robertchristgau.www.tests.json\n",
      "com.allmusic.www.tests.json             com.usatoday.usatoday30.tests.json\n",
      "com.amazon.www.tests.json               com.vanityfair.www.tests.json\n",
      "com.chicagotribune.www.tests.json       com.variety.tests.json\n",
      "com.cnn.edition.tests.json              com.zap2it.tvbythenumbers.tests.json\n",
      "com.cnn.www.tests.json                  edu.pomona.www.tests.json\n",
      "com.cyclingnews.autobus.tests.json      fr.google.books.tests.json\n",
      "com.deadline.tests.json                 gov.nasa.history.tests.json\n",
      "com.ew.tests.json                       gov.nps.www.tests.json\n",
      "com.gamekult.www.tests.json             net.eurogamer.www.tests.json\n",
      "com.globo.globoesporte.tests.json       org.ibiblio.www.tests.json\n",
      "com.go.abcnews.tests.json               org.npr.www.tests.json\n",
      "com.google.news.tests.json              uk.co.bbc.www.tests.json\n",
      "com.imdb.www.tests.json                 uk.co.independent.www.tests.json\n",
      "com.millbanksystems.hansard.tests.json  uk.co.telegraph.www.tests.json\n",
      "com.mtv.www.tests.json                  uk.co.yorkpress.www.tests.json\n",
      "com.newsbank.docs.tests.json            uk.org.darwin-online.tests.json\n",
      "com.newsbank.nl.tests.json\n"
     ]
    }
   ],
   "source": [
    "ls data/config_files"
   ]
  },
  {
   "cell_type": "code",
   "execution_count": 295,
   "id": "580f551b-8004-445e-b198-04a9b4d59d93",
   "metadata": {},
   "outputs": [
    {
     "name": "stdout",
     "output_type": "stream",
     "text": [
      "[{'@comment': 'Automatically created. See '\n",
      "              'https://github.com/hdcaicyt/Web2Cit-research/blob/main/create-config-files.ipynb',\n",
      "  'fields': [{'fieldname': 'title',\n",
      "              'goal': ['Megadeth: That One Night: Live in Buenos Aires']},\n",
      "             {'fieldname': 'authorFirst', 'goal': ['Greg']},\n",
      "             {'fieldname': 'authorLast', 'goal': ['Prato']},\n",
      "             {'fieldname': 'date', 'goal': ['2007-03-27']}],\n",
      "  'path': '/album/that-one-night-live-in-buenos-aires-mw0000487698'},\n",
      " {'@comment': 'Automatically created. See '\n",
      "              'https://github.com/hdcaicyt/Web2Cit-research/blob/main/create-config-files.ipynb',\n",
      "  'fields': [{'fieldname': 'title',\n",
      "              'goal': ['AllMusic Review by Stephen Thomas Erlewine']},\n",
      "             {'fieldname': 'authorFirst', 'goal': ['Stephen Thomas']},\n",
      "             {'fieldname': 'authorLast', 'goal': ['Erlewine']},\n",
      "             {'fieldname': 'date', 'goal': ['2001-03-06']}],\n",
      "  'path': '/album/3-of-hearts-mw0000004177'}]\n"
     ]
    }
   ],
   "source": [
    "## Check metadata extraction\n",
    "fp= \"data/config_files/com.allmusic.www.tests.json\"\n",
    "with open(fp) as fi:\n",
    "    config = json.load(fi)\n",
    "    \n",
    "pprint(config)"
   ]
  },
  {
   "cell_type": "code",
   "execution_count": 300,
   "id": "5fae966b-7b37-429d-ac62-f3a2be173a0a",
   "metadata": {},
   "outputs": [
    {
     "data": {
      "text/html": [
       "<div>\n",
       "<style scoped>\n",
       "    .dataframe tbody tr th:only-of-type {\n",
       "        vertical-align: middle;\n",
       "    }\n",
       "\n",
       "    .dataframe tbody tr th {\n",
       "        vertical-align: top;\n",
       "    }\n",
       "\n",
       "    .dataframe thead th {\n",
       "        text-align: right;\n",
       "    }\n",
       "</style>\n",
       "<table border=\"1\" class=\"dataframe\">\n",
       "  <thead>\n",
       "    <tr style=\"text-align: right;\">\n",
       "      <th></th>\n",
       "      <th>url</th>\n",
       "      <th>source_type_citoid</th>\n",
       "      <th>source_type_manual</th>\n",
       "      <th>title_manual</th>\n",
       "      <th>author_first_manual</th>\n",
       "      <th>author_last_manual</th>\n",
       "      <th>pub_date_manual</th>\n",
       "    </tr>\n",
       "  </thead>\n",
       "  <tbody>\n",
       "    <tr>\n",
       "      <th>40840</th>\n",
       "      <td>https://www.allmusic.com/album/that-one-night-...</td>\n",
       "      <td>audioRecording</td>\n",
       "      <td>[blogPost, email, forumPost, webpage]</td>\n",
       "      <td>[Megadeth: That One Night: Live in Buenos Aires]</td>\n",
       "      <td>[Greg]</td>\n",
       "      <td>[Prato]</td>\n",
       "      <td>[2007-03-27]</td>\n",
       "    </tr>\n",
       "    <tr>\n",
       "      <th>88596</th>\n",
       "      <td>https://www.allmusic.com/album/3-of-hearts-mw0...</td>\n",
       "      <td>audioRecording</td>\n",
       "      <td>[blogPost, email, forumPost, webpage]</td>\n",
       "      <td>[AllMusic Review by Stephen Thomas Erlewine]</td>\n",
       "      <td>[Stephen Thomas]</td>\n",
       "      <td>[Erlewine]</td>\n",
       "      <td>[2001-03-06]</td>\n",
       "    </tr>\n",
       "  </tbody>\n",
       "</table>\n",
       "</div>"
      ],
      "text/plain": [
       "                                                     url source_type_citoid  \\\n",
       "40840  https://www.allmusic.com/album/that-one-night-...     audioRecording   \n",
       "88596  https://www.allmusic.com/album/3-of-hearts-mw0...     audioRecording   \n",
       "\n",
       "                          source_type_manual  \\\n",
       "40840  [blogPost, email, forumPost, webpage]   \n",
       "88596  [blogPost, email, forumPost, webpage]   \n",
       "\n",
       "                                           title_manual author_first_manual  \\\n",
       "40840  [Megadeth: That One Night: Live in Buenos Aires]              [Greg]   \n",
       "88596      [AllMusic Review by Stephen Thomas Erlewine]    [Stephen Thomas]   \n",
       "\n",
       "      author_last_manual pub_date_manual  \n",
       "40840            [Prato]    [2007-03-27]  \n",
       "88596         [Erlewine]    [2001-03-06]  "
      ]
     },
     "execution_count": 300,
     "metadata": {},
     "output_type": "execute_result"
    }
   ],
   "source": [
    "domain = \"www.allmusic.com\"\n",
    "citations4conf[citations4conf.domain == domain][[\"url\",\"source_type_citoid\", \"source_type_manual\",\"title_manual\", \"author_first_manual\", \"author_last_manual\", \"pub_date_manual\"]]"
   ]
  },
  {
   "cell_type": "code",
   "execution_count": null,
   "id": "6f56b8f5-bca9-4813-b7bc-cd14d87875dc",
   "metadata": {},
   "outputs": [],
   "source": []
  },
  {
   "cell_type": "code",
   "execution_count": null,
   "id": "fb0b429b-7b11-4e17-ae82-fa2610eff22c",
   "metadata": {},
   "outputs": [],
   "source": [
    "## Check results in https://web2cit.toolforge.org"
   ]
  },
  {
   "cell_type": "code",
   "execution_count": 298,
   "id": "be0fa4b6-0630-4750-89bb-cd14e71addf7",
   "metadata": {},
   "outputs": [
    {
     "data": {
      "text/html": [
       "<div>\n",
       "<style scoped>\n",
       "    .dataframe tbody tr th:only-of-type {\n",
       "        vertical-align: middle;\n",
       "    }\n",
       "\n",
       "    .dataframe tbody tr th {\n",
       "        vertical-align: top;\n",
       "    }\n",
       "\n",
       "    .dataframe thead th {\n",
       "        text-align: right;\n",
       "    }\n",
       "</style>\n",
       "<table border=\"1\" class=\"dataframe\">\n",
       "  <thead>\n",
       "    <tr style=\"text-align: right;\">\n",
       "      <th></th>\n",
       "      <th>url</th>\n",
       "      <th>url_citoid</th>\n",
       "      <th>source_type_citoid</th>\n",
       "      <th>title_citoid</th>\n",
       "      <th>author_first_citoid</th>\n",
       "      <th>author_last_citoid</th>\n",
       "      <th>pub_date_citoid</th>\n",
       "      <th>pub_source_citoid</th>\n",
       "      <th>citation_template</th>\n",
       "      <th>source_type_manual</th>\n",
       "      <th>...</th>\n",
       "      <th>comp_title</th>\n",
       "      <th>comp_source_type</th>\n",
       "      <th>comp_pub_source</th>\n",
       "      <th>comp_pub_date</th>\n",
       "      <th>comp_author_first</th>\n",
       "      <th>comp_author_last</th>\n",
       "      <th>citoid_success</th>\n",
       "      <th>domain</th>\n",
       "      <th>domain_counts</th>\n",
       "      <th>domain_score</th>\n",
       "    </tr>\n",
       "  </thead>\n",
       "  <tbody>\n",
       "    <tr>\n",
       "      <th>43874</th>\n",
       "      <td>https://news.google.com/newspapers?nid=950&amp;dat...</td>\n",
       "      <td>https://news.google.com/newspapers?nid=950&amp;dat...</td>\n",
       "      <td>webpage</td>\n",
       "      <td>the evening independent - google news archive ...</td>\n",
       "      <td>None</td>\n",
       "      <td>None</td>\n",
       "      <td>NaN</td>\n",
       "      <td>news.google.com</td>\n",
       "      <td>cite news</td>\n",
       "      <td>[magazineArticle, newspaperArticle]</td>\n",
       "      <td>...</td>\n",
       "      <td>0.19</td>\n",
       "      <td>0</td>\n",
       "      <td>0.13</td>\n",
       "      <td>0.0</td>\n",
       "      <td>0.0</td>\n",
       "      <td>0.0</td>\n",
       "      <td>0</td>\n",
       "      <td>news.google.com</td>\n",
       "      <td>902</td>\n",
       "      <td>1.543237</td>\n",
       "    </tr>\n",
       "    <tr>\n",
       "      <th>90182</th>\n",
       "      <td>https://news.google.com/newspapers?id=uWdKAAAA...</td>\n",
       "      <td>https://news.google.com/newspapers?id=uWdKAAAA...</td>\n",
       "      <td>webpage</td>\n",
       "      <td>the telegraph - google news archive search</td>\n",
       "      <td>None</td>\n",
       "      <td>None</td>\n",
       "      <td>NaN</td>\n",
       "      <td>news.google.com</td>\n",
       "      <td>cite news</td>\n",
       "      <td>[magazineArticle, newspaperArticle]</td>\n",
       "      <td>...</td>\n",
       "      <td>0.14</td>\n",
       "      <td>0</td>\n",
       "      <td>0.00</td>\n",
       "      <td>0.0</td>\n",
       "      <td>0.0</td>\n",
       "      <td>0.0</td>\n",
       "      <td>0</td>\n",
       "      <td>news.google.com</td>\n",
       "      <td>902</td>\n",
       "      <td>1.543237</td>\n",
       "    </tr>\n",
       "  </tbody>\n",
       "</table>\n",
       "<p>2 rows × 29 columns</p>\n",
       "</div>"
      ],
      "text/plain": [
       "                                                     url  \\\n",
       "43874  https://news.google.com/newspapers?nid=950&dat...   \n",
       "90182  https://news.google.com/newspapers?id=uWdKAAAA...   \n",
       "\n",
       "                                              url_citoid source_type_citoid  \\\n",
       "43874  https://news.google.com/newspapers?nid=950&dat...            webpage   \n",
       "90182  https://news.google.com/newspapers?id=uWdKAAAA...            webpage   \n",
       "\n",
       "                                            title_citoid author_first_citoid  \\\n",
       "43874  the evening independent - google news archive ...                None   \n",
       "90182         the telegraph - google news archive search                None   \n",
       "\n",
       "      author_last_citoid pub_date_citoid pub_source_citoid citation_template  \\\n",
       "43874               None             NaN   news.google.com         cite news   \n",
       "90182               None             NaN   news.google.com         cite news   \n",
       "\n",
       "                        source_type_manual  ... comp_title comp_source_type  \\\n",
       "43874  [magazineArticle, newspaperArticle]  ...       0.19                0   \n",
       "90182  [magazineArticle, newspaperArticle]  ...       0.14                0   \n",
       "\n",
       "      comp_pub_source comp_pub_date comp_author_first comp_author_last  \\\n",
       "43874            0.13           0.0               0.0              0.0   \n",
       "90182            0.00           0.0               0.0              0.0   \n",
       "\n",
       "       citoid_success           domain domain_counts  domain_score  \n",
       "43874               0  news.google.com           902      1.543237  \n",
       "90182               0  news.google.com           902      1.543237  \n",
       "\n",
       "[2 rows x 29 columns]"
      ]
     },
     "execution_count": 298,
     "metadata": {},
     "output_type": "execute_result"
    }
   ],
   "source": [
    "domain = \"ar.com.google.books\"\n",
    "domain = \"br.com.folha.www1\"\n",
    "domain = \"com.allmusic.www\"\n",
    "domain = \"com.google.news\"\n",
    "domain = \".\".join(domain.split(\".\")[::-1])\n",
    "citations4conf[citations4conf.domain == domain]"
   ]
  },
  {
   "cell_type": "code",
   "execution_count": 299,
   "id": "5e1452fa-f571-4f8c-9301-9ad18bb495c5",
   "metadata": {},
   "outputs": [
    {
     "data": {
      "text/plain": [
       "'https://news.google.com/newspapers?id=uWdKAAAAIBAJ&sjid=25MMAAAAIBAJ&pg=6666,7567657'"
      ]
     },
     "execution_count": 299,
     "metadata": {},
     "output_type": "execute_result"
    }
   ],
   "source": [
    "citations4conf[citations4conf.domain == domain].loc[90182].url"
   ]
  },
  {
   "cell_type": "code",
   "execution_count": null,
   "id": "062c1eee-7cd0-4e5e-8484-fdc0fc7da94f",
   "metadata": {},
   "outputs": [],
   "source": []
  },
  {
   "cell_type": "code",
   "execution_count": null,
   "id": "f97c5de2-bddd-4602-89db-7ce317ca1b01",
   "metadata": {},
   "outputs": [],
   "source": []
  },
  {
   "cell_type": "code",
   "execution_count": null,
   "id": "e9f821e6-eac1-4a84-aa0a-660dd53790cb",
   "metadata": {},
   "outputs": [],
   "source": []
  },
  {
   "cell_type": "code",
   "execution_count": null,
   "id": "ba470a17-17d2-4a65-80c3-3523b4673465",
   "metadata": {},
   "outputs": [],
   "source": []
  },
  {
   "cell_type": "code",
   "execution_count": null,
   "id": "62cd32d3-9da3-49f7-a720-a7ac9c3b7a77",
   "metadata": {},
   "outputs": [],
   "source": []
  }
 ],
 "metadata": {
  "kernelspec": {
   "display_name": "web2cit",
   "language": "python",
   "name": "web2cit"
  },
  "language_info": {
   "codemirror_mode": {
    "name": "ipython",
    "version": 3
   },
   "file_extension": ".py",
   "mimetype": "text/x-python",
   "name": "python",
   "nbconvert_exporter": "python",
   "pygments_lexer": "ipython3",
   "version": "3.7.6"
  }
 },
 "nbformat": 4,
 "nbformat_minor": 5
}
