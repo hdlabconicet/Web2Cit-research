{
 "cells": [
  {
   "cell_type": "markdown",
   "id": "e3a2f0ec-48dd-4107-8b2f-1c2b529f97ed",
   "metadata": {},
   "source": [
    "# Create configuration files for Web2Cit\n",
    "\n",
    "This notebook performs automatic creation of [Web2Cit](https://meta.wikimedia.org/wiki/Web2Cit) configuration files for the web domains evaluated in \"understand-citoid-coverage.ipynb\".\n",
    "\n",
    "__Author:__\n",
    "\n",
    "* Nidia Hernández, [nidiahernandez@conicet.gov.ar](mailto:nidiahy@gmail.com), CAICYT-CONICET\n"
   ]
  },
  {
   "cell_type": "code",
   "execution_count": 1,
   "id": "8cae66d2-f30d-4849-97fb-6ab3b53b66f6",
   "metadata": {},
   "outputs": [
    {
     "name": "stderr",
     "output_type": "stream",
     "text": [
      "/home/yoki/anaconda3/lib/python3.7/site-packages/tqdm/std.py:668: FutureWarning: The Panel class is removed from pandas. Accessing it from the top-level namespace will also be removed in the next version\n",
      "  from pandas import Panel\n"
     ]
    }
   ],
   "source": [
    "import os\n",
    "import pandas as pd\n",
    "from operator import itemgetter\n",
    "import json\n",
    "import gzip\n",
    "from glob import glob\n",
    "from pprint import pprint\n",
    "from tqdm import tqdm\n",
    "tqdm.pandas()\n",
    "from urllib.parse import urlparse\n",
    "from pprint import pprint"
   ]
  },
  {
   "cell_type": "markdown",
   "id": "6cf50788-1b3d-410f-9936-377cd693513d",
   "metadata": {
    "jupyter": {
     "source_hidden": true
    },
    "tags": []
   },
   "source": [
    "## Web2Cit's configuration files\n",
    "\n",
    "Doc: https://meta.wikimedia.org/wiki/Web2Cit/Early_adopters#Domain_configuration_files\n",
    "\n",
    "Example config file: https://meta.wikimedia.org/wiki/Web2Cit/data/com/nbcnews/www/tests.json\n",
    "\n",
    "This is how a config file looks like:\n",
    "\n",
    "```\n",
    "[\n",
    " {\n",
    "   \"path\": \"/business/economy/july-inflation-numbers-consumer-prices-rose-85-year-year-summer-inflat-rcna42393\",\n",
    "   \"fields\": [\n",
    "     {\n",
    "       \"fieldname\": \"itemType\",\n",
    "       \"goal\": [\n",
    "         \"newspaperArticle\"\n",
    "       ]\n",
    "     },\n",
    "     {\n",
    "       \"fieldname\": \"title\",\n",
    "       \"goal\": [\n",
    "         \"Consumer prices rose by 8.5% year over year in July as the summer of inflation wears on\"\n",
    "       ]\n",
    "     },\n",
    "     {\n",
    "       \"fieldname\": \"authorLast\",\n",
    "       \"goal\": [\n",
    "         \"Rob Wile\"\n",
    "       ]\n",
    "     },\n",
    "     {\n",
    "       \"fieldname\": \"date\",\n",
    "       \"goal\": [\n",
    "         \"2022-08-10\"\n",
    "       ]\n",
    "     },\n",
    "     {\n",
    "       \"fieldname\": \"publishedIn\",\n",
    "       \"goal\": [\n",
    "         \"NBC News\"\n",
    "       ]\n",
    "     },\n",
    "     {\n",
    "       \"fieldname\": \"language\",\n",
    "       \"goal\": [\n",
    "         \"en\"\n",
    "       ]\n",
    "     }\n",
    "   ]\n",
    " }\n",
    "] \n",
    "```\n",
    "\n",
    "\n"
   ]
  },
  {
   "cell_type": "markdown",
   "id": "e9186e8f-5152-4de6-aed5-c748ea19f2ef",
   "metadata": {
    "jupyter": {
     "source_hidden": true
    },
    "tags": []
   },
   "source": [
    "Currently, there are 25 config files available at https://meta.wikimedia.org/wiki/Special:PrefixIndex/Web2Cit/data:\n",
    "\n",
    "Web2Cit/data/ar/com/lavoz/www/tests.json\n",
    "\n",
    "Web2Cit/data/ar/com/pagina12/www/tests.json\n",
    "\n",
    "Web2Cit/data/au/gov/qld/qagoma/blog/tests.json\n",
    "\n",
    "Web2Cit/data/br/com/uol/folha/www1/tests.json\n",
    "\n",
    "Web2Cit/data/com/3rionoticias/tests.json\n",
    "\n",
    "Web2Cit/data/com/aljazeera/www/tests.json\n",
    "\n",
    "Web2Cit/data/com/cnn/edition/tests.json\n",
    "\n",
    "Web2Cit/data/com/elespectador/www/tests.json\n",
    "\n",
    "Web2Cit/data/com/eltiempo/www/tests.json\n",
    "\n",
    "Web2Cit/data/com/go/abcnews/tests.json\n",
    "\n",
    "Web2Cit/data/com/nbcnews/www/tests.json\n",
    "\n",
    "Web2Cit/data/com/newyorker/www/tests.json\n",
    "\n",
    "Web2Cit/data/com/revistaanfibia/tests.json\n",
    "\n",
    "Web2Cit/data/com/thequietus/tests.json\n",
    "\n",
    "Web2Cit/data/com/yahoo/news/tests.json\n",
    "\n",
    "Web2Cit/data/ie/independent/www/tests.json\n",
    "\n",
    "Web2Cit/data/ie/rte/www/tests.json\n",
    "\n",
    "Web2Cit/data/org/adl/www/tests.json\n",
    "\n",
    "Web2Cit/data/org/amnesty/www/tests.json\n",
    "\n",
    "Web2Cit/data/org/cjr/www/tests.json\n",
    "\n",
    "Web2Cit/data/uk/gov/www/tests.json\n",
    "\n",
    "Web2Cit/data/uy/com/elobservador/www/tests.json\n",
    "\n",
    "Web2Cit/data/uy/com/elpais/www/tests.json\n",
    "\n",
    "Web2Cit/data/uy/com/ladiaria/tests.json\n",
    "\n",
    "Web2Cit/data/uy/com/montevideo/www/tests.json\n"
   ]
  },
  {
   "cell_type": "markdown",
   "id": "706569c7-394f-4064-999f-994654ebe6fb",
   "metadata": {
    "tags": []
   },
   "source": [
    "Our goal is to automatically produce new configuration files for the domains previously evaluated."
   ]
  },
  {
   "cell_type": "markdown",
   "id": "2f783794-4b60-46b7-ae38-acdb76424f71",
   "metadata": {
    "jupyter": {
     "source_hidden": true
    },
    "tags": []
   },
   "source": [
    "https://meta.wikimedia.org/wiki/Web2Cit/Early_adopters#Translation_fields\n",
    "\n",
    "Fieldnames:\n",
    "* \"itemType\": mandatory. Single value\n",
    "* \"title\": mandatory. Single value, empty string not allowed.\n",
    "* authorLast: author first y last se mapean directamente al archivo de config\n",
    "* authorFirst: author first y last se mapean directamente al archivo de config\n",
    "* date: \n",
    "* publishedBy: undefined (can't be recovered)\n",
    "* publishedIn: undefined (can't be recovered)\n",
    "* language: undefined (can't be recovered)"
   ]
  },
  {
   "cell_type": "code",
   "execution_count": 2,
   "id": "788a49af-5fe0-46e7-a2e8-24dae878db23",
   "metadata": {
    "tags": []
   },
   "outputs": [],
   "source": [
    "## Read evaluation results df\n",
    "citoid_eval = pd.read_csv(\"eval/eval_all_citations.csv.gz\")\n",
    "cols = ['author_first_citoid', 'author_last_citoid', 'source_type_manual', 'title_manual',\n",
    "       'author_last_manual', 'author_first_manual', 'pub_date_manual']\n",
    "# no leemos 'pub_source_manual' porque no la vamos a usar para el archivo de config, no se puede mapear\n",
    "\n",
    "# read data as lists\n",
    "for col in cols:\n",
    "    citoid_eval[col] = citoid_eval[col].fillna('None').map(eval)"
   ]
  },
  {
   "cell_type": "code",
   "execution_count": 3,
   "id": "d88f7b33-9cd5-4508-b888-ace6dc443d89",
   "metadata": {
    "tags": []
   },
   "outputs": [
    {
     "data": {
      "text/plain": [
       "(91338, 25)"
      ]
     },
     "execution_count": 3,
     "metadata": {},
     "output_type": "execute_result"
    }
   ],
   "source": [
    "citoid_eval.shape"
   ]
  },
  {
   "cell_type": "code",
   "execution_count": 4,
   "id": "05ecb845-c5c2-4f60-aa55-90d8b2cb2756",
   "metadata": {},
   "outputs": [
    {
     "data": {
      "text/plain": [
       "Index(['url', 'url_citoid', 'source_type_citoid', 'title_citoid',\n",
       "       'author_first_citoid', 'author_last_citoid', 'pub_date_citoid',\n",
       "       'pub_source_citoid', 'citation_template', 'source_type_manual',\n",
       "       'title_manual', 'author_last_manual', 'author_first_manual',\n",
       "       'pub_date_manual', 'pub_source_manual', 'article_url', 'page_id',\n",
       "       'revid', 'wiki_lang', 'comp_title', 'comp_source_type',\n",
       "       'comp_pub_source', 'comp_pub_date', 'comp_author_first',\n",
       "       'comp_author_last'],\n",
       "      dtype='object')"
      ]
     },
     "execution_count": 4,
     "metadata": {},
     "output_type": "execute_result"
    }
   ],
   "source": [
    "citoid_eval.columns"
   ]
  },
  {
   "cell_type": "code",
   "execution_count": 5,
   "id": "b3ce61f8-1fc0-4043-96bd-76f2a4157169",
   "metadata": {},
   "outputs": [],
   "source": [
    "## caculate scores\n",
    "comp_fields = ['comp_author_first', 'comp_author_last', 'comp_title',\n",
    "          'comp_source_type', 'comp_pub_source', 'comp_pub_date']\n",
    "\n",
    "citoid_eval[\"citoid_success\"] = (citoid_eval[comp_fields] >= 0.75).sum(axis=1)"
   ]
  },
  {
   "cell_type": "code",
   "execution_count": 6,
   "id": "5514f69c-0e66-4623-95d4-1b6165c5209a",
   "metadata": {},
   "outputs": [],
   "source": [
    "## find domains\n",
    "citoid_eval['domain'] = citoid_eval['url'].map(lambda x : urlparse(x).netloc)"
   ]
  },
  {
   "cell_type": "code",
   "execution_count": 7,
   "id": "8a6ec9de-cd4b-445d-ada5-d217cc3bcfc0",
   "metadata": {},
   "outputs": [],
   "source": [
    "## calculate domain popularity (count domain freq)\n",
    "citoid_eval[\"domain_counts\"] = citoid_eval.groupby('domain')[\"domain\"].transform(\"count\")"
   ]
  },
  {
   "cell_type": "code",
   "execution_count": 8,
   "id": "0009d2ce-79df-42da-950f-0663f3ad4517",
   "metadata": {},
   "outputs": [],
   "source": [
    "## calculate domain score\n",
    "citoid_eval[\"domain_score\"] = citoid_eval.groupby(\"domain\")[\"citoid_success\"].transform(\"mean\")"
   ]
  },
  {
   "cell_type": "markdown",
   "id": "73bd6884-b4c2-40e3-906f-6587cd2d54b3",
   "metadata": {
    "tags": []
   },
   "source": [
    "## Select citations for config files\n",
    "\n",
    "To be elegible for generating a confinguration file, a citation must:\n",
    "\n",
    "- have information for at least 3 of the following 4 fields: authorFirst, authorLast, Title, and Date\n",
    "- belong to a domain cited at least X times in our corpus of evaluated URLs\n"
   ]
  },
  {
   "cell_type": "code",
   "execution_count": 84,
   "id": "3b55e84c-add2-49a9-b52d-bc729fb545d1",
   "metadata": {},
   "outputs": [],
   "source": [
    "## filter by required metadata\n",
    "required_fields = ['author_first_manual', 'author_last_manual', 'title_manual', 'pub_date_manual']\n",
    "mask = citoid_eval[required_fields].applymap(len).sum(axis=1) > 2\n",
    "citations4conf = citoid_eval[mask]"
   ]
  },
  {
   "cell_type": "code",
   "execution_count": 32,
   "id": "aae8713d-0d52-4c6c-8217-195ccb069c70",
   "metadata": {},
   "outputs": [],
   "source": [
    "## filter by domain frequency\n",
    "popularity_threshold = 99\n",
    "citations4conf = citations4conf[citations4conf[\"domain_counts\"] > popularity_threshold]"
   ]
  },
  {
   "cell_type": "code",
   "execution_count": 33,
   "id": "cbee3cb8-c89d-4e0c-a7b6-b71fcbb3a78d",
   "metadata": {},
   "outputs": [
    {
     "name": "stdout",
     "output_type": "stream",
     "text": [
      "We have 25249 citations left\n"
     ]
    }
   ],
   "source": [
    "print(f\"We have {len(citations4conf)} citations left\")"
   ]
  },
  {
   "cell_type": "code",
   "execution_count": 34,
   "id": "72212dbd-1bbf-4faf-9fb1-ab9a1c461a62",
   "metadata": {},
   "outputs": [],
   "source": [
    "## Sort by domain score, from lower to higher\n",
    "citations4conf = citations4conf.sort_values(by=[\"domain_score\"], ascending=True)"
   ]
  },
  {
   "cell_type": "code",
   "execution_count": 35,
   "id": "d3237969-1926-4125-af58-10068562b44f",
   "metadata": {
    "tags": []
   },
   "outputs": [
    {
     "name": "stdout",
     "output_type": "stream",
     "text": [
      "We have 91 domains left\n"
     ]
    }
   ],
   "source": [
    "print(f\"We have {len(citations4conf['domain'].drop_duplicates())} domains left\")"
   ]
  },
  {
   "cell_type": "code",
   "execution_count": 40,
   "id": "37136c0e-1809-4567-9c1c-c7e69cd9ec05",
   "metadata": {},
   "outputs": [],
   "source": [
    "citations4conf.to_csv(\"data/citations_for_config_files.csv.gz\", index=False)"
   ]
  },
  {
   "cell_type": "code",
   "execution_count": null,
   "id": "70e66069-022f-4b22-be97-3c7a463eb42f",
   "metadata": {},
   "outputs": [],
   "source": []
  },
  {
   "cell_type": "code",
   "execution_count": null,
   "id": "ebb9fd9d-178a-441e-bbf2-008b36c2fd30",
   "metadata": {},
   "outputs": [],
   "source": []
  },
  {
   "cell_type": "code",
   "execution_count": null,
   "id": "7d59dcb0-7452-4370-ae2f-130262f3eb9e",
   "metadata": {},
   "outputs": [],
   "source": []
  },
  {
   "cell_type": "markdown",
   "id": "67e1e99f-d8ad-4a9a-9646-8830c93efbec",
   "metadata": {},
   "source": [
    "## Old selection of citations for config files -----------------"
   ]
  },
  {
   "cell_type": "code",
   "execution_count": 5,
   "id": "6a358ed1-7646-4514-b98f-2e7dec73ca97",
   "metadata": {
    "tags": []
   },
   "outputs": [
    {
     "name": "stderr",
     "output_type": "stream",
     "text": [
      "100%|██████████| 321179/321179 [00:17<00:00, 18366.25it/s]\n"
     ]
    }
   ],
   "source": [
    "## drop duplicated URLs\n",
    "citoid_eval = citoid_eval.dropna(subset=[\"url\"])\n",
    "## find domains\n",
    "citoid_eval['domain'] = citoid_eval['url'].map(lambda x : urlparse(x).netloc)\n",
    "\n",
    "## calculate Citoid success\n",
    "citoid_eval[\"citoid_success\"] = (citoid_eval[comp_fields] >= 0.75).sum(axis=1)"
   ]
  },
  {
   "cell_type": "code",
   "execution_count": 42,
   "id": "e34644c2-15dc-416a-9d28-c51ffefb0a03",
   "metadata": {
    "collapsed": true,
    "jupyter": {
     "outputs_hidden": true
    },
    "tags": []
   },
   "outputs": [
    {
     "data": {
      "text/html": [
       "<div>\n",
       "<style scoped>\n",
       "    .dataframe tbody tr th:only-of-type {\n",
       "        vertical-align: middle;\n",
       "    }\n",
       "\n",
       "    .dataframe tbody tr th {\n",
       "        vertical-align: top;\n",
       "    }\n",
       "\n",
       "    .dataframe thead th {\n",
       "        text-align: right;\n",
       "    }\n",
       "</style>\n",
       "<table border=\"1\" class=\"dataframe\">\n",
       "  <thead>\n",
       "    <tr style=\"text-align: right;\">\n",
       "      <th></th>\n",
       "      <th>domain</th>\n",
       "      <th>citoid_success</th>\n",
       "    </tr>\n",
       "  </thead>\n",
       "  <tbody>\n",
       "    <tr>\n",
       "      <th>0</th>\n",
       "      <td>www.standardnewswire.com</td>\n",
       "      <td>0.0</td>\n",
       "    </tr>\n",
       "    <tr>\n",
       "      <th>1</th>\n",
       "      <td>www.victorianlondon.org</td>\n",
       "      <td>0.0</td>\n",
       "    </tr>\n",
       "    <tr>\n",
       "      <th>2</th>\n",
       "      <td>etymolog.ruslang.ru</td>\n",
       "      <td>0.0</td>\n",
       "    </tr>\n",
       "    <tr>\n",
       "      <th>3</th>\n",
       "      <td>www.newspakistan.pk</td>\n",
       "      <td>0.0</td>\n",
       "    </tr>\n",
       "    <tr>\n",
       "      <th>4</th>\n",
       "      <td>espn.go.com</td>\n",
       "      <td>0.0</td>\n",
       "    </tr>\n",
       "    <tr>\n",
       "      <th>...</th>\n",
       "      <td>...</td>\n",
       "      <td>...</td>\n",
       "    </tr>\n",
       "    <tr>\n",
       "      <th>15496</th>\n",
       "      <td>nscripter.com</td>\n",
       "      <td>6.0</td>\n",
       "    </tr>\n",
       "    <tr>\n",
       "      <th>15497</th>\n",
       "      <td>www.thesmackdownhotel.com</td>\n",
       "      <td>6.0</td>\n",
       "    </tr>\n",
       "    <tr>\n",
       "      <th>15498</th>\n",
       "      <td>www.mairie-orthez.fr</td>\n",
       "      <td>6.0</td>\n",
       "    </tr>\n",
       "    <tr>\n",
       "      <th>15499</th>\n",
       "      <td>www.dargaud.com</td>\n",
       "      <td>6.0</td>\n",
       "    </tr>\n",
       "    <tr>\n",
       "      <th>15500</th>\n",
       "      <td>www.clubrugby.co.nz</td>\n",
       "      <td>6.0</td>\n",
       "    </tr>\n",
       "  </tbody>\n",
       "</table>\n",
       "<p>15501 rows × 2 columns</p>\n",
       "</div>"
      ],
      "text/plain": [
       "                          domain  citoid_success\n",
       "0       www.standardnewswire.com             0.0\n",
       "1        www.victorianlondon.org             0.0\n",
       "2            etymolog.ruslang.ru             0.0\n",
       "3            www.newspakistan.pk             0.0\n",
       "4                    espn.go.com             0.0\n",
       "...                          ...             ...\n",
       "15496              nscripter.com             6.0\n",
       "15497  www.thesmackdownhotel.com             6.0\n",
       "15498       www.mairie-orthez.fr             6.0\n",
       "15499            www.dargaud.com             6.0\n",
       "15500        www.clubrugby.co.nz             6.0\n",
       "\n",
       "[15501 rows x 2 columns]"
      ]
     },
     "execution_count": 42,
     "metadata": {},
     "output_type": "execute_result"
    }
   ],
   "source": [
    "success_by_domain = citoid_eval.groupby(\"domain\")[\"citoid_success\"].mean().sort_values().reset_index()\n",
    "success_by_domain"
   ]
  },
  {
   "cell_type": "code",
   "execution_count": 43,
   "id": "54a43c2d-db5f-4257-8d81-da14b5a6a537",
   "metadata": {},
   "outputs": [],
   "source": [
    "## Find top 1k URLs with low score and high domain frequency\n",
    "## We drop domain duplicates, otherwise it's all books.google.com\n",
    "top_cited_low_score = citoid_eval.sort_values(by=[\"citoid_success\", \"domain_counts\"], ascending=[True, False]).drop_duplicates(\"domain\")\n",
    "top_cited_low_score = top_cited_low_score.head(1000)"
   ]
  },
  {
   "cell_type": "code",
   "execution_count": 47,
   "id": "eae5df5a-6324-4085-828f-645a902a3384",
   "metadata": {},
   "outputs": [],
   "source": [
    "top_cited_low_score.to_csv(\"data/top_cited_low_score.csv\", index=False)"
   ]
  },
  {
   "cell_type": "code",
   "execution_count": null,
   "id": "2ee8c27c-dbe0-4ddb-acb0-84ff6a620cdd",
   "metadata": {},
   "outputs": [],
   "source": [
    "config_sample  = pd.read_csv(\"data/top_cited_low_score.csv\")\n",
    "\n",
    "cols = ['title_manual','author_last_manual', 'author_first_manual', 'pub_date_manual']\n",
    "\n",
    "for col in cols:\n",
    "    config_sample[col] = config_sample[col].fillna('None').map(eval)\n",
    "\n",
    "config_sample.head()"
   ]
  },
  {
   "cell_type": "markdown",
   "id": "602def1a-3c06-43a5-beca-c4f58e72facb",
   "metadata": {},
   "source": [
    "## -----------------"
   ]
  },
  {
   "cell_type": "markdown",
   "id": "71260332-e412-48de-842a-8aa5f703ed33",
   "metadata": {},
   "source": [
    "## Recover metadata without preprocessing"
   ]
  },
  {
   "cell_type": "markdown",
   "id": "74f8ccb4-9a61-41ec-8cd7-6fc1cbaf1059",
   "metadata": {},
   "source": [
    "### Manual metadata without preprocessing"
   ]
  },
  {
   "cell_type": "code",
   "execution_count": 53,
   "id": "57c2a36c-c903-4543-9642-930e7c9bcb8d",
   "metadata": {},
   "outputs": [],
   "source": [
    "## This file contains the manual citations metadata before preprocessing\n",
    "manual_before_preproc = pd.read_csv(\"data/citations_metadata_only_year.csv.gz\")\n",
    "\n",
    "cols = ['title','author_last', 'author_first', 'pub_date'] # 'pub_source' will not be used\n",
    "\n",
    "manual_before_preproc = manual_before_preproc.drop_duplicates(subset=[\"url\"], keep=\"first\")\n",
    "\n",
    "for col in cols:\n",
    "    manual_before_preproc[col] = manual_before_preproc[col].fillna('None').map(eval)"
   ]
  },
  {
   "cell_type": "code",
   "execution_count": 54,
   "id": "7a1c0495-5272-49bd-abe9-39b24f9ddd24",
   "metadata": {},
   "outputs": [
    {
     "data": {
      "text/plain": [
       "Index(['article_title', 'article_url', 'page_id', 'revid', 'wiki_lang', 'url',\n",
       "       'source_type', 'source_type_map', 'title', 'title_clean', 'author_last',\n",
       "       'author_last_clean', 'author_first', 'author_first_clean', 'pub_date',\n",
       "       'pub_date_clean', 'pub_date_control', 'pub_date_only_year',\n",
       "       'pub_source', 'pub_source_clean'],\n",
       "      dtype='object')"
      ]
     },
     "execution_count": 54,
     "metadata": {},
     "output_type": "execute_result"
    }
   ],
   "source": [
    "manual_before_preproc.columns"
   ]
  },
  {
   "cell_type": "code",
   "execution_count": 55,
   "id": "4dcdbd00-2c74-475e-944a-308cff82efef",
   "metadata": {},
   "outputs": [
    {
     "data": {
      "text/plain": [
       "(382983, 5)"
      ]
     },
     "execution_count": 55,
     "metadata": {},
     "output_type": "execute_result"
    }
   ],
   "source": [
    "manual_before_preproc = manual_before_preproc.set_index(\"url\").reindex(columns=cols)\n",
    "manual_before_preproc.shape"
   ]
  },
  {
   "cell_type": "code",
   "execution_count": null,
   "id": "e2de36c5-a51b-42c2-bdd1-57b44e204086",
   "metadata": {},
   "outputs": [],
   "source": [
    "### A partir de acá cambiar top_cited_low_score por citations4conf\n",
    "### incluir datos de citoid para casos en que hay que buscar el exact match (itemType y listas de más de un elemento)"
   ]
  },
  {
   "cell_type": "code",
   "execution_count": 64,
   "id": "7f0fa769-8e7c-4d31-aab0-c527c24eb05d",
   "metadata": {},
   "outputs": [],
   "source": [
    "## Replace data in dataframe of top cited domains with low score with data \n",
    "## before preprocessing for 'title','author_last', 'author_first'\n",
    "## 'pub_source' is not necessary because it will not be mapped to the config file\n",
    "## 'pub_date' is not necessary because we will keep data transformed to YYYY-MM-DD\n",
    "\n",
    "cols = ['title','author_last', 'author_first'] ## do not overwrite pub_date\n",
    "\n",
    "for col in cols:\n",
    "    citations4conf[f\"{col}_manual\"] = manual_before_preproc.loc[ citations4conf[\"url\"], col ].values"
   ]
  },
  {
   "cell_type": "code",
   "execution_count": 72,
   "id": "8b6203ec-69f7-4909-bac9-a3bba8be5595",
   "metadata": {
    "tags": []
   },
   "outputs": [
    {
     "data": {
      "text/html": [
       "<div>\n",
       "<style scoped>\n",
       "    .dataframe tbody tr th:only-of-type {\n",
       "        vertical-align: middle;\n",
       "    }\n",
       "\n",
       "    .dataframe tbody tr th {\n",
       "        vertical-align: top;\n",
       "    }\n",
       "\n",
       "    .dataframe thead th {\n",
       "        text-align: right;\n",
       "    }\n",
       "</style>\n",
       "<table border=\"1\" class=\"dataframe\">\n",
       "  <thead>\n",
       "    <tr style=\"text-align: right;\">\n",
       "      <th></th>\n",
       "      <th>source_type_citoid</th>\n",
       "      <th>title_manual</th>\n",
       "      <th>author_first_manual</th>\n",
       "      <th>author_last_manual</th>\n",
       "      <th>pub_date_manual</th>\n",
       "    </tr>\n",
       "  </thead>\n",
       "  <tbody>\n",
       "    <tr>\n",
       "      <th>6068</th>\n",
       "      <td>webpage</td>\n",
       "      <td>[History of U.S. Marine Corps Operations in Wo...</td>\n",
       "      <td>[Henry I., Bernard C., Edwin T.]</td>\n",
       "      <td>[Shaw, Jr., Nalty, Turnbladh]</td>\n",
       "      <td>[1966]</td>\n",
       "    </tr>\n",
       "    <tr>\n",
       "      <th>74685</th>\n",
       "      <td>webpage</td>\n",
       "      <td>[Zedd and Katy Perry Share New Song and Video ...</td>\n",
       "      <td>[Madison]</td>\n",
       "      <td>[Bloom]</td>\n",
       "      <td>[2019-02-14]</td>\n",
       "    </tr>\n",
       "    <tr>\n",
       "      <th>85363</th>\n",
       "      <td>webpage</td>\n",
       "      <td>[Uruguay - List of Champions]</td>\n",
       "      <td>[]</td>\n",
       "      <td>[STOKKERMANS, Karel]</td>\n",
       "      <td>[2010-08-10]</td>\n",
       "    </tr>\n",
       "    <tr>\n",
       "      <th>70119</th>\n",
       "      <td>book</td>\n",
       "      <td>[Makedonika]</td>\n",
       "      <td>[Eugene N.]</td>\n",
       "      <td>[Borza]</td>\n",
       "      <td>[1995]</td>\n",
       "    </tr>\n",
       "    <tr>\n",
       "      <th>52151</th>\n",
       "      <td>newspaperArticle</td>\n",
       "      <td>[The presidents' guide to science]</td>\n",
       "      <td>[]</td>\n",
       "      <td>[James van der Pool]</td>\n",
       "      <td>[2008-09-16]</td>\n",
       "    </tr>\n",
       "    <tr>\n",
       "      <th>70459</th>\n",
       "      <td>book</td>\n",
       "      <td>[Histoire naturelle des animaux sans vertèbres...</td>\n",
       "      <td>[Jean-Baptiste]</td>\n",
       "      <td>[de Lamarck]</td>\n",
       "      <td>[1819]</td>\n",
       "    </tr>\n",
       "  </tbody>\n",
       "</table>\n",
       "</div>"
      ],
      "text/plain": [
       "      source_type_citoid                                       title_manual  \\\n",
       "6068             webpage  [History of U.S. Marine Corps Operations in Wo...   \n",
       "74685            webpage  [Zedd and Katy Perry Share New Song and Video ...   \n",
       "85363            webpage                      [Uruguay - List of Champions]   \n",
       "70119               book                                       [Makedonika]   \n",
       "52151   newspaperArticle                 [The presidents' guide to science]   \n",
       "70459               book  [Histoire naturelle des animaux sans vertèbres...   \n",
       "\n",
       "                    author_first_manual             author_last_manual  \\\n",
       "6068   [Henry I., Bernard C., Edwin T.]  [Shaw, Jr., Nalty, Turnbladh]   \n",
       "74685                         [Madison]                        [Bloom]   \n",
       "85363                                []           [STOKKERMANS, Karel]   \n",
       "70119                       [Eugene N.]                        [Borza]   \n",
       "52151                                []           [James van der Pool]   \n",
       "70459                   [Jean-Baptiste]                   [de Lamarck]   \n",
       "\n",
       "      pub_date_manual  \n",
       "6068           [1966]  \n",
       "74685    [2019-02-14]  \n",
       "85363    [2010-08-10]  \n",
       "70119          [1995]  \n",
       "52151    [2008-09-16]  \n",
       "70459          [1819]  "
      ]
     },
     "execution_count": 72,
     "metadata": {},
     "output_type": "execute_result"
    }
   ],
   "source": [
    "citations4conf[['source_type_citoid','title_manual','author_first_manual','author_last_manual', 'pub_date_manual']].sample(6)"
   ]
  },
  {
   "cell_type": "code",
   "execution_count": 59,
   "id": "63eb08f7-7fc7-461b-8f8a-277c9424cc44",
   "metadata": {
    "jupyter": {
     "source_hidden": true
    },
    "tags": []
   },
   "outputs": [],
   "source": [
    "# config_data = citations4conf[['url', 'domain', 'source_type_citoid', 'source_type_manual','title_manual',\n",
    "#               'author_last_manual', 'author_first_manual', 'pub_date_manual',\n",
    "#               'comp_author_first', 'comp_author_last', 'comp_title', 'comp_source_type',\n",
    "#                                    'comp_pub_date', 'citoid_success']]"
   ]
  },
  {
   "cell_type": "code",
   "execution_count": 60,
   "id": "b79974c3-74fa-47e3-be93-c5631f8ba844",
   "metadata": {
    "collapsed": true,
    "jupyter": {
     "outputs_hidden": true,
     "source_hidden": true
    },
    "tags": []
   },
   "outputs": [
    {
     "data": {
      "text/html": [
       "<div>\n",
       "<style scoped>\n",
       "    .dataframe tbody tr th:only-of-type {\n",
       "        vertical-align: middle;\n",
       "    }\n",
       "\n",
       "    .dataframe tbody tr th {\n",
       "        vertical-align: top;\n",
       "    }\n",
       "\n",
       "    .dataframe thead th {\n",
       "        text-align: right;\n",
       "    }\n",
       "</style>\n",
       "<table border=\"1\" class=\"dataframe\">\n",
       "  <thead>\n",
       "    <tr style=\"text-align: right;\">\n",
       "      <th></th>\n",
       "      <th>source_type_citoid</th>\n",
       "      <th>title_manual</th>\n",
       "      <th>author_first_manual</th>\n",
       "      <th>author_last_manual</th>\n",
       "      <th>pub_date_manual</th>\n",
       "      <th>pub_date_only_year</th>\n",
       "    </tr>\n",
       "  </thead>\n",
       "  <tbody>\n",
       "    <tr>\n",
       "      <th>22470</th>\n",
       "      <td>webpage</td>\n",
       "      <td>[New Controlling Body Formed at C.A.H.A. Meet]</td>\n",
       "      <td>[Robert]</td>\n",
       "      <td>[Clarke]</td>\n",
       "      <td>[1940-04-16]</td>\n",
       "      <td>[]</td>\n",
       "    </tr>\n",
       "    <tr>\n",
       "      <th>4201</th>\n",
       "      <td>webpage</td>\n",
       "      <td>[How Lady Gaga Conquered Music, Fashion and Fi...</td>\n",
       "      <td>[Leena]</td>\n",
       "      <td>[Tailor]</td>\n",
       "      <td>[2018-09-04]</td>\n",
       "      <td>[]</td>\n",
       "    </tr>\n",
       "    <tr>\n",
       "      <th>37233</th>\n",
       "      <td>webpage</td>\n",
       "      <td>[Novo navio de assistência hospitalar será bat...</td>\n",
       "      <td>[]</td>\n",
       "      <td>[]</td>\n",
       "      <td>[2021-09-15]</td>\n",
       "      <td>[]</td>\n",
       "    </tr>\n",
       "    <tr>\n",
       "      <th>47552</th>\n",
       "      <td>newspaperArticle</td>\n",
       "      <td>[Steven Wilson]</td>\n",
       "      <td>[Dave]</td>\n",
       "      <td>[Baird]</td>\n",
       "      <td>[2012-06-25]</td>\n",
       "      <td>[]</td>\n",
       "    </tr>\n",
       "    <tr>\n",
       "      <th>37510</th>\n",
       "      <td>webpage</td>\n",
       "      <td>[Ghettos in German-Occupied Eastern Europe]</td>\n",
       "      <td>[Laura]</td>\n",
       "      <td>[Crago]</td>\n",
       "      <td>[10]</td>\n",
       "      <td>[10]</td>\n",
       "    </tr>\n",
       "    <tr>\n",
       "      <th>4824</th>\n",
       "      <td>webpage</td>\n",
       "      <td>[Britannia, or, A Chorographical Description o...</td>\n",
       "      <td>[William]</td>\n",
       "      <td>[Camden]</td>\n",
       "      <td>[1789]</td>\n",
       "      <td>[1789]</td>\n",
       "    </tr>\n",
       "  </tbody>\n",
       "</table>\n",
       "</div>"
      ],
      "text/plain": [
       "      source_type_citoid                                       title_manual  \\\n",
       "22470            webpage     [New Controlling Body Formed at C.A.H.A. Meet]   \n",
       "4201             webpage  [How Lady Gaga Conquered Music, Fashion and Fi...   \n",
       "37233            webpage  [Novo navio de assistência hospitalar será bat...   \n",
       "47552   newspaperArticle                                    [Steven Wilson]   \n",
       "37510            webpage        [Ghettos in German-Occupied Eastern Europe]   \n",
       "4824             webpage  [Britannia, or, A Chorographical Description o...   \n",
       "\n",
       "      author_first_manual author_last_manual pub_date_manual  \\\n",
       "22470            [Robert]           [Clarke]    [1940-04-16]   \n",
       "4201              [Leena]           [Tailor]    [2018-09-04]   \n",
       "37233                  []                 []    [2021-09-15]   \n",
       "47552              [Dave]            [Baird]    [2012-06-25]   \n",
       "37510             [Laura]            [Crago]            [10]   \n",
       "4824            [William]           [Camden]          [1789]   \n",
       "\n",
       "      pub_date_only_year  \n",
       "22470                 []  \n",
       "4201                  []  \n",
       "37233                 []  \n",
       "47552                 []  \n",
       "37510               [10]  \n",
       "4824              [1789]  "
      ]
     },
     "execution_count": 60,
     "metadata": {},
     "output_type": "execute_result"
    }
   ],
   "source": [
    "#config_data[['source_type_citoid','title_manual','author_first_manual','author_last_manual', 'pub_date_manual']].sample(6)"
   ]
  },
  {
   "cell_type": "code",
   "execution_count": 129,
   "id": "ec632010-8896-4de3-9019-0ee0660f309e",
   "metadata": {},
   "outputs": [
    {
     "data": {
      "text/html": [
       "<div>\n",
       "<style scoped>\n",
       "    .dataframe tbody tr th:only-of-type {\n",
       "        vertical-align: middle;\n",
       "    }\n",
       "\n",
       "    .dataframe tbody tr th {\n",
       "        vertical-align: top;\n",
       "    }\n",
       "\n",
       "    .dataframe thead th {\n",
       "        text-align: right;\n",
       "    }\n",
       "</style>\n",
       "<table border=\"1\" class=\"dataframe\">\n",
       "  <thead>\n",
       "    <tr style=\"text-align: right;\">\n",
       "      <th></th>\n",
       "      <th>url</th>\n",
       "      <th>url_citoid</th>\n",
       "      <th>source_type_citoid</th>\n",
       "      <th>title_citoid</th>\n",
       "      <th>author_first_citoid</th>\n",
       "      <th>author_last_citoid</th>\n",
       "      <th>pub_date_citoid</th>\n",
       "      <th>pub_source_citoid</th>\n",
       "      <th>citation_template</th>\n",
       "      <th>source_type_manual</th>\n",
       "      <th>...</th>\n",
       "      <th>comp_title</th>\n",
       "      <th>comp_source_type</th>\n",
       "      <th>comp_pub_source</th>\n",
       "      <th>comp_pub_date</th>\n",
       "      <th>comp_author_first</th>\n",
       "      <th>comp_author_last</th>\n",
       "      <th>citoid_success</th>\n",
       "      <th>domain</th>\n",
       "      <th>domain_counts</th>\n",
       "      <th>domain_score</th>\n",
       "    </tr>\n",
       "  </thead>\n",
       "  <tbody>\n",
       "    <tr>\n",
       "      <th>22208</th>\n",
       "      <td>https://www.telegraph.co.uk/culture/tvandradio...</td>\n",
       "      <td>https://www.telegraph.co.uk/culture/tvandradio...</td>\n",
       "      <td>webpage</td>\n",
       "      <td>imo and ben: a new radio drama that shows the ...</td>\n",
       "      <td>None</td>\n",
       "      <td>None</td>\n",
       "      <td>NaN</td>\n",
       "      <td>www.telegraph.co.uk</td>\n",
       "      <td>cite news</td>\n",
       "      <td>[magazineArticle, newspaperArticle]</td>\n",
       "      <td>...</td>\n",
       "      <td>1.00</td>\n",
       "      <td>0</td>\n",
       "      <td>0.00</td>\n",
       "      <td>0.0</td>\n",
       "      <td>0.0</td>\n",
       "      <td>0.0</td>\n",
       "      <td>1</td>\n",
       "      <td>www.telegraph.co.uk</td>\n",
       "      <td>1116</td>\n",
       "      <td>2.226703</td>\n",
       "    </tr>\n",
       "    <tr>\n",
       "      <th>24204</th>\n",
       "      <td>https://www.eurogamer.net/articles/2016-11-11-...</td>\n",
       "      <td>https://www.eurogamer.net/articles/2016-11-11-...</td>\n",
       "      <td>newspaperArticle</td>\n",
       "      <td>dishonored 2 developer's pro-tips are really u...</td>\n",
       "      <td>None</td>\n",
       "      <td>None</td>\n",
       "      <td>2016-11-11</td>\n",
       "      <td>eurogamer.net</td>\n",
       "      <td>citar web</td>\n",
       "      <td>[blogPost, email, forumPost, webpage]</td>\n",
       "      <td>...</td>\n",
       "      <td>1.00</td>\n",
       "      <td>0</td>\n",
       "      <td>0.69</td>\n",
       "      <td>1.0</td>\n",
       "      <td>1.0</td>\n",
       "      <td>0.0</td>\n",
       "      <td>3</td>\n",
       "      <td>www.eurogamer.net</td>\n",
       "      <td>785</td>\n",
       "      <td>2.155414</td>\n",
       "    </tr>\n",
       "    <tr>\n",
       "      <th>47332</th>\n",
       "      <td>https://www.npr.org/templates/story/story.php?...</td>\n",
       "      <td>https://www.npr.org/templates/story/story.php?...</td>\n",
       "      <td>newspaperArticle</td>\n",
       "      <td>passengers treated for hypothermia</td>\n",
       "      <td>None</td>\n",
       "      <td>None</td>\n",
       "      <td>NaN</td>\n",
       "      <td>npr.org</td>\n",
       "      <td>Lien web</td>\n",
       "      <td>[blogPost, email, forumPost, podcast, videoRec...</td>\n",
       "      <td>...</td>\n",
       "      <td>1.00</td>\n",
       "      <td>0</td>\n",
       "      <td>0.64</td>\n",
       "      <td>0.0</td>\n",
       "      <td>1.0</td>\n",
       "      <td>0.0</td>\n",
       "      <td>2</td>\n",
       "      <td>www.npr.org</td>\n",
       "      <td>248</td>\n",
       "      <td>2.572581</td>\n",
       "    </tr>\n",
       "    <tr>\n",
       "      <th>88461</th>\n",
       "      <td>http://www.rsssf.com/tablesa/arg75.html</td>\n",
       "      <td>http://www.rsssf.com/tablesa/arg75.html</td>\n",
       "      <td>webpage</td>\n",
       "      <td>argentina 1975</td>\n",
       "      <td>None</td>\n",
       "      <td>None</td>\n",
       "      <td>NaN</td>\n",
       "      <td>www.rsssf.com</td>\n",
       "      <td>Cita web</td>\n",
       "      <td>[blogPost, email, forumPost, webpage]</td>\n",
       "      <td>...</td>\n",
       "      <td>0.36</td>\n",
       "      <td>1</td>\n",
       "      <td>0.38</td>\n",
       "      <td>1.0</td>\n",
       "      <td>0.0</td>\n",
       "      <td>0.0</td>\n",
       "      <td>2</td>\n",
       "      <td>www.rsssf.com</td>\n",
       "      <td>852</td>\n",
       "      <td>3.150235</td>\n",
       "    </tr>\n",
       "    <tr>\n",
       "      <th>6068</th>\n",
       "      <td>http://www.ibiblio.org/hyperwar/USMC/III/index...</td>\n",
       "      <td>http://www.ibiblio.org/hyperwar/USMC/III/index...</td>\n",
       "      <td>webpage</td>\n",
       "      <td>hyperwar: usmc operations in wwii: vol iii--ce...</td>\n",
       "      <td>None</td>\n",
       "      <td>None</td>\n",
       "      <td>NaN</td>\n",
       "      <td>www.ibiblio.org</td>\n",
       "      <td>Cite book</td>\n",
       "      <td>[book, manuscript]</td>\n",
       "      <td>...</td>\n",
       "      <td>0.61</td>\n",
       "      <td>0</td>\n",
       "      <td>0.13</td>\n",
       "      <td>0.0</td>\n",
       "      <td>0.0</td>\n",
       "      <td>0.0</td>\n",
       "      <td>0</td>\n",
       "      <td>www.ibiblio.org</td>\n",
       "      <td>166</td>\n",
       "      <td>1.493976</td>\n",
       "    </tr>\n",
       "  </tbody>\n",
       "</table>\n",
       "<p>5 rows × 29 columns</p>\n",
       "</div>"
      ],
      "text/plain": [
       "                                                     url  \\\n",
       "22208  https://www.telegraph.co.uk/culture/tvandradio...   \n",
       "24204  https://www.eurogamer.net/articles/2016-11-11-...   \n",
       "47332  https://www.npr.org/templates/story/story.php?...   \n",
       "88461            http://www.rsssf.com/tablesa/arg75.html   \n",
       "6068   http://www.ibiblio.org/hyperwar/USMC/III/index...   \n",
       "\n",
       "                                              url_citoid source_type_citoid  \\\n",
       "22208  https://www.telegraph.co.uk/culture/tvandradio...            webpage   \n",
       "24204  https://www.eurogamer.net/articles/2016-11-11-...   newspaperArticle   \n",
       "47332  https://www.npr.org/templates/story/story.php?...   newspaperArticle   \n",
       "88461            http://www.rsssf.com/tablesa/arg75.html            webpage   \n",
       "6068   http://www.ibiblio.org/hyperwar/USMC/III/index...            webpage   \n",
       "\n",
       "                                            title_citoid author_first_citoid  \\\n",
       "22208  imo and ben: a new radio drama that shows the ...                None   \n",
       "24204  dishonored 2 developer's pro-tips are really u...                None   \n",
       "47332                 passengers treated for hypothermia                None   \n",
       "88461                                     argentina 1975                None   \n",
       "6068   hyperwar: usmc operations in wwii: vol iii--ce...                None   \n",
       "\n",
       "      author_last_citoid pub_date_citoid    pub_source_citoid  \\\n",
       "22208               None             NaN  www.telegraph.co.uk   \n",
       "24204               None      2016-11-11        eurogamer.net   \n",
       "47332               None             NaN              npr.org   \n",
       "88461               None             NaN        www.rsssf.com   \n",
       "6068                None             NaN      www.ibiblio.org   \n",
       "\n",
       "      citation_template                                 source_type_manual  \\\n",
       "22208         cite news                [magazineArticle, newspaperArticle]   \n",
       "24204         citar web              [blogPost, email, forumPost, webpage]   \n",
       "47332          Lien web  [blogPost, email, forumPost, podcast, videoRec...   \n",
       "88461          Cita web              [blogPost, email, forumPost, webpage]   \n",
       "6068          Cite book                                 [book, manuscript]   \n",
       "\n",
       "       ... comp_title comp_source_type comp_pub_source comp_pub_date  \\\n",
       "22208  ...       1.00                0            0.00           0.0   \n",
       "24204  ...       1.00                0            0.69           1.0   \n",
       "47332  ...       1.00                0            0.64           0.0   \n",
       "88461  ...       0.36                1            0.38           1.0   \n",
       "6068   ...       0.61                0            0.13           0.0   \n",
       "\n",
       "      comp_author_first comp_author_last  citoid_success               domain  \\\n",
       "22208               0.0              0.0               1  www.telegraph.co.uk   \n",
       "24204               1.0              0.0               3    www.eurogamer.net   \n",
       "47332               1.0              0.0               2          www.npr.org   \n",
       "88461               0.0              0.0               2        www.rsssf.com   \n",
       "6068                0.0              0.0               0      www.ibiblio.org   \n",
       "\n",
       "      domain_counts  domain_score  \n",
       "22208          1116      2.226703  \n",
       "24204           785      2.155414  \n",
       "47332           248      2.572581  \n",
       "88461           852      3.150235  \n",
       "6068            166      1.493976  \n",
       "\n",
       "[5 rows x 29 columns]"
      ]
     },
     "execution_count": 129,
     "metadata": {},
     "output_type": "execute_result"
    }
   ],
   "source": [
    "## Test rows: complete data, missing data, author_last only and several authors\n",
    "test_rows = [22208, 24204, 47332, 88461, 6068]\n",
    "citations4conf.loc[test_rows]"
   ]
  },
  {
   "cell_type": "code",
   "execution_count": 63,
   "id": "eb1753d2-b30b-49e3-a501-45bda4493e02",
   "metadata": {},
   "outputs": [],
   "source": [
    "#citations4conf.loc[3915].title_manual"
   ]
  },
  {
   "cell_type": "markdown",
   "id": "b6e1e38f-b38a-41c7-aa85-36dd4f67f089",
   "metadata": {},
   "source": [
    "## Build config files\n",
    "\n",
    "* If we do not have metadata for a field in our selected citations (\"[]\" or None), we exclude the field from the configuration file\n",
    "* We only include itemType metadata if there is an exact match between Citoid's response and the manual citation\n",
    "* For title and date fields, only one value is admitted in the configuration file. If we have more than one value in our selection, include the exact match\n",
    "* For authorLast and authorFirst, if we have metada, we map it directly"
   ]
  },
  {
   "cell_type": "code",
   "execution_count": 95,
   "id": "122173bc-7c05-4f6e-9641-0fe496bba6d2",
   "metadata": {},
   "outputs": [
    {
     "ename": "IndentationError",
     "evalue": "expected an indented block (<ipython-input-95-0342de29b1b2>, line 36)",
     "output_type": "error",
     "traceback": [
      "\u001b[0;36m  File \u001b[0;32m\"<ipython-input-95-0342de29b1b2>\"\u001b[0;36m, line \u001b[0;32m36\u001b[0m\n\u001b[0;31m    else:\u001b[0m\n\u001b[0m       ^\u001b[0m\n\u001b[0;31mIndentationError\u001b[0m\u001b[0;31m:\u001b[0m expected an indented block\n"
     ]
    }
   ],
   "source": [
    "## map evaluation fieldnames to w2c fieldnames\n",
    "eval_w2c = {\n",
    "    'source_type_manual':'itemType',\n",
    "    'title_manual': 'title',\n",
    "    'author_first_manual': 'authorFirst',\n",
    "    'author_last_manual': 'authorLast', \n",
    "    'pub_date_manual': 'date',\n",
    "}\n",
    "\n",
    "def add_field(d, fieldname, row):\n",
    "    el = {\"fieldname\": eval_w2c[fieldname]}\n",
    "    el[\"goal\"] = row[fieldname]\n",
    "    d[\"fields\"].append(el)\n",
    "    return d\n",
    "\n",
    "\n",
    "def row_to_json(row):\n",
    "    '''\n",
    "    Transforms row from evaluation df to w2c configuration file\n",
    "    input: row\n",
    "    output: json\n",
    "    '''\n",
    "    d = {}\n",
    "    d[\"path\"] = urlparse(row[\"url\"]).path\n",
    "    d[\"fields\"] = []\n",
    "            \n",
    "    for fieldname in ['source_type_manual','title_manual','author_first_manual','author_last_manual', 'pub_date_manual']:\n",
    "        if row[fieldname]:\n",
    "            if fieldname == 'author_first_manual' or fieldname == 'author_last_manual':\n",
    "                add_field(d, fieldname, row)\n",
    "            else:\n",
    "                if len(row[fieldname]) > 1:\n",
    "                    name = fieldname.replace(\"_manual\", \"\")\n",
    "                    if row[f\"comp_{name}\"] == 1:\n",
    "                        ## compare with citoid data and keep match\n",
    "                        ## source_type tomarlo cuando el mapeo es a un solo valor (thesis y cite patent)\n",
    "                else:\n",
    "                    add_field(d, fieldname, row)\n",
    "        ## else:\n",
    "        ## do not add fieldname to config file\n",
    "    return d"
   ]
  },
  {
   "cell_type": "code",
   "execution_count": 64,
   "id": "a7d34a7b-9a4d-48d3-943c-3e720dd96ac8",
   "metadata": {},
   "outputs": [],
   "source": [
    "for ix, row in citations4conf.iterrows():\n",
    "    el = row_to_json_element(row)\n",
    "    domain = urlparse(row[\"url\"]).netloc\n",
    "    revdomain = \"/\".join(domain.split(\".\")[::-1])\n",
    "    fp = f\"data/config_files/{revdomain}.tests.json\"\n",
    "    \n",
    "    if not os.path.isfile(fp):\n",
    "        fp = f\"data/config_files/{domain}.tests.json\"\n",
    "        ## Add 2nd config\n",
    "        \n",
    "    with open(fp, \"w\") as fo:\n",
    "        json.dump(el, fo, indent=4)"
   ]
  },
  {
   "cell_type": "code",
   "execution_count": null,
   "id": "0a4a89d6-74e5-4d2f-ab75-8fdf0e7b05bf",
   "metadata": {},
   "outputs": [],
   "source": []
  },
  {
   "cell_type": "code",
   "execution_count": null,
   "id": "580f551b-8004-445e-b198-04a9b4d59d93",
   "metadata": {},
   "outputs": [],
   "source": []
  },
  {
   "cell_type": "code",
   "execution_count": null,
   "id": "ac2f455c-e735-47f9-8b9f-f63a3d3fbbf8",
   "metadata": {},
   "outputs": [],
   "source": []
  },
  {
   "cell_type": "code",
   "execution_count": null,
   "id": "a722f5bf-3984-4393-a235-2f366e272fe0",
   "metadata": {},
   "outputs": [],
   "source": []
  },
  {
   "cell_type": "code",
   "execution_count": null,
   "id": "5fae966b-7b37-429d-ac62-f3a2be173a0a",
   "metadata": {},
   "outputs": [],
   "source": []
  },
  {
   "cell_type": "code",
   "execution_count": null,
   "id": "85cbd356-517e-4896-98c2-9856b94a5aa1",
   "metadata": {},
   "outputs": [],
   "source": []
  },
  {
   "cell_type": "code",
   "execution_count": null,
   "id": "3398cd96-02df-4a92-9670-9310ae9bb8a6",
   "metadata": {},
   "outputs": [],
   "source": []
  },
  {
   "cell_type": "code",
   "execution_count": null,
   "id": "918639e8-97af-4132-9b50-09c7c893d0bd",
   "metadata": {},
   "outputs": [],
   "source": []
  },
  {
   "cell_type": "code",
   "execution_count": null,
   "id": "bf3fce07-9936-4337-bb05-241d19a205b3",
   "metadata": {},
   "outputs": [],
   "source": []
  },
  {
   "cell_type": "code",
   "execution_count": null,
   "id": "6f56b8f5-bca9-4813-b7bc-cd14d87875dc",
   "metadata": {},
   "outputs": [],
   "source": []
  },
  {
   "cell_type": "code",
   "execution_count": null,
   "id": "be0fa4b6-0630-4750-89bb-cd14e71addf7",
   "metadata": {},
   "outputs": [],
   "source": []
  },
  {
   "cell_type": "code",
   "execution_count": null,
   "id": "27dfa293-48d3-4a96-a62d-15bf9cb317f1",
   "metadata": {},
   "outputs": [],
   "source": []
  },
  {
   "cell_type": "code",
   "execution_count": 63,
   "id": "790b65c2-f88e-484f-b5cf-5827722c8e27",
   "metadata": {},
   "outputs": [
    {
     "name": "stdout",
     "output_type": "stream",
     "text": [
      "{'fields': [{'fieldname': 'title',\n",
      "             'goal': ['Why Thatgamecompany nearly fell apart after releasing '\n",
      "                      'Journey – and what’s next for the studio']},\n",
      "            {'fieldname': 'authorFirst', 'goal': ['Neil']},\n",
      "            {'fieldname': 'authorLast', 'goal': ['Long']},\n",
      "            {'fieldname': 'date', 'goal': ['2013-05-30']}],\n",
      " 'path': '/features/why-thatgamecompany-nearly-fell-apart-after-releasing-journey-and-whats-next-for-the-studio/'}\n",
      "{'fields': [{'fieldname': 'title',\n",
      "             'goal': ['Kids See Ghosts by Kids See Ghosts Kanye West Kid '\n",
      "                      'Cudi']}],\n",
      " 'path': '/KIDS-GHOSTS-Kanye-West-Cudi/dp/B07F2QSSLR'}\n",
      "{'fields': [{'fieldname': 'title',\n",
      "             'goal': ['Les guerres parthiques de Démétrios II et Antiochos VII '\n",
      "                      'dans les sources gréco-romaines, de Posidonios à '\n",
      "                      'Trogue/Justin']},\n",
      "            {'fieldname': 'authorFirst', 'goal': ['Charlotte']},\n",
      "            {'fieldname': 'authorLast', 'goal': ['Lerouge-Cohen']},\n",
      "            {'fieldname': 'date', 'goal': ['2005']}],\n",
      " 'path': '/doc/jds_0021-8103_2005_num_2_1_1694'}\n",
      "{'fields': [{'fieldname': 'title',\n",
      "             'goal': ['Remembering Irene Pons: Oldest living Amador graduate, '\n",
      "                      'Pleasanton native dies at 97']},\n",
      "            {'fieldname': 'authorLast', 'goal': ['Pelletier, Janet']},\n",
      "            {'fieldname': 'date', 'goal': ['2007-10-12']}],\n",
      " 'path': '/news/2007/10/12/remembering-irene-pons'}\n",
      "{'fields': [{'fieldname': 'title',\n",
      "             'goal': ['Resurrecting the phoenix: When an assay fails']},\n",
      "            {'fieldname': 'authorFirst',\n",
      "             'goal': ['Bharath', 'Vasudev', 'James']},\n",
      "            {'fieldname': 'authorLast',\n",
      "             'goal': ['Srinivasan', 'Kantae', 'Robinson']},\n",
      "            {'fieldname': 'date', 'goal': ['2020-04-13']}],\n",
      " 'path': '/10.1002/med.21670'}\n"
     ]
    }
   ],
   "source": [
    "## Prueba con filas seleccionadas\n",
    "\n",
    "for ix, row in config_data.loc[test_rows].iterrows():\n",
    "    el = row_to_json_element(row)\n",
    "    pprint(el)     "
   ]
  },
  {
   "cell_type": "code",
   "execution_count": null,
   "id": "f97c5de2-bddd-4602-89db-7ce317ca1b01",
   "metadata": {},
   "outputs": [],
   "source": []
  },
  {
   "cell_type": "code",
   "execution_count": 111,
   "id": "fb0b429b-7b11-4e17-ae82-fa2610eff22c",
   "metadata": {},
   "outputs": [
    {
     "name": "stdout",
     "output_type": "stream",
     "text": [
      "{\n",
      "    \"path\": \"/mundo/eua-ira-seis-decadas-de-relacoes-instaveis-3381014\",\n",
      "    \"fields\": [\n",
      "        {\n",
      "            \"fieldname\": \"title\",\n",
      "            \"goal\": [\n",
      "                \"EUA e Ir\\u00e3: seis d\\u00e9cadas de rela\\u00e7\\u00f5es inst\\u00e1veis\"\n",
      "            ]\n",
      "        },\n",
      "        {\n",
      "            \"fieldname\": \"date\",\n",
      "            \"goal\": [\n",
      "                \"2011-12-04\"\n",
      "            ]\n",
      "        }\n",
      "    ]\n",
      "}"
     ]
    }
   ],
   "source": [
    "## Check results\n",
    "#! cat data/config_files/www.wired.co.uk.tests.json\n",
    "#! cat data/config_files/www.vogue.com.tests.json ## Not found\n",
    "#! cat data/config_files/www.washingtonpost.com.tests.json\n",
    "# ! cat data/config_files/www.theguardian.com.tests.json\n",
    "#! cat data/config_files/www.scielo.br.tests.json\n",
    "#! cat data/config_files/www.lefigaro.fr.tests.json\n",
    "#! cat data/config_files/www.japantimes.co.jp.tests.json\n",
    "#! cat data/config_files/www.elespectador.com.tests.json\n",
    "#! cat data/config_files/www.cervantesvirtual.com.tests.json\n",
    "! cat data/config_files/oglobo.globo.com.tests.json"
   ]
  },
  {
   "cell_type": "code",
   "execution_count": 115,
   "id": "66194b5c-0f23-47d4-ad69-86e6e00207de",
   "metadata": {},
   "outputs": [
    {
     "data": {
      "text/html": [
       "<div>\n",
       "<style scoped>\n",
       "    .dataframe tbody tr th:only-of-type {\n",
       "        vertical-align: middle;\n",
       "    }\n",
       "\n",
       "    .dataframe tbody tr th {\n",
       "        vertical-align: top;\n",
       "    }\n",
       "\n",
       "    .dataframe thead th {\n",
       "        text-align: right;\n",
       "    }\n",
       "</style>\n",
       "<table border=\"1\" class=\"dataframe\">\n",
       "  <thead>\n",
       "    <tr style=\"text-align: right;\">\n",
       "      <th></th>\n",
       "      <th>title</th>\n",
       "      <th>author_last</th>\n",
       "      <th>author_first</th>\n",
       "      <th>pub_date</th>\n",
       "      <th>pub_date_only_year</th>\n",
       "    </tr>\n",
       "    <tr>\n",
       "      <th>url</th>\n",
       "      <th></th>\n",
       "      <th></th>\n",
       "      <th></th>\n",
       "      <th></th>\n",
       "      <th></th>\n",
       "    </tr>\n",
       "  </thead>\n",
       "  <tbody>\n",
       "    <tr>\n",
       "      <th>https://www.lefigaro.fr/flash-actu/2012/05/21/97001-20120521FILWWW00759-r-garros-seles-et-wilander-a-l-honneur.php</th>\n",
       "      <td>[Roland-Garros : Seles et Wilander à l'honneur]</td>\n",
       "      <td>[]</td>\n",
       "      <td>[]</td>\n",
       "      <td>[2012]</td>\n",
       "      <td>[2012]</td>\n",
       "    </tr>\n",
       "  </tbody>\n",
       "</table>\n",
       "</div>"
      ],
      "text/plain": [
       "                                                                                              title  \\\n",
       "url                                                                                                   \n",
       "https://www.lefigaro.fr/flash-actu/2012/05/21/9...  [Roland-Garros : Seles et Wilander à l'honneur]   \n",
       "\n",
       "                                                   author_last author_first  \\\n",
       "url                                                                           \n",
       "https://www.lefigaro.fr/flash-actu/2012/05/21/9...          []           []   \n",
       "\n",
       "                                                   pub_date pub_date_only_year  \n",
       "url                                                                             \n",
       "https://www.lefigaro.fr/flash-actu/2012/05/21/9...   [2012]             [2012]  "
      ]
     },
     "execution_count": 115,
     "metadata": {},
     "output_type": "execute_result"
    }
   ],
   "source": [
    "def find_row_in_manual_data(col, title):\n",
    "    if title in col:\n",
    "        return True\n",
    "    else:\n",
    "        return False\n",
    "    \n",
    "#find_title(['ASAMBLEA GENERAL CONSTITUYENTE - Sesión del 12 de marzo de 1813', 'Final Fantasy'], \"ASAMBLEA GENERAL CONSTITUYENTE - Sesión del 12 de marzo de 1813\")\n",
    "\n",
    "field = \"Roland-Garros : Seles et Wilander à l'honneur\"\n",
    "\n",
    "mask = manual_before_preproc.apply(\n",
    "    lambda row: find_row_in_manual_data(row['title'], field), \n",
    "    axis=1)                         \n",
    "\n",
    "manual_before_preproc[mask]"
   ]
  },
  {
   "cell_type": "markdown",
   "id": "be0c8b33-033b-4636-aa8e-f31514d70972",
   "metadata": {},
   "source": [
    "Pruebas en monitor\n",
    "\n",
    "1. https://www.wired.co.uk/article/final-fantasy-vii-comes-to-ios\n",
    "2. http://www.vogue.com/magazine/article/michelle-williams-my-week-with-michelle/ ## URL not found\n",
    "3. https://www.washingtonpost.com/wp-srv/local/longterm/library/dc/mismanage/manage20.htm\n",
    "4. https://www.theguardian.com/uk-news/2014/jul/22/richard-iii-visitor-centre-leicester ## prueba bastante lenta\n",
    "5. http://www.scielo.br/scielo.php?pid=S0021-75572003000700013&script=sci_arttext ## mi detección del path está incompleta\n",
    "6. https://www.lefigaro.fr/flash-actu/2012/05/21/97001-20120521FILWWW00759-r-garros-seles-et-wilander-a-l-honneur.php ## el config es más incompleto que el default\n",
    "7. http://www.japantimes.co.jp/news/2014/08/12/national/japan-chooses-boeing-777-300er-governments-official-jet/ ## article expired\n",
    "8. https://www.elespectador.com/entretenimiento/cine-y-tv/el-espectador-gana-premio-internacional-miguel-hernandez-127852/\n",
    "9. http://www.cervantesvirtual.com/servlet/SirveObras/34693958761247208143679/index.htm\n",
    "10. http://oglobo.globo.com/mundo/eua-ira-seis-decadas-de-relacoes-instaveis-3381014 ## "
   ]
  },
  {
   "cell_type": "code",
   "execution_count": null,
   "id": "e9f821e6-eac1-4a84-aa0a-660dd53790cb",
   "metadata": {},
   "outputs": [],
   "source": []
  },
  {
   "cell_type": "code",
   "execution_count": null,
   "id": "ba470a17-17d2-4a65-80c3-3523b4673465",
   "metadata": {},
   "outputs": [],
   "source": []
  },
  {
   "cell_type": "code",
   "execution_count": null,
   "id": "4ba63fe9-c8f6-4984-b56d-48ca71f2a421",
   "metadata": {},
   "outputs": [],
   "source": []
  },
  {
   "cell_type": "code",
   "execution_count": null,
   "id": "042d832e-0d64-43f9-af16-dce89981e5c6",
   "metadata": {},
   "outputs": [],
   "source": []
  },
  {
   "cell_type": "code",
   "execution_count": null,
   "id": "02094185-7454-47e7-bd94-7a5ae2680a06",
   "metadata": {},
   "outputs": [],
   "source": []
  },
  {
   "cell_type": "code",
   "execution_count": null,
   "id": "b9f0e6a5-8fc9-4f4b-aa16-67a476d6c40d",
   "metadata": {},
   "outputs": [],
   "source": []
  },
  {
   "cell_type": "code",
   "execution_count": null,
   "id": "bb9ea9f3-1332-4265-8421-5de6063cb54f",
   "metadata": {},
   "outputs": [],
   "source": []
  },
  {
   "cell_type": "code",
   "execution_count": null,
   "id": "ee55cfc5-3018-4e34-96b7-19d6403b0e7f",
   "metadata": {},
   "outputs": [],
   "source": []
  },
  {
   "cell_type": "code",
   "execution_count": null,
   "id": "62cd32d3-9da3-49f7-a720-a7ac9c3b7a77",
   "metadata": {},
   "outputs": [],
   "source": []
  }
 ],
 "metadata": {
  "kernelspec": {
   "display_name": "web2cit",
   "language": "python",
   "name": "web2cit"
  },
  "language_info": {
   "codemirror_mode": {
    "name": "ipython",
    "version": 3
   },
   "file_extension": ".py",
   "mimetype": "text/x-python",
   "name": "python",
   "nbconvert_exporter": "python",
   "pygments_lexer": "ipython3",
   "version": "3.7.6"
  }
 },
 "nbformat": 4,
 "nbformat_minor": 5
}
