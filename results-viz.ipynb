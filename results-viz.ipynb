{
 "cells": [
  {
   "cell_type": "markdown",
   "metadata": {},
   "source": [
    "# Visualize Citoid evaluation results\n",
    "\n",
    "This is an interactive notebook that allows to consult the results of the evaluation of [Citoid](https://www.mediawiki.org/wiki/Citoid) for the [Web2Cit-Research](https://meta.wikimedia.org/wiki/Web2Cit/Research) project.\n",
    "\n",
    "__Usage:__\n",
    "\n",
    "First, run the cells to load the data and the functions. Then, interact with the widgets to visualize plots and samples.\n",
    "\n",
    "__Author:__\n",
    "\n",
    "* Nidia Hernández, [nidiahernandez@conicet.gov.ar](mailto:nidiahy@gmail.com), [CAICYT-CONICET](http://www.caicyt-conicet.gov.ar/sitio/) (Argentina)\n",
    "\n",
    "\n",
    "## Table of Contents\n",
    "\n",
    "0. Load evaluation results \n",
    "1. Show samples of best, middle and low scores\n",
    "2. Strict vs relaxed scores\n",
    "3. Filter by language\n",
    "4. Filter by field\n",
    "5. Results by domain"
   ]
  },
  {
   "cell_type": "code",
   "execution_count": 2,
   "metadata": {
    "collapsed": true,
    "jupyter": {
     "outputs_hidden": true
    },
    "tags": []
   },
   "outputs": [
    {
     "name": "stderr",
     "output_type": "stream",
     "text": [
      "In /home/yoki/anaconda3/lib/python3.7/site-packages/matplotlib/mpl-data/stylelib/_classic_test.mplstyle: \n",
      "The text.latex.preview rcparam was deprecated in Matplotlib 3.3 and will be removed two minor releases later.\n",
      "In /home/yoki/anaconda3/lib/python3.7/site-packages/matplotlib/mpl-data/stylelib/_classic_test.mplstyle: \n",
      "The mathtext.fallback_to_cm rcparam was deprecated in Matplotlib 3.3 and will be removed two minor releases later.\n",
      "In /home/yoki/anaconda3/lib/python3.7/site-packages/matplotlib/mpl-data/stylelib/_classic_test.mplstyle: Support for setting the 'mathtext.fallback_to_cm' rcParam is deprecated since 3.3 and will be removed two minor releases later; use 'mathtext.fallback : 'cm' instead.\n",
      "In /home/yoki/anaconda3/lib/python3.7/site-packages/matplotlib/mpl-data/stylelib/_classic_test.mplstyle: \n",
      "The validate_bool_maybe_none function was deprecated in Matplotlib 3.3 and will be removed two minor releases later.\n",
      "In /home/yoki/anaconda3/lib/python3.7/site-packages/matplotlib/mpl-data/stylelib/_classic_test.mplstyle: \n",
      "The savefig.jpeg_quality rcparam was deprecated in Matplotlib 3.3 and will be removed two minor releases later.\n",
      "In /home/yoki/anaconda3/lib/python3.7/site-packages/matplotlib/mpl-data/stylelib/_classic_test.mplstyle: \n",
      "The keymap.all_axes rcparam was deprecated in Matplotlib 3.3 and will be removed two minor releases later.\n",
      "In /home/yoki/anaconda3/lib/python3.7/site-packages/matplotlib/mpl-data/stylelib/_classic_test.mplstyle: \n",
      "The animation.avconv_path rcparam was deprecated in Matplotlib 3.3 and will be removed two minor releases later.\n",
      "In /home/yoki/anaconda3/lib/python3.7/site-packages/matplotlib/mpl-data/stylelib/_classic_test.mplstyle: \n",
      "The animation.avconv_args rcparam was deprecated in Matplotlib 3.3 and will be removed two minor releases later.\n"
     ]
    }
   ],
   "source": [
    "import os\n",
    "import pandas as pd\n",
    "import gzip\n",
    "from glob import glob\n",
    "from pprint import pprint\n",
    "import numpy as np\n",
    "\n",
    "import matplotlib.pyplot as plt\n",
    "import seaborn as sns\n",
    "from ipywidgets import interact, interactive, fixed, interact_manual\n",
    "import ipywidgets as widgets"
   ]
  },
  {
   "cell_type": "markdown",
   "metadata": {},
   "source": [
    "## 0. Load evaluation results\n",
    "\n",
    "We have evaluated 321k citations, comparing the metadata returned by Citoid with the metadata of a manual citation for the following information: source type, title, author (first name(s) and last names(s)), publishig source and publishing date. \n",
    "\n",
    "The results of the comparison are in the columns beginning with the prefix \"comp_\"."
   ]
  },
  {
   "cell_type": "code",
   "execution_count": 3,
   "metadata": {},
   "outputs": [],
   "source": [
    "results = pd.read_csv(\"eval/eval_all_citations.csv.gz\")"
   ]
  },
  {
   "cell_type": "code",
   "execution_count": 4,
   "metadata": {},
   "outputs": [
    {
     "data": {
      "text/plain": [
       "(91338, 25)"
      ]
     },
     "execution_count": 4,
     "metadata": {},
     "output_type": "execute_result"
    }
   ],
   "source": [
    "results.shape"
   ]
  },
  {
   "cell_type": "code",
   "execution_count": 5,
   "metadata": {},
   "outputs": [
    {
     "data": {
      "text/html": [
       "<div>\n",
       "<style scoped>\n",
       "    .dataframe tbody tr th:only-of-type {\n",
       "        vertical-align: middle;\n",
       "    }\n",
       "\n",
       "    .dataframe tbody tr th {\n",
       "        vertical-align: top;\n",
       "    }\n",
       "\n",
       "    .dataframe thead th {\n",
       "        text-align: right;\n",
       "    }\n",
       "</style>\n",
       "<table border=\"1\" class=\"dataframe\">\n",
       "  <thead>\n",
       "    <tr style=\"text-align: right;\">\n",
       "      <th></th>\n",
       "      <th>url</th>\n",
       "      <th>url_citoid</th>\n",
       "      <th>source_type_citoid</th>\n",
       "      <th>title_citoid</th>\n",
       "      <th>author_first_citoid</th>\n",
       "      <th>author_last_citoid</th>\n",
       "      <th>pub_date_citoid</th>\n",
       "      <th>pub_source_citoid</th>\n",
       "      <th>citation_template</th>\n",
       "      <th>source_type_manual</th>\n",
       "      <th>...</th>\n",
       "      <th>article_url</th>\n",
       "      <th>page_id</th>\n",
       "      <th>revid</th>\n",
       "      <th>wiki_lang</th>\n",
       "      <th>comp_title</th>\n",
       "      <th>comp_source_type</th>\n",
       "      <th>comp_pub_source</th>\n",
       "      <th>comp_pub_date</th>\n",
       "      <th>comp_author_first</th>\n",
       "      <th>comp_author_last</th>\n",
       "    </tr>\n",
       "  </thead>\n",
       "  <tbody>\n",
       "    <tr>\n",
       "      <th>0</th>\n",
       "      <td>https://www.theage.com.au/entertainment/movies...</td>\n",
       "      <td>https://www.theage.com.au/entertainment/movies...</td>\n",
       "      <td>webpage</td>\n",
       "      <td>bollywood on bourke street</td>\n",
       "      <td>NaN</td>\n",
       "      <td>NaN</td>\n",
       "      <td>2005-05-13</td>\n",
       "      <td>the age</td>\n",
       "      <td>cite news</td>\n",
       "      <td>['magazineArticle', 'newspaperArticle']</td>\n",
       "      <td>...</td>\n",
       "      <td>https://en.wikipedia.org/wiki/Preity%20Zinta</td>\n",
       "      <td>415405</td>\n",
       "      <td>1070334117</td>\n",
       "      <td>en</td>\n",
       "      <td>1.00</td>\n",
       "      <td>0</td>\n",
       "      <td>0.00</td>\n",
       "      <td>1.0</td>\n",
       "      <td>1.0</td>\n",
       "      <td>0.00</td>\n",
       "    </tr>\n",
       "    <tr>\n",
       "      <th>1</th>\n",
       "      <td>https://books.google.com/books?id=QSwEAAAAMBAJ...</td>\n",
       "      <td>https://books.google.com/books?id=QSwEAAAAMBAJ...</td>\n",
       "      <td>book</td>\n",
       "      <td>vibe</td>\n",
       "      <td>['vibe media']</td>\n",
       "      <td>['group']</td>\n",
       "      <td>1997-01</td>\n",
       "      <td>vibe media group</td>\n",
       "      <td>cite magazine</td>\n",
       "      <td>[]</td>\n",
       "      <td>...</td>\n",
       "      <td>https://en.wikipedia.org/wiki/House%20of%20Music</td>\n",
       "      <td>18386478</td>\n",
       "      <td>1053326252</td>\n",
       "      <td>en</td>\n",
       "      <td>0.05</td>\n",
       "      <td>0</td>\n",
       "      <td>1.00</td>\n",
       "      <td>0.0</td>\n",
       "      <td>0.2</td>\n",
       "      <td>0.12</td>\n",
       "    </tr>\n",
       "    <tr>\n",
       "      <th>2</th>\n",
       "      <td>https://www.ecaho.org/about-ecaho/about-us</td>\n",
       "      <td>https://www.ecaho.org/about-ecaho/about-us</td>\n",
       "      <td>webpage</td>\n",
       "      <td>about ecaho - ecaho</td>\n",
       "      <td>NaN</td>\n",
       "      <td>NaN</td>\n",
       "      <td>NaN</td>\n",
       "      <td>www.ecaho.org</td>\n",
       "      <td>Lien web</td>\n",
       "      <td>['blogPost', 'email', 'forumPost', 'podcast', ...</td>\n",
       "      <td>...</td>\n",
       "      <td>https://fr.wikipedia.org/wiki/Arabe%20%28cheva...</td>\n",
       "      <td>354491</td>\n",
       "      <td>186027366</td>\n",
       "      <td>fr</td>\n",
       "      <td>0.58</td>\n",
       "      <td>1</td>\n",
       "      <td>1.00</td>\n",
       "      <td>1.0</td>\n",
       "      <td>1.0</td>\n",
       "      <td>1.00</td>\n",
       "    </tr>\n",
       "    <tr>\n",
       "      <th>3</th>\n",
       "      <td>https://www.gq.com/story/pacific-rim-uprising-...</td>\n",
       "      <td>https://www.gq.com/story/pacific-rim-uprising-...</td>\n",
       "      <td>webpage</td>\n",
       "      <td>the 'pacific rim uprising' director tells us a...</td>\n",
       "      <td>['conde']</td>\n",
       "      <td>['nast']</td>\n",
       "      <td>2018-03-23</td>\n",
       "      <td>gq</td>\n",
       "      <td>cite web</td>\n",
       "      <td>['blogPost', 'email', 'forumPost', 'webpage']</td>\n",
       "      <td>...</td>\n",
       "      <td>https://en.wikipedia.org/wiki/The%20Thing%20%2...</td>\n",
       "      <td>30809</td>\n",
       "      <td>1070729737</td>\n",
       "      <td>en</td>\n",
       "      <td>0.22</td>\n",
       "      <td>1</td>\n",
       "      <td>1.00</td>\n",
       "      <td>1.0</td>\n",
       "      <td>0.2</td>\n",
       "      <td>0.17</td>\n",
       "    </tr>\n",
       "    <tr>\n",
       "      <th>4</th>\n",
       "      <td>http://bgtfans.com/2013/fifth-falcons-fury-tow...</td>\n",
       "      <td>http://bgtfans.com/2013/fifth-falcons-fury-tow...</td>\n",
       "      <td>webpage</td>\n",
       "      <td>NaN</td>\n",
       "      <td>NaN</td>\n",
       "      <td>NaN</td>\n",
       "      <td>NaN</td>\n",
       "      <td>bgtfans.com</td>\n",
       "      <td>cite web</td>\n",
       "      <td>['blogPost', 'email', 'forumPost', 'webpage']</td>\n",
       "      <td>...</td>\n",
       "      <td>https://en.wikipedia.org/wiki/Falcon%27s%20Fury</td>\n",
       "      <td>39650109</td>\n",
       "      <td>1055267199</td>\n",
       "      <td>en</td>\n",
       "      <td>0.00</td>\n",
       "      <td>1</td>\n",
       "      <td>0.55</td>\n",
       "      <td>0.0</td>\n",
       "      <td>1.0</td>\n",
       "      <td>1.00</td>\n",
       "    </tr>\n",
       "  </tbody>\n",
       "</table>\n",
       "<p>5 rows × 25 columns</p>\n",
       "</div>"
      ],
      "text/plain": [
       "                                                 url  \\\n",
       "0  https://www.theage.com.au/entertainment/movies...   \n",
       "1  https://books.google.com/books?id=QSwEAAAAMBAJ...   \n",
       "2         https://www.ecaho.org/about-ecaho/about-us   \n",
       "3  https://www.gq.com/story/pacific-rim-uprising-...   \n",
       "4  http://bgtfans.com/2013/fifth-falcons-fury-tow...   \n",
       "\n",
       "                                          url_citoid source_type_citoid  \\\n",
       "0  https://www.theage.com.au/entertainment/movies...            webpage   \n",
       "1  https://books.google.com/books?id=QSwEAAAAMBAJ...               book   \n",
       "2         https://www.ecaho.org/about-ecaho/about-us            webpage   \n",
       "3  https://www.gq.com/story/pacific-rim-uprising-...            webpage   \n",
       "4  http://bgtfans.com/2013/fifth-falcons-fury-tow...            webpage   \n",
       "\n",
       "                                        title_citoid author_first_citoid  \\\n",
       "0                         bollywood on bourke street                 NaN   \n",
       "1                                               vibe      ['vibe media']   \n",
       "2                                about ecaho - ecaho                 NaN   \n",
       "3  the 'pacific rim uprising' director tells us a...           ['conde']   \n",
       "4                                                NaN                 NaN   \n",
       "\n",
       "  author_last_citoid pub_date_citoid pub_source_citoid citation_template  \\\n",
       "0                NaN      2005-05-13           the age         cite news   \n",
       "1          ['group']         1997-01  vibe media group     cite magazine   \n",
       "2                NaN             NaN     www.ecaho.org          Lien web   \n",
       "3           ['nast']      2018-03-23                gq          cite web   \n",
       "4                NaN             NaN       bgtfans.com          cite web   \n",
       "\n",
       "                                  source_type_manual  ...  \\\n",
       "0            ['magazineArticle', 'newspaperArticle']  ...   \n",
       "1                                                 []  ...   \n",
       "2  ['blogPost', 'email', 'forumPost', 'podcast', ...  ...   \n",
       "3      ['blogPost', 'email', 'forumPost', 'webpage']  ...   \n",
       "4      ['blogPost', 'email', 'forumPost', 'webpage']  ...   \n",
       "\n",
       "                                         article_url   page_id       revid  \\\n",
       "0       https://en.wikipedia.org/wiki/Preity%20Zinta    415405  1070334117   \n",
       "1   https://en.wikipedia.org/wiki/House%20of%20Music  18386478  1053326252   \n",
       "2  https://fr.wikipedia.org/wiki/Arabe%20%28cheva...    354491   186027366   \n",
       "3  https://en.wikipedia.org/wiki/The%20Thing%20%2...     30809  1070729737   \n",
       "4    https://en.wikipedia.org/wiki/Falcon%27s%20Fury  39650109  1055267199   \n",
       "\n",
       "  wiki_lang comp_title comp_source_type  comp_pub_source  comp_pub_date  \\\n",
       "0        en       1.00                0             0.00            1.0   \n",
       "1        en       0.05                0             1.00            0.0   \n",
       "2        fr       0.58                1             1.00            1.0   \n",
       "3        en       0.22                1             1.00            1.0   \n",
       "4        en       0.00                1             0.55            0.0   \n",
       "\n",
       "  comp_author_first  comp_author_last  \n",
       "0               1.0              0.00  \n",
       "1               0.2              0.12  \n",
       "2               1.0              1.00  \n",
       "3               0.2              0.17  \n",
       "4               1.0              1.00  \n",
       "\n",
       "[5 rows x 25 columns]"
      ]
     },
     "execution_count": 5,
     "metadata": {},
     "output_type": "execute_result"
    }
   ],
   "source": [
    "results.head()"
   ]
  },
  {
   "cell_type": "markdown",
   "metadata": {},
   "source": [
    "## 1. Show samples of best, middle and low scores\n",
    "\n",
    "In this section, you can inspect the data and the evaluation results filtered by fieldname. The first menu allows to select the number of samples to retrieve. The second menu, the field to consult. \n",
    "\n",
    "The output shows samples of data and scoring using a relaxed match: best scored cases appear on top (70-100% coincidence), middle scores in the center (40-70% coincidence) and low scores at the bottom (less than 40%). There response from Citoid is displayed at left, the attended response is at the center, and the score is presented at right."
   ]
  },
  {
   "cell_type": "code",
   "execution_count": 6,
   "metadata": {
    "tags": []
   },
   "outputs": [],
   "source": [
    "fieldnames = [\n",
    "    \"source_type\", \"title\",\n",
    "    \"author_first\", \"author_last\",\n",
    "    \"pub_source\", \"pub_date\",\n",
    "]"
   ]
  },
  {
   "cell_type": "code",
   "execution_count": 7,
   "metadata": {
    "tags": []
   },
   "outputs": [
    {
     "data": {
      "text/html": [
       "<div>\n",
       "<style scoped>\n",
       "    .dataframe tbody tr th:only-of-type {\n",
       "        vertical-align: middle;\n",
       "    }\n",
       "\n",
       "    .dataframe tbody tr th {\n",
       "        vertical-align: top;\n",
       "    }\n",
       "\n",
       "    .dataframe thead th {\n",
       "        text-align: right;\n",
       "    }\n",
       "</style>\n",
       "<table border=\"1\" class=\"dataframe\">\n",
       "  <thead>\n",
       "    <tr style=\"text-align: right;\">\n",
       "      <th></th>\n",
       "      <th>source_type_citoid</th>\n",
       "      <th>source_type_manual</th>\n",
       "      <th>comp_source_type</th>\n",
       "    </tr>\n",
       "  </thead>\n",
       "  <tbody>\n",
       "    <tr>\n",
       "      <th>36251</th>\n",
       "      <td>blogPost</td>\n",
       "      <td>['blogPost', 'email', 'forumPost', 'webpage']</td>\n",
       "      <td>1</td>\n",
       "    </tr>\n",
       "    <tr>\n",
       "      <th>52392</th>\n",
       "      <td>webpage</td>\n",
       "      <td>['blogPost', 'email', 'forumPost', 'webpage']</td>\n",
       "      <td>1</td>\n",
       "    </tr>\n",
       "    <tr>\n",
       "      <th>6789</th>\n",
       "      <td>webpage</td>\n",
       "      <td>['blogPost', 'email', 'forumPost', 'webpage']</td>\n",
       "      <td>1</td>\n",
       "    </tr>\n",
       "    <tr>\n",
       "      <th>45490</th>\n",
       "      <td>webpage</td>\n",
       "      <td>['blogPost', 'email', 'forumPost', 'webpage']</td>\n",
       "      <td>1</td>\n",
       "    </tr>\n",
       "    <tr>\n",
       "      <th>9818</th>\n",
       "      <td>webpage</td>\n",
       "      <td>['blogPost', 'email', 'forumPost', 'webpage']</td>\n",
       "      <td>1</td>\n",
       "    </tr>\n",
       "  </tbody>\n",
       "</table>\n",
       "</div>"
      ],
      "text/plain": [
       "      source_type_citoid                             source_type_manual  \\\n",
       "36251           blogPost  ['blogPost', 'email', 'forumPost', 'webpage']   \n",
       "52392            webpage  ['blogPost', 'email', 'forumPost', 'webpage']   \n",
       "6789             webpage  ['blogPost', 'email', 'forumPost', 'webpage']   \n",
       "45490            webpage  ['blogPost', 'email', 'forumPost', 'webpage']   \n",
       "9818             webpage  ['blogPost', 'email', 'forumPost', 'webpage']   \n",
       "\n",
       "       comp_source_type  \n",
       "36251                 1  \n",
       "52392                 1  \n",
       "6789                  1  \n",
       "45490                 1  \n",
       "9818                  1  "
      ]
     },
     "metadata": {},
     "output_type": "display_data"
    },
    {
     "data": {
      "text/html": [
       "<div>\n",
       "<style scoped>\n",
       "    .dataframe tbody tr th:only-of-type {\n",
       "        vertical-align: middle;\n",
       "    }\n",
       "\n",
       "    .dataframe tbody tr th {\n",
       "        vertical-align: top;\n",
       "    }\n",
       "\n",
       "    .dataframe thead th {\n",
       "        text-align: right;\n",
       "    }\n",
       "</style>\n",
       "<table border=\"1\" class=\"dataframe\">\n",
       "  <thead>\n",
       "    <tr style=\"text-align: right;\">\n",
       "      <th></th>\n",
       "      <th>source_type_citoid</th>\n",
       "      <th>source_type_manual</th>\n",
       "      <th>comp_source_type</th>\n",
       "    </tr>\n",
       "  </thead>\n",
       "  <tbody>\n",
       "    <tr>\n",
       "      <th>25494</th>\n",
       "      <td>webpage</td>\n",
       "      <td>['magazineArticle', 'newspaperArticle']</td>\n",
       "      <td>0</td>\n",
       "    </tr>\n",
       "    <tr>\n",
       "      <th>53391</th>\n",
       "      <td>journalArticle</td>\n",
       "      <td>['blogPost', 'email', 'forumPost', 'webpage']</td>\n",
       "      <td>0</td>\n",
       "    </tr>\n",
       "    <tr>\n",
       "      <th>30318</th>\n",
       "      <td>webpage</td>\n",
       "      <td>['magazineArticle', 'newspaperArticle']</td>\n",
       "      <td>0</td>\n",
       "    </tr>\n",
       "    <tr>\n",
       "      <th>69795</th>\n",
       "      <td>webpage</td>\n",
       "      <td>['magazineArticle', 'newspaperArticle']</td>\n",
       "      <td>0</td>\n",
       "    </tr>\n",
       "    <tr>\n",
       "      <th>9377</th>\n",
       "      <td>webpage</td>\n",
       "      <td>['magazineArticle', 'newspaperArticle']</td>\n",
       "      <td>0</td>\n",
       "    </tr>\n",
       "  </tbody>\n",
       "</table>\n",
       "</div>"
      ],
      "text/plain": [
       "      source_type_citoid                             source_type_manual  \\\n",
       "25494            webpage        ['magazineArticle', 'newspaperArticle']   \n",
       "53391     journalArticle  ['blogPost', 'email', 'forumPost', 'webpage']   \n",
       "30318            webpage        ['magazineArticle', 'newspaperArticle']   \n",
       "69795            webpage        ['magazineArticle', 'newspaperArticle']   \n",
       "9377             webpage        ['magazineArticle', 'newspaperArticle']   \n",
       "\n",
       "       comp_source_type  \n",
       "25494                 0  \n",
       "53391                 0  \n",
       "30318                 0  \n",
       "69795                 0  \n",
       "9377                  0  "
      ]
     },
     "metadata": {},
     "output_type": "display_data"
    },
    {
     "data": {
      "text/plain": [
       "<function __main__.show_samples(n, fieldname)>"
      ]
     },
     "execution_count": 7,
     "metadata": {},
     "output_type": "execute_result"
    }
   ],
   "source": [
    "pd.set_option(\"colwidth\", 200)\n",
    "\n",
    "def show_samples(n, fieldname):\n",
    "    discrete_scores = fieldname in [\"source_type\", \"pub_date\"]\n",
    "\n",
    "    best_max = 1 if discrete_scores else 0.9\n",
    "    \n",
    "    ## Best scores\n",
    "    display(results[\n",
    "        (0.7 < results[f\"comp_{fieldname}\"]) &\n",
    "        (results[f\"comp_{fieldname}\"] <= best_max) ## do not show None vs None cases\n",
    "    ][[f\"{fieldname}_citoid\", f\"{fieldname}_manual\", f\"comp_{fieldname}\"]].sample(n))\n",
    "\n",
    "    ## Mostrar el 0.7 de pub date!\n",
    "    if not discrete_scores:\n",
    "        ## Middle scores\n",
    "        display(results[\n",
    "            (0.4 < results[f\"comp_{fieldname}\"]) &\n",
    "            (results[f\"comp_{fieldname}\"] <= 0.7)\n",
    "        ][[f\"{fieldname}_citoid\", f\"{fieldname}_manual\", f\"comp_{fieldname}\"]].sample(n))\n",
    "\n",
    "    ## Low scores\n",
    "    display(results[\n",
    "        #(0.1 < results[f\"comp_{fieldname}\"]) & ## do not show all 0\n",
    "        (results[f\"comp_{fieldname}\"] < 0.4)\n",
    "    ][[f\"{fieldname}_citoid\", f\"{fieldname}_manual\", f\"comp_{fieldname}\"]].sample(n))\n",
    "    \n",
    "interact(show_samples, n=[5, 10, 15], fieldname=fieldnames)"
   ]
  },
  {
   "cell_type": "markdown",
   "metadata": {},
   "source": [
    "## 2. Strict vs window scoring\n",
    "\n",
    "In this section, you can inspect the proportion of each match type for each fieldname. You can select strict or window scoring. The strict scoring considers a fullmatch only for 100% coincidence and no match for 0% coincidence. The window scoring admits full match starting at 70% but considers no match from 40% to lower."
   ]
  },
  {
   "cell_type": "code",
   "execution_count": 8,
   "metadata": {
    "tags": []
   },
   "outputs": [],
   "source": [
    "## Strict scoring \n",
    "# full_match: 100% match (score == 1)\n",
    "# no_match: score == 0\n",
    "# partial_match: the rest\n",
    "\n",
    "rows = []\n",
    "\n",
    "total = len(results)\n",
    "\n",
    "for fieldname in fieldnames:\n",
    "    full_match = len(results[ results[f\"comp_{fieldname}\"] == 1 ])\n",
    "    no_match = len(results[ results[f\"comp_{fieldname}\"] == 0])\n",
    "    partial_match = total - full_match - no_match\n",
    "    \n",
    "    row = {\"full_match\":round(full_match/total,2), \"partial_match\":round(partial_match/total,2), \"no_match\": round(no_match/total,2)}\n",
    "    rows.append(row)\n",
    "    \n",
    "totals_strict = pd.DataFrame(rows)\n",
    "totals_strict.index = fieldnames\n",
    "\n",
    "#totals_strict"
   ]
  },
  {
   "cell_type": "code",
   "execution_count": 9,
   "metadata": {},
   "outputs": [
    {
     "data": {
      "text/plain": [
       "full_match       54.0\n",
       "partial_match    21.0\n",
       "no_match         25.0\n",
       "dtype: float64"
      ]
     },
     "execution_count": 9,
     "metadata": {},
     "output_type": "execute_result"
    }
   ],
   "source": [
    "totals_strict.mean(axis=0).round(2) * 100"
   ]
  },
  {
   "cell_type": "code",
   "execution_count": 10,
   "metadata": {
    "tags": []
   },
   "outputs": [],
   "source": [
    "## Window scoring\n",
    "# full_match: score > 0.7\n",
    "# partial_match:  0.7 >= score > 0.3\n",
    "# no_match: score > 0.3\n",
    "\n",
    "\n",
    "fieldnames = [\n",
    "    \"source_type\", \"title\",\n",
    "    \"author_first\", \"author_last\",\n",
    "    \"pub_source\", \"pub_date\",\n",
    "]\n",
    "\n",
    "rows = []\n",
    "\n",
    "total = len(results)\n",
    "\n",
    "for fieldname in fieldnames:\n",
    "    #print(fieldname)\n",
    "    full_match = len(results[ results[f\"comp_{fieldname}\"] > 0.7 ])\n",
    "    \n",
    "    no_match = len(results[ results[f\"comp_{fieldname}\"] <= 0.3])\n",
    "    \n",
    "    partial_match = total - full_match - no_match\n",
    "    \n",
    "    row = {\"full_match\":round(full_match/total,2), \"partial_match\":round(partial_match/total,2), \"no_match\": round(no_match/total,2)}\n",
    "    rows.append(row)\n",
    "    \n",
    "totals_window = pd.DataFrame(rows)\n",
    "totals_window.index = fieldnames\n",
    "\n",
    "#totals_window"
   ]
  },
  {
   "cell_type": "code",
   "execution_count": 10,
   "metadata": {},
   "outputs": [
    {
     "data": {
      "text/plain": [
       "full_match       48.0\n",
       "partial_match     8.0\n",
       "no_match         44.0\n",
       "dtype: float64"
      ]
     },
     "execution_count": 10,
     "metadata": {},
     "output_type": "execute_result"
    }
   ],
   "source": [
    "totals_window.mean(axis=0).round(2) * 100"
   ]
  },
  {
   "cell_type": "code",
   "execution_count": 11,
   "metadata": {
    "tags": []
   },
   "outputs": [
    {
     "data": {
      "image/png": "[encoded data removed]",
      "text/plain": [
       "<Figure size 432x288 with 1 Axes>"
      ]
     },
     "metadata": {
      "needs_background": "light"
     },
     "output_type": "display_data"
    },
    {
     "data": {
      "text/html": [
       "<div>\n",
       "<style scoped>\n",
       "    .dataframe tbody tr th:only-of-type {\n",
       "        vertical-align: middle;\n",
       "    }\n",
       "\n",
       "    .dataframe tbody tr th {\n",
       "        vertical-align: top;\n",
       "    }\n",
       "\n",
       "    .dataframe thead th {\n",
       "        text-align: right;\n",
       "    }\n",
       "</style>\n",
       "<table border=\"1\" class=\"dataframe\">\n",
       "  <thead>\n",
       "    <tr style=\"text-align: right;\">\n",
       "      <th></th>\n",
       "      <th>full_match</th>\n",
       "      <th>partial_match</th>\n",
       "      <th>no_match</th>\n",
       "    </tr>\n",
       "  </thead>\n",
       "  <tbody>\n",
       "    <tr>\n",
       "      <th>source_type</th>\n",
       "      <td>0.77</td>\n",
       "      <td>0.00</td>\n",
       "      <td>0.23</td>\n",
       "    </tr>\n",
       "    <tr>\n",
       "      <th>title</th>\n",
       "      <td>0.44</td>\n",
       "      <td>0.53</td>\n",
       "      <td>0.03</td>\n",
       "    </tr>\n",
       "    <tr>\n",
       "      <th>author_first</th>\n",
       "      <td>0.65</td>\n",
       "      <td>0.07</td>\n",
       "      <td>0.28</td>\n",
       "    </tr>\n",
       "    <tr>\n",
       "      <th>author_last</th>\n",
       "      <td>0.54</td>\n",
       "      <td>0.12</td>\n",
       "      <td>0.35</td>\n",
       "    </tr>\n",
       "    <tr>\n",
       "      <th>pub_source</th>\n",
       "      <td>0.29</td>\n",
       "      <td>0.47</td>\n",
       "      <td>0.24</td>\n",
       "    </tr>\n",
       "    <tr>\n",
       "      <th>pub_date</th>\n",
       "      <td>0.55</td>\n",
       "      <td>0.08</td>\n",
       "      <td>0.37</td>\n",
       "    </tr>\n",
       "  </tbody>\n",
       "</table>\n",
       "</div>"
      ],
      "text/plain": [
       "              full_match  partial_match  no_match\n",
       "source_type         0.77           0.00      0.23\n",
       "title               0.44           0.53      0.03\n",
       "author_first        0.65           0.07      0.28\n",
       "author_last         0.54           0.12      0.35\n",
       "pub_source          0.29           0.47      0.24\n",
       "pub_date            0.55           0.08      0.37"
      ]
     },
     "metadata": {},
     "output_type": "display_data"
    },
    {
     "data": {
      "text/plain": [
       "<function __main__.plot_stacked_ratios(key)>"
      ]
     },
     "execution_count": 11,
     "metadata": {},
     "output_type": "execute_result"
    }
   ],
   "source": [
    "def plot_stacked_ratios(key):\n",
    "\n",
    "    colors = [\"Green\", \"Orange\", \"Black\"]\n",
    "\n",
    "    df = {\n",
    "        \"Strict\": totals_strict,\n",
    "        \"Window\": totals_window,\n",
    "    }[key]\n",
    "\n",
    "    ax = df.plot.bar(stacked=True, color=colors, title=key)\n",
    "    ax.legend(bbox_to_anchor=(1, 1))\n",
    "    \n",
    "    plt.show()\n",
    "    \n",
    "    display(df)\n",
    "    \n",
    "\n",
    "interact(\n",
    "    plot_stacked_ratios,\n",
    "    key=[\"Strict\", \"Window\"],\n",
    ")"
   ]
  },
  {
   "cell_type": "markdown",
   "metadata": {},
   "source": [
    "## 3. Filter by language\n",
    "\n",
    "In this section, the user can filter the data by the language of the wikipedia and compare the results between fields (strict scoring only)."
   ]
  },
  {
   "cell_type": "code",
   "execution_count": 12,
   "metadata": {
    "tags": []
   },
   "outputs": [
    {
     "data": {
      "text/html": [
       "<div>\n",
       "<style scoped>\n",
       "    .dataframe tbody tr th:only-of-type {\n",
       "        vertical-align: middle;\n",
       "    }\n",
       "\n",
       "    .dataframe tbody tr th {\n",
       "        vertical-align: top;\n",
       "    }\n",
       "\n",
       "    .dataframe thead tr th {\n",
       "        text-align: left;\n",
       "    }\n",
       "</style>\n",
       "<table border=\"1\" class=\"dataframe\">\n",
       "  <thead>\n",
       "    <tr>\n",
       "      <th>wiki_lang</th>\n",
       "      <th colspan=\"3\" halign=\"left\">en</th>\n",
       "      <th colspan=\"3\" halign=\"left\">es</th>\n",
       "      <th colspan=\"3\" halign=\"left\">fr</th>\n",
       "      <th colspan=\"3\" halign=\"left\">pt</th>\n",
       "    </tr>\n",
       "    <tr>\n",
       "      <th>match_type</th>\n",
       "      <th>full match</th>\n",
       "      <th>partial match</th>\n",
       "      <th>no match</th>\n",
       "      <th>full match</th>\n",
       "      <th>partial match</th>\n",
       "      <th>no match</th>\n",
       "      <th>full match</th>\n",
       "      <th>partial match</th>\n",
       "      <th>no match</th>\n",
       "      <th>full match</th>\n",
       "      <th>partial match</th>\n",
       "      <th>no match</th>\n",
       "    </tr>\n",
       "  </thead>\n",
       "  <tbody>\n",
       "    <tr>\n",
       "      <th>source_type</th>\n",
       "      <td>0.66</td>\n",
       "      <td>0.00</td>\n",
       "      <td>0.34</td>\n",
       "      <td>0.78</td>\n",
       "      <td>0.00</td>\n",
       "      <td>0.22</td>\n",
       "      <td>0.90</td>\n",
       "      <td>0.00</td>\n",
       "      <td>0.10</td>\n",
       "      <td>0.82</td>\n",
       "      <td>0.00</td>\n",
       "      <td>0.18</td>\n",
       "    </tr>\n",
       "    <tr>\n",
       "      <th>title</th>\n",
       "      <td>0.31</td>\n",
       "      <td>0.67</td>\n",
       "      <td>0.02</td>\n",
       "      <td>0.25</td>\n",
       "      <td>0.72</td>\n",
       "      <td>0.03</td>\n",
       "      <td>0.20</td>\n",
       "      <td>0.78</td>\n",
       "      <td>0.02</td>\n",
       "      <td>0.30</td>\n",
       "      <td>0.66</td>\n",
       "      <td>0.04</td>\n",
       "    </tr>\n",
       "    <tr>\n",
       "      <th>author_first</th>\n",
       "      <td>0.50</td>\n",
       "      <td>0.07</td>\n",
       "      <td>0.43</td>\n",
       "      <td>0.57</td>\n",
       "      <td>0.05</td>\n",
       "      <td>0.38</td>\n",
       "      <td>0.79</td>\n",
       "      <td>0.01</td>\n",
       "      <td>0.21</td>\n",
       "      <td>0.65</td>\n",
       "      <td>0.03</td>\n",
       "      <td>0.32</td>\n",
       "    </tr>\n",
       "    <tr>\n",
       "      <th>author_last</th>\n",
       "      <td>0.45</td>\n",
       "      <td>0.15</td>\n",
       "      <td>0.40</td>\n",
       "      <td>0.41</td>\n",
       "      <td>0.17</td>\n",
       "      <td>0.41</td>\n",
       "      <td>0.55</td>\n",
       "      <td>0.09</td>\n",
       "      <td>0.36</td>\n",
       "      <td>0.46</td>\n",
       "      <td>0.13</td>\n",
       "      <td>0.41</td>\n",
       "    </tr>\n",
       "    <tr>\n",
       "      <th>pub_source</th>\n",
       "      <td>0.22</td>\n",
       "      <td>0.54</td>\n",
       "      <td>0.25</td>\n",
       "      <td>0.18</td>\n",
       "      <td>0.50</td>\n",
       "      <td>0.32</td>\n",
       "      <td>0.17</td>\n",
       "      <td>0.58</td>\n",
       "      <td>0.25</td>\n",
       "      <td>0.20</td>\n",
       "      <td>0.49</td>\n",
       "      <td>0.31</td>\n",
       "    </tr>\n",
       "    <tr>\n",
       "      <th>pub_date</th>\n",
       "      <td>0.37</td>\n",
       "      <td>0.14</td>\n",
       "      <td>0.49</td>\n",
       "      <td>0.42</td>\n",
       "      <td>0.10</td>\n",
       "      <td>0.47</td>\n",
       "      <td>0.57</td>\n",
       "      <td>0.06</td>\n",
       "      <td>0.37</td>\n",
       "      <td>0.44</td>\n",
       "      <td>0.07</td>\n",
       "      <td>0.48</td>\n",
       "    </tr>\n",
       "  </tbody>\n",
       "</table>\n",
       "</div>"
      ],
      "text/plain": [
       "wiki_lang            en                                es                \\\n",
       "match_type   full match partial match no match full match partial match   \n",
       "source_type        0.66          0.00     0.34       0.78          0.00   \n",
       "title              0.31          0.67     0.02       0.25          0.72   \n",
       "author_first       0.50          0.07     0.43       0.57          0.05   \n",
       "author_last        0.45          0.15     0.40       0.41          0.17   \n",
       "pub_source         0.22          0.54     0.25       0.18          0.50   \n",
       "pub_date           0.37          0.14     0.49       0.42          0.10   \n",
       "\n",
       "wiki_lang                     fr                                pt  \\\n",
       "match_type   no match full match partial match no match full match   \n",
       "source_type      0.22       0.90          0.00     0.10       0.82   \n",
       "title            0.03       0.20          0.78     0.02       0.30   \n",
       "author_first     0.38       0.79          0.01     0.21       0.65   \n",
       "author_last      0.41       0.55          0.09     0.36       0.46   \n",
       "pub_source       0.32       0.17          0.58     0.25       0.20   \n",
       "pub_date         0.47       0.57          0.06     0.37       0.44   \n",
       "\n",
       "wiki_lang                            \n",
       "match_type   partial match no match  \n",
       "source_type           0.00     0.18  \n",
       "title                 0.66     0.04  \n",
       "author_first          0.03     0.32  \n",
       "author_last           0.13     0.41  \n",
       "pub_source            0.49     0.31  \n",
       "pub_date              0.07     0.48  "
      ]
     },
     "execution_count": 12,
     "metadata": {},
     "output_type": "execute_result"
    }
   ],
   "source": [
    "comp_cols = [f\"comp_{field}\" for field in fieldnames]\n",
    "\n",
    "data_per_lang = pd.concat([\n",
    "    (results.set_index(\"wiki_lang\")[comp_cols] == 1).groupby(\"wiki_lang\").mean().assign(match_type=\"full match\"),\n",
    "    (~results.set_index(\"wiki_lang\")[comp_cols].isin({0, 1})).groupby(\"wiki_lang\").mean().assign(match_type=\"partial match\"),\n",
    "    (results.set_index(\"wiki_lang\")[comp_cols] == 0).groupby(\"wiki_lang\").mean().assign(match_type=\"no match\")\n",
    "]).round(2).sort_values(by=\"wiki_lang\").reset_index().set_index([\"wiki_lang\", \"match_type\"]).transpose()\n",
    "data_per_lang.index = fieldnames\n",
    "\n",
    "data_per_lang"
   ]
  },
  {
   "cell_type": "code",
   "execution_count": 13,
   "metadata": {
    "tags": []
   },
   "outputs": [
    {
     "data": {
      "application/vnd.jupyter.widget-view+json": {
       "model_id": "aeaf835731f8463f97cbf0496cea9a95",
       "version_major": 2,
       "version_minor": 0
      },
      "text/plain": [
       "interactive(children=(Dropdown(description='lang', options=('en', 'es', 'pt', 'fr'), value='en'), Output()), _…"
      ]
     },
     "metadata": {},
     "output_type": "display_data"
    },
    {
     "data": {
      "text/plain": [
       "<function __main__.plot_stacked_ratios(lang)>"
      ]
     },
     "execution_count": 13,
     "metadata": {},
     "output_type": "execute_result"
    }
   ],
   "source": [
    "colors = {\n",
    "    \"full match\": \"Green\",\n",
    "    \"partial match\": \"Orange\",\n",
    "    \"no match\": \"Black\"\n",
    "}\n",
    "\n",
    "def plot_stacked_ratios(lang):\n",
    "    # data_per_lang esta definido afuera\n",
    "    data_for_plot = data_per_lang.loc[:, lang]\n",
    "    ax = data_for_plot.plot.bar(stacked=True, color=colors, title=lang)\n",
    "    ax.legend(bbox_to_anchor=(1, 1))\n",
    "    \n",
    "    plt.show()\n",
    "    display(data_for_plot)\n",
    "\n",
    "interact(\n",
    "    plot_stacked_ratios,\n",
    "    lang=results[\"wiki_lang\"].unique(),\n",
    ")"
   ]
  },
  {
   "cell_type": "markdown",
   "metadata": {},
   "source": [
    "## 4. Filter by field\n",
    "\n",
    "In this section, the user can filter the data by fieldname and compare the results between different Wikipedias (stric scoring only)."
   ]
  },
  {
   "cell_type": "code",
   "execution_count": 14,
   "metadata": {
    "tags": []
   },
   "outputs": [
    {
     "data": {
      "application/vnd.jupyter.widget-view+json": {
       "model_id": "792c30b3f02b4053b4d118f4852817ca",
       "version_major": 2,
       "version_minor": 0
      },
      "text/plain": [
       "interactive(children=(Dropdown(description='field', options=('source_type', 'title', 'author_first', 'author_l…"
      ]
     },
     "metadata": {},
     "output_type": "display_data"
    },
    {
     "data": {
      "text/plain": [
       "<function __main__.plot_field_by_lang(field)>"
      ]
     },
     "execution_count": 14,
     "metadata": {},
     "output_type": "execute_result"
    }
   ],
   "source": [
    "def plot_field_by_lang(field):\n",
    "    df = data_per_lang.loc[field].reset_index().pivot_table(index=\"wiki_lang\", columns=\"match_type\", values=field)\n",
    "    ax = df.plot.bar(stacked=True, color=colors, title=field)\n",
    "    ax.legend(bbox_to_anchor=(1, 1))\n",
    "    \n",
    "    plt.show()\n",
    "    display(df)\n",
    "    \n",
    "interact(\n",
    "    plot_field_by_lang,\n",
    "    field=fieldnames,\n",
    ")"
   ]
  },
  {
   "cell_type": "markdown",
   "metadata": {},
   "source": [
    "## 5. Results by domain\n",
    "\n",
    "In this section, the user can filter the data by top domains (5, 10 or 15) and obsrve the average results for  all languages or for each language."
   ]
  },
  {
   "cell_type": "code",
   "execution_count": 12,
   "metadata": {},
   "outputs": [],
   "source": [
    "## Find domains from URLs\n",
    "comp_cols = [f\"comp_{field}\" for field in fieldnames]\n",
    "results_lang_url = results[[\"wiki_lang\", \"url\", \"url_citoid\"]+comp_cols].copy()\n",
    "\n",
    "def find_domain(s):\n",
    "    if s.startswith(\"http\"):\n",
    "        domain = s.split(\"/\")[2].replace(\"www.\", \"\")\n",
    "    else:\n",
    "        domain = False\n",
    "    return domain\n",
    "\n",
    "results_lang_url[\"domain\"] = results_lang_url[\"url\"].map(find_domain)\n",
    "domains = results_lang_url[results_lang_url[\"domain\"].map(bool)]"
   ]
  },
  {
   "cell_type": "code",
   "execution_count": 13,
   "metadata": {},
   "outputs": [
    {
     "data": {
      "image/png": "[encoded data removed]",
      "text/plain": [
       "<Figure size 432x432 with 1 Axes>"
      ]
     },
     "metadata": {
      "needs_background": "light"
     },
     "output_type": "display_data"
    },
    {
     "data": {
      "text/plain": [
       "<function __main__.plot_top_domains_performance(lang='all', n=10)>"
      ]
     },
     "execution_count": 13,
     "metadata": {},
     "output_type": "execute_result"
    }
   ],
   "source": [
    "def plot_top_domains_performance(lang=\"all\", n=10):\n",
    "    ## Find top n domains (all languages)\n",
    "    if lang == \"all\":\n",
    "        selected_domains = domains\n",
    "    else:\n",
    "        selected_domains = domains[ domains[\"wiki_lang\"] == lang ]\n",
    "\n",
    "    domain_count = selected_domains[[\"domain\"]].value_counts()\n",
    "    domain_count.name = \"count\"\n",
    "    domain_count = domain_count.reset_index()\n",
    "    domain_count = domain_count.sort_values(by=[\"count\"], ascending=False)\n",
    "    top_domains = domain_count.head(n)\n",
    "    top_domains\n",
    "\n",
    "    domain_order = top_domains[\"domain\"].tolist()\n",
    "    mask = selected_domains[\"domain\"].isin(domain_order)\n",
    "\n",
    "    ## Results mean by domain\n",
    "    results_mean_by_url = selected_domains[mask].groupby(\"domain\").mean()\n",
    "    results_mean_by_url = results_mean_by_url.reindex(index=domain_order)\n",
    "    results_mean_by_url\n",
    "\n",
    "    means_tidy = results_mean_by_url.reset_index().melt(id_vars=\"domain\", var_name=\"fieldname\", value_name=\"score\")\n",
    "\n",
    "    fig, ax = plt.subplots(1, 1, figsize=(6, 6))\n",
    "\n",
    "    sns.set_style(\"darkgrid\")\n",
    "\n",
    "    sns.stripplot(\n",
    "        data=means_tidy,\n",
    "        x=\"score\",\n",
    "        y=\"domain\",\n",
    "        hue=\"fieldname\",\n",
    "        s=8,\n",
    "        alpha=0.65,\n",
    "        ax=ax\n",
    "    )\n",
    "\n",
    "    ax.legend(bbox_to_anchor=(1, 0.5), loc=\"center left\")\n",
    "    ax.set_title(f\"Chosen lang: {lang}\")\n",
    "    ax.set_xlim(-0.05, 1.05)\n",
    "    \n",
    "    \n",
    "interact(\n",
    "    plot_top_domains_performance,\n",
    "    lang=[\"all\", \"en\", \"es\", \"fr\", \"pt\"],\n",
    "    n=[5, 10, 15],\n",
    ")"
   ]
  },
  {
   "cell_type": "code",
   "execution_count": null,
   "metadata": {},
   "outputs": [],
   "source": []
  },
  {
   "cell_type": "code",
   "execution_count": null,
   "metadata": {},
   "outputs": [],
   "source": []
  },
  {
   "cell_type": "code",
   "execution_count": null,
   "metadata": {},
   "outputs": [],
   "source": []
  },
  {
   "cell_type": "code",
   "execution_count": null,
   "metadata": {},
   "outputs": [],
   "source": []
  },
  {
   "cell_type": "code",
   "execution_count": null,
   "metadata": {},
   "outputs": [],
   "source": []
  },
  {
   "cell_type": "code",
   "execution_count": null,
   "metadata": {},
   "outputs": [],
   "source": []
  },
  {
   "cell_type": "code",
   "execution_count": null,
   "metadata": {},
   "outputs": [],
   "source": []
  },
  {
   "cell_type": "code",
   "execution_count": null,
   "metadata": {},
   "outputs": [],
   "source": []
  },
  {
   "cell_type": "code",
   "execution_count": null,
   "metadata": {},
   "outputs": [],
   "source": []
  }
 ],
 "metadata": {
  "kernelspec": {
   "display_name": "Python 3",
   "language": "python",
   "name": "python3"
  },
  "language_info": {
   "codemirror_mode": {
    "name": "ipython",
    "version": 3
   },
   "file_extension": ".py",
   "mimetype": "text/x-python",
   "name": "python",
   "nbconvert_exporter": "python",
   "pygments_lexer": "ipython3",
   "version": "3.7.6"
  }
 },
 "nbformat": 4,
 "nbformat_minor": 4
}
