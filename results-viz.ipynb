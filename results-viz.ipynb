{
 "cells": [
  {
   "cell_type": "markdown",
   "metadata": {},
   "source": [
    "# Visualize Citoid evaluation results\n",
    "\n",
    "This is an interactive notebook that allows to consult the results of the evaluation of [Citoid](https://www.mediawiki.org/wiki/Citoid) for the [Web2Cit-Research](https://meta.wikimedia.org/wiki/Web2Cit/Research) project.\n",
    "\n",
    "__Usage:__\n",
    "\n",
    "First, run the cells to load the data and the functions. Then, interact with the widgets to visualize plots and samples.\n",
    "\n",
    "__Author:__\n",
    "\n",
    "* Nidia Hernández, [nidiahernandez@conicet.gov.ar](mailto:nidiahy@gmail.com), [CAICYT-CONICET](http://www.caicyt-conicet.gov.ar/sitio/) (Argentina)\n",
    "\n",
    "\n",
    "## Table of Contents\n",
    "\n",
    "0. Load evaluation results \n",
    "1. Show samples of best, middle and low scores\n",
    "2. Strict vs relaxed scores\n",
    "3. Filter by language\n",
    "4. Filter by field\n",
    "5. Results by domain"
   ]
  },
  {
   "cell_type": "code",
   "execution_count": 2,
   "metadata": {
    "tags": []
   },
   "outputs": [],
   "source": [
    "import os\n",
    "import pandas as pd\n",
    "import gzip\n",
    "from glob import glob\n",
    "from pprint import pprint\n",
    "import numpy as np\n",
    "\n",
    "import matplotlib.pyplot as plt\n",
    "import seaborn as sns\n",
    "from ipywidgets import interact, interactive, fixed, interact_manual\n",
    "import ipywidgets as widgets"
   ]
  },
  {
   "cell_type": "markdown",
   "metadata": {},
   "source": [
    "## 0. Load evaluation results\n",
    "\n",
    "We have evaluated 321k citations, comparing the metadata returned by Citoid with the metadata of a manual citation for the following information: source type, title, author (first name(s) and last names(s)), publishig source and publishing date. \n",
    "\n",
    "The results of the comparison are in the columns beginning with the prefix \"comp_\"."
   ]
  },
  {
   "cell_type": "code",
   "execution_count": 3,
   "metadata": {},
   "outputs": [],
   "source": [
    "results = pd.read_csv(\"eval/eval_all_citations.csv.gz\")"
   ]
  },
  {
   "cell_type": "code",
   "execution_count": 4,
   "metadata": {},
   "outputs": [
    {
     "data": {
      "text/plain": [
       "(321179, 25)"
      ]
     },
     "execution_count": 4,
     "metadata": {},
     "output_type": "execute_result"
    }
   ],
   "source": [
    "results.shape"
   ]
  },
  {
   "cell_type": "code",
   "execution_count": 5,
   "metadata": {},
   "outputs": [
    {
     "data": {
      "text/html": [
       "<div>\n",
       "<style scoped>\n",
       "    .dataframe tbody tr th:only-of-type {\n",
       "        vertical-align: middle;\n",
       "    }\n",
       "\n",
       "    .dataframe tbody tr th {\n",
       "        vertical-align: top;\n",
       "    }\n",
       "\n",
       "    .dataframe thead th {\n",
       "        text-align: right;\n",
       "    }\n",
       "</style>\n",
       "<table border=\"1\" class=\"dataframe\">\n",
       "  <thead>\n",
       "    <tr style=\"text-align: right;\">\n",
       "      <th></th>\n",
       "      <th>Unnamed: 0</th>\n",
       "      <th>url</th>\n",
       "      <th>url_citoid</th>\n",
       "      <th>source_type_citoid</th>\n",
       "      <th>title_citoid</th>\n",
       "      <th>author_first_citoid</th>\n",
       "      <th>author_last_citoid</th>\n",
       "      <th>pub_date_citoid</th>\n",
       "      <th>pub_source_citoid</th>\n",
       "      <th>source_type_manual</th>\n",
       "      <th>...</th>\n",
       "      <th>article_url</th>\n",
       "      <th>page_id</th>\n",
       "      <th>revid</th>\n",
       "      <th>wiki_lang</th>\n",
       "      <th>comp_author_first</th>\n",
       "      <th>comp_author_last</th>\n",
       "      <th>comp_title</th>\n",
       "      <th>comp_source_type</th>\n",
       "      <th>comp_pub_source</th>\n",
       "      <th>comp_pub_date</th>\n",
       "    </tr>\n",
       "  </thead>\n",
       "  <tbody>\n",
       "    <tr>\n",
       "      <th>0</th>\n",
       "      <td>0</td>\n",
       "      <td>http://www.bbc.co.uk/programmes/b00rq1w3</td>\n",
       "      <td>https://www.bbc.co.uk/programmes/b00rq1w3</td>\n",
       "      <td>webpage</td>\n",
       "      <td>bbc radio 4 extra - james bond, goldfinger</td>\n",
       "      <td>NaN</td>\n",
       "      <td>NaN</td>\n",
       "      <td>NaN</td>\n",
       "      <td>bbc</td>\n",
       "      <td>['blogPost', 'email', 'forumPost', 'webpage']</td>\n",
       "      <td>...</td>\n",
       "      <td>https://en.wikipedia.org/wiki/Goldfinger%20%28...</td>\n",
       "      <td>168425</td>\n",
       "      <td>1047941668</td>\n",
       "      <td>en</td>\n",
       "      <td>1.0</td>\n",
       "      <td>1.00</td>\n",
       "      <td>0.24</td>\n",
       "      <td>1</td>\n",
       "      <td>1.00</td>\n",
       "      <td>1.0</td>\n",
       "    </tr>\n",
       "    <tr>\n",
       "      <th>1</th>\n",
       "      <td>1</td>\n",
       "      <td>http://www.gtaforums.com/index.php?showtopic=4...</td>\n",
       "      <td>https://gtaforums.com/topic/393961-title-updat...</td>\n",
       "      <td>webpage</td>\n",
       "      <td>title update v. 1.0.2.0</td>\n",
       "      <td>NaN</td>\n",
       "      <td>NaN</td>\n",
       "      <td>NaN</td>\n",
       "      <td>gtaforums</td>\n",
       "      <td>['magazineArticle', 'newspaperArticle']</td>\n",
       "      <td>...</td>\n",
       "      <td>https://es.wikipedia.org/wiki/Grand%20Theft%20...</td>\n",
       "      <td>557425</td>\n",
       "      <td>140622011</td>\n",
       "      <td>es</td>\n",
       "      <td>1.0</td>\n",
       "      <td>1.00</td>\n",
       "      <td>0.35</td>\n",
       "      <td>0</td>\n",
       "      <td>0.69</td>\n",
       "      <td>1.0</td>\n",
       "    </tr>\n",
       "    <tr>\n",
       "      <th>2</th>\n",
       "      <td>2</td>\n",
       "      <td>https://archive.org/details/incharacter00john</td>\n",
       "      <td>http://archive.org/details/incharacter00john</td>\n",
       "      <td>book</td>\n",
       "      <td>in character</td>\n",
       "      <td>['']</td>\n",
       "      <td>['internet archive']</td>\n",
       "      <td>1984</td>\n",
       "      <td>harmondsworth : penguin</td>\n",
       "      <td>['book', 'manuscript']</td>\n",
       "      <td>...</td>\n",
       "      <td>https://en.wikipedia.org/wiki/Laurence%20Olivier</td>\n",
       "      <td>43675</td>\n",
       "      <td>1069785118</td>\n",
       "      <td>en</td>\n",
       "      <td>0.0</td>\n",
       "      <td>0.19</td>\n",
       "      <td>1.00</td>\n",
       "      <td>1</td>\n",
       "      <td>0.57</td>\n",
       "      <td>0.7</td>\n",
       "    </tr>\n",
       "    <tr>\n",
       "      <th>3</th>\n",
       "      <td>3</td>\n",
       "      <td>http://news.ph.msn.com/business/article.aspx?c...</td>\n",
       "      <td>http://www.msn.com/en-ph/news?cp-documentid=36...</td>\n",
       "      <td>webpage</td>\n",
       "      <td>msn</td>\n",
       "      <td>NaN</td>\n",
       "      <td>NaN</td>\n",
       "      <td>NaN</td>\n",
       "      <td>www.msn.com</td>\n",
       "      <td>['blogPost', 'email', 'forumPost', 'webpage']</td>\n",
       "      <td>...</td>\n",
       "      <td>https://es.wikipedia.org/wiki/Airbus%20A380</td>\n",
       "      <td>45307</td>\n",
       "      <td>141455347</td>\n",
       "      <td>es</td>\n",
       "      <td>1.0</td>\n",
       "      <td>0.00</td>\n",
       "      <td>0.02</td>\n",
       "      <td>1</td>\n",
       "      <td>0.18</td>\n",
       "      <td>0.0</td>\n",
       "    </tr>\n",
       "    <tr>\n",
       "      <th>4</th>\n",
       "      <td>4</td>\n",
       "      <td>http://news.ph.msn.com/business/article.aspx?c...</td>\n",
       "      <td>http://www.msn.com/en-ph/news?cp-documentid=36...</td>\n",
       "      <td>webpage</td>\n",
       "      <td>msn</td>\n",
       "      <td>NaN</td>\n",
       "      <td>NaN</td>\n",
       "      <td>NaN</td>\n",
       "      <td>www.msn.com</td>\n",
       "      <td>[]</td>\n",
       "      <td>...</td>\n",
       "      <td>https://pt.wikipedia.org/wiki/Airbus%20A380</td>\n",
       "      <td>77972</td>\n",
       "      <td>62917519</td>\n",
       "      <td>pt</td>\n",
       "      <td>1.0</td>\n",
       "      <td>1.00</td>\n",
       "      <td>0.02</td>\n",
       "      <td>0</td>\n",
       "      <td>0.00</td>\n",
       "      <td>0.0</td>\n",
       "    </tr>\n",
       "  </tbody>\n",
       "</table>\n",
       "<p>5 rows × 25 columns</p>\n",
       "</div>"
      ],
      "text/plain": [
       "   Unnamed: 0                                                url  \\\n",
       "0           0           http://www.bbc.co.uk/programmes/b00rq1w3   \n",
       "1           1  http://www.gtaforums.com/index.php?showtopic=4...   \n",
       "2           2      https://archive.org/details/incharacter00john   \n",
       "3           3  http://news.ph.msn.com/business/article.aspx?c...   \n",
       "4           4  http://news.ph.msn.com/business/article.aspx?c...   \n",
       "\n",
       "                                          url_citoid source_type_citoid  \\\n",
       "0          https://www.bbc.co.uk/programmes/b00rq1w3            webpage   \n",
       "1  https://gtaforums.com/topic/393961-title-updat...            webpage   \n",
       "2       http://archive.org/details/incharacter00john               book   \n",
       "3  http://www.msn.com/en-ph/news?cp-documentid=36...            webpage   \n",
       "4  http://www.msn.com/en-ph/news?cp-documentid=36...            webpage   \n",
       "\n",
       "                                 title_citoid author_first_citoid  \\\n",
       "0  bbc radio 4 extra - james bond, goldfinger                 NaN   \n",
       "1                     title update v. 1.0.2.0                 NaN   \n",
       "2                                in character                ['']   \n",
       "3                                         msn                 NaN   \n",
       "4                                         msn                 NaN   \n",
       "\n",
       "     author_last_citoid pub_date_citoid        pub_source_citoid  \\\n",
       "0                   NaN             NaN                      bbc   \n",
       "1                   NaN             NaN                gtaforums   \n",
       "2  ['internet archive']            1984  harmondsworth : penguin   \n",
       "3                   NaN             NaN              www.msn.com   \n",
       "4                   NaN             NaN              www.msn.com   \n",
       "\n",
       "                              source_type_manual  ...  \\\n",
       "0  ['blogPost', 'email', 'forumPost', 'webpage']  ...   \n",
       "1        ['magazineArticle', 'newspaperArticle']  ...   \n",
       "2                         ['book', 'manuscript']  ...   \n",
       "3  ['blogPost', 'email', 'forumPost', 'webpage']  ...   \n",
       "4                                             []  ...   \n",
       "\n",
       "                                         article_url page_id       revid  \\\n",
       "0  https://en.wikipedia.org/wiki/Goldfinger%20%28...  168425  1047941668   \n",
       "1  https://es.wikipedia.org/wiki/Grand%20Theft%20...  557425   140622011   \n",
       "2   https://en.wikipedia.org/wiki/Laurence%20Olivier   43675  1069785118   \n",
       "3        https://es.wikipedia.org/wiki/Airbus%20A380   45307   141455347   \n",
       "4        https://pt.wikipedia.org/wiki/Airbus%20A380   77972    62917519   \n",
       "\n",
       "  wiki_lang comp_author_first comp_author_last  comp_title  comp_source_type  \\\n",
       "0        en               1.0             1.00        0.24                 1   \n",
       "1        es               1.0             1.00        0.35                 0   \n",
       "2        en               0.0             0.19        1.00                 1   \n",
       "3        es               1.0             0.00        0.02                 1   \n",
       "4        pt               1.0             1.00        0.02                 0   \n",
       "\n",
       "  comp_pub_source  comp_pub_date  \n",
       "0            1.00            1.0  \n",
       "1            0.69            1.0  \n",
       "2            0.57            0.7  \n",
       "3            0.18            0.0  \n",
       "4            0.00            0.0  \n",
       "\n",
       "[5 rows x 25 columns]"
      ]
     },
     "execution_count": 5,
     "metadata": {},
     "output_type": "execute_result"
    }
   ],
   "source": [
    "results.head()"
   ]
  },
  {
   "cell_type": "markdown",
   "metadata": {},
   "source": [
    "## 1. Show samples of best, middle and low scores\n",
    "\n",
    "In this section, you can inspect the data and the evaluation results filtered by fieldname. The first menu allows to select the number of samples to retrieve. The second menu, the field to consult. \n",
    "\n",
    "The output shows samples of data and scoring using a relaxed match: best scored cases appear on top (70-100% coincidence), middle scores in the center (40-70% coincidence) and low scores at the bottom (less than 40%). There response from Citoid is displayed at left, the attended response is at the center, and the score is presented at right."
   ]
  },
  {
   "cell_type": "code",
   "execution_count": 6,
   "metadata": {
    "tags": []
   },
   "outputs": [],
   "source": [
    "fieldnames = [\n",
    "    \"source_type\", \"title\",\n",
    "    \"author_first\", \"author_last\",\n",
    "    \"pub_source\", \"pub_date\",\n",
    "]"
   ]
  },
  {
   "cell_type": "code",
   "execution_count": 7,
   "metadata": {
    "tags": []
   },
   "outputs": [
    {
     "data": {
      "application/vnd.jupyter.widget-view+json": {
       "model_id": "3c8e21ad06984962969d0c386369b152",
       "version_major": 2,
       "version_minor": 0
      },
      "text/plain": [
       "interactive(children=(Dropdown(description='n', options=(5, 10, 15), value=5), Dropdown(description='fieldname…"
      ]
     },
     "metadata": {},
     "output_type": "display_data"
    },
    {
     "data": {
      "text/plain": [
       "<function __main__.show_samples(n, fieldname)>"
      ]
     },
     "execution_count": 7,
     "metadata": {},
     "output_type": "execute_result"
    }
   ],
   "source": [
    "pd.set_option(\"colwidth\", 200)\n",
    "\n",
    "def show_samples(n, fieldname):\n",
    "    discrete_scores = fieldname in [\"source_type\", \"pub_date\"]\n",
    "\n",
    "    best_max = 1 if discrete_scores else 0.9\n",
    "    \n",
    "    ## Best scores\n",
    "    display(results[\n",
    "        (0.7 < results[f\"comp_{fieldname}\"]) &\n",
    "        (results[f\"comp_{fieldname}\"] <= best_max) ## do not show None vs None cases\n",
    "    ][[f\"{fieldname}_citoid\", f\"{fieldname}_manual\", f\"comp_{fieldname}\"]].sample(n))\n",
    "\n",
    "    ## Mostrar el 0.7 de pub date!\n",
    "    if not discrete_scores:\n",
    "        ## Middle scores\n",
    "        display(results[\n",
    "            (0.4 < results[f\"comp_{fieldname}\"]) &\n",
    "            (results[f\"comp_{fieldname}\"] <= 0.7)\n",
    "        ][[f\"{fieldname}_citoid\", f\"{fieldname}_manual\", f\"comp_{fieldname}\"]].sample(n))\n",
    "\n",
    "    ## Low scores\n",
    "    display(results[\n",
    "        #(0.1 < results[f\"comp_{fieldname}\"]) & ## do not show all 0\n",
    "        (results[f\"comp_{fieldname}\"] < 0.4)\n",
    "    ][[f\"{fieldname}_citoid\", f\"{fieldname}_manual\", f\"comp_{fieldname}\"]].sample(n))\n",
    "    \n",
    "interact(show_samples, n=[5, 10, 15], fieldname=fieldnames)"
   ]
  },
  {
   "cell_type": "markdown",
   "metadata": {},
   "source": [
    "## 2. Strict vs window scoring\n",
    "\n",
    "In this section, you can inspect the proportion of each match type for each fieldname. You can select strict or window scoring. The strict scoring considers a fullmatch only for 100% coincidence and no match for 0% coincidence. The window scoring admits full match starting at 70% but considers no match from 40% to lower."
   ]
  },
  {
   "cell_type": "code",
   "execution_count": 8,
   "metadata": {
    "tags": []
   },
   "outputs": [],
   "source": [
    "## Strict scoring \n",
    "# full_match: 100% match (score == 1)\n",
    "# no_match: score == 0\n",
    "# partial_match: the rest\n",
    "\n",
    "rows = []\n",
    "\n",
    "total = len(results)\n",
    "\n",
    "for fieldname in fieldnames:\n",
    "    full_match = len(results[ results[f\"comp_{fieldname}\"] == 1 ])\n",
    "    no_match = len(results[ results[f\"comp_{fieldname}\"] == 0])\n",
    "    partial_match = total - full_match - no_match\n",
    "    \n",
    "    row = {\"full_match\":round(full_match/total,2), \"partial_match\":round(partial_match/total,2), \"no_match\": round(no_match/total,2)}\n",
    "    rows.append(row)\n",
    "    \n",
    "totals_strict = pd.DataFrame(rows)\n",
    "totals_strict.index = fieldnames\n",
    "\n",
    "#totals_strict"
   ]
  },
  {
   "cell_type": "code",
   "execution_count": 9,
   "metadata": {},
   "outputs": [
    {
     "data": {
      "text/plain": [
       "full_match       45.0\n",
       "partial_match    25.0\n",
       "no_match         30.0\n",
       "dtype: float64"
      ]
     },
     "execution_count": 9,
     "metadata": {},
     "output_type": "execute_result"
    }
   ],
   "source": [
    "totals_strict.mean(axis=0).round(2) * 100"
   ]
  },
  {
   "cell_type": "code",
   "execution_count": 10,
   "metadata": {
    "tags": []
   },
   "outputs": [],
   "source": [
    "## Window scoring\n",
    "# full_match: score > 0.7\n",
    "# partial_match:  0.7 >= score > 0.3\n",
    "# no_match: score > 0.3\n",
    "\n",
    "\n",
    "fieldnames = [\n",
    "    \"source_type\", \"title\",\n",
    "    \"author_first\", \"author_last\",\n",
    "    \"pub_source\", \"pub_date\",\n",
    "]\n",
    "\n",
    "rows = []\n",
    "\n",
    "total = len(results)\n",
    "\n",
    "for fieldname in fieldnames:\n",
    "    #print(fieldname)\n",
    "    full_match = len(results[ results[f\"comp_{fieldname}\"] > 0.7 ])\n",
    "    \n",
    "    no_match = len(results[ results[f\"comp_{fieldname}\"] <= 0.3])\n",
    "    \n",
    "    partial_match = total - full_match - no_match\n",
    "    \n",
    "    row = {\"full_match\":round(full_match/total,2), \"partial_match\":round(partial_match/total,2), \"no_match\": round(no_match/total,2)}\n",
    "    rows.append(row)\n",
    "    \n",
    "totals_window = pd.DataFrame(rows)\n",
    "totals_window.index = fieldnames\n",
    "\n",
    "#totals_window"
   ]
  },
  {
   "cell_type": "code",
   "execution_count": 11,
   "metadata": {},
   "outputs": [
    {
     "data": {
      "text/plain": [
       "full_match       48.0\n",
       "partial_match     8.0\n",
       "no_match         44.0\n",
       "dtype: float64"
      ]
     },
     "execution_count": 11,
     "metadata": {},
     "output_type": "execute_result"
    }
   ],
   "source": [
    "totals_window.mean(axis=0).round(2) * 100"
   ]
  },
  {
   "cell_type": "code",
   "execution_count": 12,
   "metadata": {
    "tags": []
   },
   "outputs": [
    {
     "data": {
      "application/vnd.jupyter.widget-view+json": {
       "model_id": "dd3d09daeedf4f14b736f62416bb2a48",
       "version_major": 2,
       "version_minor": 0
      },
      "text/plain": [
       "interactive(children=(Dropdown(description='key', options=('Strict', 'Window'), value='Strict'), Output()), _d…"
      ]
     },
     "metadata": {},
     "output_type": "display_data"
    },
    {
     "data": {
      "text/plain": [
       "<function __main__.plot_stacked_ratios(key)>"
      ]
     },
     "execution_count": 12,
     "metadata": {},
     "output_type": "execute_result"
    }
   ],
   "source": [
    "from ipywidgets import interact, interactive, fixed, interact_manual\n",
    "import ipywidgets as widgets\n",
    "\n",
    "\n",
    "def plot_stacked_ratios(key):\n",
    "\n",
    "    colors = [\"Green\", \"Orange\", \"Black\"]\n",
    "\n",
    "    df = {\n",
    "        \"Strict\": totals_strict,\n",
    "        \"Window\": totals_window,\n",
    "    }[key]\n",
    "\n",
    "    ax = df.plot.bar(stacked=True, color=colors, title=key)\n",
    "    ax.legend(bbox_to_anchor=(1, 1))\n",
    "    \n",
    "    plt.show()\n",
    "    \n",
    "    display(df)\n",
    "    \n",
    "\n",
    "interact(\n",
    "    plot_stacked_ratios,\n",
    "    key=[\"Strict\", \"Window\"],\n",
    ")"
   ]
  },
  {
   "cell_type": "markdown",
   "metadata": {},
   "source": [
    "## 3. Filter by language\n",
    "\n",
    "In this section, the user can filter the data by the language of the wikipedia and compare the results between fields (strict scoring only)."
   ]
  },
  {
   "cell_type": "code",
   "execution_count": 13,
   "metadata": {
    "tags": []
   },
   "outputs": [
    {
     "data": {
      "text/html": [
       "<div>\n",
       "<style scoped>\n",
       "    .dataframe tbody tr th:only-of-type {\n",
       "        vertical-align: middle;\n",
       "    }\n",
       "\n",
       "    .dataframe tbody tr th {\n",
       "        vertical-align: top;\n",
       "    }\n",
       "\n",
       "    .dataframe thead tr th {\n",
       "        text-align: left;\n",
       "    }\n",
       "</style>\n",
       "<table border=\"1\" class=\"dataframe\">\n",
       "  <thead>\n",
       "    <tr>\n",
       "      <th>wiki_lang</th>\n",
       "      <th colspan=\"3\" halign=\"left\">en</th>\n",
       "      <th colspan=\"3\" halign=\"left\">es</th>\n",
       "      <th colspan=\"3\" halign=\"left\">fr</th>\n",
       "      <th colspan=\"3\" halign=\"left\">pt</th>\n",
       "    </tr>\n",
       "    <tr>\n",
       "      <th>match_type</th>\n",
       "      <th>full match</th>\n",
       "      <th>partial match</th>\n",
       "      <th>no match</th>\n",
       "      <th>full match</th>\n",
       "      <th>partial match</th>\n",
       "      <th>no match</th>\n",
       "      <th>full match</th>\n",
       "      <th>partial match</th>\n",
       "      <th>no match</th>\n",
       "      <th>full match</th>\n",
       "      <th>partial match</th>\n",
       "      <th>no match</th>\n",
       "    </tr>\n",
       "  </thead>\n",
       "  <tbody>\n",
       "    <tr>\n",
       "      <th>source_type</th>\n",
       "      <td>0.66</td>\n",
       "      <td>0.00</td>\n",
       "      <td>0.34</td>\n",
       "      <td>0.78</td>\n",
       "      <td>0.00</td>\n",
       "      <td>0.22</td>\n",
       "      <td>0.90</td>\n",
       "      <td>0.00</td>\n",
       "      <td>0.10</td>\n",
       "      <td>0.82</td>\n",
       "      <td>0.00</td>\n",
       "      <td>0.18</td>\n",
       "    </tr>\n",
       "    <tr>\n",
       "      <th>title</th>\n",
       "      <td>0.31</td>\n",
       "      <td>0.67</td>\n",
       "      <td>0.02</td>\n",
       "      <td>0.25</td>\n",
       "      <td>0.72</td>\n",
       "      <td>0.03</td>\n",
       "      <td>0.20</td>\n",
       "      <td>0.78</td>\n",
       "      <td>0.02</td>\n",
       "      <td>0.30</td>\n",
       "      <td>0.66</td>\n",
       "      <td>0.04</td>\n",
       "    </tr>\n",
       "    <tr>\n",
       "      <th>author_first</th>\n",
       "      <td>0.50</td>\n",
       "      <td>0.07</td>\n",
       "      <td>0.43</td>\n",
       "      <td>0.57</td>\n",
       "      <td>0.05</td>\n",
       "      <td>0.38</td>\n",
       "      <td>0.79</td>\n",
       "      <td>0.01</td>\n",
       "      <td>0.21</td>\n",
       "      <td>0.65</td>\n",
       "      <td>0.03</td>\n",
       "      <td>0.32</td>\n",
       "    </tr>\n",
       "    <tr>\n",
       "      <th>author_last</th>\n",
       "      <td>0.45</td>\n",
       "      <td>0.15</td>\n",
       "      <td>0.40</td>\n",
       "      <td>0.41</td>\n",
       "      <td>0.17</td>\n",
       "      <td>0.41</td>\n",
       "      <td>0.55</td>\n",
       "      <td>0.09</td>\n",
       "      <td>0.36</td>\n",
       "      <td>0.46</td>\n",
       "      <td>0.13</td>\n",
       "      <td>0.41</td>\n",
       "    </tr>\n",
       "    <tr>\n",
       "      <th>pub_source</th>\n",
       "      <td>0.22</td>\n",
       "      <td>0.54</td>\n",
       "      <td>0.25</td>\n",
       "      <td>0.18</td>\n",
       "      <td>0.50</td>\n",
       "      <td>0.32</td>\n",
       "      <td>0.17</td>\n",
       "      <td>0.58</td>\n",
       "      <td>0.25</td>\n",
       "      <td>0.20</td>\n",
       "      <td>0.49</td>\n",
       "      <td>0.31</td>\n",
       "    </tr>\n",
       "    <tr>\n",
       "      <th>pub_date</th>\n",
       "      <td>0.37</td>\n",
       "      <td>0.14</td>\n",
       "      <td>0.49</td>\n",
       "      <td>0.42</td>\n",
       "      <td>0.10</td>\n",
       "      <td>0.47</td>\n",
       "      <td>0.57</td>\n",
       "      <td>0.06</td>\n",
       "      <td>0.37</td>\n",
       "      <td>0.44</td>\n",
       "      <td>0.07</td>\n",
       "      <td>0.48</td>\n",
       "    </tr>\n",
       "  </tbody>\n",
       "</table>\n",
       "</div>"
      ],
      "text/plain": [
       "wiki_lang            en                                es                \\\n",
       "match_type   full match partial match no match full match partial match   \n",
       "source_type        0.66          0.00     0.34       0.78          0.00   \n",
       "title              0.31          0.67     0.02       0.25          0.72   \n",
       "author_first       0.50          0.07     0.43       0.57          0.05   \n",
       "author_last        0.45          0.15     0.40       0.41          0.17   \n",
       "pub_source         0.22          0.54     0.25       0.18          0.50   \n",
       "pub_date           0.37          0.14     0.49       0.42          0.10   \n",
       "\n",
       "wiki_lang                     fr                                pt  \\\n",
       "match_type   no match full match partial match no match full match   \n",
       "source_type      0.22       0.90          0.00     0.10       0.82   \n",
       "title            0.03       0.20          0.78     0.02       0.30   \n",
       "author_first     0.38       0.79          0.01     0.21       0.65   \n",
       "author_last      0.41       0.55          0.09     0.36       0.46   \n",
       "pub_source       0.32       0.17          0.58     0.25       0.20   \n",
       "pub_date         0.47       0.57          0.06     0.37       0.44   \n",
       "\n",
       "wiki_lang                            \n",
       "match_type   partial match no match  \n",
       "source_type           0.00     0.18  \n",
       "title                 0.66     0.04  \n",
       "author_first          0.03     0.32  \n",
       "author_last           0.13     0.41  \n",
       "pub_source            0.49     0.31  \n",
       "pub_date              0.07     0.48  "
      ]
     },
     "execution_count": 13,
     "metadata": {},
     "output_type": "execute_result"
    }
   ],
   "source": [
    "comp_cols = [f\"comp_{field}\" for field in fieldnames]\n",
    "\n",
    "data_per_lang = pd.concat([\n",
    "    (results.set_index(\"wiki_lang\")[comp_cols] == 1).groupby(\"wiki_lang\").mean().assign(match_type=\"full match\"),\n",
    "    (~results.set_index(\"wiki_lang\")[comp_cols].isin({0, 1})).groupby(\"wiki_lang\").mean().assign(match_type=\"partial match\"),\n",
    "    (results.set_index(\"wiki_lang\")[comp_cols] == 0).groupby(\"wiki_lang\").mean().assign(match_type=\"no match\")\n",
    "]).round(2).sort_values(by=\"wiki_lang\").reset_index().set_index([\"wiki_lang\", \"match_type\"]).transpose()\n",
    "data_per_lang.index = fieldnames\n",
    "\n",
    "data_per_lang"
   ]
  },
  {
   "cell_type": "code",
   "execution_count": 14,
   "metadata": {
    "tags": []
   },
   "outputs": [
    {
     "data": {
      "application/vnd.jupyter.widget-view+json": {
       "model_id": "7daed69054b14728bf463ebda55aadc0",
       "version_major": 2,
       "version_minor": 0
      },
      "text/plain": [
       "interactive(children=(Dropdown(description='lang', options=('en', 'es', 'pt', 'fr'), value='en'), Output()), _…"
      ]
     },
     "metadata": {},
     "output_type": "display_data"
    },
    {
     "data": {
      "text/plain": [
       "<function __main__.plot_stacked_ratios(lang)>"
      ]
     },
     "execution_count": 14,
     "metadata": {},
     "output_type": "execute_result"
    }
   ],
   "source": [
    "colors = {\n",
    "    \"full match\": \"Green\",\n",
    "    \"partial match\": \"Orange\",\n",
    "    \"no match\": \"Black\"\n",
    "}\n",
    "\n",
    "def plot_stacked_ratios(lang):\n",
    "    # data_per_lang esta definido afuera\n",
    "    data_for_plot = data_per_lang.loc[:, lang]\n",
    "    ax = data_for_plot.plot.bar(stacked=True, color=colors, title=lang)\n",
    "    ax.legend(bbox_to_anchor=(1, 1))\n",
    "    \n",
    "    plt.show()\n",
    "    display(data_for_plot)\n",
    "\n",
    "interact(\n",
    "    plot_stacked_ratios,\n",
    "    lang=results[\"wiki_lang\"].unique(),\n",
    ")"
   ]
  },
  {
   "cell_type": "markdown",
   "metadata": {},
   "source": [
    "## 4. Filter by field\n",
    "\n",
    "In this section, the user can filter the data by fieldname and compare the results between different Wikipedias (stric scoring only)."
   ]
  },
  {
   "cell_type": "code",
   "execution_count": 15,
   "metadata": {
    "tags": []
   },
   "outputs": [
    {
     "data": {
      "application/vnd.jupyter.widget-view+json": {
       "model_id": "17174ae01dd0489993330e79193b46a5",
       "version_major": 2,
       "version_minor": 0
      },
      "text/plain": [
       "interactive(children=(Dropdown(description='field', options=('source_type', 'title', 'author_first', 'author_l…"
      ]
     },
     "metadata": {},
     "output_type": "display_data"
    },
    {
     "data": {
      "text/plain": [
       "<function __main__.plot_field_by_lang(field)>"
      ]
     },
     "execution_count": 15,
     "metadata": {},
     "output_type": "execute_result"
    }
   ],
   "source": [
    "def plot_field_by_lang(field):\n",
    "    df = data_per_lang.loc[field].reset_index().pivot_table(index=\"wiki_lang\", columns=\"match_type\", values=field)\n",
    "    ax = df.plot.bar(stacked=True, color=colors, title=field)\n",
    "    ax.legend(bbox_to_anchor=(1, 1))\n",
    "    \n",
    "    plt.show()\n",
    "    display(df)\n",
    "    \n",
    "interact(\n",
    "    plot_field_by_lang,\n",
    "    field=fieldnames,\n",
    ")"
   ]
  },
  {
   "cell_type": "markdown",
   "metadata": {},
   "source": [
    "## 5. Results by domain"
   ]
  },
  {
   "cell_type": "code",
   "execution_count": 16,
   "metadata": {},
   "outputs": [
    {
     "name": "stderr",
     "output_type": "stream",
     "text": [
      "/tmp/ipykernel_614/3877900952.py:12: SettingWithCopyWarning: \n",
      "A value is trying to be set on a copy of a slice from a DataFrame.\n",
      "Try using .loc[row_indexer,col_indexer] = value instead\n",
      "\n",
      "See the caveats in the documentation: https://pandas.pydata.org/pandas-docs/stable/user_guide/indexing.html#returning-a-view-versus-a-copy\n",
      "  results_lang_url[\"domain\"] = results_lang_url[\"url\"].map(find_domain)\n"
     ]
    }
   ],
   "source": [
    "## Find domains from URLs\n",
    "comp_cols = [f\"comp_{field}\" for field in fieldnames]\n",
    "results_lang_url = results[[\"wiki_lang\", \"url\", \"url_citoid\"]+comp_cols]\n",
    "\n",
    "def find_domain(s):\n",
    "    if s.startswith(\"http\"):\n",
    "        domain = s.split(\"/\")[2].replace(\"www.\", \"\")\n",
    "    else:\n",
    "        domain = False\n",
    "    return domain\n",
    "\n",
    "results_lang_url[\"domain\"] = results_lang_url[\"url\"].map(find_domain)\n",
    "domains = results_lang_url[results_lang_url[\"domain\"].map(bool)]"
   ]
  },
  {
   "cell_type": "code",
   "execution_count": 17,
   "metadata": {},
   "outputs": [
    {
     "data": {
      "text/html": [
       "<div>\n",
       "<style scoped>\n",
       "    .dataframe tbody tr th:only-of-type {\n",
       "        vertical-align: middle;\n",
       "    }\n",
       "\n",
       "    .dataframe tbody tr th {\n",
       "        vertical-align: top;\n",
       "    }\n",
       "\n",
       "    .dataframe thead th {\n",
       "        text-align: right;\n",
       "    }\n",
       "</style>\n",
       "<table border=\"1\" class=\"dataframe\">\n",
       "  <thead>\n",
       "    <tr style=\"text-align: right;\">\n",
       "      <th></th>\n",
       "      <th>domain</th>\n",
       "      <th>count</th>\n",
       "    </tr>\n",
       "  </thead>\n",
       "  <tbody>\n",
       "    <tr>\n",
       "      <th>0</th>\n",
       "      <td>books.google.com</td>\n",
       "      <td>15491</td>\n",
       "    </tr>\n",
       "    <tr>\n",
       "      <th>1</th>\n",
       "      <td>archive.org</td>\n",
       "      <td>14569</td>\n",
       "    </tr>\n",
       "    <tr>\n",
       "      <th>2</th>\n",
       "      <td>nytimes.com</td>\n",
       "      <td>5208</td>\n",
       "    </tr>\n",
       "    <tr>\n",
       "      <th>3</th>\n",
       "      <td>news.bbc.co.uk</td>\n",
       "      <td>4090</td>\n",
       "    </tr>\n",
       "    <tr>\n",
       "      <th>4</th>\n",
       "      <td>billboard.com</td>\n",
       "      <td>3774</td>\n",
       "    </tr>\n",
       "    <tr>\n",
       "      <th>5</th>\n",
       "      <td>theguardian.com</td>\n",
       "      <td>3766</td>\n",
       "    </tr>\n",
       "    <tr>\n",
       "      <th>6</th>\n",
       "      <td>bbc.co.uk</td>\n",
       "      <td>2967</td>\n",
       "    </tr>\n",
       "    <tr>\n",
       "      <th>7</th>\n",
       "      <td>web.archive.org</td>\n",
       "      <td>2584</td>\n",
       "    </tr>\n",
       "    <tr>\n",
       "      <th>8</th>\n",
       "      <td>ign.com</td>\n",
       "      <td>2479</td>\n",
       "    </tr>\n",
       "    <tr>\n",
       "      <th>9</th>\n",
       "      <td>newspapers.com</td>\n",
       "      <td>2032</td>\n",
       "    </tr>\n",
       "  </tbody>\n",
       "</table>\n",
       "</div>"
      ],
      "text/plain": [
       "             domain  count\n",
       "0  books.google.com  15491\n",
       "1       archive.org  14569\n",
       "2       nytimes.com   5208\n",
       "3    news.bbc.co.uk   4090\n",
       "4     billboard.com   3774\n",
       "5   theguardian.com   3766\n",
       "6         bbc.co.uk   2967\n",
       "7   web.archive.org   2584\n",
       "8           ign.com   2479\n",
       "9    newspapers.com   2032"
      ]
     },
     "execution_count": 17,
     "metadata": {},
     "output_type": "execute_result"
    }
   ],
   "source": [
    "## Find top 10 domains (all languages)\n",
    "domain_count = domains[[\"domain\"]].value_counts()\n",
    "domain_count.name = \"count\"\n",
    "domain_count = domain_count.reset_index()\n",
    "domain_count = domain_count.sort_values(by=[\"count\"], ascending=False)\n",
    "top_domains = domain_count.head(10)\n",
    "top_domains"
   ]
  },
  {
   "cell_type": "code",
   "execution_count": 18,
   "metadata": {},
   "outputs": [
    {
     "data": {
      "text/html": [
       "<div>\n",
       "<style scoped>\n",
       "    .dataframe tbody tr th:only-of-type {\n",
       "        vertical-align: middle;\n",
       "    }\n",
       "\n",
       "    .dataframe tbody tr th {\n",
       "        vertical-align: top;\n",
       "    }\n",
       "\n",
       "    .dataframe thead th {\n",
       "        text-align: right;\n",
       "    }\n",
       "</style>\n",
       "<table border=\"1\" class=\"dataframe\">\n",
       "  <thead>\n",
       "    <tr style=\"text-align: right;\">\n",
       "      <th></th>\n",
       "      <th>comp_source_type</th>\n",
       "      <th>comp_title</th>\n",
       "      <th>comp_author_first</th>\n",
       "      <th>comp_author_last</th>\n",
       "      <th>comp_pub_source</th>\n",
       "      <th>comp_pub_date</th>\n",
       "    </tr>\n",
       "    <tr>\n",
       "      <th>domain</th>\n",
       "      <th></th>\n",
       "      <th></th>\n",
       "      <th></th>\n",
       "      <th></th>\n",
       "      <th></th>\n",
       "      <th></th>\n",
       "    </tr>\n",
       "  </thead>\n",
       "  <tbody>\n",
       "    <tr>\n",
       "      <th>books.google.com</th>\n",
       "      <td>0.769866</td>\n",
       "      <td>0.645157</td>\n",
       "      <td>0.447093</td>\n",
       "      <td>0.474093</td>\n",
       "      <td>0.448801</td>\n",
       "      <td>0.371603</td>\n",
       "    </tr>\n",
       "    <tr>\n",
       "      <th>archive.org</th>\n",
       "      <td>0.789553</td>\n",
       "      <td>0.654918</td>\n",
       "      <td>0.044161</td>\n",
       "      <td>0.148922</td>\n",
       "      <td>0.393991</td>\n",
       "      <td>0.436166</td>\n",
       "    </tr>\n",
       "    <tr>\n",
       "      <th>nytimes.com</th>\n",
       "      <td>0.598118</td>\n",
       "      <td>0.723527</td>\n",
       "      <td>0.571957</td>\n",
       "      <td>0.616455</td>\n",
       "      <td>0.524785</td>\n",
       "      <td>0.711809</td>\n",
       "    </tr>\n",
       "    <tr>\n",
       "      <th>news.bbc.co.uk</th>\n",
       "      <td>0.491932</td>\n",
       "      <td>0.757276</td>\n",
       "      <td>0.852064</td>\n",
       "      <td>0.751506</td>\n",
       "      <td>0.191355</td>\n",
       "      <td>0.685061</td>\n",
       "    </tr>\n",
       "    <tr>\n",
       "      <th>billboard.com</th>\n",
       "      <td>0.668521</td>\n",
       "      <td>0.631150</td>\n",
       "      <td>0.476191</td>\n",
       "      <td>0.513769</td>\n",
       "      <td>0.656370</td>\n",
       "      <td>0.540249</td>\n",
       "    </tr>\n",
       "    <tr>\n",
       "      <th>theguardian.com</th>\n",
       "      <td>0.407860</td>\n",
       "      <td>0.723513</td>\n",
       "      <td>0.298508</td>\n",
       "      <td>0.165998</td>\n",
       "      <td>0.447979</td>\n",
       "      <td>0.752443</td>\n",
       "    </tr>\n",
       "    <tr>\n",
       "      <th>bbc.co.uk</th>\n",
       "      <td>0.622851</td>\n",
       "      <td>0.569710</td>\n",
       "      <td>0.679990</td>\n",
       "      <td>0.591604</td>\n",
       "      <td>0.449623</td>\n",
       "      <td>0.438119</td>\n",
       "    </tr>\n",
       "    <tr>\n",
       "      <th>web.archive.org</th>\n",
       "      <td>0.928406</td>\n",
       "      <td>0.496958</td>\n",
       "      <td>0.850360</td>\n",
       "      <td>0.642515</td>\n",
       "      <td>0.152341</td>\n",
       "      <td>0.276045</td>\n",
       "    </tr>\n",
       "    <tr>\n",
       "      <th>ign.com</th>\n",
       "      <td>0.954014</td>\n",
       "      <td>0.807063</td>\n",
       "      <td>0.419645</td>\n",
       "      <td>0.544397</td>\n",
       "      <td>0.670472</td>\n",
       "      <td>0.702017</td>\n",
       "    </tr>\n",
       "    <tr>\n",
       "      <th>newspapers.com</th>\n",
       "      <td>0.724409</td>\n",
       "      <td>0.368819</td>\n",
       "      <td>0.612028</td>\n",
       "      <td>0.548745</td>\n",
       "      <td>0.418706</td>\n",
       "      <td>0.590994</td>\n",
       "    </tr>\n",
       "  </tbody>\n",
       "</table>\n",
       "</div>"
      ],
      "text/plain": [
       "                  comp_source_type  comp_title  comp_author_first  \\\n",
       "domain                                                              \n",
       "books.google.com          0.769866    0.645157           0.447093   \n",
       "archive.org               0.789553    0.654918           0.044161   \n",
       "nytimes.com               0.598118    0.723527           0.571957   \n",
       "news.bbc.co.uk            0.491932    0.757276           0.852064   \n",
       "billboard.com             0.668521    0.631150           0.476191   \n",
       "theguardian.com           0.407860    0.723513           0.298508   \n",
       "bbc.co.uk                 0.622851    0.569710           0.679990   \n",
       "web.archive.org           0.928406    0.496958           0.850360   \n",
       "ign.com                   0.954014    0.807063           0.419645   \n",
       "newspapers.com            0.724409    0.368819           0.612028   \n",
       "\n",
       "                  comp_author_last  comp_pub_source  comp_pub_date  \n",
       "domain                                                              \n",
       "books.google.com          0.474093         0.448801       0.371603  \n",
       "archive.org               0.148922         0.393991       0.436166  \n",
       "nytimes.com               0.616455         0.524785       0.711809  \n",
       "news.bbc.co.uk            0.751506         0.191355       0.685061  \n",
       "billboard.com             0.513769         0.656370       0.540249  \n",
       "theguardian.com           0.165998         0.447979       0.752443  \n",
       "bbc.co.uk                 0.591604         0.449623       0.438119  \n",
       "web.archive.org           0.642515         0.152341       0.276045  \n",
       "ign.com                   0.544397         0.670472       0.702017  \n",
       "newspapers.com            0.548745         0.418706       0.590994  "
      ]
     },
     "execution_count": 18,
     "metadata": {},
     "output_type": "execute_result"
    }
   ],
   "source": [
    "## Results mean for each field by domain (all languages)\n",
    "domain_order = top_domains[\"domain\"].tolist()\n",
    "mask = results_lang_url[\"domain\"].isin(domain_order)\n",
    "\n",
    "results_mean_by_url = results_lang_url[mask].groupby(\"domain\").mean()\n",
    "results_mean_by_url = results_mean_by_url.reindex(index=domain_order)\n",
    "results_mean_by_url"
   ]
  },
  {
   "cell_type": "code",
   "execution_count": 19,
   "metadata": {},
   "outputs": [],
   "source": [
    "means_tidy = results_mean_by_url.reset_index().melt(id_vars=\"domain\", var_name=\"fieldname\", value_name=\"score\")"
   ]
  },
  {
   "cell_type": "code",
   "execution_count": 21,
   "metadata": {},
   "outputs": [
    {
     "data": {
      "text/plain": [
       "(0.0, 1.0)"
      ]
     },
     "execution_count": 21,
     "metadata": {},
     "output_type": "execute_result"
    },
    {
     "data": {
      "image/png": "[encoded data removed]",
      "text/plain": [
       "<Figure size 600x600 with 1 Axes>"
      ]
     },
     "metadata": {},
     "output_type": "display_data"
    }
   ],
   "source": [
    "fig, ax = plt.subplots(1, 1, figsize=(6, 6))\n",
    "\n",
    "sns.set_style(\"darkgrid\")\n",
    "\n",
    "sns.stripplot(\n",
    "    data=means_tidy,\n",
    "    x=\"score\",\n",
    "    y=\"domain\",\n",
    "    hue=\"fieldname\",\n",
    "    marker=\"s\",\n",
    "    s=8,\n",
    "    alpha=0.65,\n",
    "    ax=ax\n",
    ")\n",
    "    \n",
    "ax.legend(bbox_to_anchor=(1, 0.5), loc=\"center left\")\n",
    "ax.set_xlim(0, 1)"
   ]
  },
  {
   "cell_type": "code",
   "execution_count": null,
   "metadata": {},
   "outputs": [],
   "source": []
  },
  {
   "cell_type": "code",
   "execution_count": null,
   "metadata": {},
   "outputs": [],
   "source": []
  },
  {
   "cell_type": "code",
   "execution_count": null,
   "metadata": {},
   "outputs": [],
   "source": []
  },
  {
   "cell_type": "code",
   "execution_count": null,
   "metadata": {},
   "outputs": [],
   "source": []
  },
  {
   "cell_type": "code",
   "execution_count": null,
   "metadata": {},
   "outputs": [],
   "source": []
  },
  {
   "cell_type": "code",
   "execution_count": null,
   "metadata": {},
   "outputs": [],
   "source": []
  },
  {
   "cell_type": "code",
   "execution_count": null,
   "metadata": {},
   "outputs": [],
   "source": []
  },
  {
   "cell_type": "code",
   "execution_count": null,
   "metadata": {},
   "outputs": [],
   "source": []
  },
  {
   "cell_type": "code",
   "execution_count": null,
   "metadata": {},
   "outputs": [],
   "source": []
  },
  {
   "cell_type": "code",
   "execution_count": null,
   "metadata": {},
   "outputs": [],
   "source": []
  },
  {
   "cell_type": "code",
   "execution_count": null,
   "metadata": {},
   "outputs": [],
   "source": []
  }
 ],
 "metadata": {
  "kernelspec": {
   "display_name": "Python 3 (ipykernel)",
   "language": "python",
   "name": "python3"
  },
  "language_info": {
   "codemirror_mode": {
    "name": "ipython",
    "version": 3
   },
   "file_extension": ".py",
   "mimetype": "text/x-python",
   "name": "python",
   "nbconvert_exporter": "python",
   "pygments_lexer": "ipython3",
   "version": "3.10.4"
  }
 },
 "nbformat": 4,
 "nbformat_minor": 4
}
